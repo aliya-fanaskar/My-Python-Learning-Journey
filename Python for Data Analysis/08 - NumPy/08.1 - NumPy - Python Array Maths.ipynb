{
 "cells": [
  {
   "cell_type": "markdown",
   "id": "297f46aa-0cec-458f-b4b2-919e074b4ac9",
   "metadata": {},
   "source": [
    "# Mathematics for Python"
   ]
  },
  {
   "cell_type": "markdown",
   "id": "4d7798e5-7227-4e50-871b-935d69b9c344",
   "metadata": {},
   "source": [
    "### Matrix\n",
    "A matrix is a collection of numbers ordered in rows and columns. It can omly contain numbers, symbols, or expressions. Matrices are generally 2 dimensional\\\n",
    "A ```m x n``` matrix contains ```m``` rows and ```n``` columns"
   ]
  },
  {
   "cell_type": "markdown",
   "id": "8ae51a73-973c-4c7d-9d43-da64f6e1f9ee",
   "metadata": {},
   "source": [
    "### Scalars\n",
    "A matrix with 1 row and 1 column is a scalar. It is a matrix with only one element and hence, has 0 dimension.\\\n",
    "All numbers we know from algebra are referred to as scalars in linear algebra"
   ]
  },
  {
   "cell_type": "markdown",
   "id": "6f84d526-6e37-4fa7-a6b2-c9c598d1a22a",
   "metadata": {},
   "source": [
    "### Vectors\n",
    "Vectors are matrices with only one dimension. \\\n",
    "They are either **column vectors** i.e. ```m x 1``` or **row vectors** i.e. ```1 x n```. \\\n",
    "The number of elements in a vector is called the length of the vector."
   ]
  },
  {
   "cell_type": "markdown",
   "id": "ee9db37b-cdca-4e42-92de-2c6d30fd1c87",
   "metadata": {},
   "source": [
    "With this logic:\n",
    "- Scalars have 0 dimension consisting of only one element.\n",
    "- Vectors have 1 dimension and are a collection of scalars.\n",
    "- Matrices have 2 dimensions and are a collection of multiple vectors."
   ]
  },
  {
   "cell_type": "markdown",
   "id": "ac773862-bc52-492f-9b44-aca7ea4fb456",
   "metadata": {},
   "source": [
    "## Tensor"
   ]
  },
  {
   "cell_type": "markdown",
   "id": "722a0d45-6cf1-4bb1-84ec-91eb8c4dd57c",
   "metadata": {},
   "source": [
    "Tensors are simply a generalization of the concepts we have seen so far.\n",
    "- Rank 0 tensors : 1 x 1 ...................... Scalars\n",
    "- Rank 1 tensors : m x 1 or 1 x m ........... Vectors\n",
    "- Rank 2 tensors : m x n ....................... Matrices\n",
    "- Rank 3 tensors : k x m x n   ......... and so on...\n"
   ]
  },
  {
   "cell_type": "markdown",
   "id": "27d47f97-64f7-45d2-a04d-b9a71ab7a77f",
   "metadata": {},
   "source": [
    "## Array\n",
    "In computer science, an array is a fundamental data structure that stores a collection of elements, typically of the same data type, in contiguous memory locations. It is a linear data structure where all elements are arranged sequentially.\\\n",
    "\\\n",
    "Scalars, vectors, matrices, and tensors are mathematical entities representing different levels of data complexity and dimensions, where a scalar is a single number (0-dimensional), a vector is a 1-dimensional array, a matrix is a 2-dimensional array, and a tensor is a general n-dimensional array that encompasses scalars, vectors, and matrices as special cases."
   ]
  },
  {
   "cell_type": "markdown",
   "id": "23229c78-05d0-4d0e-b0f4-813413fb5e07",
   "metadata": {},
   "source": [
    "### Importing NumPy library\n",
    "In Python, performing mathematical operations on arrays is most efficiently done using the **```NumPy```** library. NumPy provides a powerful ```ndarray``` object, which is a multidimensional array optimized for numerical computations."
   ]
  },
  {
   "cell_type": "code",
   "execution_count": 1,
   "id": "775dc4a7-36c2-4bbe-8b9a-3b58bc34a55a",
   "metadata": {},
   "outputs": [],
   "source": [
    "import numpy as np"
   ]
  },
  {
   "cell_type": "markdown",
   "id": "1c4f7481-8a54-4786-932c-51f39c1edfa7",
   "metadata": {},
   "source": [
    "## Creating Scalars, Vectors, and Matrices"
   ]
  },
  {
   "cell_type": "markdown",
   "id": "1e073de6-ff4d-4bc1-9696-b4dde0ea933c",
   "metadata": {},
   "source": [
    "### Scalars"
   ]
  },
  {
   "cell_type": "code",
   "execution_count": 2,
   "id": "14ab8d6f-37ad-4fe0-aa5f-3f9c48dbcac6",
   "metadata": {},
   "outputs": [],
   "source": [
    "s = 5"
   ]
  },
  {
   "cell_type": "code",
   "execution_count": 3,
   "id": "019d29f3-e339-4d93-9e78-bb661dfaee9e",
   "metadata": {},
   "outputs": [
    {
     "data": {
      "text/plain": [
       "5"
      ]
     },
     "execution_count": 3,
     "metadata": {},
     "output_type": "execute_result"
    }
   ],
   "source": [
    "s"
   ]
  },
  {
   "cell_type": "markdown",
   "id": "7cdea706-3961-409c-acca-0f42119887f0",
   "metadata": {},
   "source": [
    "### Vectors"
   ]
  },
  {
   "cell_type": "code",
   "execution_count": 4,
   "id": "9b3df6ac-1805-4d5d-ba44-39d24cc93971",
   "metadata": {},
   "outputs": [],
   "source": [
    "v = np.array([5, -2, 4])"
   ]
  },
  {
   "cell_type": "code",
   "execution_count": 5,
   "id": "e7071e03-3f4c-44f6-9d1a-45a7fb0fa5ce",
   "metadata": {},
   "outputs": [
    {
     "data": {
      "text/plain": [
       "array([ 5, -2,  4])"
      ]
     },
     "execution_count": 5,
     "metadata": {},
     "output_type": "execute_result"
    }
   ],
   "source": [
    "v"
   ]
  },
  {
   "cell_type": "markdown",
   "id": "b7b923a1-c08f-4d4e-85aa-a275591bf213",
   "metadata": {},
   "source": [
    "### Matrices"
   ]
  },
  {
   "cell_type": "code",
   "execution_count": 6,
   "id": "a862c2ce-fde2-497a-8a9b-9c03fdbce824",
   "metadata": {},
   "outputs": [],
   "source": [
    "m = np.array([[5, 12, 6], [-3, 0, 14]])"
   ]
  },
  {
   "cell_type": "code",
   "execution_count": 7,
   "id": "629bbfc2-2470-44bc-a836-5de12781bd14",
   "metadata": {},
   "outputs": [
    {
     "data": {
      "text/plain": [
       "array([[ 5, 12,  6],\n",
       "       [-3,  0, 14]])"
      ]
     },
     "execution_count": 7,
     "metadata": {},
     "output_type": "execute_result"
    }
   ],
   "source": [
    "m"
   ]
  },
  {
   "cell_type": "markdown",
   "id": "98827c65-ddfe-4731-8bb4-b5d0705debca",
   "metadata": {},
   "source": [
    "### Tensor"
   ]
  },
  {
   "cell_type": "code",
   "execution_count": 17,
   "id": "83221b83-a5ac-4c03-b76a-1bb5c4c9d044",
   "metadata": {},
   "outputs": [
    {
     "data": {
      "text/plain": [
       "array([[ 5, 12,  6],\n",
       "       [-3,  0, 14]])"
      ]
     },
     "execution_count": 17,
     "metadata": {},
     "output_type": "execute_result"
    }
   ],
   "source": [
    "m1 = np.array([[5, 12, 6], [-3, 0, 14]])\n",
    "m1"
   ]
  },
  {
   "cell_type": "code",
   "execution_count": 18,
   "id": "303a45c0-7d22-47f7-b3f6-7d8f9a7bcfba",
   "metadata": {},
   "outputs": [
    {
     "data": {
      "text/plain": [
       "(2, 3)"
      ]
     },
     "execution_count": 18,
     "metadata": {},
     "output_type": "execute_result"
    }
   ],
   "source": [
    "m1.shape"
   ]
  },
  {
   "cell_type": "code",
   "execution_count": 19,
   "id": "8ec9e0b0-b45a-4082-b756-f87a1120236f",
   "metadata": {},
   "outputs": [
    {
     "data": {
      "text/plain": [
       "array([[ 9,  8,  7],\n",
       "       [ 1,  3, -5]])"
      ]
     },
     "execution_count": 19,
     "metadata": {},
     "output_type": "execute_result"
    }
   ],
   "source": [
    "m2 = np.array([[9, 8, 7], [1, 3, -5]])\n",
    "m2"
   ]
  },
  {
   "cell_type": "code",
   "execution_count": 20,
   "id": "2b8d0c74-4166-49a2-8ed0-b04895782d9d",
   "metadata": {},
   "outputs": [
    {
     "data": {
      "text/plain": [
       "(2, 3)"
      ]
     },
     "execution_count": 20,
     "metadata": {},
     "output_type": "execute_result"
    }
   ],
   "source": [
    "m2.shape"
   ]
  },
  {
   "cell_type": "code",
   "execution_count": 21,
   "id": "799c04ff-10bf-4497-ae19-8ab18b1051aa",
   "metadata": {},
   "outputs": [
    {
     "data": {
      "text/plain": [
       "array([[[ 5, 12,  6],\n",
       "        [-3,  0, 14]],\n",
       "\n",
       "       [[ 9,  8,  7],\n",
       "        [ 1,  3, -5]]])"
      ]
     },
     "execution_count": 21,
     "metadata": {},
     "output_type": "execute_result"
    }
   ],
   "source": [
    "t = np.array([m1, m2])\n",
    "t"
   ]
  },
  {
   "cell_type": "code",
   "execution_count": 22,
   "id": "f64c11ec-0e3b-4252-9cff-1eaf3416566d",
   "metadata": {},
   "outputs": [
    {
     "data": {
      "text/plain": [
       "(2, 2, 3)"
      ]
     },
     "execution_count": 22,
     "metadata": {},
     "output_type": "execute_result"
    }
   ],
   "source": [
    "t.shape"
   ]
  },
  {
   "cell_type": "markdown",
   "id": "27d39684-14d6-4c34-9ea9-acee356a0b13",
   "metadata": {},
   "source": [
    "#### Creating an n-dimensional tensor manually"
   ]
  },
  {
   "cell_type": "code",
   "execution_count": 23,
   "id": "3e9fcc53-92e3-4c7e-8ed6-71e4ab8de0af",
   "metadata": {},
   "outputs": [
    {
     "data": {
      "text/plain": [
       "array([[[ 5, 12,  6],\n",
       "        [-3,  0, 14]],\n",
       "\n",
       "       [[ 9,  8,  7],\n",
       "        [ 1,  3, -5]]])"
      ]
     },
     "execution_count": 23,
     "metadata": {},
     "output_type": "execute_result"
    }
   ],
   "source": [
    "t2 = np.array([[[5, 12, 6], [-3, 0, 14]], [[9, 8, 7], [1, 3, -5]]])\n",
    "t2"
   ]
  },
  {
   "cell_type": "code",
   "execution_count": 24,
   "id": "99789e9b-5177-4810-830e-69dd8301cc0f",
   "metadata": {},
   "outputs": [
    {
     "data": {
      "text/plain": [
       "(2, 2, 3)"
      ]
     },
     "execution_count": 24,
     "metadata": {},
     "output_type": "execute_result"
    }
   ],
   "source": [
    "t2.shape"
   ]
  },
  {
   "cell_type": "markdown",
   "id": "925940cc-1600-4804-8060-20e3ca7e9557",
   "metadata": {},
   "source": [
    "## Data types"
   ]
  },
  {
   "cell_type": "code",
   "execution_count": 8,
   "id": "3faccf2b-ae18-416f-a3c6-dfb8008871eb",
   "metadata": {},
   "outputs": [
    {
     "data": {
      "text/plain": [
       "int"
      ]
     },
     "execution_count": 8,
     "metadata": {},
     "output_type": "execute_result"
    }
   ],
   "source": [
    "type(s)"
   ]
  },
  {
   "cell_type": "code",
   "execution_count": 9,
   "id": "9e01d179-3ce1-41e7-9178-14240886d393",
   "metadata": {},
   "outputs": [
    {
     "data": {
      "text/plain": [
       "numpy.ndarray"
      ]
     },
     "execution_count": 9,
     "metadata": {},
     "output_type": "execute_result"
    }
   ],
   "source": [
    "type(v)"
   ]
  },
  {
   "cell_type": "code",
   "execution_count": 10,
   "id": "6bf43646-aeae-445a-8e3b-4e85ff5ff19a",
   "metadata": {},
   "outputs": [
    {
     "data": {
      "text/plain": [
       "numpy.ndarray"
      ]
     },
     "execution_count": 10,
     "metadata": {},
     "output_type": "execute_result"
    }
   ],
   "source": [
    "type(m)"
   ]
  },
  {
   "cell_type": "code",
   "execution_count": 11,
   "id": "942669c8-40c4-4fb7-9fc5-4e59b598b536",
   "metadata": {},
   "outputs": [
    {
     "data": {
      "text/plain": [
       "array(5)"
      ]
     },
     "execution_count": 11,
     "metadata": {},
     "output_type": "execute_result"
    }
   ],
   "source": [
    "s_array = np.array(s)\n",
    "s_array"
   ]
  },
  {
   "cell_type": "markdown",
   "id": "5ae38e36-b871-4c08-8ee9-3772e88d8c78",
   "metadata": {},
   "source": [
    "## Data Shapes"
   ]
  },
  {
   "cell_type": "code",
   "execution_count": 12,
   "id": "2d0c9fc5-5bca-40d6-9c1f-c4af902a2a01",
   "metadata": {},
   "outputs": [
    {
     "data": {
      "text/plain": [
       "(2, 3)"
      ]
     },
     "execution_count": 12,
     "metadata": {},
     "output_type": "execute_result"
    }
   ],
   "source": [
    "m.shape"
   ]
  },
  {
   "cell_type": "code",
   "execution_count": 13,
   "id": "c420d06c-8bad-4a7c-9922-ed092571952e",
   "metadata": {},
   "outputs": [
    {
     "data": {
      "text/plain": [
       "(3,)"
      ]
     },
     "execution_count": 13,
     "metadata": {},
     "output_type": "execute_result"
    }
   ],
   "source": [
    "v.shape"
   ]
  },
  {
   "cell_type": "markdown",
   "id": "d886b471-a945-4162-86c5-409528113582",
   "metadata": {},
   "source": [
    "## Creating a column vector"
   ]
  },
  {
   "cell_type": "code",
   "execution_count": 14,
   "id": "c0518557-463f-42ff-b58a-8dddeedbc7d3",
   "metadata": {},
   "outputs": [
    {
     "data": {
      "text/plain": [
       "array([[ 5, -2,  4]])"
      ]
     },
     "execution_count": 14,
     "metadata": {},
     "output_type": "execute_result"
    }
   ],
   "source": [
    "v.reshape(1,3)"
   ]
  },
  {
   "cell_type": "code",
   "execution_count": 15,
   "id": "a678eaca-8091-4587-953a-49df018af3fa",
   "metadata": {},
   "outputs": [
    {
     "data": {
      "text/plain": [
       "array([[ 5],\n",
       "       [-2],\n",
       "       [ 4]])"
      ]
     },
     "execution_count": 15,
     "metadata": {},
     "output_type": "execute_result"
    }
   ],
   "source": [
    "v.reshape(3,1)"
   ]
  },
  {
   "cell_type": "code",
   "execution_count": 16,
   "id": "7dbe6037-1e08-432b-9243-5f816a885bbc",
   "metadata": {},
   "outputs": [
    {
     "data": {
      "text/plain": [
       "()"
      ]
     },
     "execution_count": 16,
     "metadata": {},
     "output_type": "execute_result"
    }
   ],
   "source": [
    "s_array.shape"
   ]
  },
  {
   "cell_type": "markdown",
   "id": "584ddf7d-8c12-4c2b-aa52-4038327e2c7a",
   "metadata": {},
   "source": [
    "## Adding and Subtracting Matrices"
   ]
  },
  {
   "cell_type": "markdown",
   "id": "c201b92a-9120-46a0-94ed-8f759e8b677b",
   "metadata": {},
   "source": [
    "### Addition\n",
    "Adds corresponding elements of matrices. Should have same shape"
   ]
  },
  {
   "cell_type": "code",
   "execution_count": 25,
   "id": "0761800f-ca06-4a94-97bd-3c154694a87e",
   "metadata": {},
   "outputs": [
    {
     "data": {
      "text/plain": [
       "array([[ 5, 12,  6],\n",
       "       [-3,  0, 14]])"
      ]
     },
     "execution_count": 25,
     "metadata": {},
     "output_type": "execute_result"
    }
   ],
   "source": [
    "m1"
   ]
  },
  {
   "cell_type": "code",
   "execution_count": 26,
   "id": "14df1a9b-838b-426a-93fa-28a7d866a397",
   "metadata": {},
   "outputs": [
    {
     "data": {
      "text/plain": [
       "array([[ 9,  8,  7],\n",
       "       [ 1,  3, -5]])"
      ]
     },
     "execution_count": 26,
     "metadata": {},
     "output_type": "execute_result"
    }
   ],
   "source": [
    "m2"
   ]
  },
  {
   "cell_type": "code",
   "execution_count": 27,
   "id": "cad42688-ba16-44cf-a49b-fff3460b3c5b",
   "metadata": {},
   "outputs": [
    {
     "data": {
      "text/plain": [
       "array([[14, 20, 13],\n",
       "       [-2,  3,  9]])"
      ]
     },
     "execution_count": 27,
     "metadata": {},
     "output_type": "execute_result"
    }
   ],
   "source": [
    "m1 + m2"
   ]
  },
  {
   "cell_type": "markdown",
   "id": "861be2ea-0270-4fe3-bc0b-51bde54d3c6a",
   "metadata": {},
   "source": [
    "### Subtraction"
   ]
  },
  {
   "cell_type": "markdown",
   "id": "bfebb96f-13f0-42f8-9e4d-08650a0f816a",
   "metadata": {},
   "source": [
    "Similar to addition. Should have same shape"
   ]
  },
  {
   "cell_type": "code",
   "execution_count": 28,
   "id": "7c58b368-ab62-4da9-99c1-a4fbfbd680c9",
   "metadata": {},
   "outputs": [
    {
     "data": {
      "text/plain": [
       "array([[ 5, 12,  6],\n",
       "       [-3,  0, 14]])"
      ]
     },
     "execution_count": 28,
     "metadata": {},
     "output_type": "execute_result"
    }
   ],
   "source": [
    "m1"
   ]
  },
  {
   "cell_type": "code",
   "execution_count": 29,
   "id": "3be70c0e-50ed-4b10-9079-2e6f46d04547",
   "metadata": {},
   "outputs": [
    {
     "data": {
      "text/plain": [
       "array([[ 9,  8,  7],\n",
       "       [ 1,  3, -5]])"
      ]
     },
     "execution_count": 29,
     "metadata": {},
     "output_type": "execute_result"
    }
   ],
   "source": [
    "m2"
   ]
  },
  {
   "cell_type": "code",
   "execution_count": 30,
   "id": "0091235e-b244-448c-b356-110cdab322c4",
   "metadata": {},
   "outputs": [
    {
     "data": {
      "text/plain": [
       "array([[-4,  4, -1],\n",
       "       [-4, -3, 19]])"
      ]
     },
     "execution_count": 30,
     "metadata": {},
     "output_type": "execute_result"
    }
   ],
   "source": [
    "m1 - m2"
   ]
  },
  {
   "cell_type": "markdown",
   "id": "2c25d825-c56c-4855-8355-a5f297e7f7d9",
   "metadata": {},
   "source": [
    "### more..."
   ]
  },
  {
   "cell_type": "code",
   "execution_count": 31,
   "id": "68111f19-79ed-41c6-92c2-462236c67093",
   "metadata": {},
   "outputs": [],
   "source": [
    "v1 = np.array([1,2,3,4,5])\n",
    "v2 = np.array([5,4,3,2,1])"
   ]
  },
  {
   "cell_type": "code",
   "execution_count": 32,
   "id": "7c2db0e1-dfa5-4cfb-b93d-f3cc01278297",
   "metadata": {},
   "outputs": [
    {
     "data": {
      "text/plain": [
       "array([6, 6, 6, 6, 6])"
      ]
     },
     "execution_count": 32,
     "metadata": {},
     "output_type": "execute_result"
    }
   ],
   "source": [
    "v1 + v2"
   ]
  },
  {
   "cell_type": "code",
   "execution_count": 33,
   "id": "4db1be1e-dabc-4c9a-b30c-bb0b42f8ec98",
   "metadata": {},
   "outputs": [
    {
     "data": {
      "text/plain": [
       "array([-4, -2,  0,  2,  4])"
      ]
     },
     "execution_count": 33,
     "metadata": {},
     "output_type": "execute_result"
    }
   ],
   "source": [
    "v1 - v2"
   ]
  },
  {
   "cell_type": "markdown",
   "id": "b533a470-40a1-4b6d-baf0-02b6dc289ccc",
   "metadata": {},
   "source": [
    "## With Scalars"
   ]
  },
  {
   "cell_type": "markdown",
   "id": "6a85966a-6d73-4e30-b9cf-88b03328749e",
   "metadata": {},
   "source": [
    "### Addition of Scalars"
   ]
  },
  {
   "cell_type": "code",
   "execution_count": 34,
   "id": "98348d86-c251-4387-9686-818f9db729fa",
   "metadata": {},
   "outputs": [
    {
     "data": {
      "text/plain": [
       "10"
      ]
     },
     "execution_count": 34,
     "metadata": {},
     "output_type": "execute_result"
    }
   ],
   "source": [
    "5 + 5"
   ]
  },
  {
   "cell_type": "code",
   "execution_count": 35,
   "id": "ea21bf1d-5d55-4009-9594-2e66b41e9782",
   "metadata": {},
   "outputs": [
    {
     "data": {
      "text/plain": [
       "6"
      ]
     },
     "execution_count": 35,
     "metadata": {},
     "output_type": "execute_result"
    }
   ],
   "source": [
    "10 - 4"
   ]
  },
  {
   "cell_type": "markdown",
   "id": "3f735137-d21c-42aa-93f2-68b7a263352f",
   "metadata": {},
   "source": [
    "### Addition of Matrices or Vector WITH a Scalar"
   ]
  },
  {
   "cell_type": "code",
   "execution_count": 36,
   "id": "4121b554-2bdb-4612-ba09-cf58c415e2da",
   "metadata": {},
   "outputs": [
    {
     "data": {
      "text/plain": [
       "array([[ 5, 12,  6],\n",
       "       [-3,  0, 14]])"
      ]
     },
     "execution_count": 36,
     "metadata": {},
     "output_type": "execute_result"
    }
   ],
   "source": [
    "m1"
   ]
  },
  {
   "cell_type": "code",
   "execution_count": 37,
   "id": "a2d0e73a-9074-4104-8fcc-196c40ef8734",
   "metadata": {},
   "outputs": [
    {
     "data": {
      "text/plain": [
       "array([[ 7, 14,  8],\n",
       "       [-1,  2, 16]])"
      ]
     },
     "execution_count": 37,
     "metadata": {},
     "output_type": "execute_result"
    }
   ],
   "source": [
    "m1 + 2"
   ]
  },
  {
   "cell_type": "code",
   "execution_count": 38,
   "id": "d263c578-87e9-4011-9fb0-2dc1018433af",
   "metadata": {},
   "outputs": [
    {
     "data": {
      "text/plain": [
       "array([[ 9,  8,  7],\n",
       "       [ 1,  3, -5]])"
      ]
     },
     "execution_count": 38,
     "metadata": {},
     "output_type": "execute_result"
    }
   ],
   "source": [
    "m2"
   ]
  },
  {
   "cell_type": "code",
   "execution_count": 39,
   "id": "31aeebc1-2c31-4ba3-a836-62bacb138778",
   "metadata": {},
   "outputs": [
    {
     "data": {
      "text/plain": [
       "array([[ 8,  7,  6],\n",
       "       [ 0,  2, -6]])"
      ]
     },
     "execution_count": 39,
     "metadata": {},
     "output_type": "execute_result"
    }
   ],
   "source": [
    "m2 - 1"
   ]
  },
  {
   "cell_type": "code",
   "execution_count": 40,
   "id": "ec8c69e9-c33a-4469-b5e4-6ea626bf0f10",
   "metadata": {},
   "outputs": [
    {
     "data": {
      "text/plain": [
       "array([1, 2, 3, 4, 5])"
      ]
     },
     "execution_count": 40,
     "metadata": {},
     "output_type": "execute_result"
    }
   ],
   "source": [
    "v1"
   ]
  },
  {
   "cell_type": "code",
   "execution_count": 41,
   "id": "a8e8cf09-0dba-4586-ba47-7903b1758dd2",
   "metadata": {},
   "outputs": [
    {
     "data": {
      "text/plain": [
       "array([5, 6, 7, 8, 9])"
      ]
     },
     "execution_count": 41,
     "metadata": {},
     "output_type": "execute_result"
    }
   ],
   "source": [
    "v1 + 4"
   ]
  },
  {
   "cell_type": "code",
   "execution_count": 42,
   "id": "90ba2f12-183a-4fdb-9453-17369f1e17a6",
   "metadata": {},
   "outputs": [
    {
     "data": {
      "text/plain": [
       "array([5, 4, 3, 2, 1])"
      ]
     },
     "execution_count": 42,
     "metadata": {},
     "output_type": "execute_result"
    }
   ],
   "source": [
    "v2"
   ]
  },
  {
   "cell_type": "code",
   "execution_count": 43,
   "id": "d4c76299-eaa0-46d7-9ad9-22ac4168755c",
   "metadata": {},
   "outputs": [
    {
     "data": {
      "text/plain": [
       "array([ 3,  2,  1,  0, -1])"
      ]
     },
     "execution_count": 43,
     "metadata": {},
     "output_type": "execute_result"
    }
   ],
   "source": [
    "v2 - 2"
   ]
  },
  {
   "cell_type": "code",
   "execution_count": 44,
   "id": "5a1a9446-c0c9-4a39-ae87-9522ecf836d0",
   "metadata": {},
   "outputs": [
    {
     "data": {
      "text/plain": [
       "array([[ 7, 14,  8],\n",
       "       [-1,  2, 16]])"
      ]
     },
     "execution_count": 44,
     "metadata": {},
     "output_type": "execute_result"
    }
   ],
   "source": [
    "m1 + np.array([2])"
   ]
  },
  {
   "cell_type": "markdown",
   "id": "b011ee3e-06fa-4bba-8677-60484609e001",
   "metadata": {},
   "source": [
    "## Transpose\n",
    "Transposing turns all the rows of a matrix into cloumns and vice versa.\\\n",
    "An ```m x n``` matrix transposed becomes a ```n x m``` matrix"
   ]
  },
  {
   "cell_type": "markdown",
   "id": "bbefaf96-98fa-4e27-bb4a-517dccfa08b1",
   "metadata": {},
   "source": [
    "### Transposing Matrices"
   ]
  },
  {
   "cell_type": "code",
   "execution_count": 45,
   "id": "937584a5-dfd7-4635-a21d-699b2333e094",
   "metadata": {},
   "outputs": [
    {
     "data": {
      "text/plain": [
       "array([[ 5, 12,  6],\n",
       "       [-3,  0, 14]])"
      ]
     },
     "execution_count": 45,
     "metadata": {},
     "output_type": "execute_result"
    }
   ],
   "source": [
    "m1"
   ]
  },
  {
   "cell_type": "code",
   "execution_count": 46,
   "id": "860497f9-1478-4983-9a33-696c147375cf",
   "metadata": {},
   "outputs": [
    {
     "data": {
      "text/plain": [
       "array([[ 5, -3],\n",
       "       [12,  0],\n",
       "       [ 6, 14]])"
      ]
     },
     "execution_count": 46,
     "metadata": {},
     "output_type": "execute_result"
    }
   ],
   "source": [
    "m1.T"
   ]
  },
  {
   "cell_type": "code",
   "execution_count": 47,
   "id": "8d780322-9efd-47ad-a658-1c7c7742f671",
   "metadata": {},
   "outputs": [
    {
     "data": {
      "text/plain": [
       "array([[ 9,  8,  7],\n",
       "       [ 1,  3, -5]])"
      ]
     },
     "execution_count": 47,
     "metadata": {},
     "output_type": "execute_result"
    }
   ],
   "source": [
    "m2"
   ]
  },
  {
   "cell_type": "code",
   "execution_count": 48,
   "id": "a9c45272-3661-49a2-9334-873305ada623",
   "metadata": {},
   "outputs": [
    {
     "data": {
      "text/plain": [
       "array([[ 9,  1],\n",
       "       [ 8,  3],\n",
       "       [ 7, -5]])"
      ]
     },
     "execution_count": 48,
     "metadata": {},
     "output_type": "execute_result"
    }
   ],
   "source": [
    "m2.T"
   ]
  },
  {
   "cell_type": "markdown",
   "id": "20eaa35d-035c-4a25-92ec-9eb215aa8c84",
   "metadata": {},
   "source": [
    "### Transposing Vectors"
   ]
  },
  {
   "cell_type": "code",
   "execution_count": 49,
   "id": "4a000d04-0ee2-4c84-b5ac-864d65d5ab2f",
   "metadata": {},
   "outputs": [
    {
     "data": {
      "text/plain": [
       "array([1, 2, 3, 4, 5])"
      ]
     },
     "execution_count": 49,
     "metadata": {},
     "output_type": "execute_result"
    }
   ],
   "source": [
    "v1"
   ]
  },
  {
   "cell_type": "code",
   "execution_count": 50,
   "id": "928381a5-ce99-4a96-a268-37ba6fc89470",
   "metadata": {},
   "outputs": [
    {
     "data": {
      "text/plain": [
       "array([1, 2, 3, 4, 5])"
      ]
     },
     "execution_count": 50,
     "metadata": {},
     "output_type": "execute_result"
    }
   ],
   "source": [
    "v1.T"
   ]
  },
  {
   "cell_type": "code",
   "execution_count": 51,
   "id": "6eb8d43d-3b53-4089-809a-e9f698dd4c2e",
   "metadata": {},
   "outputs": [
    {
     "data": {
      "text/plain": [
       "(5,)"
      ]
     },
     "execution_count": 51,
     "metadata": {},
     "output_type": "execute_result"
    }
   ],
   "source": [
    "v1.shape"
   ]
  },
  {
   "cell_type": "code",
   "execution_count": 52,
   "id": "2ec32811-1ed2-4741-a377-c047f39983c9",
   "metadata": {},
   "outputs": [
    {
     "data": {
      "text/plain": [
       "array([[1, 2, 3, 4, 5]])"
      ]
     },
     "execution_count": 52,
     "metadata": {},
     "output_type": "execute_result"
    }
   ],
   "source": [
    "v1.reshape(1, 5)"
   ]
  },
  {
   "cell_type": "code",
   "execution_count": 53,
   "id": "20441e45-c15c-4f7f-8c69-b0aa3b1e354e",
   "metadata": {},
   "outputs": [
    {
     "data": {
      "text/plain": [
       "array([[1],\n",
       "       [2],\n",
       "       [3],\n",
       "       [4],\n",
       "       [5]])"
      ]
     },
     "execution_count": 53,
     "metadata": {},
     "output_type": "execute_result"
    }
   ],
   "source": [
    "v1.reshape(5,1)"
   ]
  },
  {
   "cell_type": "markdown",
   "id": "e79e38df-1632-4ac1-90b0-e5441fbfa5ee",
   "metadata": {},
   "source": [
    "### Transposing Tensors"
   ]
  },
  {
   "cell_type": "code",
   "execution_count": 54,
   "id": "f65da46c-dc8c-4d5b-8bd7-9290a93a7e81",
   "metadata": {},
   "outputs": [
    {
     "data": {
      "text/plain": [
       "array([[[ 5, 12,  6],\n",
       "        [-3,  0, 14]],\n",
       "\n",
       "       [[ 9,  8,  7],\n",
       "        [ 1,  3, -5]]])"
      ]
     },
     "execution_count": 54,
     "metadata": {},
     "output_type": "execute_result"
    }
   ],
   "source": [
    "t"
   ]
  },
  {
   "cell_type": "code",
   "execution_count": 55,
   "id": "9cf22503-b39a-47ae-8c63-d3aaa2990783",
   "metadata": {},
   "outputs": [
    {
     "data": {
      "text/plain": [
       "(2, 2, 3)"
      ]
     },
     "execution_count": 55,
     "metadata": {},
     "output_type": "execute_result"
    }
   ],
   "source": [
    "t.shape"
   ]
  },
  {
   "cell_type": "code",
   "execution_count": 56,
   "id": "b10c1db5-8e48-4c75-941f-196b4bd10041",
   "metadata": {},
   "outputs": [
    {
     "data": {
      "text/plain": [
       "array([[[ 5,  9],\n",
       "        [-3,  1]],\n",
       "\n",
       "       [[12,  8],\n",
       "        [ 0,  3]],\n",
       "\n",
       "       [[ 6,  7],\n",
       "        [14, -5]]])"
      ]
     },
     "execution_count": 56,
     "metadata": {},
     "output_type": "execute_result"
    }
   ],
   "source": [
    "t.T"
   ]
  },
  {
   "cell_type": "code",
   "execution_count": 57,
   "id": "18599c86-ffb9-461c-b30e-2acafc7f15d0",
   "metadata": {},
   "outputs": [
    {
     "data": {
      "text/plain": [
       "(3, 2, 2)"
      ]
     },
     "execution_count": 57,
     "metadata": {},
     "output_type": "execute_result"
    }
   ],
   "source": [
    "t.T.shape"
   ]
  },
  {
   "cell_type": "markdown",
   "id": "4d8b8d90-9d62-46aa-9c53-a10125972931",
   "metadata": {},
   "source": [
    "## Multiplication"
   ]
  },
  {
   "cell_type": "markdown",
   "id": "120b043c-5826-4fcb-99a7-e0033d2254d5",
   "metadata": {},
   "source": [
    "### Scalar * Scalar"
   ]
  },
  {
   "cell_type": "code",
   "execution_count": 58,
   "id": "3ae50d8e-1662-47b1-8c74-922a468d788f",
   "metadata": {},
   "outputs": [
    {
     "data": {
      "text/plain": [
       "30"
      ]
     },
     "execution_count": 58,
     "metadata": {},
     "output_type": "execute_result"
    }
   ],
   "source": [
    "6 * 5"
   ]
  },
  {
   "cell_type": "code",
   "execution_count": 59,
   "id": "ec54263a-7a56-407b-9981-3afe3f7ca1eb",
   "metadata": {},
   "outputs": [
    {
     "data": {
      "text/plain": [
       "-20"
      ]
     },
     "execution_count": 59,
     "metadata": {},
     "output_type": "execute_result"
    }
   ],
   "source": [
    "10 * -2"
   ]
  },
  {
   "cell_type": "code",
   "execution_count": 60,
   "id": "df8b1baa-f425-49c0-a6f1-0de4a014809a",
   "metadata": {},
   "outputs": [
    {
     "data": {
      "text/plain": [
       "array([40])"
      ]
     },
     "execution_count": 60,
     "metadata": {},
     "output_type": "execute_result"
    }
   ],
   "source": [
    "np.array([5]) * np.array([8])"
   ]
  },
  {
   "cell_type": "code",
   "execution_count": 61,
   "id": "7abf9ca9-015e-46c8-9cf6-b8e2fd18cf4f",
   "metadata": {},
   "outputs": [
    {
     "data": {
      "text/plain": [
       "np.int64(30)"
      ]
     },
     "execution_count": 61,
     "metadata": {},
     "output_type": "execute_result"
    }
   ],
   "source": [
    "np.dot(5,6)"
   ]
  },
  {
   "cell_type": "code",
   "execution_count": 62,
   "id": "7a947c79-3199-4112-9571-56a3e6103dff",
   "metadata": {},
   "outputs": [
    {
     "data": {
      "text/plain": [
       "np.int64(-20)"
      ]
     },
     "execution_count": 62,
     "metadata": {},
     "output_type": "execute_result"
    }
   ],
   "source": [
    "np.dot(10,-2)"
   ]
  },
  {
   "cell_type": "markdown",
   "id": "7cd360a1-a769-4e07-8a50-02de9bd1ced4",
   "metadata": {},
   "source": [
    "### Vectors - Dot Product\n",
    "The condition is that the vectors must have same length.\\\n",
    "Dot product is Sum of the Products of the corresponding elements."
   ]
  },
  {
   "cell_type": "code",
   "execution_count": 63,
   "id": "56964807-f4c2-48a5-b2f4-fde1f6b08efe",
   "metadata": {},
   "outputs": [],
   "source": [
    "x = np.array([2,8,-4])\n",
    "y = np.array([1,-7,3])"
   ]
  },
  {
   "cell_type": "code",
   "execution_count": 64,
   "id": "964f4b80-6f91-489d-bd82-0c5b1223a42a",
   "metadata": {},
   "outputs": [
    {
     "data": {
      "text/plain": [
       "np.int64(-66)"
      ]
     },
     "execution_count": 64,
     "metadata": {},
     "output_type": "execute_result"
    }
   ],
   "source": [
    "np.dot(x, y)      # (2*10) + (8*-7) + (-4*3) = -66"
   ]
  },
  {
   "cell_type": "code",
   "execution_count": 65,
   "id": "43e3f6b6-9ae6-4ed1-af91-40425ca4c505",
   "metadata": {},
   "outputs": [
    {
     "data": {
      "text/plain": [
       "np.int64(18)"
      ]
     },
     "execution_count": 65,
     "metadata": {},
     "output_type": "execute_result"
    }
   ],
   "source": [
    "u = np.array([0,2,5,8])\n",
    "v = np.array([20,3,4,-1])\n",
    "\n",
    "np.dot(u,v)"
   ]
  },
  {
   "cell_type": "markdown",
   "id": "01aa8f2b-d87b-464b-8962-89da476ec892",
   "metadata": {},
   "source": [
    "### Scalar * Vector"
   ]
  },
  {
   "cell_type": "code",
   "execution_count": 66,
   "id": "7785ba9c-480c-4f97-ace3-2e366ac1abd2",
   "metadata": {},
   "outputs": [
    {
     "data": {
      "text/plain": [
       "array([ 2,  8, -4])"
      ]
     },
     "execution_count": 66,
     "metadata": {},
     "output_type": "execute_result"
    }
   ],
   "source": [
    "x"
   ]
  },
  {
   "cell_type": "code",
   "execution_count": 67,
   "id": "c62d10d0-9ab9-408f-9b5f-454726c31c9f",
   "metadata": {},
   "outputs": [
    {
     "data": {
      "text/plain": [
       "array([ 10,  40, -20])"
      ]
     },
     "execution_count": 67,
     "metadata": {},
     "output_type": "execute_result"
    }
   ],
   "source": [
    "5 * x"
   ]
  },
  {
   "cell_type": "code",
   "execution_count": 68,
   "id": "62d40838-d98e-4efa-b8ca-543ae87774e3",
   "metadata": {},
   "outputs": [
    {
     "data": {
      "text/plain": [
       "array([ 10,  40, -20])"
      ]
     },
     "execution_count": 68,
     "metadata": {},
     "output_type": "execute_result"
    }
   ],
   "source": [
    "np.dot(5,x)"
   ]
  },
  {
   "cell_type": "markdown",
   "id": "fecd536e-b1f8-4a20-92ef-754ca20d22cf",
   "metadata": {},
   "source": [
    "### Scalar * Matrix"
   ]
  },
  {
   "cell_type": "code",
   "execution_count": 69,
   "id": "c8f111e1-bcaa-460e-bfe0-8f347b5bee8a",
   "metadata": {},
   "outputs": [
    {
     "data": {
      "text/plain": [
       "array([[ 5, 12,  6],\n",
       "       [-3,  0, 14]])"
      ]
     },
     "execution_count": 69,
     "metadata": {},
     "output_type": "execute_result"
    }
   ],
   "source": [
    "m1"
   ]
  },
  {
   "cell_type": "code",
   "execution_count": 70,
   "id": "2552633e-853b-4af6-84d3-d12b276e2ffa",
   "metadata": {},
   "outputs": [
    {
     "data": {
      "text/plain": [
       "array([[10, 24, 12],\n",
       "       [-6,  0, 28]])"
      ]
     },
     "execution_count": 70,
     "metadata": {},
     "output_type": "execute_result"
    }
   ],
   "source": [
    "m1 * 2"
   ]
  },
  {
   "cell_type": "code",
   "execution_count": 71,
   "id": "5c59f116-f4ae-4534-91f0-405ba448c510",
   "metadata": {},
   "outputs": [
    {
     "data": {
      "text/plain": [
       "array([[15, 36, 18],\n",
       "       [-9,  0, 42]])"
      ]
     },
     "execution_count": 71,
     "metadata": {},
     "output_type": "execute_result"
    }
   ],
   "source": [
    "3 * m1"
   ]
  },
  {
   "cell_type": "markdown",
   "id": "ef65db4a-346a-4cfc-801a-85ed9fba4e43",
   "metadata": {},
   "source": [
    "### Matrices - Dot Product\n",
    "We can only multiply an ```m x n``` matrix with an ```n x k``` matrix.\\\n",
    "The result of this multiplication will be an ```m x k``` matrix.\\\n",
    "\\\n",
    "For eg. \n",
    "- ```2 x 3``` . ```3 x 6``` = ```2 x 6``` matrix\n",
    "- ```3 x 4``` . ```4 x 2``` = ```3 x 2``` matrix\n",
    "- ```100 x 300``` . ```300 x 3``` = ```100 x 3``` matrix\n"
   ]
  },
  {
   "cell_type": "code",
   "execution_count": 72,
   "id": "a89c2e67-dcd7-4575-8736-00f21bd2acdb",
   "metadata": {},
   "outputs": [
    {
     "data": {
      "text/plain": [
       "(array([[ 5, 12,  6],\n",
       "        [-3,  0, 14]]),\n",
       " array([[ 2, -1],\n",
       "        [ 8,  0],\n",
       "        [ 3,  0]]))"
      ]
     },
     "execution_count": 72,
     "metadata": {},
     "output_type": "execute_result"
    }
   ],
   "source": [
    "a = np.array([[5,12,6],\n",
    "              [-3,0,14]])\n",
    "b = np.array([[2, -1],\n",
    "              [8, 0],\n",
    "              [3, 0]])\n",
    "a, b"
   ]
  },
  {
   "cell_type": "code",
   "execution_count": 73,
   "id": "479d9953-87dd-4921-8308-4fba5f998e6e",
   "metadata": {},
   "outputs": [
    {
     "data": {
      "text/plain": [
       "((2, 3), (3, 2))"
      ]
     },
     "execution_count": 73,
     "metadata": {},
     "output_type": "execute_result"
    }
   ],
   "source": [
    "a.shape, b.shape"
   ]
  },
  {
   "cell_type": "code",
   "execution_count": 74,
   "id": "47b16fb3-71ba-4a3c-a9c8-2b18ca1bd6ea",
   "metadata": {},
   "outputs": [
    {
     "data": {
      "text/plain": [
       "array([[124,  -5],\n",
       "       [ 36,   3]])"
      ]
     },
     "execution_count": 74,
     "metadata": {},
     "output_type": "execute_result"
    }
   ],
   "source": [
    "np.dot(a,b)"
   ]
  },
  {
   "cell_type": "code",
   "execution_count": 75,
   "id": "a2b9ab19-2cfb-4283-8237-523d97441b8e",
   "metadata": {},
   "outputs": [
    {
     "data": {
      "text/plain": [
       "(array([[-12,   5,   5,   1,   6],\n",
       "        [  6,  -2,   0,   0,  -3],\n",
       "        [ 10,   2,   0,   8,   0],\n",
       "        [  9,  -4,   8,   3,  -6]]),\n",
       " array([[ 6, -1],\n",
       "        [ 8, -4],\n",
       "        [ 2, -2],\n",
       "        [ 7,  4],\n",
       "        [-6, -9]]))"
      ]
     },
     "execution_count": 75,
     "metadata": {},
     "output_type": "execute_result"
    }
   ],
   "source": [
    "x = np.array([[-12, 5, 5, 1, 6], [6, -2, 0, 0, -3], [10, 2, 0, 8, 0], [9, -4, 8, 3, -6]])\n",
    "y = np.array([[6, -1], [8, -4], [2, -2], [7, 4], [-6, -9]])\n",
    "\n",
    "x, y"
   ]
  },
  {
   "cell_type": "code",
   "execution_count": 76,
   "id": "d87d5626-ab8e-45d9-99f9-643ba37d5c97",
   "metadata": {},
   "outputs": [
    {
     "data": {
      "text/plain": [
       "((4, 5), (5, 2))"
      ]
     },
     "execution_count": 76,
     "metadata": {},
     "output_type": "execute_result"
    }
   ],
   "source": [
    "x.shape, y.shape"
   ]
  },
  {
   "cell_type": "code",
   "execution_count": 77,
   "id": "069ec5af-8a5e-44a3-ac78-4b76a19ae86e",
   "metadata": {},
   "outputs": [
    {
     "data": {
      "text/plain": [
       "(array([[-51, -68],\n",
       "        [ 38,  29],\n",
       "        [132,  14],\n",
       "        [ 95,  57]]),\n",
       " (4, 2))"
      ]
     },
     "execution_count": 77,
     "metadata": {},
     "output_type": "execute_result"
    }
   ],
   "source": [
    "np.dot(x,y), np.dot(x,y).shape"
   ]
  }
 ],
 "metadata": {
  "kernelspec": {
   "display_name": "Python 3 (ipykernel)",
   "language": "python",
   "name": "python3"
  },
  "language_info": {
   "codemirror_mode": {
    "name": "ipython",
    "version": 3
   },
   "file_extension": ".py",
   "mimetype": "text/x-python",
   "name": "python",
   "nbconvert_exporter": "python",
   "pygments_lexer": "ipython3",
   "version": "3.13.6"
  }
 },
 "nbformat": 4,
 "nbformat_minor": 5
}
