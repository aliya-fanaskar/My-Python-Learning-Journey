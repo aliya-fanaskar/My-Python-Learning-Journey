{
 "cells": [
  {
   "cell_type": "markdown",
   "id": "584be2d3-57c4-4c4e-9bd0-fd169b03aeb0",
   "metadata": {},
   "source": [
    "# While Loop\n",
    "A ```loop``` is used for iterating over a sequence (that is either a list, a tuple, a dictionary, a set or a string).\n",
    "\n",
    "A ```while``` loop in Python repeatedly executes a block of code as long as a specified condition remains True."
   ]
  },
  {
   "cell_type": "code",
   "execution_count": 1,
   "id": "876d7e90-6d1a-479c-8bd3-8218bebe6443",
   "metadata": {},
   "outputs": [
    {
     "name": "stdout",
     "output_type": "stream",
     "text": [
      "1\n",
      "2\n",
      "3\n",
      "4\n",
      "5\n"
     ]
    }
   ],
   "source": [
    "i = 1\n",
    "\n",
    "while i < 6:\n",
    "    print(i)\n",
    "    i += 1"
   ]
  },
  {
   "cell_type": "markdown",
   "id": "65a165ac-cf75-4f79-8c48-7eb0cbcf4fbd",
   "metadata": {},
   "source": [
    "**Explanation**:\n",
    "- **while keyword**: Initiates the while loop.\n",
    "- **condition**: A boolean expression that is evaluated before each iteration.\n",
    "  - If the condition is ```True```, the code inside the loop body is executed. \n",
    "  - If the condition is ```False```, the loop terminates, and the program continues with the statement immediately following the loop.\n",
    "- **Indentation**: The statements within the loop body must be uniformly indented to indicate they belong to the while loop."
   ]
  },
  {
   "cell_type": "code",
   "execution_count": 2,
   "id": "120bb82a-11b3-48e2-83ad-b866383caaf1",
   "metadata": {},
   "outputs": [
    {
     "name": "stdout",
     "output_type": "stream",
     "text": [
      "2\n",
      "3\n",
      "4\n",
      "5\n",
      "6\n"
     ]
    }
   ],
   "source": [
    "i = 1\n",
    "\n",
    "while i < 6:\n",
    "    i += 1\n",
    "    print(i)"
   ]
  },
  {
   "cell_type": "markdown",
   "id": "1481dbef-5b02-44eb-9656-14c981930989",
   "metadata": {},
   "source": [
    "The ```while``` loop requires relevant variables to be ready.\\\n",
    "**How it works**:\n",
    "- The ```condition``` is evaluated first.\n",
    "- If ```True```, the loop body executes.\n",
    "- After the loop body completes, the ```condition``` is re-evaluated.\n",
    "- This process repeats until the condition becomes ```False```."
   ]
  },
  {
   "cell_type": "code",
   "execution_count": 3,
   "id": "dca34d01-f019-4ecc-ad98-1ff6701d531d",
   "metadata": {},
   "outputs": [
    {
     "name": "stdout",
     "output_type": "stream",
     "text": [
      "Hello\n",
      "Hello\n",
      "Hello\n"
     ]
    }
   ],
   "source": [
    "count = 0\n",
    "\n",
    "while count < 3:\n",
    "    print('Hello')\n",
    "    count += 1"
   ]
  },
  {
   "cell_type": "markdown",
   "id": "f9edd989-5a85-4846-80e6-5ccf6de124c9",
   "metadata": {},
   "source": [
    "**Note:** \n",
    "- remember to increment i, or else the loop will continue forever\n",
    "- also, pay attention to the sequence of code lines"
   ]
  },
  {
   "cell_type": "code",
   "execution_count": 4,
   "id": "61aa4d4d-60f3-4c52-b0e2-d4426d9d32a2",
   "metadata": {},
   "outputs": [
    {
     "name": "stdout",
     "output_type": "stream",
     "text": [
      "l\n",
      "i\n",
      "y\n",
      "_\n",
      "d\n",
      "i\n",
      "l\n",
      "_\n",
      "F\n",
      "n\n",
      "s\n",
      "k\n",
      "r\n"
     ]
    }
   ],
   "source": [
    "i = 0\n",
    "name = 'Aliya_Adil_Fanaskar'\n",
    "\n",
    "while i < len(name):\n",
    "    if name[i] == 'A' or name[i] == 'a':\n",
    "        i += 1\n",
    "        continue\n",
    "\n",
    "    print(name[i])\n",
    "    i += 1"
   ]
  },
  {
   "cell_type": "markdown",
   "id": "2ba0e266-7dd7-4a19-a662-95adde13889d",
   "metadata": {},
   "source": [
    "## break Statement\n",
    "with the ```break``` statement, we can stop the loop even if the the while condition is true"
   ]
  },
  {
   "cell_type": "code",
   "execution_count": 5,
   "id": "0f728c34-e850-4a8b-bd6d-51c77a830bb6",
   "metadata": {},
   "outputs": [
    {
     "name": "stdout",
     "output_type": "stream",
     "text": [
      "1\n",
      "2\n",
      "3\n"
     ]
    }
   ],
   "source": [
    "i = 1\n",
    "\n",
    "while i < 6:\n",
    "    print(i)\n",
    "    if i == 3:\n",
    "        break\n",
    "    i += 1"
   ]
  },
  {
   "cell_type": "code",
   "execution_count": 6,
   "id": "9816fa05-12ab-4f0f-a97b-5a1d75a770f0",
   "metadata": {},
   "outputs": [
    {
     "name": "stdout",
     "output_type": "stream",
     "text": [
      "1\n",
      "2\n"
     ]
    }
   ],
   "source": [
    "i = 1\n",
    "\n",
    "while i < 6:\n",
    "    if i == 3:\n",
    "        break\n",
    "    print(i)\n",
    "    i += 1"
   ]
  },
  {
   "cell_type": "code",
   "execution_count": 7,
   "id": "fdb7da27-0c7a-4197-88e8-3b78474ca80b",
   "metadata": {},
   "outputs": [
    {
     "name": "stdout",
     "output_type": "stream",
     "text": [
      "1\n",
      "2\n"
     ]
    }
   ],
   "source": [
    "i = 1\n",
    "\n",
    "while i < 6:\n",
    "    print(i)\n",
    "    i += 1\n",
    "    if i == 3:\n",
    "        break"
   ]
  },
  {
   "cell_type": "markdown",
   "id": "5391c0fa-d20a-4d4e-8e60-d5b96d4004bf",
   "metadata": {},
   "source": [
    "## continue Statement\n",
    "With the ```continue``` statement we can stop the current iteration of the loop, and continue with the next."
   ]
  },
  {
   "cell_type": "code",
   "execution_count": 8,
   "id": "3dcc376a-4d3e-4e40-9fd3-0480bd9e97d0",
   "metadata": {},
   "outputs": [
    {
     "name": "stdout",
     "output_type": "stream",
     "text": [
      "1\n",
      "2\n",
      "4\n",
      "5\n",
      "6\n",
      "but this while loop doesn't include 0\n"
     ]
    }
   ],
   "source": [
    "i = 0\n",
    "\n",
    "while i < 6:\n",
    "    i += 1\n",
    "    if i == 3:\n",
    "        continue\n",
    "    print(i)\n",
    "\n",
    "print(\"but this while loop doesn't include 0\")"
   ]
  },
  {
   "cell_type": "code",
   "execution_count": 9,
   "id": "30edbdfe-b722-4254-af61-f1c14f98f460",
   "metadata": {},
   "outputs": [
    {
     "name": "stdout",
     "output_type": "stream",
     "text": [
      "Breaks loop after reaching 3  giving the output:\n",
      "0\n",
      "1\n",
      "2\n",
      "and goes on continuous processing\n"
     ]
    }
   ],
   "source": [
    "#if we shift the increment step after print statement\n",
    "'''\n",
    "i = 0\n",
    "\n",
    "while i < 6:\n",
    "    if i == 3:\n",
    "        continue\n",
    "    print(i)\n",
    "    i += 1\n",
    "'''\n",
    "\n",
    "print('''Breaks loop after reaching 3  giving the output:\n",
    "0\n",
    "1\n",
    "2\n",
    "and goes on continuous processing''')\n",
    "# INTERRUPT KERNEL"
   ]
  },
  {
   "cell_type": "code",
   "execution_count": 10,
   "id": "a90e608e-beb8-4dc6-bd90-2e41a67391bd",
   "metadata": {},
   "outputs": [
    {
     "name": "stdout",
     "output_type": "stream",
     "text": [
      "0\n",
      "1\n",
      "2\n",
      "3\n",
      "4\n",
      "5\n"
     ]
    }
   ],
   "source": [
    "# putting if.. continue statement after the print and increment statement\n",
    "# will not work\n",
    "i = 0\n",
    "\n",
    "while i < 6:\n",
    "    print(i)\n",
    "    i += 1\n",
    "    if i == 3:\n",
    "        continue"
   ]
  },
  {
   "cell_type": "code",
   "execution_count": 11,
   "id": "ceb7c6ad-7ca2-4847-8080-96d89be24e23",
   "metadata": {},
   "outputs": [
    {
     "name": "stdout",
     "output_type": "stream",
     "text": [
      "0\n",
      "1\n",
      "2\n",
      "4\n",
      "5\n"
     ]
    }
   ],
   "source": [
    "# solution finally\n",
    "i = 0\n",
    "\n",
    "while i < 6:\n",
    "    if i == 3:\n",
    "        i += 1\n",
    "        continue\n",
    "    print(i)\n",
    "    i+=1"
   ]
  },
  {
   "cell_type": "code",
   "execution_count": 12,
   "id": "4f2742b6-b2a8-407c-b0de-b354ef61d34c",
   "metadata": {},
   "outputs": [
    {
     "name": "stdout",
     "output_type": "stream",
     "text": [
      "infinite loop\n"
     ]
    }
   ],
   "source": [
    "# this block of code will cause an infinite loop when i == 3\n",
    "'''\n",
    "i = 0\n",
    "\n",
    "while i < 6:\n",
    "    print(i)\n",
    "    if i == 3:\n",
    "        continue\n",
    "    i += 1\n",
    "'''\n",
    "print('infinite loop')"
   ]
  },
  {
   "cell_type": "markdown",
   "id": "232aaf31-1dea-42a3-aa24-3650c059ecbf",
   "metadata": {},
   "source": [
    "## else Statement"
   ]
  },
  {
   "cell_type": "code",
   "execution_count": 13,
   "id": "09bbc389-a5f1-4be3-804b-bc9b300fb18e",
   "metadata": {},
   "outputs": [
    {
     "name": "stdout",
     "output_type": "stream",
     "text": [
      "1\n",
      "2\n",
      "3\n",
      "4\n",
      "5\n",
      "i is no longer less than 6\n"
     ]
    }
   ],
   "source": [
    "i = 1\n",
    "\n",
    "while i < 6:\n",
    "    print(i)\n",
    "    i += 1\n",
    "else:\n",
    "    print('i is no longer less than 6')"
   ]
  },
  {
   "cell_type": "code",
   "execution_count": 14,
   "id": "56ccbb49-51a9-4bc3-9ebc-14c26b116623",
   "metadata": {},
   "outputs": [
    {
     "name": "stdout",
     "output_type": "stream",
     "text": [
      "1\n",
      "2\n",
      "3\n",
      "4\n",
      "No Break \n",
      "\n",
      "1\n"
     ]
    }
   ],
   "source": [
    "i = 0\n",
    "while i < 4:\n",
    "    i += 1\n",
    "    print(i)\n",
    "else:        # Executed because no break\n",
    "    print('No Break \\n')\n",
    "\n",
    "i = 0\n",
    "while i < 4:\n",
    "    i += 1\n",
    "    print(i)\n",
    "    break\n",
    "else:        # Not executed as there is a break\n",
    "    print('No Break')"
   ]
  },
  {
   "cell_type": "markdown",
   "id": "9a48dbc8-befe-44c6-8ec9-a2f31e72c216",
   "metadata": {},
   "source": [
    "## pass Statement"
   ]
  },
  {
   "cell_type": "code",
   "execution_count": 15,
   "id": "f3133ce0-b98d-45f7-add9-f21d8160ab90",
   "metadata": {},
   "outputs": [
    {
     "name": "stdout",
     "output_type": "stream",
     "text": [
      "Value of i: 19\n",
      "Length of name: 19\n"
     ]
    }
   ],
   "source": [
    "# an empty loop with no execution statement\n",
    "name = 'Aliya_Adil_Fanaskar'\n",
    "i = 5\n",
    "\n",
    "while i < len(name):\n",
    "    i += 1\n",
    "    pass\n",
    "\n",
    "print('Value of i:', i)\n",
    "print('Length of name:',len(name))"
   ]
  },
  {
   "cell_type": "code",
   "execution_count": null,
   "id": "eaad428b-92fe-43a1-b2f1-953462af0f83",
   "metadata": {},
   "outputs": [],
   "source": []
  },
  {
   "cell_type": "code",
   "execution_count": null,
   "id": "bdaba093-f433-4703-b6e1-ffb69a4b94e1",
   "metadata": {},
   "outputs": [],
   "source": []
  },
  {
   "cell_type": "markdown",
   "id": "e4d865de-310d-43e9-99c8-6a0cca93065a",
   "metadata": {},
   "source": [
    "## more on ```While``` Loops"
   ]
  },
  {
   "cell_type": "code",
   "execution_count": 16,
   "id": "4f055773-1f92-4a09-9c43-d2b63fbaa0c4",
   "metadata": {},
   "outputs": [
    {
     "name": "stdout",
     "output_type": "stream",
     "text": [
      "The factorial of 3 is 6\n"
     ]
    }
   ],
   "source": [
    "#calculate the factorial of a number\n",
    "#factorial of 'n' is the product of all nos. from 1 to n)\n",
    "\n",
    "fact = 1\n",
    "i = 1\n",
    "\n",
    "n = 3\n",
    "\n",
    "while i <= n:\n",
    "    fact *= i    # fact = fact * i\n",
    "    i += 1       # i = i + 1\n",
    "\n",
    "print('The factorial of {} is {}'.format(n, fact))"
   ]
  },
  {
   "cell_type": "markdown",
   "id": "d3d04bb7-9d0b-4441-a663-99aef17fde71",
   "metadata": {},
   "source": [
    "Here's how the above code works:\n",
    "- We initialize two variables ```fact``` and ```i```. Both are intialized to 1.\\\n",
    "  ```fact``` will contain the final result of the computation and\\\n",
    "  ```i``` is used to keep track of the next number to be multiplied with ```fact```.\n",
    "- The condition ```i <= n``` holds true (since initially, i is 1), so the statement in the block below ```while``` are executed.\n",
    "- The ```fact``` is updated to ```fact * i``` and ```i``` is increased by ```1``` and now has value ```2```.\n",
    "- At this point, condition ```i <= n``` is executed again, and since it continues to hold true, the ```fact``` is once again updated to ```fact * i``` and ```i``` is increased to ```3```.\n",
    "- This process is repeated till the condition becomes false, which happens when ```i``` holds the value ```n+1```. Once the condition evaluates to ```False```, the execution if the loop ends and then it proceeds the next code block, that is the ```print``` statement."
   ]
  },
  {
   "cell_type": "code",
   "execution_count": 17,
   "id": "f0ab6611-cb9c-4373-9e89-99e6512af373",
   "metadata": {},
   "outputs": [
    {
     "name": "stdout",
     "output_type": "stream",
     "text": [
      "infinite...\n"
     ]
    }
   ],
   "source": [
    "# INFINITE LOOP - INTERRUPT THIS CELL...\n",
    "'''\n",
    "result = 1\n",
    "i = 1\n",
    "\n",
    "while i <= 100:\n",
    "    result = result * i\n",
    "    #forgot increment\n",
    "'''\n",
    "print('infinite...')"
   ]
  },
  {
   "cell_type": "code",
   "execution_count": 18,
   "id": "a90a319c-5bf5-48bd-85e1-f4448bf0d0f0",
   "metadata": {},
   "outputs": [
    {
     "name": "stdout",
     "output_type": "stream",
     "text": [
      "infinite...\n"
     ]
    }
   ],
   "source": [
    "# INFINITE LOOP - INTERRUPT THIS CELL...\n",
    "'''\n",
    "result = 1\n",
    "i = 1\n",
    "\n",
    "while i > 0: #wrong condition\n",
    "    result = result * i\n",
    "    i += 1\n",
    "'''\n",
    "print('infinite...')"
   ]
  },
  {
   "cell_type": "code",
   "execution_count": 19,
   "id": "d1f9ee4a-6893-4b7b-8780-39091174572e",
   "metadata": {},
   "outputs": [
    {
     "name": "stdout",
     "output_type": "stream",
     "text": [
      "*\n",
      "**\n",
      "***\n",
      "****\n",
      "*****\n",
      "******\n",
      "*******\n",
      "********\n",
      "*********\n",
      "**********\n"
     ]
    }
   ],
   "source": [
    "line = '*'\n",
    "length = 10\n",
    "\n",
    "while len(line) <= length:\n",
    "    print(line)\n",
    "    line += '*'"
   ]
  },
  {
   "cell_type": "code",
   "execution_count": 20,
   "id": "ec6bec14-66aa-439f-895d-0e33af41ad32",
   "metadata": {},
   "outputs": [
    {
     "name": "stdout",
     "output_type": "stream",
     "text": [
      "*\n"
     ]
    }
   ],
   "source": [
    "line = '*'\n",
    "length = 10\n",
    "\n",
    "while len(line) > 0:\n",
    "    print(line)\n",
    "    line = line[:-1]"
   ]
  },
  {
   "cell_type": "code",
   "execution_count": 21,
   "id": "9878d014-a6b5-445c-baf1-e1f7da191bc6",
   "metadata": {},
   "outputs": [
    {
     "name": "stdout",
     "output_type": "stream",
     "text": [
      "*\n",
      "**\n",
      "***\n",
      "****\n",
      "*****\n",
      "******\n",
      "*******\n",
      "********\n",
      "*********\n",
      "**********\n",
      "***********\n",
      "**********\n",
      "*********\n",
      "********\n",
      "*******\n",
      "******\n",
      "*****\n",
      "****\n",
      "***\n",
      "**\n",
      "*\n"
     ]
    }
   ],
   "source": [
    "line = '*'\n",
    "length = 10\n",
    "\n",
    "while len(line) <= length:\n",
    "    print(line)\n",
    "    line += '*'\n",
    "\n",
    "while len(line) > 0:\n",
    "    print(line)\n",
    "    line = line[:-1]"
   ]
  }
 ],
 "metadata": {
  "kernelspec": {
   "display_name": "Python 3 (ipykernel)",
   "language": "python",
   "name": "python3"
  },
  "language_info": {
   "codemirror_mode": {
    "name": "ipython",
    "version": 3
   },
   "file_extension": ".py",
   "mimetype": "text/x-python",
   "name": "python",
   "nbconvert_exporter": "python",
   "pygments_lexer": "ipython3",
   "version": "3.13.6"
  }
 },
 "nbformat": 4,
 "nbformat_minor": 5
}
