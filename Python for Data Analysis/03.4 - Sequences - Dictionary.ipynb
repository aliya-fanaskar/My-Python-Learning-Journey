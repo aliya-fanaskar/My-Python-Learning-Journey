{
 "cells": [
  {
   "cell_type": "markdown",
   "id": "7f93788d-3d4e-4ab1-8c30-b2bc4a060421",
   "metadata": {},
   "source": [
    "# Dictionary - {:}"
   ]
  },
  {
   "cell_type": "markdown",
   "id": "f9cc6519-e74e-461d-a336-c23aa27315d8",
   "metadata": {},
   "source": [
    "A Dictionary is one of 4 built-in data types in Python used to store collections of data, the other 3 are Lists, Tuples, and Sets, all with different characteristics and use cases.\n",
    "- A dictionary in Python is an **ordered** collection of values (Python 3.7+). In older Python versions, dictionaries were unordered.\n",
    "- Data is stored as **Key-Value pairs**, where each unique ```key``` maps to a corresponding ```value```.\n",
    "- A Python dictionary is inherently **heterogeneous**, meaning it can store key-value pairs where both the keys and the values can be of different data types within the same dictionary.\n",
    "- **No Duplicate Keys**: Each key within a dictionary must be unique. If you try to add a key that already exists, its value will be updated.\n",
    "- **Syntax**: Dictionaries are defined using curly braces **{}** with key-value pairs separated by colons **:** and individual pairs separated by commas.\n",
    "- **Keys** must be **mutable** but **Values** can be of **mutable or immutable** types"
   ]
  },
  {
   "cell_type": "markdown",
   "id": "defd7f9d-2a9d-4fbc-b194-f16910f86511",
   "metadata": {},
   "source": [
    "## Creating a Dictionary"
   ]
  },
  {
   "cell_type": "code",
   "execution_count": 1,
   "id": "c4410e71-270f-4255-8f01-24c42772d1e2",
   "metadata": {},
   "outputs": [
    {
     "data": {
      "text/plain": [
       "{'Brand': 'Ford', 'Model': 'Mustang', 'Year': 1964}"
      ]
     },
     "execution_count": 1,
     "metadata": {},
     "output_type": "execute_result"
    }
   ],
   "source": [
    "dict1 = {\n",
    "    \"Brand\" : \"Ford\",\n",
    "    \"Model\" : \"Mustang\",\n",
    "    \"Year\" : 1964\n",
    "}\n",
    "\n",
    "dict1"
   ]
  },
  {
   "cell_type": "code",
   "execution_count": 2,
   "id": "b88f1b71-fa9b-4c70-9b9d-198312a0c690",
   "metadata": {},
   "outputs": [
    {
     "name": "stdout",
     "output_type": "stream",
     "text": [
      "Ford\n"
     ]
    }
   ],
   "source": [
    "print(dict1[\"Brand\"])"
   ]
  },
  {
   "cell_type": "code",
   "execution_count": 3,
   "id": "08309e33-6dc2-4aa8-b0e7-f263b68f01c1",
   "metadata": {},
   "outputs": [
    {
     "data": {
      "text/plain": [
       "'Mustang'"
      ]
     },
     "execution_count": 3,
     "metadata": {},
     "output_type": "execute_result"
    }
   ],
   "source": [
    "dict1['Model']"
   ]
  },
  {
   "cell_type": "code",
   "execution_count": 4,
   "id": "9b5e0740-1fc0-4178-9a85-52b6baaec0bb",
   "metadata": {},
   "outputs": [
    {
     "data": {
      "text/plain": [
       "3"
      ]
     },
     "execution_count": 4,
     "metadata": {},
     "output_type": "execute_result"
    }
   ],
   "source": [
    "len(dict1)"
   ]
  },
  {
   "cell_type": "code",
   "execution_count": 5,
   "id": "be8d4cbb-dfa6-4fb1-b65a-fd12e9fe953b",
   "metadata": {},
   "outputs": [
    {
     "name": "stdout",
     "output_type": "stream",
     "text": [
      "{'brand': 'Skoda', 'electric': False, 'year': 1964, 'colors': ['red', 'white', 'blue']}\n"
     ]
    }
   ],
   "source": [
    "car = {\n",
    "    \"brand\" : \"Skoda\",\n",
    "    \"electric\" : False,\n",
    "    \"year\" : 1964,\n",
    "    \"colors\" : ['red', 'white', 'blue']\n",
    "}\n",
    "\n",
    "print(car)"
   ]
  },
  {
   "cell_type": "code",
   "execution_count": 6,
   "id": "69529828-9406-4fc0-a6d1-a5fc2e2f2c25",
   "metadata": {},
   "outputs": [
    {
     "data": {
      "text/plain": [
       "dict"
      ]
     },
     "execution_count": 6,
     "metadata": {},
     "output_type": "execute_result"
    }
   ],
   "source": [
    "type(car)"
   ]
  },
  {
   "cell_type": "markdown",
   "id": "1b8757c5-cb35-4ad9-a2c7-2eefdcf21f8a",
   "metadata": {},
   "source": [
    "### dict() Constructor"
   ]
  },
  {
   "cell_type": "code",
   "execution_count": 7,
   "id": "4dd5b008-badc-40bf-a5eb-a70baf64aedd",
   "metadata": {},
   "outputs": [
    {
     "name": "stdout",
     "output_type": "stream",
     "text": [
      "{'name': 'John', 'age': 32, 'country': 'Norway'}\n",
      "<class 'dict'>\n"
     ]
    }
   ],
   "source": [
    "person = dict(name = \"John\", age = 32, country = \"Norway\")\n",
    "print(person)\n",
    "print(type(person))"
   ]
  },
  {
   "cell_type": "markdown",
   "id": "e2a853bd-5b70-49d8-8068-ef5cafcd329b",
   "metadata": {},
   "source": [
    "### Check if Key Exists"
   ]
  },
  {
   "cell_type": "code",
   "execution_count": 8,
   "id": "8a1ebdb3-c700-4c3e-8a1d-f31a1fedaae6",
   "metadata": {},
   "outputs": [
    {
     "data": {
      "text/plain": [
       "{'Brand': 'Ford', 'Model': 'Mustang', 'Year': 1964}"
      ]
     },
     "execution_count": 8,
     "metadata": {},
     "output_type": "execute_result"
    }
   ],
   "source": [
    "dict1"
   ]
  },
  {
   "cell_type": "code",
   "execution_count": 9,
   "id": "88460109-f46e-41d8-9319-5f704460497b",
   "metadata": {},
   "outputs": [
    {
     "data": {
      "text/plain": [
       "True"
      ]
     },
     "execution_count": 9,
     "metadata": {},
     "output_type": "execute_result"
    }
   ],
   "source": [
    "'Model' in dict1"
   ]
  },
  {
   "cell_type": "code",
   "execution_count": 10,
   "id": "f879d9f3-c1ba-485c-aca9-05c7336cca0c",
   "metadata": {},
   "outputs": [
    {
     "name": "stdout",
     "output_type": "stream",
     "text": [
      "True\n",
      "False\n"
     ]
    }
   ],
   "source": [
    "#in operator is used to check only Key in dictionary\n",
    "a = 'Brand'\n",
    "b = 'Mustang'\n",
    "\n",
    "print(a in dict1)\n",
    "print(b in dict1)"
   ]
  },
  {
   "cell_type": "markdown",
   "id": "49ff964a-446b-4d41-8e77-46583d528c22",
   "metadata": {},
   "source": [
    "## Dictionary Mutability-Immutability\n",
    "- **Dictionary Keys**:\n",
    "  - Dictionary **keys** must be **immutable**.\n",
    "  - This is because dictionaries rely on hashing for efficient storage and retrieval of data.\n",
    "  - If a key were mutable, its hash value could change, leading to inconsistencies and making it impossible to locate the associated value.\n",
    "  - Examples of immutable types that can be used as keys include strings, numbers (integers, floats), and tuples.\n",
    "  - Mutable types like lists or other dictionaries cannot be used as keys.\\\n",
    "    .\n",
    "- **Dictionary Values**:\n",
    "  - Dictionary **values**, on the other hand, can be of **any data type**, whether **mutable or immutable**.\n",
    "  - This means you can store immutable objects (like numbers, strings, or tuples) as values, as well as mutable objects (like lists, sets, or other dictionaries).\n",
    "  - If a value in a dictionary is a mutable object, you can modify that object directly, and the change will be reflected when you access that value through the dictionary."
   ]
  },
  {
   "cell_type": "markdown",
   "id": "031cbff2-738d-44f0-915c-bb77dd2b032f",
   "metadata": {},
   "source": [
    "## Dictionary Methods"
   ]
  },
  {
   "cell_type": "markdown",
   "id": "a0b2dd44-c0fd-435b-a70d-f4b7523716ee",
   "metadata": {},
   "source": [
    "#### get()"
   ]
  },
  {
   "cell_type": "code",
   "execution_count": 11,
   "id": "632c688c-a780-404a-af4e-5b554ee1157e",
   "metadata": {},
   "outputs": [
    {
     "data": {
      "text/plain": [
       "{'Brand': 'Ford', 'Model': 'Mustang', 'Year': 1964}"
      ]
     },
     "execution_count": 11,
     "metadata": {},
     "output_type": "execute_result"
    }
   ],
   "source": [
    "dict1"
   ]
  },
  {
   "cell_type": "code",
   "execution_count": 12,
   "id": "86f66c11-bc1a-4b7e-a648-e7aba54c1158",
   "metadata": {},
   "outputs": [
    {
     "data": {
      "text/plain": [
       "'Mustang'"
      ]
     },
     "execution_count": 12,
     "metadata": {},
     "output_type": "execute_result"
    }
   ],
   "source": [
    "dict1.get('Model')"
   ]
  },
  {
   "cell_type": "markdown",
   "id": "a688d633-417f-4817-8a84-d9f9aef89573",
   "metadata": {},
   "source": [
    "#### keys()"
   ]
  },
  {
   "cell_type": "markdown",
   "id": "331fa054-a9f8-4ac4-ae27-a46bc210531a",
   "metadata": {},
   "source": [
    "The list of the keys is a view of the dictionary, meaning that any changes done to the dictionary will be reflected in the keys list"
   ]
  },
  {
   "cell_type": "code",
   "execution_count": 13,
   "id": "931e96e2-fbc1-47ce-b7fb-72a7fe768ca5",
   "metadata": {},
   "outputs": [
    {
     "data": {
      "text/plain": [
       "{'Brand': 'Ford', 'Model': 'Mustang', 'Year': 1964}"
      ]
     },
     "execution_count": 13,
     "metadata": {},
     "output_type": "execute_result"
    }
   ],
   "source": [
    "dict1"
   ]
  },
  {
   "cell_type": "code",
   "execution_count": 14,
   "id": "82c163c4-b39a-4ff9-91c8-1082c92fc04a",
   "metadata": {},
   "outputs": [
    {
     "data": {
      "text/plain": [
       "dict_keys(['Brand', 'Model', 'Year'])"
      ]
     },
     "execution_count": 14,
     "metadata": {},
     "output_type": "execute_result"
    }
   ],
   "source": [
    "dict1.keys()"
   ]
  },
  {
   "cell_type": "code",
   "execution_count": 15,
   "id": "d966490a-701e-40f3-a522-d1626a7fe225",
   "metadata": {},
   "outputs": [
    {
     "name": "stdout",
     "output_type": "stream",
     "text": [
      "dict_keys(['Brand', 'Model', 'Year'])\n"
     ]
    }
   ],
   "source": [
    "x = dict1.keys()\n",
    "print(x)"
   ]
  },
  {
   "cell_type": "code",
   "execution_count": 16,
   "id": "818a3efb-41d8-4507-b118-1bd9965fb214",
   "metadata": {},
   "outputs": [
    {
     "name": "stdout",
     "output_type": "stream",
     "text": [
      "dict_keys(['Brand', 'Model', 'Year', 'Color'])\n"
     ]
    }
   ],
   "source": [
    "dict1['Color'] = 'White'\n",
    "print(x)"
   ]
  },
  {
   "cell_type": "markdown",
   "id": "911bb835-ce44-47d6-997c-13784e496e2a",
   "metadata": {},
   "source": [
    "#### values()"
   ]
  },
  {
   "cell_type": "code",
   "execution_count": 17,
   "id": "bf855aa9-9eec-4ac4-93ff-5a71db88b9bf",
   "metadata": {},
   "outputs": [
    {
     "data": {
      "text/plain": [
       "{'Brand': 'Ford', 'Model': 'Mustang', 'Year': 1964, 'Color': 'White'}"
      ]
     },
     "execution_count": 17,
     "metadata": {},
     "output_type": "execute_result"
    }
   ],
   "source": [
    "dict1"
   ]
  },
  {
   "cell_type": "code",
   "execution_count": 18,
   "id": "5c36ee4b-cb63-4aa9-a41e-6ec8b1f35873",
   "metadata": {},
   "outputs": [
    {
     "name": "stdout",
     "output_type": "stream",
     "text": [
      "dict_values(['Ford', 'Mustang', 1964, 'White'])\n"
     ]
    }
   ],
   "source": [
    "y = dict1.values()\n",
    "print(y)"
   ]
  },
  {
   "cell_type": "code",
   "execution_count": 19,
   "id": "fef239aa-7b08-4f1f-86ed-140661ef7761",
   "metadata": {},
   "outputs": [
    {
     "name": "stdout",
     "output_type": "stream",
     "text": [
      "dict_values(['Ford', 'Mustang', 2000, 'White'])\n"
     ]
    }
   ],
   "source": [
    "dict1['Year'] = 2000\n",
    "print(y)"
   ]
  },
  {
   "cell_type": "code",
   "execution_count": 20,
   "id": "12bf645f-1669-4e7e-a2a2-322830e0b580",
   "metadata": {},
   "outputs": [
    {
     "name": "stdout",
     "output_type": "stream",
     "text": [
      "dict_values(['Ford', 'Mustang', 2000, 'White', 25000])\n"
     ]
    }
   ],
   "source": [
    "dict1['Price'] = 25000\n",
    "print(y)"
   ]
  },
  {
   "cell_type": "markdown",
   "id": "abfa5075-5922-4e94-9600-ba0c065e50e1",
   "metadata": {},
   "source": [
    "#### items()"
   ]
  },
  {
   "cell_type": "code",
   "execution_count": 21,
   "id": "4c5a18b9-5194-4d47-82db-75b29ac4200c",
   "metadata": {},
   "outputs": [
    {
     "name": "stdout",
     "output_type": "stream",
     "text": [
      "dict_items([('Brand', 'Ford'), ('Model', 'Mustang'), ('Year', 2000), ('Color', 'White'), ('Price', 25000)])\n"
     ]
    }
   ],
   "source": [
    "z = dict1.items()\n",
    "print(z)"
   ]
  },
  {
   "cell_type": "markdown",
   "id": "8a3b8633-5e24-4889-9d44-b47adac81efd",
   "metadata": {},
   "source": [
    "#### update()"
   ]
  },
  {
   "cell_type": "code",
   "execution_count": 22,
   "id": "03eb87bd-b318-499e-b67b-8770f052c448",
   "metadata": {},
   "outputs": [
    {
     "data": {
      "text/plain": [
       "{'Brand': 'Ford',\n",
       " 'Model': 'Mustang',\n",
       " 'Year': 2000,\n",
       " 'Color': 'White',\n",
       " 'Price': 25000}"
      ]
     },
     "execution_count": 22,
     "metadata": {},
     "output_type": "execute_result"
    }
   ],
   "source": [
    "dict1"
   ]
  },
  {
   "cell_type": "code",
   "execution_count": 23,
   "id": "144d161f-0eee-4183-8a75-fca5a8c0d45d",
   "metadata": {},
   "outputs": [
    {
     "name": "stdout",
     "output_type": "stream",
     "text": [
      "{'Brand': 'Ford', 'Model': 'Mustang', 'Year': 1964, 'Color': 'White', 'Price': 25000}\n"
     ]
    }
   ],
   "source": [
    "dict1.update({'Year': 1964})\n",
    "print(dict1)"
   ]
  },
  {
   "cell_type": "code",
   "execution_count": 24,
   "id": "19bb2c7f-848f-4e77-9246-06ca7ee6906d",
   "metadata": {},
   "outputs": [
    {
     "name": "stdout",
     "output_type": "stream",
     "text": [
      "{'Brand': 'Ford', 'Model': 'Mustang', 'Year': 1964, 'Color': 'White', 'Price': 25000, 'Effect': 'matte'}\n"
     ]
    }
   ],
   "source": [
    "dict1.update({'Effect' : 'matte'})\n",
    "print(dict1)"
   ]
  },
  {
   "cell_type": "code",
   "execution_count": 25,
   "id": "68b6d885-c1a9-4c69-8ad5-7278cfc9c008",
   "metadata": {},
   "outputs": [
    {
     "name": "stdout",
     "output_type": "stream",
     "text": [
      "{'Brand': 'Ford', 'Model': 'Mustang', 'Year': 1990, 'Color': 'White', 'Price': 25000, 'Effect': 'matte'}\n"
     ]
    }
   ],
   "source": [
    "# or you can also change a value directly in this manner\n",
    "dict1['Year'] = 1990\n",
    "print(dict1)"
   ]
  },
  {
   "cell_type": "code",
   "execution_count": 26,
   "id": "f3103734-ec49-4eb2-85ab-ba54052863d5",
   "metadata": {},
   "outputs": [
    {
     "data": {
      "text/plain": [
       "'Ford'"
      ]
     },
     "execution_count": 26,
     "metadata": {},
     "output_type": "execute_result"
    }
   ],
   "source": [
    "dict1['Brand']"
   ]
  },
  {
   "cell_type": "markdown",
   "id": "87b69a73-d1da-4c9b-85dd-56ec5b3f837a",
   "metadata": {},
   "source": [
    "#### copy()"
   ]
  },
  {
   "cell_type": "code",
   "execution_count": 27,
   "id": "38a00e14-29bb-4a0c-9b65-6802672c2c19",
   "metadata": {},
   "outputs": [
    {
     "name": "stdout",
     "output_type": "stream",
     "text": [
      "{'Brand': 'Ford', 'Model': 'Mustang', 'Year': 1990, 'Color': 'White', 'Price': 25000, 'Effect': 'matte'}\n"
     ]
    }
   ],
   "source": [
    "my_dict = dict1.copy()\n",
    "print(my_dict)"
   ]
  },
  {
   "cell_type": "code",
   "execution_count": 28,
   "id": "3480b1d0-d1dd-4f5d-b859-6a04a32bceac",
   "metadata": {},
   "outputs": [
    {
     "data": {
      "text/plain": [
       "{'Brand': 'Ford',\n",
       " 'Model': 'Mustang',\n",
       " 'Year': 1990,\n",
       " 'Color': 'White',\n",
       " 'Price': 25000,\n",
       " 'Effect': 'matte'}"
      ]
     },
     "execution_count": 28,
     "metadata": {},
     "output_type": "execute_result"
    }
   ],
   "source": [
    "a_dict = dict(dict1)\n",
    "a_dict"
   ]
  },
  {
   "cell_type": "markdown",
   "id": "e475b5be-ccfe-4e22-9900-0a3d012c1420",
   "metadata": {},
   "source": [
    "#### fromkeys()\n",
    "this is a class method used to create a new dictionary. It constructs a dictionary with keys taken from an iterable like a list, tuple, or set, and assigns a specified value to all these keys."
   ]
  },
  {
   "cell_type": "code",
   "execution_count": 29,
   "id": "595a241c-ec3f-499a-ad7b-29d494ec0e08",
   "metadata": {},
   "outputs": [
    {
     "name": "stdout",
     "output_type": "stream",
     "text": [
      "{'key1': 0, 'key2': 0, 'key3': 0}\n"
     ]
    }
   ],
   "source": [
    "x = ('key1', 'key2', 'key3')\n",
    "y = 0\n",
    "\n",
    "dict2 = dict.fromkeys(x,y)\n",
    "print(dict2)"
   ]
  },
  {
   "cell_type": "code",
   "execution_count": 30,
   "id": "f85240b5-ab58-4376-8e71-33d5dd7fc152",
   "metadata": {},
   "outputs": [
    {
     "name": "stdout",
     "output_type": "stream",
     "text": [
      "{'name': None, 'age': None, 'sex': None}\n"
     ]
    }
   ],
   "source": [
    "x = ['name', 'age', 'sex']\n",
    "\n",
    "dict3 = dict.fromkeys(x)\n",
    "print(dict3)"
   ]
  },
  {
   "cell_type": "code",
   "execution_count": 31,
   "id": "0fe80b9b-783d-4ca4-bc76-f2fe684842ed",
   "metadata": {},
   "outputs": [
    {
     "name": "stdout",
     "output_type": "stream",
     "text": [
      "{'name': 0, 'age': 0, 'sex': 0}\n"
     ]
    }
   ],
   "source": [
    "x = ['name', 'age', 'sex']\n",
    "\n",
    "dict4 = dict.fromkeys(x,0)\n",
    "print(dict4)"
   ]
  },
  {
   "cell_type": "markdown",
   "id": "315ae1d8-f9c5-4a82-a80e-3dea9acbfbf2",
   "metadata": {},
   "source": [
    "#### setdefault()\n",
    "it is used to retrieve the value associated with a given key. If the key exists in the dictionary, its current value is returned. However, if the key does not exist, ```setdefault()``` inserts the key into the dictionary with a specified ```default_value``` and then returns that 'default_value'"
   ]
  },
  {
   "cell_type": "code",
   "execution_count": 32,
   "id": "3f013c2a-0ebe-4300-9807-7726ff6ffbf0",
   "metadata": {},
   "outputs": [
    {
     "data": {
      "text/plain": [
       "{'Brand': 'Ford',\n",
       " 'Model': 'Mustang',\n",
       " 'Year': 1990,\n",
       " 'Color': 'White',\n",
       " 'Price': 25000,\n",
       " 'Effect': 'matte'}"
      ]
     },
     "execution_count": 32,
     "metadata": {},
     "output_type": "execute_result"
    }
   ],
   "source": [
    "dict1"
   ]
  },
  {
   "cell_type": "code",
   "execution_count": 33,
   "id": "4c8bc935-c815-4299-8475-b113f510a266",
   "metadata": {},
   "outputs": [
    {
     "name": "stdout",
     "output_type": "stream",
     "text": [
      "Mustang\n"
     ]
    }
   ],
   "source": [
    "p = dict1.setdefault('Model', 'GTR')\n",
    "print(p)"
   ]
  },
  {
   "cell_type": "code",
   "execution_count": 34,
   "id": "efb5ee4a-ba2e-4955-87bf-f58dcf405b9b",
   "metadata": {},
   "outputs": [
    {
     "name": "stdout",
     "output_type": "stream",
     "text": [
      "{'name': 'Aliya', 'age': 25}\n"
     ]
    }
   ],
   "source": [
    "intern = {'name':'Aliya', 'age':25}\n",
    "print(intern)"
   ]
  },
  {
   "cell_type": "code",
   "execution_count": 35,
   "id": "291e2df5-8487-4f90-92f0-d1441d3a92cc",
   "metadata": {},
   "outputs": [
    {
     "name": "stdout",
     "output_type": "stream",
     "text": [
      "Name value: Aliya\n",
      "Intern: {'name': 'Aliya', 'age': 25}\n"
     ]
    }
   ],
   "source": [
    "name_val = intern.setdefault('name', 'XYZ')\n",
    "print(f\"Name value: {name_val}\")\n",
    "print(f\"Intern: {intern}\")"
   ]
  },
  {
   "cell_type": "code",
   "execution_count": 36,
   "id": "651d65af-1d70-44a1-85af-d1f9aabe0d4a",
   "metadata": {},
   "outputs": [
    {
     "name": "stdout",
     "output_type": "stream",
     "text": [
      "City value: Mumbai\n",
      "Intern: {'name': 'Aliya', 'age': 25, 'city': 'Mumbai'}\n"
     ]
    }
   ],
   "source": [
    "city_val = intern.setdefault('city', 'Mumbai')\n",
    "print(f\"City value: {city_val}\")\n",
    "print(f\"Intern: {intern}\")"
   ]
  },
  {
   "cell_type": "markdown",
   "id": "8d7f6de6-efad-46d3-b42a-189f6c8c701d",
   "metadata": {},
   "source": [
    "#### pop()"
   ]
  },
  {
   "cell_type": "code",
   "execution_count": 37,
   "id": "dc904e0f-a35b-44d7-a23d-6f1c0a2a4161",
   "metadata": {},
   "outputs": [
    {
     "data": {
      "text/plain": [
       "25000"
      ]
     },
     "execution_count": 37,
     "metadata": {},
     "output_type": "execute_result"
    }
   ],
   "source": [
    "dict1.pop('Price')"
   ]
  },
  {
   "cell_type": "code",
   "execution_count": 38,
   "id": "0b51daed-3864-42ad-9197-95df3f160249",
   "metadata": {},
   "outputs": [
    {
     "data": {
      "text/plain": [
       "{'Brand': 'Ford',\n",
       " 'Model': 'Mustang',\n",
       " 'Year': 1990,\n",
       " 'Color': 'White',\n",
       " 'Effect': 'matte'}"
      ]
     },
     "execution_count": 38,
     "metadata": {},
     "output_type": "execute_result"
    }
   ],
   "source": [
    "dict1"
   ]
  },
  {
   "cell_type": "markdown",
   "id": "2174f66d-d7ff-4971-bedf-d6931577b4d3",
   "metadata": {},
   "source": [
    "#### popitem()"
   ]
  },
  {
   "cell_type": "code",
   "execution_count": 39,
   "id": "97f0af27-1b3e-4cca-a5b3-0ee191a20ea7",
   "metadata": {},
   "outputs": [
    {
     "data": {
      "text/plain": [
       "{'Brand': 'Ford', 'Model': 'Mustang', 'Year': 1990, 'Color': 'White'}"
      ]
     },
     "execution_count": 39,
     "metadata": {},
     "output_type": "execute_result"
    }
   ],
   "source": [
    "dict1.popitem()\n",
    "dict1"
   ]
  },
  {
   "cell_type": "code",
   "execution_count": 40,
   "id": "00582307-a48a-44df-9a63-e7f0c787b616",
   "metadata": {},
   "outputs": [
    {
     "data": {
      "text/plain": [
       "{'Brand': 'Ford', 'Model': 'Mustang', 'Year': 1990}"
      ]
     },
     "execution_count": 40,
     "metadata": {},
     "output_type": "execute_result"
    }
   ],
   "source": [
    "del dict1['Color']\n",
    "dict1"
   ]
  },
  {
   "cell_type": "markdown",
   "id": "3226ea3c-53c2-48a5-8140-25d8f3a779e2",
   "metadata": {},
   "source": [
    "#### clear()"
   ]
  },
  {
   "cell_type": "code",
   "execution_count": 41,
   "id": "7f41c03a-086d-4d7b-be08-2198c1c25eee",
   "metadata": {},
   "outputs": [
    {
     "data": {
      "text/plain": [
       "{}"
      ]
     },
     "execution_count": 41,
     "metadata": {},
     "output_type": "execute_result"
    }
   ],
   "source": [
    "dict1.clear()\n",
    "dict1"
   ]
  },
  {
   "cell_type": "markdown",
   "id": "43a31983-0dd1-4eab-b5cb-a47795aeb057",
   "metadata": {},
   "source": [
    "## Nested Dictionaries"
   ]
  },
  {
   "cell_type": "code",
   "execution_count": 42,
   "id": "c7c8de95-3351-4b52-93c7-234399e977c9",
   "metadata": {},
   "outputs": [
    {
     "name": "stdout",
     "output_type": "stream",
     "text": [
      "{'child1': {'name': 'Aliya', 'year': 1999}, 'child2': {'name': 'Arman', 'year': 2001}, 'child3': {'name': 'Yunus', 'year': 2009}}\n"
     ]
    }
   ],
   "source": [
    "myfamily = {\n",
    "    \"child1\" : {\n",
    "        \"name\" : \"Aliya\",\n",
    "        \"year\" : 1999\n",
    "    },\n",
    "    \"child2\" : {\n",
    "        \"name\" : \"Arman\",\n",
    "        \"year\" : 2001\n",
    "    },\n",
    "    \"child3\" : {\n",
    "        \"name\" : \"Yunus\",\n",
    "        \"year\" : 2009\n",
    "    }\n",
    "}\n",
    "\n",
    "print(myfamily)"
   ]
  },
  {
   "cell_type": "code",
   "execution_count": 43,
   "id": "e0b73509-6a49-4ede-b3a2-1f64a108e4cb",
   "metadata": {},
   "outputs": [
    {
     "name": "stdout",
     "output_type": "stream",
     "text": [
      "{'name': 'Yunus', 'year': 2009}\n"
     ]
    }
   ],
   "source": [
    "print(myfamily[\"child3\"])"
   ]
  },
  {
   "cell_type": "code",
   "execution_count": 44,
   "id": "8c81d4aa-ebbc-4005-a7dc-d16372d35926",
   "metadata": {},
   "outputs": [
    {
     "name": "stdout",
     "output_type": "stream",
     "text": [
      "Arman\n"
     ]
    }
   ],
   "source": [
    "print(myfamily[\"child2\"][\"name\"])"
   ]
  },
  {
   "cell_type": "markdown",
   "id": "99d31476-ee2c-4a1d-94cb-7996a266c257",
   "metadata": {},
   "source": [
    "#### Alternate way to nest dictionary"
   ]
  },
  {
   "cell_type": "code",
   "execution_count": 48,
   "id": "b1ef14d4-8e04-4f6f-b11a-093323b28ea7",
   "metadata": {},
   "outputs": [
    {
     "name": "stdout",
     "output_type": "stream",
     "text": [
      "{'name': 'Bob', 'year': 1991}\n",
      "Group: {'person1': {'name': 'Adam', 'year': 1989}, 'person2': {'name': 'Bob', 'year': 1991}, 'person3': {'name': 'Ana', 'year': 1996}}\n"
     ]
    }
   ],
   "source": [
    "p1 = {'name' : 'Adam', 'year' : 1989}\n",
    "p2 = {'name' : 'Bob', 'year' : 1991}\n",
    "p3 = {'name' : 'Ana', 'year' : 1996}\n",
    "\n",
    "group = {\n",
    "    'person1' : p1,\n",
    "    'person2' : p2,\n",
    "    'person3' : p3\n",
    "}\n",
    "\n",
    "print(p2)\n",
    "print('Group:', group)"
   ]
  },
  {
   "cell_type": "code",
   "execution_count": 49,
   "id": "a4111a8d-8af2-48d9-8c32-6aa5e00b564a",
   "metadata": {},
   "outputs": [
    {
     "data": {
      "text/plain": [
       "{'name': 'Bob', 'year': 1991}"
      ]
     },
     "execution_count": 49,
     "metadata": {},
     "output_type": "execute_result"
    }
   ],
   "source": [
    "p2"
   ]
  },
  {
   "cell_type": "code",
   "execution_count": 50,
   "id": "83aaac30-7a8d-4998-8d6d-a58b6771c582",
   "metadata": {},
   "outputs": [
    {
     "data": {
      "text/plain": [
       "{'person1': {'name': 'Adam', 'year': 1989},\n",
       " 'person2': {'name': 'Bob', 'year': 1991},\n",
       " 'person3': {'name': 'Ana', 'year': 1996}}"
      ]
     },
     "execution_count": 50,
     "metadata": {},
     "output_type": "execute_result"
    }
   ],
   "source": [
    "group"
   ]
  }
 ],
 "metadata": {
  "kernelspec": {
   "display_name": "Python 3 (ipykernel)",
   "language": "python",
   "name": "python3"
  },
  "language_info": {
   "codemirror_mode": {
    "name": "ipython",
    "version": 3
   },
   "file_extension": ".py",
   "mimetype": "text/x-python",
   "name": "python",
   "nbconvert_exporter": "python",
   "pygments_lexer": "ipython3",
   "version": "3.13.6"
  }
 },
 "nbformat": 4,
 "nbformat_minor": 5
}
