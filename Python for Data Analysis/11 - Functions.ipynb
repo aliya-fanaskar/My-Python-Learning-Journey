{
 "cells": [
  {
   "cell_type": "markdown",
   "id": "30dbb981-39a5-43a8-afa0-30f1f292580f",
   "metadata": {},
   "source": [
    "# Functions in Python\n",
    "Python functions are named, reusable blocks of code designed to perform specific tasks. They promote modularity, code reuse, and easier maintenance in programming.\\\n",
    "\\\n",
    "**Types of Python Functions**:\n",
    "- **Built-in Functions**: These are pre-defined functions provided by Python's standard library, always available without explicit import. Examples include ```print()```, ```len()```, ```type()```, ```sum()```, and ```int()```.\n",
    "  \n",
    "- **User-Defined Functions**: These are functions created by the programmer to achieve specific functionalities within their code.\n",
    "  - **Definition**: Functions are defined using the def keyword, followed by the function name, parentheses (which may contain parameters), and a colon. The function's code block is then indented below this line.\n",
    "  - **Calling**: To execute the code within a function, you call it by its name followed by parentheses, passing any required arguments."
   ]
  },
  {
   "cell_type": "code",
   "execution_count": 5,
   "id": "66c7b5e8-2d86-4759-a243-6e219b92f1ac",
   "metadata": {},
   "outputs": [],
   "source": [
    "# defining a function \n",
    "def say_hello():\n",
    "    print('Hello there!')\n",
    "    print('How are you?')"
   ]
  },
  {
   "cell_type": "code",
   "execution_count": 6,
   "id": "10716228-ccfe-45b9-826f-aa06b9d17890",
   "metadata": {},
   "outputs": [
    {
     "name": "stdout",
     "output_type": "stream",
     "text": [
      "Hello there!\n",
      "How are you?\n",
      "None\n"
     ]
    }
   ],
   "source": [
    "# calling the defined function\n",
    "print(say_hello())"
   ]
  },
  {
   "cell_type": "code",
   "execution_count": 4,
   "id": "86aa440d-2cfa-42e5-bac9-d9d7bcd2398a",
   "metadata": {},
   "outputs": [
    {
     "name": "stdout",
     "output_type": "stream",
     "text": [
      "Hello there!\n",
      "How are you?\n"
     ]
    }
   ],
   "source": [
    "say_hello()"
   ]
  },
  {
   "cell_type": "markdown",
   "id": "2ca878fe-089a-4b8b-96f5-d57f5efd8182",
   "metadata": {},
   "source": [
    "**Benefits of Using Functions**:\n",
    "- **Code Reusability**: Avoid repeating the same code by defining it once in a function and calling it multiple times.\n",
    "- **Modularity**: Break down complex programs into smaller, manageable, and independent units.\n",
    "- **Maintainability**: Easier to modify and debug code as changes can be localized within functions.\n",
    "- **Readability**: Improves code clarity and understanding by giving logical blocks of code meaningful names.\n"
   ]
  },
  {
   "cell_type": "code",
   "execution_count": 7,
   "id": "4d2e6cc3-cb8c-420e-bb56-61b07364e9d1",
   "metadata": {},
   "outputs": [],
   "source": [
    "def greet():\n",
    "    print(\"Welcome to Realm of Functions!\")"
   ]
  },
  {
   "cell_type": "code",
   "execution_count": 8,
   "id": "787869d8-03d9-45de-a236-a9c38a534d43",
   "metadata": {},
   "outputs": [
    {
     "name": "stdout",
     "output_type": "stream",
     "text": [
      "Welcome to Realm of Functions!\n"
     ]
    }
   ],
   "source": [
    "greet()"
   ]
  },
  {
   "cell_type": "markdown",
   "id": "8939b2c1-362e-4c70-b835-498643bb155e",
   "metadata": {},
   "source": [
    "## Key Concepts\n",
    "- **Parameters and Arguments**: Parameters are placeholders defined in the function's signature, while arguments are the actual values passed to the function when it's called.\n",
    "- **Return Values**: Functions can return a value using the return statement, which also terminates the function's execution. If no return statement is present, the function implicitly returns None.\n",
    "- **Default Arguments**: Parameters can have default values, which are used if no argument is provided for that parameter during the function call.\n",
    "- **Docstrings**: A docstring (a multi-line string immediately after the function definition) is used to document the function's purpose, parameters, and return value."
   ]
  },
  {
   "cell_type": "markdown",
   "id": "a66dbcc0-acb1-4207-8a89-888100e6265e",
   "metadata": {},
   "source": [
    "## return statement"
   ]
  },
  {
   "cell_type": "markdown",
   "id": "1fc6a53b-4950-43df-8277-353b8c36a74e",
   "metadata": {},
   "source": [
    "Using ```return``` instead of ```print``` allows the function to provide a value back to the part of the code that called it, enabling further use and manipulation of that value"
   ]
  },
  {
   "cell_type": "code",
   "execution_count": 1,
   "id": "33299302-8ab3-43a9-a9da-a6dcaaf5ec4d",
   "metadata": {},
   "outputs": [
    {
     "data": {
      "text/plain": [
       "50"
      ]
     },
     "execution_count": 1,
     "metadata": {},
     "output_type": "execute_result"
    }
   ],
   "source": [
    "def work(x):\n",
    "    return 5 * x\n",
    "\n",
    "work(10)"
   ]
  },
  {
   "cell_type": "markdown",
   "id": "95a4c20c-c32e-4613-9f0b-28a59dc4864d",
   "metadata": {},
   "source": [
    "## pass Statement"
   ]
  },
  {
   "cell_type": "markdown",
   "id": "75d700f9-170a-4ad2-8446-d12e4dba6831",
   "metadata": {},
   "source": [
    "Function definitions cannot be empty, but if you for some reason have a functiod definition with no content, put in the ```pass``` statement to avoid gettting an error."
   ]
  },
  {
   "cell_type": "code",
   "execution_count": 2,
   "id": "728fb02e-008f-4b05-8c4c-9617f0f5ea75",
   "metadata": {},
   "outputs": [],
   "source": [
    "def my_function():\n",
    "    pass"
   ]
  },
  {
   "cell_type": "markdown",
   "id": "278ebd9f-5485-4872-8e4f-00d8cc0a2ae4",
   "metadata": {},
   "source": [
    "## Scope\n",
    "Scope refers to the region within the dose where a certain variable is visible.\\\n",
    "Every function (or class definition) defines a scope within Python.\\\n",
    "\\\n",
    "Variables defined in this scope are called **```local variables```**.\\\n",
    "Variables that are available everywhere are called **```global variables```**.\\\n",
    "\\\n",
    "Scope rule allows you to use the same variable names in different functions without sharing values from one to the other."
   ]
  },
  {
   "cell_type": "code",
   "execution_count": 23,
   "id": "f3e9654c-7e1b-4da4-92b3-4cec74cecab6",
   "metadata": {},
   "outputs": [],
   "source": [
    "def get_even(numbers):\n",
    "    even_list = []\n",
    "    for number in numbers:\n",
    "        if number % 2 == 0:\n",
    "            even_list.append(number)\n",
    "    return even_list\n",
    "\n",
    "even_list = \"This is a sample used of the same variable used inside the function\""
   ]
  },
  {
   "cell_type": "code",
   "execution_count": 27,
   "id": "f8789caf-ef32-4aae-8a51-f04d937f7d41",
   "metadata": {},
   "outputs": [
    {
     "data": {
      "text/plain": [
       "[2, 6, 8, 8, 4, 8, 2, 4, 8]"
      ]
     },
     "execution_count": 27,
     "metadata": {},
     "output_type": "execute_result"
    }
   ],
   "source": [
    "# use of function\n",
    "list1 = [1, 2, 5, 6, 8, 8, 9, 3, 4, 8, 2, 1, 4, 5, 8]\n",
    "get_even(list1)"
   ]
  },
  {
   "cell_type": "code",
   "execution_count": 28,
   "id": "f974af4d-201b-4c38-af7c-39008b9d3293",
   "metadata": {},
   "outputs": [
    {
     "data": {
      "text/plain": [
       "'This is a sample used of the same variable used inside the function'"
      ]
     },
     "execution_count": 28,
     "metadata": {},
     "output_type": "execute_result"
    }
   ],
   "source": [
    "# use of global variable\n",
    "even_list"
   ]
  },
  {
   "cell_type": "code",
   "execution_count": 29,
   "id": "a9ca0b02-44e0-4673-8e4a-502559be6aad",
   "metadata": {},
   "outputs": [
    {
     "data": {
      "text/plain": [
       "[22, 56, 98, 44, 34]"
      ]
     },
     "execution_count": 29,
     "metadata": {},
     "output_type": "execute_result"
    }
   ],
   "source": [
    "# use of function again\n",
    "get_even([22, 56, 23, 77, 98, 69, 65, 44, 21, 34])"
   ]
  },
  {
   "cell_type": "markdown",
   "id": "d10cb78b-926b-4392-9eb8-340ef1283439",
   "metadata": {},
   "source": [
    "## Parameters or Arguments?\n",
    "The term *parameter* and *argument* can be used for the same thing:\\\n",
    "Information that is passed into a function.\\\n",
    "\\\n",
    "From a function's perspective:\\\n",
    "A ```parameter``` is the variable listed inside the parantheses in the function definition.\\\n",
    "An ```argument``` is the value that is sent to the funtion when it is called. It might be a variable, value or object passed to a function or method as input."
   ]
  },
  {
   "cell_type": "markdown",
   "id": "d8280241-088f-442b-9633-606aede5f1d8",
   "metadata": {},
   "source": [
    "## Parameter"
   ]
  },
  {
   "cell_type": "code",
   "execution_count": 9,
   "id": "61687756-9dac-4228-af1e-88dcaf64a00f",
   "metadata": {},
   "outputs": [
    {
     "name": "stdout",
     "output_type": "stream",
     "text": [
      "3\n"
     ]
    }
   ],
   "source": [
    "# Here a,b are the parameters\n",
    "def sum(a,b):\n",
    "  print(a+b)\n",
    "  \n",
    "sum(1,2)"
   ]
  },
  {
   "cell_type": "markdown",
   "id": "9824727e-921f-406a-9160-cc07ac81ddfb",
   "metadata": {},
   "source": [
    "### Default Parameter Value\n",
    "We can set a default value to an argument. If we call the function without argument, it uses the default value:"
   ]
  },
  {
   "cell_type": "code",
   "execution_count": 6,
   "id": "dec0f49f-1a85-4a84-bfbc-72e2b320db5d",
   "metadata": {},
   "outputs": [
    {
     "name": "stdout",
     "output_type": "stream",
     "text": [
      "I am from Sweden\n",
      "I am from Pakistan\n",
      "I am from India\n"
     ]
    }
   ],
   "source": [
    "def resident(country = 'India'):\n",
    "    print(\"I am from\", country)\n",
    "\n",
    "resident('Sweden')\n",
    "resident('Pakistan')\n",
    "resident()"
   ]
  },
  {
   "cell_type": "markdown",
   "id": "c4fa0672-f41d-4cf1-846f-dd7c34370832",
   "metadata": {},
   "source": [
    "## Arguments\n",
    "Information can be passed into functions as arguments.\\\n",
    "Arguments are specified after the function name, inside the parentheses."
   ]
  },
  {
   "cell_type": "code",
   "execution_count": 5,
   "id": "55c89aad-9b89-42cb-b55c-5d2801cce019",
   "metadata": {},
   "outputs": [],
   "source": [
    "def greet(name):\n",
    "    print('Good Morning', name, '!')\n",
    "    print('How are you doing today?')"
   ]
  },
  {
   "cell_type": "code",
   "execution_count": 6,
   "id": "4c389f22-bc1b-4d83-859c-23d60e41ffd6",
   "metadata": {},
   "outputs": [
    {
     "name": "stdout",
     "output_type": "stream",
     "text": [
      "Good Morning Aliya !\n",
      "How are you doing today?\n"
     ]
    }
   ],
   "source": [
    "greet('Aliya')"
   ]
  },
  {
   "cell_type": "code",
   "execution_count": 7,
   "id": "15ba28bc-ae5f-404b-a714-8e8c02cb01f9",
   "metadata": {},
   "outputs": [
    {
     "name": "stdout",
     "output_type": "stream",
     "text": [
      "Good Morning 1 !\n",
      "How are you doing today?\n"
     ]
    }
   ],
   "source": [
    "greet(1)"
   ]
  },
  {
   "attachments": {},
   "cell_type": "markdown",
   "id": "eecca96d-bc36-4286-8743-a0af8d6bc1ec",
   "metadata": {},
   "source": [
    "### Number of Arguments\n",
    "By default, a function must be called with the correct number of arguments.\n",
    "\n",
    "**Multiple Arguments**\\\n",
    "You can add as many arguments as you want, just seperate them with a comma."
   ]
  },
  {
   "cell_type": "code",
   "execution_count": 46,
   "id": "aa4fe126-714b-49a2-bc59-04a39cc2ca7e",
   "metadata": {},
   "outputs": [],
   "source": [
    "def candidate(fname, lname, age):\n",
    "    print(f'''The candidate's name is {fname} {lname}.\n",
    "The candidate is {age} years old.\n",
    "''')"
   ]
  },
  {
   "cell_type": "code",
   "execution_count": 42,
   "id": "7ba26f67-2f50-4c0a-ac51-250f5958e35e",
   "metadata": {},
   "outputs": [
    {
     "name": "stdout",
     "output_type": "stream",
     "text": [
      "The candidate's name is Aliya Fanaskar.\n",
      "The candidate is 26 years old.\n",
      "\n"
     ]
    }
   ],
   "source": [
    "candidate('Aliya', 'Fanaskar', 26)"
   ]
  },
  {
   "cell_type": "markdown",
   "id": "ad937e69-1db0-4163-803b-faa4dd7663a4",
   "metadata": {},
   "source": [
    "### Arbitrary Arguments, *args\n",
    "If you do not know how many arguments will be passed into your function, add an asterisk * before the parameter name in the function definition.\\\n",
    "This way the function will receive a ***tuple*** of arguments, and can access the items accordingly:"
   ]
  },
  {
   "cell_type": "code",
   "execution_count": 51,
   "id": "7a43da3c-d593-41f1-9041-5652bc47200d",
   "metadata": {},
   "outputs": [
    {
     "name": "stdout",
     "output_type": "stream",
     "text": [
      "The youngest child is Yunus\n"
     ]
    }
   ],
   "source": [
    "def my_function(*kids):\n",
    "    print(\"The youngest child is\", kids[-1])\n",
    "\n",
    "my_function('Aliya', 'Arman', 'Yunus')"
   ]
  },
  {
   "cell_type": "markdown",
   "id": "0945facd-dd08-444b-9963-e619a36c331d",
   "metadata": {},
   "source": [
    "### Keyword Arguments\n",
    "You can also send arguments with the key = value syntax.\\\n",
    "This way the order of the arguments does not matter."
   ]
  },
  {
   "cell_type": "code",
   "execution_count": 53,
   "id": "c4889081-874e-4521-9d88-a9dd79f30e03",
   "metadata": {},
   "outputs": [
    {
     "name": "stdout",
     "output_type": "stream",
     "text": [
      "The youngest child is Yunus\n"
     ]
    }
   ],
   "source": [
    "def my_function(child3, child2, child1):\n",
    "    print(\"The youngest child is\", child3)\n",
    "\n",
    "my_function(child3 = 'Yunus', child2 = 'Arman', child1 = 'Aliya')"
   ]
  },
  {
   "cell_type": "markdown",
   "id": "75de774d-d1ff-4ea9-8e9e-fa96843be9ff",
   "metadata": {},
   "source": [
    "### Arbitrary Keyword Arguments, **kwargs\n",
    "If you do not know how many keyword arguments will be passed into your function, add two asterisks ** before the parameter name in the function definition.\\\n",
    "This way the function will receive a ***dictionary*** of arguments, and can access the items accordingly:"
   ]
  },
  {
   "cell_type": "code",
   "execution_count": 1,
   "id": "31b4afd7-99c4-471e-a084-6c0f96f94664",
   "metadata": {},
   "outputs": [
    {
     "name": "stdout",
     "output_type": "stream",
     "text": [
      "The kid's lastname is Fanaskar\n"
     ]
    }
   ],
   "source": [
    "def my_function(**kid):\n",
    "    print(\"The kid's lastname is\", kid[\"lname\"])\n",
    "\n",
    "my_function(fname = 'Aliya', mname = 'Adil', lname = 'Fanaskar')"
   ]
  },
  {
   "cell_type": "markdown",
   "id": "49fd1fd1-d9fe-4746-a2a1-1c847a4fb3b0",
   "metadata": {},
   "source": [
    "### Named Arguments\n",
    "Invoking a function with many arguments can often get confusing, and is prone to human errors.\\\n",
    "Python provides the option of invoking functions with **```Named arguments```**, for better clarity.\\\n",
    "Function invocation can also be split into multiple lines and the order of arguments doesn't matter either."
   ]
  },
  {
   "cell_type": "code",
   "execution_count": 16,
   "id": "9cbcceda-f013-416b-97b6-be8fd4cdae9a",
   "metadata": {},
   "outputs": [
    {
     "name": "stdout",
     "output_type": "stream",
     "text": [
      "Candidate's name      : Aliya\n",
      "Candidate's age       : 26\n",
      "Candidate's location  : INDIA \n",
      "\n",
      "Candidate's name      : Omar\n",
      "Candidate's age       : no data\n",
      "Candidate's location  : SAUDI ARABIA \n",
      "\n",
      "Candidate's name      : Yunus\n",
      "Candidate's age       : no data\n",
      "Candidate's location  : SOMEWHERE ON EARTH \n",
      "\n"
     ]
    }
   ],
   "source": [
    "def info(name, age = 'no data', loc = 'somewhere on Earth'):\n",
    "    print(\"Candidate's name      :\", name.capitalize())\n",
    "    print(\"Candidate's age       :\", age)\n",
    "    print(\"Candidate's location  :\", loc.upper(), '\\n')\n",
    "\n",
    "info('aliya', 26, 'India')\n",
    "info('omar', loc='Saudi Arabia')\n",
    "info('yunus')"
   ]
  },
  {
   "cell_type": "markdown",
   "id": "9ad40152-b2f2-4c35-bb45-8fd5de817178",
   "metadata": {},
   "source": [
    "### List as an Argument\n",
    "You can send any data types of argument to a function (string, number, list, dictionary, etc.), and it will be treated as the same data type inside the function.\\\n",
    "\n",
    "E.g. if you send a ```List``` as an argument, it will still be a List when it reached the function:"
   ]
  },
  {
   "cell_type": "code",
   "execution_count": 21,
   "id": "f2e0ab72-2dc5-4135-abca-cd166fddc07e",
   "metadata": {},
   "outputs": [
    {
     "name": "stdout",
     "output_type": "stream",
     "text": [
      "The given group consists of the following items:\n",
      "apple\n",
      "mango\n",
      "cherry\n",
      "kiwi\n",
      "\n",
      "That's all\n"
     ]
    }
   ],
   "source": [
    "def items(group):\n",
    "    print('The given group consists of the following items:')\n",
    "    for x in group:\n",
    "        print(x)\n",
    "    print(\"\\nThat's all\")\n",
    "    \n",
    "fruits = ['apple', 'mango', 'cherry', 'kiwi']\n",
    "\n",
    "items(fruits)"
   ]
  },
  {
   "cell_type": "code",
   "execution_count": 22,
   "id": "ad2e2f46-8f07-4f30-80a6-8c403455ca66",
   "metadata": {},
   "outputs": [
    {
     "name": "stdout",
     "output_type": "stream",
     "text": [
      "The given group consists of the following items:\n",
      "book\n",
      "pen\n",
      "notepad\n",
      "pins\n",
      "\n",
      "That's all\n"
     ]
    }
   ],
   "source": [
    "items(['book', 'pen', 'notepad', 'pins'])"
   ]
  },
  {
   "cell_type": "markdown",
   "id": "2d4aedee-a6b6-46a3-9a06-32bdbf0d2b12",
   "metadata": {},
   "source": [
    "### Position-Only Arguments"
   ]
  },
  {
   "cell_type": "markdown",
   "id": "57f06baa-1891-46b1-84c0-e65e3f7e2640",
   "metadata": {},
   "source": [
    "You can specify that a function can have ONLY positional arguments.\\\n",
    "To do this, add ```, /``` after the arguments:"
   ]
  },
  {
   "cell_type": "code",
   "execution_count": 3,
   "id": "fe5187ab-71bc-4871-86e8-9940e8202e0f",
   "metadata": {},
   "outputs": [
    {
     "name": "stdout",
     "output_type": "stream",
     "text": [
      "3\n"
     ]
    }
   ],
   "source": [
    "def my_func(x, /):\n",
    "    print(x)\n",
    "\n",
    "my_func(3)"
   ]
  },
  {
   "cell_type": "markdown",
   "id": "0142e115-3a59-47a3-a810-2f11b466bf80",
   "metadata": {},
   "source": [
    "Without the ```, /``` you are actually allowed to use keyword arguments even if the function expects positional arguments"
   ]
  },
  {
   "cell_type": "code",
   "execution_count": 6,
   "id": "d664c0c3-7771-4acc-bf36-f0059d047732",
   "metadata": {},
   "outputs": [
    {
     "name": "stdout",
     "output_type": "stream",
     "text": [
      "3\n",
      "3\n"
     ]
    }
   ],
   "source": [
    "def my_func(x):\n",
    "    print(x)\n",
    "\n",
    "my_func(3)\n",
    "my_func(x = 3)"
   ]
  },
  {
   "cell_type": "markdown",
   "id": "523be425-d6ca-4e58-8f14-f7d84076cee3",
   "metadata": {},
   "source": [
    "But when adding the ```, /``` you will get an error if you try to send a keyword argument:"
   ]
  },
  {
   "cell_type": "code",
   "execution_count": 12,
   "id": "5f7287bd-8293-434b-9e91-7bea623933b5",
   "metadata": {},
   "outputs": [
    {
     "name": "stdout",
     "output_type": "stream",
     "text": [
      "3\n"
     ]
    }
   ],
   "source": [
    "def my_func(x, /):\n",
    "    print(x)\n",
    "\n",
    "my_func(3)"
   ]
  },
  {
   "cell_type": "code",
   "execution_count": 15,
   "id": "413de262-31ac-4270-8aec-28d2d36e11ff",
   "metadata": {},
   "outputs": [],
   "source": [
    "#my_func(x = 3)      # will give type error"
   ]
  },
  {
   "cell_type": "markdown",
   "id": "530637d7-16cd-45b8-8c82-94a7c895c24e",
   "metadata": {},
   "source": [
    "### Keyword-Only Arguments"
   ]
  },
  {
   "cell_type": "markdown",
   "id": "9144e1e4-0b54-4c5b-953f-2dc52176ad0c",
   "metadata": {},
   "source": [
    "Similarly, you can specify that a function can have ONLY keyword arguments.\\\n",
    "To do this, add ```*, ``` before the arguments"
   ]
  },
  {
   "cell_type": "code",
   "execution_count": 20,
   "id": "f0424043-22c4-4a78-8a2b-b29d1a1e2bb9",
   "metadata": {},
   "outputs": [
    {
     "name": "stdout",
     "output_type": "stream",
     "text": [
      "3\n"
     ]
    }
   ],
   "source": [
    "def my_func(*, x):\n",
    "    print(x)\n",
    "\n",
    "my_func(x = 3)"
   ]
  },
  {
   "cell_type": "markdown",
   "id": "e4e89a4d-4c22-455f-bf8e-3b7b187e0a0a",
   "metadata": {},
   "source": [
    "Without the ```*, ``` you are allowed to use positional arguments even if the function expects keyword arguments"
   ]
  },
  {
   "cell_type": "code",
   "execution_count": 21,
   "id": "beb3a9df-fd27-4e64-b752-dbd5c0a2884c",
   "metadata": {},
   "outputs": [
    {
     "name": "stdout",
     "output_type": "stream",
     "text": [
      "3\n",
      "3\n"
     ]
    }
   ],
   "source": [
    "def my_func(x):\n",
    "    print(x)\n",
    "\n",
    "my_func(3)\n",
    "my_func(x = 3)"
   ]
  },
  {
   "cell_type": "markdown",
   "id": "87d32533-ca63-4cd1-9800-624d4ef7c38d",
   "metadata": {},
   "source": [
    "But with the ```*, ``` you will get an error if you try to send a postional argument"
   ]
  },
  {
   "cell_type": "code",
   "execution_count": 19,
   "id": "22db7a22-7c92-403d-b302-74420bc2111c",
   "metadata": {},
   "outputs": [],
   "source": [
    "#my_func(3)          # will give error"
   ]
  },
  {
   "cell_type": "markdown",
   "id": "90d55fe8-4385-4c61-a482-f1a44e66a647",
   "metadata": {},
   "source": [
    "### Combine Position-Only and Keyword-Only"
   ]
  },
  {
   "cell_type": "markdown",
   "id": "0d9875e5-2827-4f22-a421-22eee9249dfd",
   "metadata": {},
   "source": [
    "You can combine the two argumnet types in the same functio.\\\n",
    "Any argument *before* the ```, /``` are positional-only, and\\\n",
    "any argument *after* the ```*, ``` are keyword-only."
   ]
  },
  {
   "cell_type": "code",
   "execution_count": 26,
   "id": "3881d890-53ef-4fba-94df-517168d00e91",
   "metadata": {},
   "outputs": [
    {
     "name": "stdout",
     "output_type": "stream",
     "text": [
      "26\n"
     ]
    }
   ],
   "source": [
    "def both(a, b, /, *, c, d):\n",
    "    print(a + b + c + d)\n",
    "\n",
    "both(5, 6, c = 7, d = 8)"
   ]
  },
  {
   "cell_type": "code",
   "execution_count": 29,
   "id": "6a4a2eef-bba3-4d23-b10c-a83632cb0a7e",
   "metadata": {},
   "outputs": [],
   "source": [
    "# both(a = 2, 5, c = 7, 5)          # will give error"
   ]
  },
  {
   "cell_type": "code",
   "execution_count": 31,
   "id": "5c901f34-1d50-4eaa-ae22-ff563ef9ee82",
   "metadata": {},
   "outputs": [
    {
     "name": "stdout",
     "output_type": "stream",
     "text": [
      "This will cause syntax error stating that '/ must be ahead of *'\n"
     ]
    }
   ],
   "source": [
    "'''\n",
    "def both(*, a, b, c, d, /):\n",
    "    print(a+b+c+d)\n",
    "'''\n",
    "print(\"This will cause syntax error stating that '/ must be ahead of *'\")"
   ]
  },
  {
   "cell_type": "markdown",
   "id": "4db59761-af0c-4778-9898-3886ead1fa28",
   "metadata": {},
   "source": [
    "## Recursion"
   ]
  },
  {
   "cell_type": "markdown",
   "id": "0da1e15c-8406-4477-970d-39e3535beb51",
   "metadata": {},
   "source": [
    "Python also accepts recurison, which means a defined function can call itself.\\\n",
    "\\\n",
    "Recursion is a common mathematical and programming concept. It means that a function calls itself. This has the benefit of meaning that you can loop through data to reach a result."
   ]
  },
  {
   "cell_type": "code",
   "execution_count": 35,
   "id": "9b4d4348-32ba-4634-bd3d-10dd5e203739",
   "metadata": {},
   "outputs": [
    {
     "name": "stdout",
     "output_type": "stream",
     "text": [
      "The result of the function is:\n",
      "1\n",
      "3\n",
      "6\n",
      "10\n",
      "15\n",
      "21\n"
     ]
    },
    {
     "data": {
      "text/plain": [
       "21"
      ]
     },
     "execution_count": 35,
     "metadata": {},
     "output_type": "execute_result"
    }
   ],
   "source": [
    "def rec(x):\n",
    "    if (x > 0):\n",
    "        result = x + rec(x - 1)\n",
    "        print(result)\n",
    "    else:\n",
    "        result = 0\n",
    "    return result\n",
    "\n",
    "print(\"The result of the function is:\")\n",
    "rec(6)"
   ]
  },
  {
   "cell_type": "markdown",
   "id": "69a4818b-bd49-4d7f-a501-4269492437f4",
   "metadata": {},
   "source": [
    "In this example, ```rec()``` is a function that we have defined to call itself. We use the variable ```x``` as the data, which decrements ```- 1``` every time we recurse. The recursion ends when the condition is not greater than 0 (i.e. when it is 0)"
   ]
  },
  {
   "cell_type": "code",
   "execution_count": 2,
   "id": "16e2e55b-07d9-4cfb-a4b8-760256bad47a",
   "metadata": {},
   "outputs": [
    {
     "data": {
      "text/plain": [
       "3628800"
      ]
     },
     "execution_count": 2,
     "metadata": {},
     "output_type": "execute_result"
    }
   ],
   "source": [
    "def factorial(n):\n",
    "    # Base Case: Factorial of 0 or 1 is 1\n",
    "    if n == 0 or n == 1:\n",
    "        return 1\n",
    "    # Recursive case: n! = n * (n -1)\n",
    "    else:\n",
    "        return n * factorial(n - 1)\n",
    "\n",
    "\n",
    "factorial(10)"
   ]
  },
  {
   "cell_type": "code",
   "execution_count": null,
   "id": "d8a64ff9-2b3b-4c64-b2cf-be0edf868d53",
   "metadata": {},
   "outputs": [],
   "source": []
  }
 ],
 "metadata": {
  "kernelspec": {
   "display_name": "Python 3 (ipykernel)",
   "language": "python",
   "name": "python3"
  },
  "language_info": {
   "codemirror_mode": {
    "name": "ipython",
    "version": 3
   },
   "file_extension": ".py",
   "mimetype": "text/x-python",
   "name": "python",
   "nbconvert_exporter": "python",
   "pygments_lexer": "ipython3",
   "version": "3.13.6"
  }
 },
 "nbformat": 4,
 "nbformat_minor": 5
}
