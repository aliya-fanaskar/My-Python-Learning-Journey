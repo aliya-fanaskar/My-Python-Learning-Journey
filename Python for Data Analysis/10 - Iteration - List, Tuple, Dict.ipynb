{
 "cells": [
  {
   "cell_type": "markdown",
   "id": "eff7dbac-1799-41d1-adb0-fc85154447b5",
   "metadata": {},
   "source": [
    "# Loop through Lists, Tuples, Dictionaries"
   ]
  },
  {
   "cell_type": "markdown",
   "id": "14fdd462-71a8-4dbd-a6cd-3748c7a854f3",
   "metadata": {},
   "source": [
    "## List"
   ]
  },
  {
   "cell_type": "markdown",
   "id": "bf3dd783-7dcd-40e6-89ab-b4fd77c5fbe4",
   "metadata": {},
   "source": [
    "**For Loop**"
   ]
  },
  {
   "cell_type": "code",
   "execution_count": 1,
   "id": "e6d19d36-2762-43f5-ad8a-e67c975e4bf6",
   "metadata": {},
   "outputs": [
    {
     "name": "stdout",
     "output_type": "stream",
     "text": [
      "orange\n",
      "apple\n",
      "mango\n",
      "banana\n"
     ]
    }
   ],
   "source": [
    "fruits = ['orange', 'apple', 'mango', 'banana']\n",
    "\n",
    "for x in fruits:\n",
    "    print(x)"
   ]
  },
  {
   "cell_type": "code",
   "execution_count": 2,
   "id": "76b05b6b-0ee6-43be-9167-f243d84214cc",
   "metadata": {},
   "outputs": [
    {
     "name": "stdout",
     "output_type": "stream",
     "text": [
      "orange\n",
      "apple\n",
      "mango\n",
      "banana\n"
     ]
    }
   ],
   "source": [
    "for i in range(len(fruits)):\n",
    "    print(fruits[i])"
   ]
  },
  {
   "cell_type": "code",
   "execution_count": 3,
   "id": "86836723-0dcf-4c5b-b1e1-14998e357aba",
   "metadata": {},
   "outputs": [
    {
     "name": "stdout",
     "output_type": "stream",
     "text": [
      "Washing shirt\n",
      "Washing pants\n",
      "Washing towel\n",
      "Washing napkin\n"
     ]
    }
   ],
   "source": [
    "item = [\"shirt\", \"sock\", \"pants\", \"sock\", \"towel\", \"napkin\"]\n",
    "\n",
    "for i in item:\n",
    "    if i == \"sock\":\n",
    "        continue\n",
    "    else:\n",
    "        print(f\"Washing {i}\")"
   ]
  },
  {
   "cell_type": "markdown",
   "id": "1a96dd62-c51b-4a27-a69d-a6e53281d37a",
   "metadata": {},
   "source": [
    "**While Loop**"
   ]
  },
  {
   "cell_type": "code",
   "execution_count": 4,
   "id": "630bac1a-a7f0-4b9c-b23b-ea2438e46e2d",
   "metadata": {},
   "outputs": [
    {
     "name": "stdout",
     "output_type": "stream",
     "text": [
      "sweet apple\n",
      "sweet banana\n",
      "sweet cherry\n",
      "big apple\n",
      "big banana\n",
      "big cherry\n",
      "tasty apple\n",
      "tasty banana\n",
      "tasty cherry\n"
     ]
    }
   ],
   "source": [
    "adj = [\"sweet\", \"big\", \"tasty\"]\n",
    "fruits = [\"apple\", \"banana\", \"cherry\"]\n",
    "\n",
    "for x in adj:\n",
    "    for y in fruits:\n",
    "        print(x, y)"
   ]
  },
  {
   "cell_type": "markdown",
   "id": "674fa410-44d0-4b1b-bb07-c5adaa7fbe69",
   "metadata": {},
   "source": [
    "**List Comprehension**"
   ]
  },
  {
   "cell_type": "code",
   "execution_count": 5,
   "id": "3cdc02e1-8b89-44b5-8101-3b78db8f1fdc",
   "metadata": {},
   "outputs": [
    {
     "name": "stdout",
     "output_type": "stream",
     "text": [
      "['apple', 'banana', 'cherry']\n"
     ]
    }
   ],
   "source": [
    "all_fruits = [x for x in fruits]\n",
    "print(all_fruits)"
   ]
  },
  {
   "cell_type": "code",
   "execution_count": 6,
   "id": "ad66be6d-fe05-4fd5-97fa-d6cbb5198416",
   "metadata": {},
   "outputs": [
    {
     "name": "stdout",
     "output_type": "stream",
     "text": [
      "['APPLE', 'BANANA', 'CHERRY']\n"
     ]
    }
   ],
   "source": [
    "# all items in new list\n",
    "all_fruits = [x.upper() for x in fruits]\n",
    "print(all_fruits)"
   ]
  },
  {
   "cell_type": "markdown",
   "id": "bba5583e-52c9-431a-819f-a7c1c40f1bc7",
   "metadata": {},
   "source": [
    "## Tuple"
   ]
  },
  {
   "cell_type": "markdown",
   "id": "9d98f7a0-1876-49c2-a649-69061cbe66c0",
   "metadata": {},
   "source": [
    "**For Loop**"
   ]
  },
  {
   "cell_type": "code",
   "execution_count": 7,
   "id": "c5d8a5f7-86f1-4c58-a8b9-06a0c04854ba",
   "metadata": {},
   "outputs": [
    {
     "name": "stdout",
     "output_type": "stream",
     "text": [
      "carrots\n",
      "potatoes\n",
      "onions\n"
     ]
    }
   ],
   "source": [
    "veggies = ('carrots', 'potatoes', 'onions')\n",
    "\n",
    "for x in veggies:\n",
    "    print(x)"
   ]
  },
  {
   "cell_type": "code",
   "execution_count": 8,
   "id": "23695d18-d15b-4ba5-bb83-3b1506148f05",
   "metadata": {},
   "outputs": [
    {
     "name": "stdout",
     "output_type": "stream",
     "text": [
      "carrots\n",
      "potatoes\n",
      "onions\n"
     ]
    }
   ],
   "source": [
    "for i in range(len(veggies)):\n",
    "    print(veggies[i])"
   ]
  },
  {
   "cell_type": "markdown",
   "id": "2ddba077-bd0d-4a2f-98bb-3d1a029532d3",
   "metadata": {},
   "source": [
    "**While Loop**"
   ]
  },
  {
   "cell_type": "code",
   "execution_count": 9,
   "id": "7596039a-602c-4ffb-9134-41d676ec5118",
   "metadata": {},
   "outputs": [
    {
     "name": "stdout",
     "output_type": "stream",
     "text": [
      "carrots\n",
      "potatoes\n",
      "onions\n"
     ]
    }
   ],
   "source": [
    "i = 0\n",
    "\n",
    "while i < len(veggies):\n",
    "    print(veggies[i])\n",
    "    i += 1"
   ]
  },
  {
   "cell_type": "markdown",
   "id": "05f75486-0c82-4852-8e2f-06e824193644",
   "metadata": {},
   "source": [
    "## Dictionary"
   ]
  },
  {
   "cell_type": "code",
   "execution_count": 10,
   "id": "4a0f0b80-f098-46d5-9f22-5605b5e54a15",
   "metadata": {},
   "outputs": [
    {
     "data": {
      "text/plain": [
       "{'fruit': 'apple',\n",
       " 'veggie': 'carrot',\n",
       " 'snack': 'pizza',\n",
       " 'dessert': 'cake',\n",
       " 'meal': 'pasta'}"
      ]
     },
     "execution_count": 10,
     "metadata": {},
     "output_type": "execute_result"
    }
   ],
   "source": [
    "food = {'fruit':'apple', 'veggie':'carrot', 'snack':'pizza', 'dessert':'cake', 'meal':'pasta'}\n",
    "food"
   ]
  },
  {
   "cell_type": "code",
   "execution_count": 11,
   "id": "181cb96a-7dd9-4173-b645-c40aba487fd0",
   "metadata": {},
   "outputs": [
    {
     "name": "stdout",
     "output_type": "stream",
     "text": [
      "fruit\n",
      "veggie\n",
      "snack\n",
      "dessert\n",
      "meal\n"
     ]
    }
   ],
   "source": [
    "for x in food:\n",
    "    print(x)    # this will print all key names"
   ]
  },
  {
   "cell_type": "code",
   "execution_count": 12,
   "id": "83c5060f-be4b-4366-a937-0e08ff57e9d6",
   "metadata": {},
   "outputs": [
    {
     "name": "stdout",
     "output_type": "stream",
     "text": [
      "apple\n",
      "carrot\n",
      "pizza\n",
      "cake\n",
      "pasta\n"
     ]
    }
   ],
   "source": [
    "for x in food:\n",
    "    print(food[x])   # values in the dictionary"
   ]
  },
  {
   "cell_type": "code",
   "execution_count": 13,
   "id": "e1aae963-6abe-4d2c-b6d0-35c0ad52d0c3",
   "metadata": {},
   "outputs": [
    {
     "name": "stdout",
     "output_type": "stream",
     "text": [
      "apple\n",
      "carrot\n",
      "pizza\n",
      "cake\n",
      "pasta\n"
     ]
    }
   ],
   "source": [
    "for x in food.values():\n",
    "    print(x)"
   ]
  },
  {
   "cell_type": "code",
   "execution_count": 14,
   "id": "56d63d49-de01-46de-a02c-4b13088e6365",
   "metadata": {},
   "outputs": [
    {
     "name": "stdout",
     "output_type": "stream",
     "text": [
      "fruit\n",
      "veggie\n",
      "snack\n",
      "dessert\n",
      "meal\n"
     ]
    }
   ],
   "source": [
    "for x in food.keys():\n",
    "    print(x)"
   ]
  },
  {
   "cell_type": "code",
   "execution_count": 15,
   "id": "8c8d1fa7-cba2-4bfb-8644-ddab68c326b1",
   "metadata": {},
   "outputs": [
    {
     "name": "stdout",
     "output_type": "stream",
     "text": [
      "('fruit', 'apple')\n",
      "('veggie', 'carrot')\n",
      "('snack', 'pizza')\n",
      "('dessert', 'cake')\n",
      "('meal', 'pasta')\n"
     ]
    }
   ],
   "source": [
    "for x in food.items():\n",
    "    print(x)"
   ]
  },
  {
   "cell_type": "code",
   "execution_count": 16,
   "id": "2ee1820f-0454-475a-b72a-3f1378a4e8a1",
   "metadata": {},
   "outputs": [
    {
     "name": "stdout",
     "output_type": "stream",
     "text": [
      "fruit apple\n",
      "veggie carrot\n",
      "snack pizza\n",
      "dessert cake\n",
      "meal pasta\n"
     ]
    }
   ],
   "source": [
    "for x, y in food.items():\n",
    "    print(x, y)"
   ]
  },
  {
   "cell_type": "code",
   "execution_count": 17,
   "id": "90795eee-51db-4cbe-ab69-ed1b999624d5",
   "metadata": {},
   "outputs": [
    {
     "name": "stdout",
     "output_type": "stream",
     "text": [
      "Available fruit: apple\n",
      "Available veggie: carrot\n",
      "Available snack: pizza\n",
      "Available dessert: cake\n",
      "Available meal: pasta\n"
     ]
    }
   ],
   "source": [
    "for x,y in food.items():\n",
    "    print(f'Available {x}: {y}')"
   ]
  },
  {
   "cell_type": "code",
   "execution_count": 23,
   "id": "80b2cec9-2f07-40d8-b1c7-b91583e4a2ca",
   "metadata": {},
   "outputs": [
    {
     "data": {
      "text/plain": [
       "{'fruit': 'apple',\n",
       " 'veggie': 'carrot',\n",
       " 'snack': 'pizza',\n",
       " 'dessert': 'cake',\n",
       " 'meal': 'pasta'}"
      ]
     },
     "execution_count": 23,
     "metadata": {},
     "output_type": "execute_result"
    }
   ],
   "source": [
    "food"
   ]
  },
  {
   "cell_type": "code",
   "execution_count": 24,
   "id": "c4260394-b2dc-4bf4-8b2d-9dbb40cb2a39",
   "metadata": {},
   "outputs": [
    {
     "data": {
      "text/plain": [
       "{'fruit': {'name': 'apple', 'color': 'red'},\n",
       " 'veggie': {'name': 'carrot', 'color': 'orange'},\n",
       " 'sweet': {'name': 'cake', 'color': 'brown'}}"
      ]
     },
     "execution_count": 24,
     "metadata": {},
     "output_type": "execute_result"
    }
   ],
   "source": [
    "myfood = {\n",
    "    'fruit' : {\n",
    "        'name' : 'apple',\n",
    "        'color' : 'red'\n",
    "    },\n",
    "    'veggie' : {\n",
    "        'name' : 'carrot',\n",
    "        'color' : 'orange'\n",
    "    },\n",
    "    'sweet' : {\n",
    "        'name' : 'cake',\n",
    "        'color' : 'brown'\n",
    "    }\n",
    "}\n",
    "\n",
    "myfood"
   ]
  },
  {
   "cell_type": "code",
   "execution_count": 27,
   "id": "0ce98497-9411-4288-a2df-b3731394b633",
   "metadata": {},
   "outputs": [
    {
     "name": "stdout",
     "output_type": "stream",
     "text": [
      "fruit\n",
      "name: apple\n",
      "color: red\n",
      "veggie\n",
      "name: carrot\n",
      "color: orange\n",
      "sweet\n",
      "name: cake\n",
      "color: brown\n"
     ]
    }
   ],
   "source": [
    "for x, obj in myfood.items():\n",
    "    print(x)\n",
    "    for y in obj:\n",
    "        print(y + ':', obj[y])"
   ]
  }
 ],
 "metadata": {
  "kernelspec": {
   "display_name": "Python 3 (ipykernel)",
   "language": "python",
   "name": "python3"
  },
  "language_info": {
   "codemirror_mode": {
    "name": "ipython",
    "version": 3
   },
   "file_extension": ".py",
   "mimetype": "text/x-python",
   "name": "python",
   "nbconvert_exporter": "python",
   "pygments_lexer": "ipython3",
   "version": "3.13.6"
  }
 },
 "nbformat": 4,
 "nbformat_minor": 5
}
