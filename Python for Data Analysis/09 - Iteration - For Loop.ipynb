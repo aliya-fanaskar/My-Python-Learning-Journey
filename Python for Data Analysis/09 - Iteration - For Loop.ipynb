{
 "cells": [
  {
   "attachments": {},
   "cell_type": "markdown",
   "id": "9843f05f-0219-4e18-a5e8-0709913835a9",
   "metadata": {},
   "source": [
    "# For Loop\n",
    "A ```loop``` is used for iterating over a sequence (that is either a list, a tuple, a dictionary, a set or a string).\n",
    "\n",
    "A Python ```for``` loop is used to iterate over a sequence (such as a list, tuple, string, dictionary, or set) or other iterable objects. It allows you to execute a block of code for each item in the sequence. "
   ]
  },
  {
   "cell_type": "code",
   "execution_count": 1,
   "id": "8efe0dca-29b7-4354-9afc-0cfdeb69500b",
   "metadata": {},
   "outputs": [
    {
     "name": "stdout",
     "output_type": "stream",
     "text": [
      "b\n",
      "a\n",
      "n\n",
      "a\n",
      "n\n",
      "a\n"
     ]
    }
   ],
   "source": [
    "for x in 'banana':\n",
    "    print(x)"
   ]
  },
  {
   "cell_type": "markdown",
   "id": "7618b276-3d66-4ab9-b8dd-d68984d79d64",
   "metadata": {},
   "source": [
    "**Explanation**:\n",
    "- **for**: The keyword that initiates the loop.\n",
    "- **item**: A variable that takes on the value of each element in the -iterable during each iteration. You can choose any valid variable name. \n",
    "- **in**: The keyword that links the item variable to the iterable. \n",
    "- **iterable**: Any object that can be iterated over, such as a list, tuple, string, range object, etc."
   ]
  },
  {
   "cell_type": "code",
   "execution_count": 2,
   "id": "e1016fec-4417-4548-96e1-bd1b7ddad58e",
   "metadata": {},
   "outputs": [
    {
     "name": "stdout",
     "output_type": "stream",
     "text": [
      "apple\n",
      "mango\n",
      "banana\n"
     ]
    }
   ],
   "source": [
    "fruits = ['apple', 'mango', 'banana']\n",
    "\n",
    "for x in fruits:\n",
    "    print(x)"
   ]
  },
  {
   "cell_type": "markdown",
   "id": "b9d4426c-6ec3-4091-9574-5bcdac6f71a9",
   "metadata": {},
   "source": [
    "The ```for``` loop does not require an indexing variable to set beforhand like the while loop."
   ]
  },
  {
   "cell_type": "code",
   "execution_count": 3,
   "id": "afbaf58c-ef5e-4439-b1b2-8663a562b452",
   "metadata": {},
   "outputs": [
    {
     "name": "stdout",
     "output_type": "stream",
     "text": [
      "aliya\n",
      "sarita\n",
      "samiya\n"
     ]
    }
   ],
   "source": [
    "for pal in ('aliya', 'sarita', 'samiya'):\n",
    "    print(pal)"
   ]
  },
  {
   "cell_type": "markdown",
   "id": "328ae333-9f1f-4bf2-9790-39804befcbca",
   "metadata": {},
   "source": [
    "### break Statement\n",
    "With the ```break``` statement we can stop the loop before it has looped through all the items"
   ]
  },
  {
   "cell_type": "code",
   "execution_count": 4,
   "id": "044ed2d2-7b4c-46e1-8443-a92ab3525cbc",
   "metadata": {},
   "outputs": [
    {
     "name": "stdout",
     "output_type": "stream",
     "text": [
      "A\n",
      "l\n",
      "i\n",
      "y\n",
      "a\n",
      "_\n",
      "F\n"
     ]
    }
   ],
   "source": [
    "name = \"Aliya_Fanaskar\"\n",
    "\n",
    "for n in name:\n",
    "    print(n)\n",
    "    if n == \"F\":\n",
    "        break"
   ]
  },
  {
   "cell_type": "code",
   "execution_count": 5,
   "id": "7add638d-0465-4f25-b645-dbc44e92bc8d",
   "metadata": {},
   "outputs": [
    {
     "name": "stdout",
     "output_type": "stream",
     "text": [
      "A\n",
      "l\n",
      "i\n",
      "y\n",
      "a\n",
      "_\n"
     ]
    }
   ],
   "source": [
    "name = \"Aliya_Fanaskar\"\n",
    "\n",
    "for n in name:\n",
    "    if n == \"F\":\n",
    "        break\n",
    "    print(n)"
   ]
  },
  {
   "cell_type": "markdown",
   "id": "bf2d6c58-c701-4231-bcb6-ce9f579d0622",
   "metadata": {},
   "source": [
    "### continue Statement\n",
    "With the ```continue``` statement we can stop the current iteration of the loop, and continue with the next."
   ]
  },
  {
   "cell_type": "code",
   "execution_count": 6,
   "id": "4e6e0051-2e65-4f4b-b88f-7a6ef542fac6",
   "metadata": {},
   "outputs": [
    {
     "name": "stdout",
     "output_type": "stream",
     "text": [
      "l\n",
      "i\n",
      "y\n",
      "_\n",
      "F\n",
      "n\n",
      "s\n",
      "k\n",
      "r\n"
     ]
    }
   ],
   "source": [
    "name = \"Aliya_Fanaskar\"\n",
    "\n",
    "for n in name:\n",
    "    if n == 'A' or n == 'a':\n",
    "        continue\n",
    "    print(n)"
   ]
  },
  {
   "cell_type": "markdown",
   "id": "fcc29356-6fc2-4006-ba82-65e89009f4ab",
   "metadata": {},
   "source": [
    "### pass Statement"
   ]
  },
  {
   "cell_type": "code",
   "execution_count": 27,
   "id": "ff76677f-ab4d-49c1-8aa1-bdcf2069def3",
   "metadata": {},
   "outputs": [],
   "source": [
    "for x in [0, 1, 2, 3]:\n",
    "    pass"
   ]
  },
  {
   "cell_type": "markdown",
   "id": "dd50c91c-0e51-46d9-ac0e-aaf6e3fa42b4",
   "metadata": {},
   "source": [
    "### The range() Function\n",
    "To loop through a set of specified number of times, we can use the ```range()``` function.\\\n",
    "It returns a sequence of numbers, starting from 0 by default, and increments by 1 (by default), and ends at the specified number(excluding the number)\\\n",
    "\\\n",
    "**Syntax** :- ```range(start, end, step)```"
   ]
  },
  {
   "cell_type": "code",
   "execution_count": 7,
   "id": "b082995c-ad9e-4103-b074-f27c525b8df4",
   "metadata": {},
   "outputs": [
    {
     "name": "stdout",
     "output_type": "stream",
     "text": [
      "0\n",
      "1\n",
      "2\n",
      "3\n",
      "4\n",
      "5\n"
     ]
    }
   ],
   "source": [
    "for x in range(6):\n",
    "    print(x)"
   ]
  },
  {
   "cell_type": "code",
   "execution_count": 8,
   "id": "97beaaf3-fc08-4812-9013-f868c8fb4c82",
   "metadata": {},
   "outputs": [
    {
     "name": "stdout",
     "output_type": "stream",
     "text": [
      "3\n",
      "4\n",
      "5\n",
      "6\n",
      "7\n"
     ]
    }
   ],
   "source": [
    "for x in range(3, 8):\n",
    "    print(x)"
   ]
  },
  {
   "cell_type": "code",
   "execution_count": 9,
   "id": "06698571-8b1e-4a32-9b3b-5b5a22cf0842",
   "metadata": {},
   "outputs": [
    {
     "name": "stdout",
     "output_type": "stream",
     "text": [
      "4\n",
      "11\n",
      "18\n",
      "25\n"
     ]
    }
   ],
   "source": [
    "for x in range(4, 30, 7):\n",
    "    print(x)"
   ]
  },
  {
   "cell_type": "code",
   "execution_count": 10,
   "id": "b9ac7ae6-422e-49df-8ac4-6c3a0dd70d64",
   "metadata": {},
   "outputs": [
    {
     "name": "stdout",
     "output_type": "stream",
     "text": [
      "3\n",
      "6\n",
      "9\n",
      "12\n",
      "15\n",
      "18\n",
      "21\n",
      "24\n",
      "27\n"
     ]
    }
   ],
   "source": [
    "for x in range(3, 30, 3):\n",
    "    print(x)"
   ]
  },
  {
   "cell_type": "code",
   "execution_count": 11,
   "id": "6e66d1f4-8c08-4790-80e9-b3cd440f989b",
   "metadata": {},
   "outputs": [
    {
     "name": "stdout",
     "output_type": "stream",
     "text": [
      "0\n",
      "1\n",
      "2\n",
      "3\n",
      "4\n"
     ]
    }
   ],
   "source": [
    "for x in range(7):\n",
    "    if x == 5: break\n",
    "    print(x)\n",
    "else:\n",
    "    print('finally finished')"
   ]
  },
  {
   "cell_type": "code",
   "execution_count": 12,
   "id": "3f45bc3e-7669-4dd4-8904-db80c55b01ab",
   "metadata": {},
   "outputs": [
    {
     "name": "stdout",
     "output_type": "stream",
     "text": [
      "0.0\n",
      "1.0\n",
      "2.0\n",
      "3.0\n",
      "4.0\n"
     ]
    }
   ],
   "source": [
    "for x in range(1, 6):\n",
    "    val = (x - 1)\n",
    "    print(float(val))"
   ]
  },
  {
   "cell_type": "code",
   "execution_count": 13,
   "id": "65774e63-a332-4dc3-bbc0-3349434d5eb6",
   "metadata": {},
   "outputs": [
    {
     "name": "stdout",
     "output_type": "stream",
     "text": [
      "0.0\n",
      "0.5\n",
      "1.0\n",
      "1.5\n",
      "2.0\n"
     ]
    }
   ],
   "source": [
    "for x in range(1, 6):\n",
    "    val = (x - 1) * 0.5\n",
    "    print(val)"
   ]
  },
  {
   "cell_type": "code",
   "execution_count": 14,
   "id": "46986d80-3908-4188-8c1b-5e71135c9ae7",
   "metadata": {},
   "outputs": [
    {
     "name": "stdout",
     "output_type": "stream",
     "text": [
      "Day 1: Run 2.0 miles\n",
      "Day 2: Run 2.5 miles\n",
      "Day 3: Run 3.0 miles\n",
      "Day 4: Run 3.5 miles\n",
      "Day 5: Run 4.0 miles\n"
     ]
    }
   ],
   "source": [
    "for x in range(1, 6):\n",
    "    dist = 2 + (x - 1) * 0.5\n",
    "    print(f\"Day {x}: Run {dist} miles\")"
   ]
  },
  {
   "cell_type": "markdown",
   "id": "a129265a-002f-458a-89a1-08a11a8d0fc3",
   "metadata": {},
   "source": [
    "### Nested For Loops\n",
    "A nested loop is a loop inside a loop.\\\n",
    "The ```inner loop``` will be executed one time for each iteration of the```outer loop```"
   ]
  },
  {
   "cell_type": "code",
   "execution_count": 41,
   "id": "f945f788-36d5-46f5-a952-3f20b491c87c",
   "metadata": {},
   "outputs": [
    {
     "name": "stdout",
     "output_type": "stream",
     "text": [
      "Combination: A X\n",
      "Combination: A Y\n",
      "Combination: A Z\n",
      "Combination: B X\n",
      "Combination: B Y\n",
      "Combination: B Z\n",
      "Combination: C X\n",
      "Combination: C Y\n",
      "Combination: C Z\n"
     ]
    }
   ],
   "source": [
    "a = 'ABC'\n",
    "b = 'XYZ'\n",
    "\n",
    "for x in a:\n",
    "    for y in b:\n",
    "        print(f'Combination: {x} {y}')"
   ]
  },
  {
   "cell_type": "code",
   "execution_count": 42,
   "id": "828f5cd5-35a5-4453-acb2-ebe6baaf4998",
   "metadata": {},
   "outputs": [
    {
     "name": "stdout",
     "output_type": "stream",
     "text": [
      "It's a red apple\n",
      "It's a red banana\n",
      "It's a red cherry\n",
      "It's a big apple\n",
      "It's a big banana\n",
      "It's a big cherry\n",
      "It's a tasty apple\n",
      "It's a tasty banana\n",
      "It's a tasty cherry\n"
     ]
    }
   ],
   "source": [
    "q = ['red', 'big', 'tasty']\n",
    "f = ['apple', 'banana', 'cherry']\n",
    "\n",
    "for x in q:\n",
    "    for y in f:\n",
    "        print(f'It\\'s a {x} {y}')"
   ]
  },
  {
   "cell_type": "markdown",
   "id": "4ddcf00c-47d2-4ead-9389-57cb17c5d174",
   "metadata": {},
   "source": [
    "#### List Comprehension\n",
    "This is a feature in Python that offers a shorter syntax when you want to create a new list based on the values of an existing list\\\n",
    "**Syntax** ```newlist = ['expression' for 'item' in iterable if condition == True]```"
   ]
  },
  {
   "cell_type": "markdown",
   "id": "7e5c34a7-6332-4435-8f5f-4ec51db10176",
   "metadata": {},
   "source": [
    "**The normal way to achieve this would be:**"
   ]
  },
  {
   "cell_type": "code",
   "execution_count": 16,
   "id": "f511a832-0194-4c3e-b741-5056396813b8",
   "metadata": {},
   "outputs": [
    {
     "name": "stdout",
     "output_type": "stream",
     "text": [
      "['apple', 'mango', 'apricot']\n"
     ]
    }
   ],
   "source": [
    "# Traditional Method\n",
    "\n",
    "fruits = ['apple', 'mango', 'cherry', 'apricot', 'kiwi']\n",
    "fruits_with_a = []\n",
    "\n",
    "for x in fruits:\n",
    "    if 'a' in x:\n",
    "        fruits_with_a.append(x)\n",
    "\n",
    "print(fruits_with_a)"
   ]
  },
  {
   "cell_type": "markdown",
   "id": "f0ef3949-ff86-4f50-b02e-5bb47e810e17",
   "metadata": {},
   "source": [
    "**using the List Comprehension syntax:**"
   ]
  },
  {
   "cell_type": "code",
   "execution_count": 43,
   "id": "004e143b-7b5b-4866-a440-1a29def7bbd1",
   "metadata": {},
   "outputs": [
    {
     "name": "stdout",
     "output_type": "stream",
     "text": [
      "['apple', 'mango', 'apricot']\n"
     ]
    }
   ],
   "source": [
    "# With List Comprehension\n",
    "\n",
    "fruits_with_a = [x for x in fruits if 'a' in x]\n",
    "\n",
    "print(fruits_with_a)"
   ]
  },
  {
   "cell_type": "code",
   "execution_count": 18,
   "id": "86ecde9b-1c77-4bb0-9836-311e954bd789",
   "metadata": {},
   "outputs": [
    {
     "name": "stdout",
     "output_type": "stream",
     "text": [
      "['apple', 'mango', 'cherry', 'apricot', 'kiwi']\n"
     ]
    }
   ],
   "source": [
    "# all items in new list\n",
    "all_fruits = [x for x in fruits]\n",
    "print(all_fruits)"
   ]
  },
  {
   "cell_type": "code",
   "execution_count": 19,
   "id": "2965ba62-45d8-4822-9d68-f60b91e49969",
   "metadata": {},
   "outputs": [
    {
     "name": "stdout",
     "output_type": "stream",
     "text": [
      "['APPLE', 'MANGO', 'CHERRY', 'APRICOT', 'KIWI']\n"
     ]
    }
   ],
   "source": [
    "all_fruits = [x.upper() for x in fruits]\n",
    "print(all_fruits)"
   ]
  },
  {
   "cell_type": "code",
   "execution_count": 20,
   "id": "0ae2733a-bf51-4457-bde1-4d611904c649",
   "metadata": {},
   "outputs": [
    {
     "name": "stdout",
     "output_type": "stream",
     "text": [
      "['Indian Apple', 'Indian Mango', 'Indian Cherry', 'Indian Apricot', 'Indian Kiwi']\n"
     ]
    }
   ],
   "source": [
    "all_fruits = ['Indian ' + x.capitalize() for x in fruits]\n",
    "print(all_fruits)"
   ]
  },
  {
   "cell_type": "code",
   "execution_count": 21,
   "id": "303944db-2706-4207-9eee-574bd89e70e9",
   "metadata": {},
   "outputs": [
    {
     "data": {
      "text/plain": [
       "['apple', 'mango', 'cherry', 'apricot', 'kiwi']"
      ]
     },
     "execution_count": 21,
     "metadata": {},
     "output_type": "execute_result"
    }
   ],
   "source": [
    "fruits"
   ]
  },
  {
   "cell_type": "code",
   "execution_count": 22,
   "id": "e5a8b880-f9bd-4eaf-9482-0b38c5e15f20",
   "metadata": {},
   "outputs": [
    {
     "name": "stdout",
     "output_type": "stream",
     "text": [
      "['apple', 'mango', 'banana', 'apricot', 'kiwi']\n"
     ]
    }
   ],
   "source": [
    "new_f = [x if x != 'cherry' else 'banana' for x in fruits]\n",
    "print(new_f)"
   ]
  },
  {
   "cell_type": "markdown",
   "id": "70c24264-33cc-4790-9d57-cac66e115772",
   "metadata": {},
   "source": [
    "**Iterable**"
   ]
  },
  {
   "cell_type": "code",
   "execution_count": 23,
   "id": "e467fcb9-f08a-40e8-bbde-2f70fa100eba",
   "metadata": {},
   "outputs": [
    {
     "name": "stdout",
     "output_type": "stream",
     "text": [
      "[0, 1, 2, 3, 4, 5, 6, 7, 8, 9]\n"
     ]
    }
   ],
   "source": [
    "list1 = [x for x in range(10)]\n",
    "print(list1)"
   ]
  },
  {
   "cell_type": "code",
   "execution_count": 24,
   "id": "7c25623c-09bd-42d9-bfa4-1f4f32220fc0",
   "metadata": {},
   "outputs": [
    {
     "name": "stdout",
     "output_type": "stream",
     "text": [
      "[0, 2, 4, 6, 8, 10, 12, 14, 16, 18]\n"
     ]
    }
   ],
   "source": [
    "list2 = [x for x in range(20) if x % 2 == 0]\n",
    "print(list2)"
   ]
  },
  {
   "cell_type": "code",
   "execution_count": 25,
   "id": "b3f4201f-8da6-4691-8edb-88f3c364909b",
   "metadata": {},
   "outputs": [
    {
     "name": "stdout",
     "output_type": "stream",
     "text": [
      "num list: [0, 1, 2, 3, 4, 5, 6, 7, 8, 9]\n",
      "num1 list: [0, 2, 4, 6, 8, 10, 12, 14, 16, 18]\n"
     ]
    }
   ],
   "source": [
    "num = list(range(10))\n",
    "print('num list:', num)\n",
    "\n",
    "num1 = [x * 2 for x in num]\n",
    "print('num1 list:', num1)"
   ]
  },
  {
   "cell_type": "code",
   "execution_count": 26,
   "id": "7bf8e363-b0c0-4c8a-b6e9-f899e05d77d1",
   "metadata": {},
   "outputs": [
    {
     "name": "stdout",
     "output_type": "stream",
     "text": [
      "spect list: [-5, -4, -3, -2, -1, 0, 1, 2, 3, 4, 5]\n",
      "spect1 list: [6, 5, 4, 3, 2, 1, 0, -1, -2, -3, -4]\n"
     ]
    }
   ],
   "source": [
    "spect = list(range(-5, 6))\n",
    "print('spect list:', spect)\n",
    "\n",
    "spect1 = [1 - x for x in spect]\n",
    "print('spect1 list:', spect1)"
   ]
  },
  {
   "cell_type": "markdown",
   "id": "f5ca3dbc-c0ae-4a76-b4ba-f54655a63a43",
   "metadata": {},
   "source": [
    "### enumerate()\n",
    "```enumerate()``` function adds a counter to each ietm in a list or other iterable"
   ]
  },
  {
   "cell_type": "code",
   "execution_count": 28,
   "id": "2f2cb1ba-0c60-47e7-ba29-8c1324290b98",
   "metadata": {},
   "outputs": [
    {
     "name": "stdout",
     "output_type": "stream",
     "text": [
      "(0, 'A')\n",
      "(1, 'l')\n",
      "(2, 'i')\n",
      "(3, 'y')\n",
      "(4, 'a')\n"
     ]
    }
   ],
   "source": [
    "name = 'Aliya'\n",
    "\n",
    "for x in enumerate(name):\n",
    "    print(x)"
   ]
  },
  {
   "cell_type": "code",
   "execution_count": 29,
   "id": "7629a60f-0fcc-4dce-8f52-a44768850cb7",
   "metadata": {},
   "outputs": [
    {
     "name": "stdout",
     "output_type": "stream",
     "text": [
      "0 G\n",
      "1 O\n",
      "2 O\n",
      "3 G\n",
      "4 L\n",
      "5 E\n"
     ]
    }
   ],
   "source": [
    "site = 'GOOGLE'\n",
    "\n",
    "for x, y in enumerate(site):\n",
    "    print(x, y)"
   ]
  },
  {
   "cell_type": "code",
   "execution_count": 30,
   "id": "53078748-3e0c-4cb7-ad33-c7929c660db2",
   "metadata": {},
   "outputs": [
    {
     "name": "stdout",
     "output_type": "stream",
     "text": [
      "Letter at 0: A\n",
      "Letter at 1: l\n",
      "Letter at 2: i\n",
      "Letter at 3: y\n",
      "Letter at 4: a\n"
     ]
    }
   ],
   "source": [
    "# Iterating using enumerate to get both index and element\n",
    "# 1st variable stores index and 2nd variable stores list item\n",
    "for i, n in enumerate(name):\n",
    "    print(f\"Letter at {i}: {n}\")"
   ]
  },
  {
   "cell_type": "code",
   "execution_count": 31,
   "id": "47a3eea3-73ea-4e81-b687-68c180d3333f",
   "metadata": {},
   "outputs": [
    {
     "name": "stdout",
     "output_type": "stream",
     "text": [
      "[(0, 'A'), (1, 'l'), (2, 'i'), (3, 'y'), (4, 'a')]\n"
     ]
    }
   ],
   "source": [
    "# Converting to a list of tuples\n",
    "print(list(enumerate(name)))"
   ]
  },
  {
   "cell_type": "markdown",
   "id": "6549fecc-86db-4a95-85e4-fdc873efcbce",
   "metadata": {},
   "source": [
    "### More"
   ]
  },
  {
   "attachments": {},
   "cell_type": "markdown",
   "id": "e0cdea68-c648-4c99-9f77-dfd655e94ff6",
   "metadata": {},
   "source": [
    "#### next()\n",
    "the ```next()``` function in Python is a built-in function used to retrieve the next item from an iterator. It takes an iterator as its first argument and an optional second argument for a default value\n",
    "\n",
    "#### iter()\n",
    "the ```iter()``` is a built-in function used to obtain an iterator from an iterable object."
   ]
  },
  {
   "cell_type": "code",
   "execution_count": 32,
   "id": "bee0a6b5-19ee-4973-89fc-a830613b20df",
   "metadata": {},
   "outputs": [
    {
     "name": "stdout",
     "output_type": "stream",
     "text": [
      "1\n",
      "2\n",
      "3\n",
      "4\n"
     ]
    }
   ],
   "source": [
    "my_list = [1, 2, 3, 4, 5]\n",
    "\n",
    "# Get an iterator from the list using iter()\n",
    "item = iter(my_list)\n",
    "\n",
    "# Access elements using next()\n",
    "print(next(item))\n",
    "print(next(item))\n",
    "print(next(item))\n",
    "print(next(item))"
   ]
  },
  {
   "cell_type": "code",
   "execution_count": 33,
   "id": "e548ea29-8c89-4ecd-b7d6-69a73a39947c",
   "metadata": {},
   "outputs": [
    {
     "name": "stdout",
     "output_type": "stream",
     "text": [
      "1\n",
      "2\n",
      "3\n",
      "4\n",
      "5\n"
     ]
    }
   ],
   "source": [
    "# Iterating with a for loop which implicitly uses iter() and next()\n",
    "for item in my_list:\n",
    "    print(item)"
   ]
  },
  {
   "cell_type": "markdown",
   "id": "aeae5c16-6cc3-48fd-aac3-ee9810f6a2a3",
   "metadata": {},
   "source": [
    "#### next() with enumerate()\n",
    "the ```enumerate()``` function serves as an iterator, inheriting all associated iterator functions and methods. Therefore we can use the ```next()``` method with an enumerate object"
   ]
  },
  {
   "cell_type": "code",
   "execution_count": 34,
   "id": "169f0c65-11c2-47b5-90dd-6339b2561fef",
   "metadata": {},
   "outputs": [
    {
     "name": "stdout",
     "output_type": "stream",
     "text": [
      "(0, 'A')\n",
      "(0, 'A')\n",
      "(1, 'l')\n",
      "(2, 'i')\n"
     ]
    }
   ],
   "source": [
    "name = 'Aliya_Adil'\n",
    "\n",
    "# Creating an enumerate object from the string\n",
    "letter = enumerate(name)\n",
    "\n",
    "# This retrieves the first index-element pair from 'i'\n",
    "nxt = next(letter)\n",
    "print(nxt)\n",
    "print(nxt)\n",
    "\n",
    "nxt = next(letter)\n",
    "print(nxt)\n",
    "\n",
    "nxt = next(letter)\n",
    "print(nxt)"
   ]
  },
  {
   "cell_type": "markdown",
   "id": "5232fffd-e63e-436e-8df9-b7c5975e5f6f",
   "metadata": {},
   "source": [
    "### Self Experiments"
   ]
  },
  {
   "cell_type": "code",
   "execution_count": 35,
   "id": "ccff9c60-2b8e-492d-8d37-d561a1fcf0c2",
   "metadata": {},
   "outputs": [],
   "source": [
    "weekdays = [\"Monday\", \"Tuesday\", \"Wednesday\", \"Thursday\", \"Friday\", \"Saturday\"]"
   ]
  },
  {
   "cell_type": "code",
   "execution_count": 36,
   "id": "d692ca62-beba-472a-affa-3115bba8893c",
   "metadata": {},
   "outputs": [
    {
     "name": "stdout",
     "output_type": "stream",
     "text": [
      "Today is Monday\n",
      "Today is Tuesday\n",
      "Today is Wednesday\n",
      "I don't work in Wednesday!\n"
     ]
    }
   ],
   "source": [
    "for day in weekdays:\n",
    "    print('Today is {}'.format(day))\n",
    "    if day == 'Wednesday':\n",
    "        print(\"I don't work in Wednesday!\")\n",
    "        break"
   ]
  },
  {
   "cell_type": "code",
   "execution_count": 37,
   "id": "12b623ea-c8dd-4ffa-9e64-08bbafa1b168",
   "metadata": {},
   "outputs": [
    {
     "name": "stdout",
     "output_type": "stream",
     "text": [
      "Today is Monday\n",
      "Today is Tuesday\n",
      "I don't work on Wednesdays!\n",
      "Today is Thursday\n",
      "Today is Friday\n",
      "Saturday is half day!\n"
     ]
    }
   ],
   "source": [
    "for day in weekdays:\n",
    "    if day == 'Wednesday':\n",
    "        print(\"I don't work on Wednesdays!\")\n",
    "        continue\n",
    "    elif day == 'Saturday':\n",
    "        print(\"Saturday is half day!\")\n",
    "        continue\n",
    "    print(f\"Today is {day}\")"
   ]
  },
  {
   "cell_type": "code",
   "execution_count": null,
   "id": "e68fb769-e172-4354-b7b4-ea2599c539c1",
   "metadata": {},
   "outputs": [],
   "source": []
  },
  {
   "cell_type": "code",
   "execution_count": 38,
   "id": "c669e39f-137e-4ec8-84fa-46586efcbd56",
   "metadata": {},
   "outputs": [
    {
     "name": "stdout",
     "output_type": "stream",
     "text": [
      "6 multiplied by __ is 6\n",
      "6 multiplied by __ is 12\n",
      "6 multiplied by __ is 18\n",
      "6 multiplied by __ is 24\n",
      "6 multiplied by __ is 30\n",
      "6 multiplied by __ is 36\n",
      "6 multiplied by __ is 42\n",
      "6 multiplied by __ is 48\n",
      "6 multiplied by __ is 54\n",
      "6 multiplied by __ is 60\n"
     ]
    }
   ],
   "source": [
    "#table of any number\n",
    "m = 6\n",
    "for x in range(m, (m*10)+m, m):\n",
    "    print(f'{m} multiplied by __ is {x}')"
   ]
  },
  {
   "cell_type": "code",
   "execution_count": 39,
   "id": "78fd29e3-0cb3-4c0c-a15f-881a790f5129",
   "metadata": {},
   "outputs": [
    {
     "name": "stdout",
     "output_type": "stream",
     "text": [
      "6 multiplied by 0 is 0\n",
      "6 multiplied by 1 is 6\n",
      "6 multiplied by 2 is 12\n",
      "6 multiplied by 3 is 18\n",
      "6 multiplied by 4 is 24\n",
      "6 multiplied by 5 is 30\n",
      "6 multiplied by 6 is 36\n",
      "6 multiplied by 7 is 42\n",
      "6 multiplied by 8 is 48\n",
      "6 multiplied by 9 is 54\n",
      "6 multiplied by 10 is 60\n"
     ]
    }
   ],
   "source": [
    "#table of any number\n",
    "m = 6\n",
    "for i, x in enumerate(range(0, (m*10)+m, m)):\n",
    "    print(f'{m} multiplied by {i} is {x}')"
   ]
  },
  {
   "cell_type": "code",
   "execution_count": 40,
   "id": "cffc59e8-c756-44f7-b865-0c3e18a0baf6",
   "metadata": {},
   "outputs": [
    {
     "name": "stdout",
     "output_type": "stream",
     "text": [
      "6 multiplied by 1 is 6\n",
      "6 multiplied by 2 is 12\n",
      "6 multiplied by 3 is 18\n",
      "6 multiplied by 4 is 24\n",
      "6 multiplied by 5 is 30\n",
      "6 multiplied by 6 is 36\n",
      "6 multiplied by 7 is 42\n",
      "6 multiplied by 8 is 48\n",
      "6 multiplied by 9 is 54\n",
      "6 multiplied by 10 is 60\n"
     ]
    }
   ],
   "source": [
    "#table of any number\n",
    "m = 6\n",
    "for i, x in enumerate(range(0, (m*10)+m, m)):\n",
    "    if x == 0:\n",
    "        continue\n",
    "    print(f'{m} multiplied by {i} is {x}')"
   ]
  }
 ],
 "metadata": {
  "kernelspec": {
   "display_name": "Python 3 (ipykernel)",
   "language": "python",
   "name": "python3"
  },
  "language_info": {
   "codemirror_mode": {
    "name": "ipython",
    "version": 3
   },
   "file_extension": ".py",
   "mimetype": "text/x-python",
   "name": "python",
   "nbconvert_exporter": "python",
   "pygments_lexer": "ipython3",
   "version": "3.13.6"
  }
 },
 "nbformat": 4,
 "nbformat_minor": 5
}
