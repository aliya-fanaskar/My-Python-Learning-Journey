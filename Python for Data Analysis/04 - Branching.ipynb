{
 "cells": [
  {
   "cell_type": "markdown",
   "id": "a7595d4a-b45d-4b99-847f-80b2e349ed56",
   "metadata": {},
   "source": [
    "# Branching (If statements)\n",
    "Branching in Python refers to the ability of a program to make decisions and execute different blocks of code based on certain conditions.\\\n",
    "This allows for dynamic and responsive behavior in your programs.\\\n",
    "The primary constructs for branching in Python are ```if```, ```elif```, and ```else``` statements.\\\n",
    "\\\n",
    "**Key Concepts**:\n",
    "- **Conditions**: Branching relies on conditions, which are expressions that evaluate to either True or False (Boolean values). These often involve comparison operators (e.g., ==, !=, >, <, >=, <=) and logical operators (e.g., and, or, not).\n",
    "- **Indentation**: Python uses indentation (whitespace before a statement) to define code blocks associated with if, elif, and else statements. Consistent and correct indentation is crucial for the program's logic.\n",
    "- **Flow of Control**: Branching statements alter the normal sequential flow of program execution, directing it to specific code blocks based on the conditions met."
   ]
  },
  {
   "cell_type": "code",
   "execution_count": 1,
   "id": "df310a2c-e9f6-482a-9440-11397bdbcb03",
   "metadata": {},
   "outputs": [],
   "source": [
    "a, b, c, d = 15, 7, 24, 15"
   ]
  },
  {
   "cell_type": "markdown",
   "id": "c6657586-fa06-4c52-99e0-d9af244d6bdc",
   "metadata": {},
   "source": [
    "## If\n",
    "The ```if``` statement executes a block of code only if a specified condition evaluates to ```True```."
   ]
  },
  {
   "cell_type": "code",
   "execution_count": 2,
   "id": "d5d334f9-7fc6-401c-a8d6-e3d2a8db0321",
   "metadata": {},
   "outputs": [
    {
     "name": "stdout",
     "output_type": "stream",
     "text": [
      "15 is greater than 7\n"
     ]
    }
   ],
   "source": [
    "if a > b:\n",
    "    print(f\"{a} is greater than {b}\")"
   ]
  },
  {
   "cell_type": "code",
   "execution_count": 3,
   "id": "15f6f7b5-2d17-4216-8a2b-b1b0efc520cc",
   "metadata": {},
   "outputs": [
    {
     "name": "stdout",
     "output_type": "stream",
     "text": [
      "a is lesser than c\n"
     ]
    }
   ],
   "source": [
    "if a < c: print(\"a is lesser than c\")"
   ]
  },
  {
   "cell_type": "markdown",
   "id": "f8316767-fbbf-4b63-ba9d-941ccb0dd237",
   "metadata": {},
   "source": [
    "## If - Else\n",
    "The ```if-else``` statement provides an alternative block of code to execute if the ```if``` condition evaluates to ```False```."
   ]
  },
  {
   "cell_type": "code",
   "execution_count": 4,
   "id": "876f5951-270b-488e-b615-2c64a360164b",
   "metadata": {},
   "outputs": [
    {
     "name": "stdout",
     "output_type": "stream",
     "text": [
      "24 is greater than 15\n"
     ]
    }
   ],
   "source": [
    "if c > d:\n",
    "    print(\"{} is greater than {}\".format(c, d))\n",
    "else:\n",
    "    print(\"%d is greater that %d\" % (d, c))"
   ]
  },
  {
   "cell_type": "markdown",
   "id": "b665f50d-6dc5-461c-baf7-16712f09c755",
   "metadata": {},
   "source": [
    "## If - Elif - Else\n",
    "The ```if-elif-else``` statement allows for checking multiple conditions sequentially. If the first ```if``` condition is ```False```, the program checks the ```elif``` conditions in order. If none of the ```if``` or ```elif``` conditions are ```True```, the ```else``` block is executed."
   ]
  },
  {
   "cell_type": "code",
   "execution_count": 5,
   "id": "40dc3265-7665-4703-9536-e8d125ee197e",
   "metadata": {},
   "outputs": [
    {
     "name": "stdout",
     "output_type": "stream",
     "text": [
      "15 is equal to 15\n"
     ]
    }
   ],
   "source": [
    "if a > d:\n",
    "    print(\"{} is greater than {}\".format(a, d))\n",
    "elif a == d:\n",
    "    print(\"{} is equal to {}\".format(a, d))\n",
    "else:\n",
    "    print(\"{} is less than {}\".format(a, d))"
   ]
  },
  {
   "cell_type": "markdown",
   "id": "271a06de-3beb-43ba-ba6e-538cfa213079",
   "metadata": {},
   "source": [
    "## more...."
   ]
  },
  {
   "cell_type": "code",
   "execution_count": 6,
   "id": "a3ee7b1e-cd14-4551-80a1-f95680b11ad3",
   "metadata": {},
   "outputs": [
    {
     "name": "stdout",
     "output_type": "stream",
     "text": [
      "10 is greater than 2 and also an even number\n"
     ]
    }
   ],
   "source": [
    "if 10 > 2 and 10 % 2 == 0:\n",
    "    print('10 is greater than 2 and also an even number')"
   ]
  },
  {
   "cell_type": "code",
   "execution_count": 7,
   "id": "e620ffa9-b49c-47f2-aa1d-64e1cd95f7d1",
   "metadata": {},
   "outputs": [
    {
     "name": "stdout",
     "output_type": "stream",
     "text": [
      "10 is not less than 2\n"
     ]
    }
   ],
   "source": [
    "if not 10 < 2:\n",
    "    print('10 is not less than 2')"
   ]
  },
  {
   "cell_type": "code",
   "execution_count": 8,
   "id": "562fee62-7de6-40ab-a069-925406498228",
   "metadata": {},
   "outputs": [
    {
     "name": "stdout",
     "output_type": "stream",
     "text": [
      "10 is not equal to 2\n"
     ]
    }
   ],
   "source": [
    "if not 10 == 2:\n",
    "    print('10 is not equal to 2')"
   ]
  },
  {
   "cell_type": "code",
   "execution_count": 9,
   "id": "a4a24787-f198-48c5-9eff-abb58b885bb4",
   "metadata": {},
   "outputs": [
    {
     "name": "stdout",
     "output_type": "stream",
     "text": [
      "10 is not equal to 2\n"
     ]
    }
   ],
   "source": [
    "if 10 != 2:\n",
    "    print('10 is not equal to 2')"
   ]
  },
  {
   "cell_type": "code",
   "execution_count": 10,
   "id": "8d33f813-392f-41de-9779-3565edeabaa4",
   "metadata": {},
   "outputs": [
    {
     "name": "stdout",
     "output_type": "stream",
     "text": [
      "25 is divisible by 5\n"
     ]
    }
   ],
   "source": [
    "num = 25\n",
    "\n",
    "if num % 2 == 0:\n",
    "    print('%d is divisible by 2' % num)\n",
    "elif num % 3 == 0:\n",
    "    print('%d is divisible by 3' % num)\n",
    "elif num % 5 == 0:\n",
    "    print('%d is divisible by 5' % num)\n",
    "else:\n",
    "    print('All checks failed!')\n",
    "    print('%d is not divisible is not divisible by 2, 3 or 5' % num)"
   ]
  },
  {
   "cell_type": "code",
   "execution_count": 11,
   "id": "05452a1a-ec4f-4bf7-9ab0-c2575af34d59",
   "metadata": {},
   "outputs": [
    {
     "name": "stdout",
     "output_type": "stream",
     "text": [
      "22 is an even number and\n",
      "its not divisible by 3\n"
     ]
    }
   ],
   "source": [
    "num = 22\n",
    "\n",
    "if num % 2 == 0:\n",
    "    print('%d is an even number and' % num)\n",
    "    if num % 3 == 0:\n",
    "        print('its divisible by 3')\n",
    "    else:\n",
    "        print('its not divisible by 3')\n",
    "else:\n",
    "    print('%d is an odd number and' % num)\n",
    "    if num % 5 == 0:\n",
    "        print('its divisible by 5')\n",
    "    else:\n",
    "        print('its not divisible by 5')"
   ]
  },
  {
   "cell_type": "markdown",
   "id": "fb6f2e9d-a40e-4fad-9456-15af4ce06206",
   "metadata": {},
   "source": [
    "A common use case of ```if``` statement involves a condition and setting the value of a variable based on the condition"
   ]
  },
  {
   "cell_type": "code",
   "execution_count": 12,
   "id": "5e911719-8752-42a4-abb9-95fe119935ee",
   "metadata": {},
   "outputs": [
    {
     "name": "stdout",
     "output_type": "stream",
     "text": [
      "The number 13 is Odd.\n"
     ]
    }
   ],
   "source": [
    "num = 13\n",
    "\n",
    "if num % 2 == 0:\n",
    "    parity = 'Even'\n",
    "else:\n",
    "    parity = 'Odd'\n",
    "\n",
    "print('The number {} is {}.'.format(num, parity))"
   ]
  },
  {
   "cell_type": "markdown",
   "id": "b4e9f34d-4775-4ef1-8a8a-82e6bc474957",
   "metadata": {},
   "source": [
    "## Short Hand If... Else"
   ]
  },
  {
   "cell_type": "code",
   "execution_count": 13,
   "id": "77196f1a-3962-4bb4-807d-beb4712f9408",
   "metadata": {},
   "outputs": [
    {
     "name": "stdout",
     "output_type": "stream",
     "text": [
      "10 is greater than 7\n"
     ]
    }
   ],
   "source": [
    "if 10 > 7: print('10 is greater than 7')"
   ]
  },
  {
   "cell_type": "code",
   "execution_count": 14,
   "id": "2193b8e4-14db-4754-ae2a-0cab7fc3a26a",
   "metadata": {},
   "outputs": [
    {
     "name": "stdout",
     "output_type": "stream",
     "text": [
      "Ten\n"
     ]
    }
   ],
   "source": [
    "print('Ten') if 10 > 7 else print('Seven')"
   ]
  },
  {
   "cell_type": "code",
   "execution_count": 15,
   "id": "ad1d72ad-c53e-4288-aebb-60d943a850f3",
   "metadata": {},
   "outputs": [
    {
     "name": "stdout",
     "output_type": "stream",
     "text": [
      "Seven\n"
     ]
    }
   ],
   "source": [
    "print('Ten') if 5 > 7 else print('Seven')"
   ]
  },
  {
   "cell_type": "code",
   "execution_count": 16,
   "id": "c0610632-e175-4aef-be98-1a2d657c3986",
   "metadata": {},
   "outputs": [
    {
     "name": "stdout",
     "output_type": "stream",
     "text": [
      "Different\n"
     ]
    }
   ],
   "source": [
    "print('Different') if 32 > 15 else print('Same') if 32 == 15 else print('Confused')"
   ]
  },
  {
   "cell_type": "code",
   "execution_count": 17,
   "id": "6293a0db-0f89-4958-8351-d030e922caae",
   "metadata": {},
   "outputs": [
    {
     "name": "stdout",
     "output_type": "stream",
     "text": [
      "Same\n"
     ]
    }
   ],
   "source": [
    "print('Different') if 32 > 32 else print('Same') if 32 == 32 else print('Confused')"
   ]
  },
  {
   "cell_type": "code",
   "execution_count": 18,
   "id": "e2669285-8565-46b6-aabe-bdfdd663e3a6",
   "metadata": {},
   "outputs": [
    {
     "name": "stdout",
     "output_type": "stream",
     "text": [
      "Confused\n"
     ]
    }
   ],
   "source": [
    "print('Different') if 32 > 41 else print('Same') if 32 == 41 else print('Confused')"
   ]
  },
  {
   "cell_type": "markdown",
   "id": "65d7c2dd-0475-4e80-b56a-1911b2b41125",
   "metadata": {},
   "source": [
    "## pass Statement\n",
    "```if ``` statements cannot be empty, but if you for some reason have an ```if``` statement with no content, put in the ```pass``` statement to avoid getting an error"
   ]
  },
  {
   "cell_type": "code",
   "execution_count": 19,
   "id": "62718033-d12f-4270-bad0-9f0e15537404",
   "metadata": {},
   "outputs": [],
   "source": [
    "a, b = 33, 200\n",
    "\n",
    "if a < b:\n",
    "    pass"
   ]
  },
  {
   "cell_type": "markdown",
   "id": "a8bb6004-a152-4e8e-a09b-74db1e70f58b",
   "metadata": {},
   "source": [
    "## Python Match"
   ]
  },
  {
   "cell_type": "markdown",
   "id": "a4dade74-16b7-452f-bd24-9938c662f23b",
   "metadata": {},
   "source": [
    "The match statement is used to perform different actions based on different conditions. Instead of writing many ```if..else``` statements, you can use the ```match``` statement.\\\n",
    "\\\n",
    "The ```match``` statement selects one of many code blocks to be executed."
   ]
  },
  {
   "cell_type": "code",
   "execution_count": 20,
   "id": "c4c888cb-8d6c-46c0-8484-5a2ed2e38696",
   "metadata": {},
   "outputs": [
    {
     "name": "stdout",
     "output_type": "stream",
     "text": [
      "Friday\n"
     ]
    }
   ],
   "source": [
    "day = 5\n",
    "\n",
    "match day:\n",
    "    case 1:\n",
    "        print('Monday')\n",
    "    case 2:\n",
    "        print('Tuesday')\n",
    "    case 3:\n",
    "        print('Wednesday')\n",
    "    case 4:\n",
    "        print('Thursday')\n",
    "    case 5:\n",
    "        print('Friday')\n",
    "    case 6:\n",
    "        print('Saturday')\n",
    "    case 7:\n",
    "        print('Sunday')"
   ]
  },
  {
   "cell_type": "markdown",
   "id": "23fb5f1d-64cc-4e81-b078-97bf23f2e018",
   "metadata": {},
   "source": [
    "Use the underscore character ```_``` as the last case value if you want a code block to execute when there are not other matches"
   ]
  },
  {
   "cell_type": "code",
   "execution_count": 21,
   "id": "a22df7f1-e430-46e6-8e84-874297104626",
   "metadata": {},
   "outputs": [
    {
     "name": "stdout",
     "output_type": "stream",
     "text": [
      "Looking forward to the Weekend\n"
     ]
    }
   ],
   "source": [
    "day = 524\n",
    "\n",
    "match day:\n",
    "    case 1:\n",
    "        print('Monday')\n",
    "    case 2:\n",
    "        print('Tuesday')\n",
    "    case 3:\n",
    "        print('Wednesday')\n",
    "    case 4:\n",
    "        print('Thursday')\n",
    "    case 5:\n",
    "        print('Friday')\n",
    "    case 6:\n",
    "        print('Saturday')\n",
    "    case 7:\n",
    "        print('Sunday')\n",
    "    case _:\n",
    "        print('Looking forward to the Weekend')"
   ]
  },
  {
   "cell_type": "markdown",
   "id": "0d4cad9c-b232-4935-a511-c9bcabfefa0a",
   "metadata": {},
   "source": [
    "#### Combine Values\n",
    "Use the pipe character ```|``` as an or operator in the case evaluation to check more than one value match in one case"
   ]
  },
  {
   "cell_type": "code",
   "execution_count": 22,
   "id": "fb4e90ae-4d04-4035-ad4f-2a3d13afa213",
   "metadata": {},
   "outputs": [
    {
     "name": "stdout",
     "output_type": "stream",
     "text": [
      "I love weekends!\n"
     ]
    }
   ],
   "source": [
    "day = 6\n",
    "\n",
    "match day:\n",
    "    case 1 | 2 | 3 | 4 | 5:\n",
    "        print('Today is workday')\n",
    "    case 6 | 7:\n",
    "        print('I love weekends!')"
   ]
  },
  {
   "cell_type": "code",
   "execution_count": null,
   "id": "8647404f-04cb-4dbc-aaf5-6fbbf8a2337f",
   "metadata": {},
   "outputs": [],
   "source": []
  },
  {
   "cell_type": "markdown",
   "id": "856dba53-1e77-481f-a495-5c4ce9351a7b",
   "metadata": {},
   "source": [
    "#### If statements as Guards\n",
    "You can add ```if``` statements in th ecase evaluation as an extra condition-check:"
   ]
  },
  {
   "cell_type": "code",
   "execution_count": 23,
   "id": "947ea6c1-d884-4186-88e1-6bd23c6ce811",
   "metadata": {},
   "outputs": [
    {
     "name": "stdout",
     "output_type": "stream",
     "text": [
      "A Weekend of 1st Month\n"
     ]
    }
   ],
   "source": [
    "month = 1\n",
    "day = 6\n",
    "\n",
    "match day:\n",
    "    case 1 | 2 | 3 | 4 | 5 if month == 1:\n",
    "        print('A Weekday of 1st Month')\n",
    "    case 6 | 7 if month == 1:\n",
    "        print('A Weekend of 1st Month')\n",
    "    case _:\n",
    "        print('Some other day')\n",
    "        "
   ]
  },
  {
   "cell_type": "code",
   "execution_count": null,
   "id": "c56816be-993d-40ff-b77c-ab5649a8b354",
   "metadata": {},
   "outputs": [],
   "source": []
  }
 ],
 "metadata": {
  "kernelspec": {
   "display_name": "Python 3 (ipykernel)",
   "language": "python",
   "name": "python3"
  },
  "language_info": {
   "codemirror_mode": {
    "name": "ipython",
    "version": 3
   },
   "file_extension": ".py",
   "mimetype": "text/x-python",
   "name": "python",
   "nbconvert_exporter": "python",
   "pygments_lexer": "ipython3",
   "version": "3.13.6"
  }
 },
 "nbformat": 4,
 "nbformat_minor": 5
}
