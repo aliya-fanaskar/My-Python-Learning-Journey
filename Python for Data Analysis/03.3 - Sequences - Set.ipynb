{
 "cells": [
  {
   "cell_type": "markdown",
   "id": "5b9c746a-eb0b-4921-b3ce-363e6782bf5a",
   "metadata": {},
   "source": [
    "# Sets - {}\n",
    "Set is one of 4 built-in data types in Python used to store collections of data, the other 3 are List, Tuple, and Dictionary, all with different qualities and usage.\n",
    "- A Set in Python is an **unordered** collection of values. \n",
    "- Sets can hold values of different data types making them **heterogenous**.\n",
    "- Can support operations to **add or remove** existing elements, hence making them **mutable**. \n",
    "- Sets are **Unindexable** as elements in a set do not maintain a specific order. Hence, you **cannot change** the items in a Set.\n",
    "- And since Sets are unindexed, they **cannot have duplicates**. Sets automatically handle duplicate values, ensuring each element is unique.\n",
    "- **Hashable Elements**: Only immutable (hashable) data types can be elements of a set (e.g., numbers, strings, tuples). Mutable types like lists or dictionaries cannot be direct elements of a set."
   ]
  },
  {
   "cell_type": "markdown",
   "id": "7190d369-d0ef-43ad-a48d-d0a8b4bdc033",
   "metadata": {},
   "source": [
    "---\n",
    "## Creating a Set"
   ]
  },
  {
   "cell_type": "code",
   "execution_count": 1,
   "id": "217d43bd-a432-4a3b-b0a2-cbc5183c494b",
   "metadata": {},
   "outputs": [
    {
     "name": "stdout",
     "output_type": "stream",
     "text": [
      "{'apple', 'cherry', 'banana'}\n"
     ]
    }
   ],
   "source": [
    "set1 = {\"apple\", \"banana\", \"cherry\"}\n",
    "print(set1)"
   ]
  },
  {
   "cell_type": "code",
   "execution_count": 3,
   "id": "3c745f46-4fc9-452e-a0e9-8b2d317d9bef",
   "metadata": {},
   "outputs": [
    {
     "name": "stdout",
     "output_type": "stream",
     "text": [
      "{'apple', 'cherry', 'banana'}\n"
     ]
    }
   ],
   "source": [
    "set2 = {\"apple\", \"banana\", \"cherry\", \"apple\"}   #no duplicates\n",
    "print(set2)"
   ]
  },
  {
   "cell_type": "code",
   "execution_count": 5,
   "id": "fd824879-2d6a-4013-b6e2-e935dcdff681",
   "metadata": {},
   "outputs": [
    {
     "name": "stdout",
     "output_type": "stream",
     "text": [
      "{True, 2, 'banana', 'apple', 'cherry'}\n"
     ]
    }
   ],
   "source": [
    "set3 = {\"apple\", \"banana\", \"cherry\", True, 1, 2}   # True and 1 is considered the same value. Same for False and 0\n",
    "print(set3)"
   ]
  },
  {
   "cell_type": "code",
   "execution_count": 11,
   "id": "537a923b-834e-4eef-a468-21ecd72aaf9c",
   "metadata": {},
   "outputs": [
    {
     "data": {
      "text/plain": [
       "{34, 40, True, 'abc', 'male'}"
      ]
     },
     "execution_count": 11,
     "metadata": {},
     "output_type": "execute_result"
    }
   ],
   "source": [
    "set1 = {\"abc\", 34, True, 40, \"male\"}     # can contain different data types\n",
    "set1"
   ]
  },
  {
   "cell_type": "markdown",
   "id": "f76baf74-4532-48d8-b02c-839a13da15aa",
   "metadata": {},
   "source": [
    "#### ```len``` function"
   ]
  },
  {
   "cell_type": "code",
   "execution_count": 6,
   "id": "acef3522-247e-4719-bd76-59f062a87990",
   "metadata": {},
   "outputs": [
    {
     "data": {
      "text/plain": [
       "5"
      ]
     },
     "execution_count": 6,
     "metadata": {},
     "output_type": "execute_result"
    }
   ],
   "source": [
    "len(set3)"
   ]
  },
  {
   "cell_type": "code",
   "execution_count": 13,
   "id": "f6a95ece-8704-4223-88af-28559e9e7e1a",
   "metadata": {},
   "outputs": [
    {
     "name": "stdout",
     "output_type": "stream",
     "text": [
      "Number of elements in Set 2: 3 items\n"
     ]
    }
   ],
   "source": [
    "print(\"Number of elements in Set 2:\", len(set2), \"items\")"
   ]
  },
  {
   "cell_type": "code",
   "execution_count": 14,
   "id": "2a2fc3c1-d643-4634-8aea-22f48dc637fe",
   "metadata": {},
   "outputs": [
    {
     "data": {
      "text/plain": [
       "set"
      ]
     },
     "execution_count": 14,
     "metadata": {},
     "output_type": "execute_result"
    }
   ],
   "source": [
    "type(set2)"
   ]
  },
  {
   "cell_type": "markdown",
   "id": "a17e0ee4-1f3e-4a97-9123-8536f335806b",
   "metadata": {},
   "source": [
    "#### ```set()``` constructor"
   ]
  },
  {
   "cell_type": "code",
   "execution_count": 15,
   "id": "851cc511-45c5-4379-a573-5ae1e896988e",
   "metadata": {},
   "outputs": [
    {
     "data": {
      "text/plain": [
       "{'apple', 'banana', 'cherry'}"
      ]
     },
     "execution_count": 15,
     "metadata": {},
     "output_type": "execute_result"
    }
   ],
   "source": [
    "set1 = set((\"apple\", \"banana\", \"cherry\")) # note the double round-brackets\n",
    "set1"
   ]
  },
  {
   "attachments": {},
   "cell_type": "markdown",
   "id": "ba4ce571-9c7e-4ad6-acae-810b5ae7fc1e",
   "metadata": {},
   "source": [
    "---\n",
    "## Access Set Items\n",
    "You cannot access items in a set by referring to an index or a key.\\\n",
    "But you can loop through the set items using a ```for``` loop, or ask if a specified value is present in a set, by using the ```in``` keyword."
   ]
  },
  {
   "cell_type": "code",
   "execution_count": 18,
   "id": "93944e5e-1ec3-459f-a637-6a3cc2819acc",
   "metadata": {},
   "outputs": [
    {
     "name": "stdout",
     "output_type": "stream",
     "text": [
      "apple\n",
      "cherry\n",
      "banana\n"
     ]
    }
   ],
   "source": [
    "set1 = {\"apple\", \"banana\", \"cherry\"}\n",
    "\n",
    "for x in set1:\n",
    "  print(x)"
   ]
  },
  {
   "cell_type": "code",
   "execution_count": 19,
   "id": "971189a8-2abd-4514-add2-ae748055fe0a",
   "metadata": {},
   "outputs": [
    {
     "data": {
      "text/plain": [
       "True"
      ]
     },
     "execution_count": 19,
     "metadata": {},
     "output_type": "execute_result"
    }
   ],
   "source": [
    "set2 = {\"apple\", \"banana\", \"cherry\"}\n",
    "\"banana\" in set2"
   ]
  },
  {
   "cell_type": "markdown",
   "id": "da0df700-2cd1-4d54-a9fd-58d4393bb011",
   "metadata": {},
   "source": [
    "---\n",
    "## Set Methods\n",
    "Python has a set of built-in methods that you can use on sets"
   ]
  },
  {
   "cell_type": "markdown",
   "id": "c54f4664-c60c-4e20-982a-4acef73dbb16",
   "metadata": {},
   "source": [
    "### Add Items"
   ]
  },
  {
   "cell_type": "markdown",
   "id": "42c17d17-b98e-44df-af4f-ea98209f25b5",
   "metadata": {},
   "source": [
    "#### ```add()```"
   ]
  },
  {
   "cell_type": "markdown",
   "id": "ac95ad0f-2010-4de7-9696-3275612ecb83",
   "metadata": {},
   "source": [
    "Once a set is created, you cannot change its items, but you can add new items."
   ]
  },
  {
   "cell_type": "code",
   "execution_count": 22,
   "id": "e5968e76-00ca-417b-b1d6-5b76f5f7786f",
   "metadata": {},
   "outputs": [
    {
     "data": {
      "text/plain": [
       "{'apple', 'banana', 'cherry'}"
      ]
     },
     "execution_count": 22,
     "metadata": {},
     "output_type": "execute_result"
    }
   ],
   "source": [
    "set1 = {\"apple\", \"banana\", \"cherry\"}\n",
    "set1"
   ]
  },
  {
   "cell_type": "code",
   "execution_count": 27,
   "id": "cf768632-7e19-4723-9594-222161492108",
   "metadata": {},
   "outputs": [
    {
     "data": {
      "text/plain": [
       "{'apple', 'banana', 'cherry', 'orange'}"
      ]
     },
     "execution_count": 27,
     "metadata": {},
     "output_type": "execute_result"
    }
   ],
   "source": [
    "set1.add(\"orange\")\n",
    "set1"
   ]
  },
  {
   "cell_type": "markdown",
   "id": "c2bcc35c-0967-4835-add1-432755a19be4",
   "metadata": {},
   "source": [
    "#### ```update()```\n",
    "Adds items from another set into the current set.\\\n",
    "Keep in mind that it **changes the original set**, and does not return a new set."
   ]
  },
  {
   "cell_type": "code",
   "execution_count": 25,
   "id": "d3904900-424c-42a0-9a69-8e8d2f315b3c",
   "metadata": {},
   "outputs": [
    {
     "data": {
      "text/plain": [
       "{'apple', 'banana', 'cherry'}"
      ]
     },
     "execution_count": 25,
     "metadata": {},
     "output_type": "execute_result"
    }
   ],
   "source": [
    "fruits = {\"apple\", \"banana\", \"cherry\"}\n",
    "fruits"
   ]
  },
  {
   "cell_type": "code",
   "execution_count": 26,
   "id": "72f43add-9860-48d0-975e-b408185f3863",
   "metadata": {},
   "outputs": [
    {
     "data": {
      "text/plain": [
       "{'apple', 'banana', 'cherry', 'mango', 'papaya', 'pineapple'}"
      ]
     },
     "execution_count": 26,
     "metadata": {},
     "output_type": "execute_result"
    }
   ],
   "source": [
    "tropical = {\"pineapple\", \"mango\", \"papaya\"}\n",
    "fruits.update(tropical)\n",
    "\n",
    "fruits"
   ]
  },
  {
   "cell_type": "markdown",
   "id": "18b5c6ed-945f-4b83-9655-74614038a2a4",
   "metadata": {},
   "source": [
    "#### Add Any Iterable"
   ]
  },
  {
   "cell_type": "code",
   "execution_count": 28,
   "id": "25e654e0-379a-4a60-a35e-c865564fe434",
   "metadata": {},
   "outputs": [
    {
     "name": "stdout",
     "output_type": "stream",
     "text": [
      "{'banana', 'kiwi', 'apple', 'orange', 'cherry'}\n"
     ]
    }
   ],
   "source": [
    "set1 = {\"apple\", \"banana\", \"cherry\"}\n",
    "mylist = [\"kiwi\", \"orange\"]\n",
    "set1.update(mylist)\n",
    "\n",
    "print(set1)"
   ]
  },
  {
   "cell_type": "markdown",
   "id": "efdb8748-d184-40d2-8b9c-30517f40d499",
   "metadata": {},
   "source": [
    "### Remove Items"
   ]
  },
  {
   "cell_type": "markdown",
   "id": "bdf4360a-cce2-41e7-8e74-f2c271db7eba",
   "metadata": {},
   "source": [
    "#### ```remove()```"
   ]
  },
  {
   "cell_type": "code",
   "execution_count": 29,
   "id": "3a337aad-b588-4707-8791-72b0f4c1b086",
   "metadata": {},
   "outputs": [
    {
     "data": {
      "text/plain": [
       "{'apple', 'banana', 'cherry'}"
      ]
     },
     "execution_count": 29,
     "metadata": {},
     "output_type": "execute_result"
    }
   ],
   "source": [
    "fruits = {\"apple\", \"banana\", \"cherry\"}\n",
    "fruits"
   ]
  },
  {
   "cell_type": "code",
   "execution_count": 30,
   "id": "1142a442-27c7-4aa6-ab56-a56cd031be72",
   "metadata": {},
   "outputs": [
    {
     "data": {
      "text/plain": [
       "{'apple', 'cherry'}"
      ]
     },
     "execution_count": 30,
     "metadata": {},
     "output_type": "execute_result"
    }
   ],
   "source": [
    "fruits.remove(\"banana\")\n",
    "fruits"
   ]
  },
  {
   "cell_type": "markdown",
   "id": "a69630e1-b647-40dc-805b-5f52c13175a1",
   "metadata": {},
   "source": [
    "#### ```discard()```"
   ]
  },
  {
   "cell_type": "code",
   "execution_count": 32,
   "id": "14e6021f-a05d-43aa-a399-c0ff7269ec32",
   "metadata": {},
   "outputs": [
    {
     "data": {
      "text/plain": [
       "{'cherry'}"
      ]
     },
     "execution_count": 32,
     "metadata": {},
     "output_type": "execute_result"
    }
   ],
   "source": [
    "fruits.discard(\"apple\")\n",
    "fruits"
   ]
  },
  {
   "cell_type": "markdown",
   "id": "c406d9f1-51f3-4adc-b0b9-d21c5b9f7d42",
   "metadata": {},
   "source": [
    "If the item to remove does not exist, discard() will NOT raise an error."
   ]
  },
  {
   "cell_type": "markdown",
   "id": "a7fb18fd-4e25-4405-b7b7-04dd1c493b14",
   "metadata": {},
   "source": [
    "#### ```pop()```\n",
    "You can also use the pop() method to remove an item, but this method will remove a random item, so you cannot be sure what item that gets removed.\n",
    "\n",
    "The return value of the pop() method is the removed item."
   ]
  },
  {
   "cell_type": "code",
   "execution_count": 34,
   "id": "a33096c4-378c-4366-95fb-6a2c1e56d2dd",
   "metadata": {},
   "outputs": [
    {
     "name": "stdout",
     "output_type": "stream",
     "text": [
      "kiwi\n",
      "{'apple', 'cherry', 'mango'}\n"
     ]
    }
   ],
   "source": [
    "fruits = {\"apple\", \"kiwi\", \"cherry\", \"mango\"}\n",
    "x = fruits.pop()\n",
    "\n",
    "print(x)\n",
    "print(fruits)"
   ]
  },
  {
   "cell_type": "markdown",
   "id": "c4a45aeb-b614-4f52-a9ba-46d5d67e9e58",
   "metadata": {},
   "source": [
    "#### ```clear()```"
   ]
  },
  {
   "cell_type": "code",
   "execution_count": 39,
   "id": "4e84d4ff-3d1a-451e-a327-62adbe671aa4",
   "metadata": {},
   "outputs": [
    {
     "data": {
      "text/plain": [
       "set()"
      ]
     },
     "execution_count": 39,
     "metadata": {},
     "output_type": "execute_result"
    }
   ],
   "source": [
    "set1 = {\"apple\", \"banana\", \"cherry\"}\n",
    "set1.clear()\n",
    "set1"
   ]
  },
  {
   "cell_type": "markdown",
   "id": "fc224f5e-6983-4638-a569-82e9d913f5fd",
   "metadata": {},
   "source": [
    "#### del"
   ]
  },
  {
   "cell_type": "code",
   "execution_count": 40,
   "id": "a28ca0c9-cef3-4049-a35e-f2eb381c622d",
   "metadata": {},
   "outputs": [],
   "source": [
    "del set1\n",
    "# set1     # will raise an error"
   ]
  },
  {
   "cell_type": "markdown",
   "id": "018aceaf-0082-4663-9cec-80e64f8e0cc2",
   "metadata": {},
   "source": [
    "### Join Sets\n",
    "There are several ways to join two or more sets in Python"
   ]
  },
  {
   "cell_type": "markdown",
   "id": "2f06772b-c726-4c72-b300-f9c114cfba01",
   "metadata": {},
   "source": [
    "#### union()\n",
    "Returns a new set with **all items from both sets**."
   ]
  },
  {
   "cell_type": "code",
   "execution_count": 1,
   "id": "339aee5c-bf71-4490-8477-341a24bcc5d0",
   "metadata": {},
   "outputs": [
    {
     "data": {
      "text/plain": [
       "{1, 2, 3, 'a', 'b', 'c'}"
      ]
     },
     "execution_count": 1,
     "metadata": {},
     "output_type": "execute_result"
    }
   ],
   "source": [
    "set1 = {\"a\", \"b\", \"c\"}\n",
    "set2 = {1, 2, 3}\n",
    "\n",
    "set3 = set1.union(set2)\n",
    "set3"
   ]
  },
  {
   "cell_type": "markdown",
   "id": "79fa1bbb-ba45-414d-8f72-f38e4029dba8",
   "metadata": {},
   "source": [
    "##### | - union operator"
   ]
  },
  {
   "cell_type": "code",
   "execution_count": 2,
   "id": "32f6782a-1436-4b57-8386-8655b61b3996",
   "metadata": {},
   "outputs": [
    {
     "name": "stdout",
     "output_type": "stream",
     "text": [
      "{1, 2, 3, 'a', 'c', 'b'}\n"
     ]
    }
   ],
   "source": [
    "set1 = {\"a\", \"b\", \"c\"}\n",
    "set2 = {1, 2, 3}\n",
    "\n",
    "set3 = set1 | set2\n",
    "print(set3)"
   ]
  },
  {
   "cell_type": "markdown",
   "id": "27bc9f1c-1ba6-4f7f-9781-2d149ad7cbca",
   "metadata": {},
   "source": [
    "##### Multiple Sets"
   ]
  },
  {
   "cell_type": "code",
   "execution_count": 4,
   "id": "0ce857af-a973-455c-b9e9-f8b291f1368d",
   "metadata": {},
   "outputs": [
    {
     "data": {
      "text/plain": [
       "{1, 2, 3, 'Elena', 'John', 'a', 'apple', 'b', 'bananas', 'c', 'cherry'}"
      ]
     },
     "execution_count": 4,
     "metadata": {},
     "output_type": "execute_result"
    }
   ],
   "source": [
    "set1 = {\"a\", \"b\", \"c\"}\n",
    "set2 = {1, 2, 3}\n",
    "set3 = {\"John\", \"Elena\"}\n",
    "set4 = {\"apple\", \"bananas\", \"cherry\"}\n",
    "\n",
    "myset = set1.union(set2, set3, set4)\n",
    "myset"
   ]
  },
  {
   "cell_type": "code",
   "execution_count": 7,
   "id": "78155f17-8759-44a2-9996-138bbd3ec12c",
   "metadata": {},
   "outputs": [
    {
     "data": {
      "text/plain": [
       "{1, 2, 3, 'a', 'apple', 'b', 'bananas', 'c', 'carrots', 'cherry', 'potatoes'}"
      ]
     },
     "execution_count": 7,
     "metadata": {},
     "output_type": "execute_result"
    }
   ],
   "source": [
    "set1 = {\"a\", \"b\", \"c\"}\n",
    "set2 = {1, 2, 3}\n",
    "set3 = {\"carrots\", \"potatoes\"}\n",
    "set4 = {\"apple\", \"bananas\", \"cherry\"}\n",
    "\n",
    "myset = set1 | set2 | set3 |set4\n",
    "myset"
   ]
  },
  {
   "cell_type": "markdown",
   "id": "c07a9608-f49b-449f-8387-70d2617556d2",
   "metadata": {},
   "source": [
    "##### Join a Set and a Tuple"
   ]
  },
  {
   "cell_type": "code",
   "execution_count": 10,
   "id": "fd3fbc1c-9a99-4e9e-8f9c-5619ec811206",
   "metadata": {},
   "outputs": [
    {
     "data": {
      "text/plain": [
       "{1, 2, 3, 'a', 'b', 'c'}"
      ]
     },
     "execution_count": 10,
     "metadata": {},
     "output_type": "execute_result"
    }
   ],
   "source": [
    "x = {\"a\", \"b\", \"c\"}\n",
    "y = (1, 2, 3)\n",
    "\n",
    "z = x.union(y)\n",
    "z"
   ]
  },
  {
   "cell_type": "markdown",
   "id": "11227bcf-9886-4fc6-b30e-8e2143989746",
   "metadata": {},
   "source": [
    "... update() method discussed earlier"
   ]
  },
  {
   "cell_type": "markdown",
   "id": "5e341de4-fdd9-4594-83bb-7404981d54e9",
   "metadata": {},
   "source": [
    "#### intersection()\n",
    "Will return a new set, that only contains the items that are **present in both sets**."
   ]
  },
  {
   "cell_type": "code",
   "execution_count": 14,
   "id": "d51cd953-3bb6-44cb-b692-e864a6683440",
   "metadata": {},
   "outputs": [
    {
     "data": {
      "text/plain": [
       "{'apple'}"
      ]
     },
     "execution_count": 14,
     "metadata": {},
     "output_type": "execute_result"
    }
   ],
   "source": [
    "set1 = {\"apple\", \"banana\", \"cherry\"}\n",
    "set2 = {\"google\", \"microsoft\", \"apple\"}\n",
    "\n",
    "set3 = set1.intersection(set2)\n",
    "set3"
   ]
  },
  {
   "cell_type": "code",
   "execution_count": 17,
   "id": "3f5653fe-0f24-4a36-8b1c-f762d449fb3a",
   "metadata": {},
   "outputs": [
    {
     "data": {
      "text/plain": [
       "{1, False, 'True', 'apple'}"
      ]
     },
     "execution_count": 17,
     "metadata": {},
     "output_type": "execute_result"
    }
   ],
   "source": [
    "set1 = {\"apple\", 1,  \"banana\", 0, \"cherry\", 'True'}\n",
    "set2 = {False, \"google\", 1, \"apple\", 2, True, \"True\"}\n",
    "\n",
    "set3 = set1.intersection(set2)\n",
    "set3          # True and 1 taken as duplicates, same for False and 0"
   ]
  },
  {
   "cell_type": "markdown",
   "id": "4b05f52a-b898-41dc-8ef6-21b5024056ef",
   "metadata": {},
   "source": [
    "##### & - intersection operator\n",
    "The ```&``` operator only allows you to **join sets with sets**, and not with other data types like you can with the intersection() method."
   ]
  },
  {
   "cell_type": "code",
   "execution_count": 12,
   "id": "01e19701-4aa5-4845-b261-014f44c12181",
   "metadata": {},
   "outputs": [
    {
     "data": {
      "text/plain": [
       "{'apple'}"
      ]
     },
     "execution_count": 12,
     "metadata": {},
     "output_type": "execute_result"
    }
   ],
   "source": [
    "set1 = {\"apple\", \"banana\", \"cherry\"}\n",
    "set2 = {\"google\", \"microsoft\", \"apple\"}\n",
    "\n",
    "set3 = set1 & set2\n",
    "set3"
   ]
  },
  {
   "cell_type": "markdown",
   "id": "9ab32eb3-8758-4dce-883b-4fab8b68af43",
   "metadata": {},
   "source": [
    "##### intersection_update()\n",
    "The intersection_update() method will also keep ONLY the duplicates, but it will **change the original set** instead of returning a new set."
   ]
  },
  {
   "cell_type": "code",
   "execution_count": 13,
   "id": "3804fe64-4119-46da-b68d-a5ff3651b75d",
   "metadata": {},
   "outputs": [
    {
     "data": {
      "text/plain": [
       "{'apple'}"
      ]
     },
     "execution_count": 13,
     "metadata": {},
     "output_type": "execute_result"
    }
   ],
   "source": [
    "set1 = {\"apple\", \"banana\", \"cherry\"}\n",
    "set2 = {\"google\", \"microsoft\", \"apple\"}\n",
    "\n",
    "set1.intersection_update(set2)\n",
    "set1"
   ]
  },
  {
   "cell_type": "markdown",
   "id": "1dc0bdf4-dd0d-40b3-b2e1-c97dc6468919",
   "metadata": {},
   "source": [
    "#### difference()\n",
    "Will return a new set that will contain only the **items from the first set that are NOT present in the other set**."
   ]
  },
  {
   "cell_type": "code",
   "execution_count": 18,
   "id": "cf5966f7-e4b5-4601-b583-9cacb7c6b90d",
   "metadata": {},
   "outputs": [
    {
     "data": {
      "text/plain": [
       "{'banana', 'cherry'}"
      ]
     },
     "execution_count": 18,
     "metadata": {},
     "output_type": "execute_result"
    }
   ],
   "source": [
    "set1 = {\"apple\", \"banana\", \"cherry\"}\n",
    "set2 = {\"google\", \"microsoft\", \"apple\"}\n",
    "\n",
    "set3 = set1.difference(set2)\n",
    "set3"
   ]
  },
  {
   "cell_type": "code",
   "execution_count": 19,
   "id": "ceb1104a-6663-444b-addf-e7b07ec970cd",
   "metadata": {},
   "outputs": [
    {
     "data": {
      "text/plain": [
       "{'google', 'microsoft'}"
      ]
     },
     "execution_count": 19,
     "metadata": {},
     "output_type": "execute_result"
    }
   ],
   "source": [
    "set4 = set2.difference(set1)\n",
    "set4"
   ]
  },
  {
   "attachments": {},
   "cell_type": "markdown",
   "id": "8617171c-e022-4734-ad57-93c8fb4c0b3f",
   "metadata": {},
   "source": [
    "##### - difference operator\n",
    "The - operator only allows you to **join sets with sets**, and not with other data types like you can with the difference() method"
   ]
  },
  {
   "cell_type": "code",
   "execution_count": 21,
   "id": "099c77b9-b09b-4b75-8c97-c82313e1e7f6",
   "metadata": {},
   "outputs": [
    {
     "name": "stdout",
     "output_type": "stream",
     "text": [
      "{'banana', 'cherry'}\n",
      "{'microsoft', 'google'}\n"
     ]
    }
   ],
   "source": [
    "set1 = {\"apple\", \"banana\", \"cherry\"}\n",
    "set2 = {\"google\", \"microsoft\", \"apple\"}\n",
    "\n",
    "set3 = set1 - set2\n",
    "set4 = set2 - set1\n",
    "print(set3)\n",
    "print(set4)"
   ]
  },
  {
   "cell_type": "markdown",
   "id": "7aa61582-b5d7-4a23-990b-0ed240f2b53f",
   "metadata": {},
   "source": [
    "##### difference_update()\n",
    "Will also keep the items from the first set that are not in the other set, but it will **change the original set** instead of returning a new set."
   ]
  },
  {
   "cell_type": "code",
   "execution_count": 22,
   "id": "ee1a3c0f-2e07-47d4-9f11-a6b1af856925",
   "metadata": {},
   "outputs": [
    {
     "data": {
      "text/plain": [
       "{'banana', 'cherry'}"
      ]
     },
     "execution_count": 22,
     "metadata": {},
     "output_type": "execute_result"
    }
   ],
   "source": [
    "set1 = {\"apple\", \"banana\", \"cherry\"}\n",
    "set2 = {\"google\", \"microsoft\", \"apple\"}\n",
    "\n",
    "set1.difference_update(set2)\n",
    "set1"
   ]
  },
  {
   "cell_type": "markdown",
   "id": "58d40d04-8c2c-4832-a4a6-83608b9c341d",
   "metadata": {},
   "source": [
    "#### symmetric_difference()\n",
    "Will keep only the **items that are NOT present in both sets**."
   ]
  },
  {
   "cell_type": "code",
   "execution_count": 23,
   "id": "df805d22-cb3b-44fe-8721-c44317a893fa",
   "metadata": {},
   "outputs": [
    {
     "data": {
      "text/plain": [
       "{'banana', 'cherry', 'google', 'microsoft'}"
      ]
     },
     "execution_count": 23,
     "metadata": {},
     "output_type": "execute_result"
    }
   ],
   "source": [
    "set1 = {\"apple\", \"banana\", \"cherry\"}\n",
    "set2 = {\"google\", \"microsoft\", \"apple\"}\n",
    "\n",
    "set3 = set1.symmetric_difference(set2)\n",
    "set3"
   ]
  },
  {
   "cell_type": "markdown",
   "id": "f9125ad7-1171-49ea-8b64-31ca2d3a77ff",
   "metadata": {},
   "source": [
    "##### ^ - symmetric_difference operator\n",
    "Allows you to **join sets with sets**, and not with other data types like you can with the symmetric_difference() method."
   ]
  },
  {
   "cell_type": "code",
   "execution_count": 24,
   "id": "c6f78b2b-1b2d-4ded-9ebd-429002d1f7f8",
   "metadata": {},
   "outputs": [
    {
     "data": {
      "text/plain": [
       "{'banana', 'cherry', 'google', 'microsoft'}"
      ]
     },
     "execution_count": 24,
     "metadata": {},
     "output_type": "execute_result"
    }
   ],
   "source": [
    "set1 = {\"apple\", \"banana\", \"cherry\"}\n",
    "set2 = {\"google\", \"microsoft\", \"apple\"}\n",
    "\n",
    "set3 = set1 ^ set2\n",
    "set3"
   ]
  },
  {
   "cell_type": "code",
   "execution_count": 25,
   "id": "2ffa2db9-0b7a-4d4d-938f-2db43278205f",
   "metadata": {},
   "outputs": [
    {
     "data": {
      "text/plain": [
       "{'apple', 'banana', 'cherry'}"
      ]
     },
     "execution_count": 25,
     "metadata": {},
     "output_type": "execute_result"
    }
   ],
   "source": [
    "set1"
   ]
  },
  {
   "cell_type": "markdown",
   "id": "a8ccff93-a6ce-4700-95d7-aff3a1bc02b6",
   "metadata": {},
   "source": [
    "##### symmetric_difference_update()\n",
    "Will also keep all but the duplicates, but it will **change the original set** instead of returning a new set."
   ]
  },
  {
   "cell_type": "code",
   "execution_count": 26,
   "id": "cbb0daba-24b8-4b0b-af00-7cdf6b096711",
   "metadata": {},
   "outputs": [
    {
     "data": {
      "text/plain": [
       "{'banana', 'cherry', 'google', 'microsoft'}"
      ]
     },
     "execution_count": 26,
     "metadata": {},
     "output_type": "execute_result"
    }
   ],
   "source": [
    "set1 = {\"apple\", \"banana\", \"cherry\"}\n",
    "set2 = {\"google\", \"microsoft\", \"apple\"}\n",
    "\n",
    "set1.symmetric_difference_update(set2)\n",
    "set1"
   ]
  },
  {
   "attachments": {},
   "cell_type": "markdown",
   "id": "c2fdc36b-0c29-44e4-9f14-8e28947ef4bc",
   "metadata": {},
   "source": [
    "---\n",
    "## More Set Methods\n",
    "- ```copy()``` - Returns a copy of the set\n",
    "- ```isdisjoint()``` - Returns whether two frozensets have an intersection\n",
    "- ```issubset()``` - Returns True if this frozenset is a (proper) subset of another\n",
    "- ```issuperset()``` - Returns True if this frozenset is a (proper) superset of another"
   ]
  },
  {
   "cell_type": "markdown",
   "id": "6860933d-dcd0-42a1-90d5-fe19582d63ff",
   "metadata": {},
   "source": [
    "---\n",
    "## Frozenset\n",
    "```frozenset``` is an immutable version of a set.\\\n",
    "Like sets, it contains unique, unordered, unchangeable elements.\\\n",
    "Unlike sets, elements cannot be added or removed from a frozenset."
   ]
  },
  {
   "cell_type": "code",
   "execution_count": 29,
   "id": "f6d991da-4e68-4626-a12f-4b4466cc70de",
   "metadata": {},
   "outputs": [
    {
     "name": "stdout",
     "output_type": "stream",
     "text": [
      "frozenset({'banana', 'apple', 'cherry'})\n",
      "<class 'frozenset'>\n"
     ]
    }
   ],
   "source": [
    "# Creating a frozenset from any iterable using the 'frozenset()' constructor\n",
    "x = frozenset({\"apple\", \"banana\", \"cherry\"})\n",
    "print(x)\n",
    "print(type(x))"
   ]
  },
  {
   "cell_type": "markdown",
   "id": "e8b5fbb0-9001-4d39-b13d-089eb787109d",
   "metadata": {},
   "source": [
    "### Frozenset Methods\n",
    "Being immutable means you cannot add or remove elements.\\\n",
    "However, frozensets support all non-mutating operations of sets.\n",
    "- ```copy()``` - Returns a shallow copy\n",
    "- ```difference()``` - Returns a new frozenset with the difference\n",
    "- ```intersection()``` - Returns a new frozenset with the intersection\n",
    "- ```isdisjoint()``` - Returns whether two frozensets have an intersection\n",
    "- ```issubset()``` - Returns True if this frozenset is a (proper) subset of another\n",
    "- ```issuperset()``` - Returns True if this frozenset is a (proper) superset of another\n",
    "- ```symmetric_difference()``` - Returns a new frozenset with the symmetric differences\n",
    "- ```union()``` - Returns a new frozenset containing the union"
   ]
  },
  {
   "cell_type": "code",
   "execution_count": null,
   "id": "2bbccc47-8bbf-44d4-b680-6d849000da35",
   "metadata": {},
   "outputs": [],
   "source": []
  }
 ],
 "metadata": {
  "kernelspec": {
   "display_name": "Python 3 (ipykernel)",
   "language": "python",
   "name": "python3"
  },
  "language_info": {
   "codemirror_mode": {
    "name": "ipython",
    "version": 3
   },
   "file_extension": ".py",
   "mimetype": "text/x-python",
   "name": "python",
   "nbconvert_exporter": "python",
   "pygments_lexer": "ipython3",
   "version": "3.13.6"
  }
 },
 "nbformat": 4,
 "nbformat_minor": 5
}
