{
 "cells": [
  {
   "cell_type": "markdown",
   "id": "6f199875-bffd-43ad-86b9-05db179faca1",
   "metadata": {},
   "source": [
    "# Tuple - ()"
   ]
  },
  {
   "cell_type": "markdown",
   "id": "1df16b28-0b7d-4a3d-bbec-74254d0a3e91",
   "metadata": {},
   "source": [
    "Tuple is one of 4 built-in data types in Python used to store collections of data, the other 3 are List, Set, and Dictionary, all with different characteristics and use cases.\n",
    "- A Tuple in Python is an **ordered** collection of values, similar to a list. \n",
    "- Tuples can hold values of different data types making them **heterogenous**'\n",
    "- Cannot add, remove or modify values, hence are **immutable**.\n",
    "- Tuples are **indexable** i.e. elements of the tuple can be accessed using zero-based indexing.\n",
    "- And since tuples are indexed, they **can have duplicates**."
   ]
  },
  {
   "cell_type": "code",
   "execution_count": 1,
   "id": "47b2caa2-30de-4056-bef8-692eeeb8f336",
   "metadata": {},
   "outputs": [],
   "source": [
    "fruits = ('apple', 'cherry', 'dates')"
   ]
  },
  {
   "cell_type": "code",
   "execution_count": 2,
   "id": "db2910c9-cf38-4da0-92ee-64007e86c40a",
   "metadata": {},
   "outputs": [
    {
     "data": {
      "text/plain": [
       "3"
      ]
     },
     "execution_count": 2,
     "metadata": {},
     "output_type": "execute_result"
    }
   ],
   "source": [
    "len(fruits)"
   ]
  },
  {
   "cell_type": "code",
   "execution_count": 3,
   "id": "5e7fa30d-4000-4941-83a8-c82a848fcb75",
   "metadata": {},
   "outputs": [
    {
     "data": {
      "text/plain": [
       "'apple'"
      ]
     },
     "execution_count": 3,
     "metadata": {},
     "output_type": "execute_result"
    }
   ],
   "source": [
    "fruits[0]"
   ]
  },
  {
   "cell_type": "code",
   "execution_count": 4,
   "id": "73ac991a-c54a-47c0-b757-244ce3645ad2",
   "metadata": {},
   "outputs": [
    {
     "name": "stdout",
     "output_type": "stream",
     "text": [
      "cherry\n"
     ]
    }
   ],
   "source": [
    "print(fruits[1])"
   ]
  },
  {
   "cell_type": "markdown",
   "id": "e5ee36f3-b90d-4573-a0fd-da6b9f88e439",
   "metadata": {},
   "source": [
    "#### Defaulting to Tuples\n",
    "You can skip the () while creating a tuple. Python automatically converts comma-seperated values into a tuple"
   ]
  },
  {
   "cell_type": "code",
   "execution_count": 5,
   "id": "201a87e9-285f-4561-9756-59b7a84160dd",
   "metadata": {},
   "outputs": [
    {
     "data": {
      "text/plain": [
       "('carrots', 'potatoes', 'onions')"
      ]
     },
     "execution_count": 5,
     "metadata": {},
     "output_type": "execute_result"
    }
   ],
   "source": [
    "veggies = 'carrots', 'potatoes', 'onions'\n",
    "veggies"
   ]
  },
  {
   "cell_type": "code",
   "execution_count": 6,
   "id": "5f8ff6eb-6d2e-4986-8c95-c627da7e0bcb",
   "metadata": {},
   "outputs": [
    {
     "data": {
      "text/plain": [
       "tuple"
      ]
     },
     "execution_count": 6,
     "metadata": {},
     "output_type": "execute_result"
    }
   ],
   "source": [
    "type(veggies)"
   ]
  },
  {
   "cell_type": "markdown",
   "id": "163050f3-436b-4339-9a01-42c4370ee12c",
   "metadata": {},
   "source": [
    "You can also create a tuple with just one element by typing a comma after it. Just wrapping one element within a () won't make it a tuple"
   ]
  },
  {
   "cell_type": "code",
   "execution_count": 7,
   "id": "b67c5ed5-2c1d-4b55-9d5a-5fab6a862fad",
   "metadata": {},
   "outputs": [
    {
     "data": {
      "text/plain": [
       "(4,)"
      ]
     },
     "execution_count": 7,
     "metadata": {},
     "output_type": "execute_result"
    }
   ],
   "source": [
    "list1 = 4,\n",
    "list1"
   ]
  },
  {
   "cell_type": "code",
   "execution_count": 8,
   "id": "e5a31e69-4c11-48ff-a27f-f96f969a2124",
   "metadata": {},
   "outputs": [
    {
     "data": {
      "text/plain": [
       "tuple"
      ]
     },
     "execution_count": 8,
     "metadata": {},
     "output_type": "execute_result"
    }
   ],
   "source": [
    "type(list1)"
   ]
  },
  {
   "cell_type": "code",
   "execution_count": 9,
   "id": "d6393a49-724a-4f2c-8fae-7c4fd2e9c839",
   "metadata": {},
   "outputs": [
    {
     "data": {
      "text/plain": [
       "3"
      ]
     },
     "execution_count": 9,
     "metadata": {},
     "output_type": "execute_result"
    }
   ],
   "source": [
    "list2 = (3)\n",
    "list2"
   ]
  },
  {
   "cell_type": "code",
   "execution_count": 10,
   "id": "0580f3a8-346c-4601-817c-84139a307fc8",
   "metadata": {},
   "outputs": [
    {
     "data": {
      "text/plain": [
       "int"
      ]
     },
     "execution_count": 10,
     "metadata": {},
     "output_type": "execute_result"
    }
   ],
   "source": [
    "type(list2)"
   ]
  },
  {
   "cell_type": "markdown",
   "id": "1f1f5af4-4d84-492a-b3a0-548f1aaa31e9",
   "metadata": {},
   "source": [
    "Tuples are often used to create multiple variables with a single statement."
   ]
  },
  {
   "cell_type": "code",
   "execution_count": 11,
   "id": "cc43de5e-30aa-4e7c-822a-bf0f1bb9418c",
   "metadata": {},
   "outputs": [
    {
     "data": {
      "text/plain": [
       "tuple"
      ]
     },
     "execution_count": 11,
     "metadata": {},
     "output_type": "execute_result"
    }
   ],
   "source": [
    "point = 7, 8\n",
    "type(point)"
   ]
  },
  {
   "cell_type": "code",
   "execution_count": 12,
   "id": "b840d39f-c0ec-4435-afdf-e0fb6250e4c2",
   "metadata": {},
   "outputs": [
    {
     "name": "stdout",
     "output_type": "stream",
     "text": [
      "7\n",
      "8\n"
     ]
    }
   ],
   "source": [
    "x, y = point\n",
    "print(x)\n",
    "print(y)"
   ]
  },
  {
   "cell_type": "markdown",
   "id": "56c5e606-24aa-4f59-ba91-5477d38e5496",
   "metadata": {},
   "source": [
    "#### List to Tuples\n",
    "You can convert a list into tuple using ```tuple``` function, and vice versa using the ```list``` function"
   ]
  },
  {
   "cell_type": "code",
   "execution_count": 13,
   "id": "3337aebd-c441-4583-9f45-00f96135ba7e",
   "metadata": {},
   "outputs": [
    {
     "data": {
      "text/plain": [
       "('apple', 'cherry', 'dates')"
      ]
     },
     "execution_count": 13,
     "metadata": {},
     "output_type": "execute_result"
    }
   ],
   "source": [
    "fruits"
   ]
  },
  {
   "cell_type": "code",
   "execution_count": 14,
   "id": "267308d7-6196-43ea-9070-d40cda299511",
   "metadata": {},
   "outputs": [
    {
     "name": "stdout",
     "output_type": "stream",
     "text": [
      "['apple', 'cherry', 'dates']\n",
      "<class 'list'>\n"
     ]
    }
   ],
   "source": [
    "f_list = list(fruits)\n",
    "print(f_list)\n",
    "print(type(f_list))"
   ]
  },
  {
   "cell_type": "code",
   "execution_count": 15,
   "id": "c64f21ca-478c-4897-87df-3c047e44ee09",
   "metadata": {},
   "outputs": [
    {
     "name": "stdout",
     "output_type": "stream",
     "text": [
      "('apple', 'cherry', 'dates')\n",
      "<class 'tuple'>\n"
     ]
    }
   ],
   "source": [
    "t_list = tuple(f_list)\n",
    "print(t_list)\n",
    "print(type(t_list))"
   ]
  },
  {
   "cell_type": "markdown",
   "id": "c9ff21f0-a397-457e-8db3-0200fcd10f8e",
   "metadata": {},
   "source": [
    "## Tuple Methods"
   ]
  },
  {
   "cell_type": "markdown",
   "id": "3131eaac-4f70-40de-90f0-9d7d11790a22",
   "metadata": {},
   "source": [
    "### count()"
   ]
  },
  {
   "cell_type": "code",
   "execution_count": 16,
   "id": "c484e343-badc-4288-9164-b5bf6f6ae765",
   "metadata": {},
   "outputs": [
    {
     "data": {
      "text/plain": [
       "1"
      ]
     },
     "execution_count": 16,
     "metadata": {},
     "output_type": "execute_result"
    }
   ],
   "source": [
    "t_list.count('cherry')"
   ]
  },
  {
   "cell_type": "markdown",
   "id": "cc408764-0c0a-413b-8f87-540b6e7aa827",
   "metadata": {},
   "source": [
    "### index()"
   ]
  },
  {
   "cell_type": "code",
   "execution_count": 17,
   "id": "7b51617d-7492-4384-969f-b2b2f88b27ef",
   "metadata": {},
   "outputs": [
    {
     "data": {
      "text/plain": [
       "2"
      ]
     },
     "execution_count": 17,
     "metadata": {},
     "output_type": "execute_result"
    }
   ],
   "source": [
    "t_list.index('dates')"
   ]
  },
  {
   "cell_type": "markdown",
   "id": "84f9083e-408d-4811-9351-49c25c042a5a",
   "metadata": {},
   "source": [
    "You can perform ```indexing``` and ```slicing``` on Tuple similarly like Lists\\\n",
    "You can also check if an item exists in Tuple using ```in``` operator"
   ]
  },
  {
   "cell_type": "markdown",
   "id": "3a4c2868-29e7-4cf3-8a59-81adf5b1dee9",
   "metadata": {},
   "source": [
    "## Tuple Immutability\n",
    "Tuple items cannot be changed, added or removed so to perform any modification, you can convert it into a list, make modification and convert it back to tuple."
   ]
  },
  {
   "cell_type": "markdown",
   "id": "b60bb502-53a2-4a8f-abc8-d1d3c373caa6",
   "metadata": {},
   "source": [
    "You can add tuples to tuples"
   ]
  },
  {
   "cell_type": "code",
   "execution_count": 18,
   "id": "3b4d360f-5e23-40b6-9dfd-ac3ba8a7c387",
   "metadata": {},
   "outputs": [
    {
     "name": "stdout",
     "output_type": "stream",
     "text": [
      "(1, 2, 3, 4)\n"
     ]
    }
   ],
   "source": [
    "list3 = (1, 2, 3)\n",
    "x = 4,\n",
    "list3 += x\n",
    "\n",
    "print(list3)"
   ]
  },
  {
   "cell_type": "markdown",
   "id": "f9da66f7-cf47-4c3c-ac07-567be5df799c",
   "metadata": {},
   "source": [
    "## Delete Tuple\n",
    "You can also use the ```del``` keyword to delete a tuple completely."
   ]
  },
  {
   "cell_type": "code",
   "execution_count": 19,
   "id": "0f665d31-1345-406e-aad3-a65d9c2588de",
   "metadata": {},
   "outputs": [],
   "source": [
    "del list3"
   ]
  },
  {
   "cell_type": "code",
   "execution_count": 20,
   "id": "7ad941df-fc16-4a4b-9a4a-3468246afb4f",
   "metadata": {},
   "outputs": [],
   "source": [
    "num = 24\n",
    "fnum = 13.55246\n",
    "word = 'This is sample text'"
   ]
  },
  {
   "cell_type": "markdown",
   "id": "d60b3c07-e9e8-4c46-a1f5-d68d59c5ac15",
   "metadata": {},
   "source": [
    "## Unpacking Tuples"
   ]
  },
  {
   "cell_type": "markdown",
   "id": "45288e01-62c1-4392-9f56-085fb29ae1ad",
   "metadata": {},
   "source": [
    "When we create a tuple, we normally assign values to it. This is called **packing** a tuple.\n",
    "But in Python, we are also allowed to extract the values back into variables. This is called **unpacking**."
   ]
  },
  {
   "cell_type": "code",
   "execution_count": 21,
   "id": "fa42e285-2a28-4d11-a289-6a6a25d58997",
   "metadata": {},
   "outputs": [
    {
     "data": {
      "text/plain": [
       "('apple', 'cherry', 'dates')"
      ]
     },
     "execution_count": 21,
     "metadata": {},
     "output_type": "execute_result"
    }
   ],
   "source": [
    "fruits"
   ]
  },
  {
   "cell_type": "code",
   "execution_count": 22,
   "id": "c0439c85-e248-429e-82c1-bd4378b53678",
   "metadata": {},
   "outputs": [
    {
     "name": "stdout",
     "output_type": "stream",
     "text": [
      "apple\n",
      "cherry\n",
      "dates\n"
     ]
    }
   ],
   "source": [
    "(green, yellow, red) = fruits\n",
    "\n",
    "print(green)\n",
    "print(yellow)\n",
    "print(red)"
   ]
  },
  {
   "cell_type": "markdown",
   "id": "83146126-4dda-4c59-a15b-80b91c9476fd",
   "metadata": {},
   "source": [
    "If the number of variables is less than the number of values, you can add an ```*``` to the variable name and the values will be assignes to the variable as a list"
   ]
  },
  {
   "cell_type": "code",
   "execution_count": 23,
   "id": "a4f05438-eda0-4c50-869c-c05053c10461",
   "metadata": {},
   "outputs": [
    {
     "name": "stdout",
     "output_type": "stream",
     "text": [
      "apple\n",
      "mango\n",
      "['cherry', 'dates', 'plum', 'kiwi']\n"
     ]
    }
   ],
   "source": [
    "fruits = ('apple', 'mango', 'cherry', 'dates', 'plum', 'kiwi')\n",
    "\n",
    "(green, blue, *red) = fruits\n",
    "\n",
    "print(green)\n",
    "print(blue)\n",
    "print(red)"
   ]
  },
  {
   "cell_type": "code",
   "execution_count": 24,
   "id": "1e8571f7-732d-436d-8368-bb1aab6d9035",
   "metadata": {},
   "outputs": [
    {
     "data": {
      "text/plain": [
       "str"
      ]
     },
     "execution_count": 24,
     "metadata": {},
     "output_type": "execute_result"
    }
   ],
   "source": [
    "type(green)"
   ]
  },
  {
   "cell_type": "code",
   "execution_count": 25,
   "id": "8d670892-ff0f-4416-b74e-cedf34604f98",
   "metadata": {},
   "outputs": [
    {
     "data": {
      "text/plain": [
       "list"
      ]
     },
     "execution_count": 25,
     "metadata": {},
     "output_type": "execute_result"
    }
   ],
   "source": [
    "type(red)"
   ]
  },
  {
   "cell_type": "code",
   "execution_count": 26,
   "id": "bcefe865-ae07-404c-abbb-80006aada261",
   "metadata": {},
   "outputs": [
    {
     "name": "stdout",
     "output_type": "stream",
     "text": [
      "apple\n",
      "['mango', 'cherry', 'dates', 'plum']\n",
      "kiwi\n"
     ]
    }
   ],
   "source": [
    "(green, *blue, red) = fruits\n",
    "\n",
    "print(green)\n",
    "print(blue)\n",
    "print(red)"
   ]
  },
  {
   "cell_type": "markdown",
   "id": "b21fc06e-5037-4d6f-979c-2e78034e9d64",
   "metadata": {},
   "source": [
    "## Concat Tuples\n",
    "You can join tuples by Concatenation just like lists"
   ]
  },
  {
   "cell_type": "code",
   "execution_count": 1,
   "id": "fcec9d40-9bc4-4cfd-ab3b-cffb01a77c61",
   "metadata": {},
   "outputs": [
    {
     "name": "stdout",
     "output_type": "stream",
     "text": [
      "(1, 2, 3, 4, 5, 6)\n"
     ]
    }
   ],
   "source": [
    "my_list = (1, 2, 3)\n",
    "new_elements = (4, 5, 6)\n",
    "combined_list = my_list + new_elements\n",
    "print(combined_list)"
   ]
  },
  {
   "cell_type": "markdown",
   "id": "6eef04e4-ab2a-4afa-84c2-8bae95053471",
   "metadata": {},
   "source": [
    "## Multiply Tuples"
   ]
  },
  {
   "cell_type": "code",
   "execution_count": 27,
   "id": "315cc195-75fc-401d-8ee7-5e80699f0f3e",
   "metadata": {},
   "outputs": [
    {
     "name": "stdout",
     "output_type": "stream",
     "text": [
      "('apple', 'banana', 'cherry', 'apple', 'banana', 'cherry')\n"
     ]
    }
   ],
   "source": [
    "fruits = (\"apple\", \"banana\", \"cherry\")\n",
    "mytuple = fruits * 2\n",
    "\n",
    "print(mytuple)"
   ]
  },
  {
   "cell_type": "code",
   "execution_count": null,
   "id": "6292d6b6-220f-45cb-8fd9-8447b4f2a7ed",
   "metadata": {},
   "outputs": [],
   "source": []
  }
 ],
 "metadata": {
  "kernelspec": {
   "display_name": "Python 3 (ipykernel)",
   "language": "python",
   "name": "python3"
  },
  "language_info": {
   "codemirror_mode": {
    "name": "ipython",
    "version": 3
   },
   "file_extension": ".py",
   "mimetype": "text/x-python",
   "name": "python",
   "nbconvert_exporter": "python",
   "pygments_lexer": "ipython3",
   "version": "3.13.6"
  }
 },
 "nbformat": 4,
 "nbformat_minor": 5
}
