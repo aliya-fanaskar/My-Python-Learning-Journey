{
 "cells": [
  {
   "cell_type": "markdown",
   "id": "2e97abf8-a222-4b0c-8088-c6456a9b6db3",
   "metadata": {},
   "source": [
    "# List - [ ]"
   ]
  },
  {
   "cell_type": "markdown",
   "id": "5b9c746a-eb0b-4921-b3ce-363e6782bf5a",
   "metadata": {},
   "source": [
    "List is one of 4 built-in data types in Python used to store collections of data, the other 3 are Tuple, Set, and Dictionary, all with different characteristics and use cases.\n",
    "- A list in Python is an **ordered** collection of values. \n",
    "- Lists can hold values of different data types making them **heterogenous**'\n",
    "- Can support operations to add, remove and change values, hence making them **mutable**.\n",
    "- Lists are **indexable** i.e. elements of the list can be accessed using zero-based indexing.\n",
    "- And since list are indexed, they **can have duplicates**."
   ]
  },
  {
   "cell_type": "markdown",
   "id": "7190d369-d0ef-43ad-a48d-d0a8b4bdc033",
   "metadata": {},
   "source": [
    "---\n",
    "---\n",
    "## Creating a list"
   ]
  },
  {
   "cell_type": "code",
   "execution_count": 1,
   "id": "217d43bd-a432-4a3b-b0a2-cbc5183c494b",
   "metadata": {},
   "outputs": [],
   "source": [
    "fruits = ['apple', 'banana', 'cherry']"
   ]
  },
  {
   "cell_type": "code",
   "execution_count": 2,
   "id": "3c745f46-4fc9-452e-a0e9-8b2d317d9bef",
   "metadata": {},
   "outputs": [
    {
     "data": {
      "text/plain": [
       "['apple', 'banana', 'cherry']"
      ]
     },
     "execution_count": 2,
     "metadata": {},
     "output_type": "execute_result"
    }
   ],
   "source": [
    "fruits"
   ]
  },
  {
   "cell_type": "code",
   "execution_count": 3,
   "id": "3fa23647-840e-4dee-a40d-b0ffcc5353ce",
   "metadata": {},
   "outputs": [
    {
     "data": {
      "text/plain": [
       "list"
      ]
     },
     "execution_count": 3,
     "metadata": {},
     "output_type": "execute_result"
    }
   ],
   "source": [
    "type(fruits)"
   ]
  },
  {
   "cell_type": "code",
   "execution_count": 4,
   "id": "d11a7e53-b0ab-418e-8474-71db80b928b0",
   "metadata": {},
   "outputs": [
    {
     "name": "stdout",
     "output_type": "stream",
     "text": [
      "['apple', 'banana', 'cherry']\n"
     ]
    }
   ],
   "source": [
    "print(fruits)"
   ]
  },
  {
   "cell_type": "code",
   "execution_count": 5,
   "id": "b0e4ae72-491f-4ba0-9d64-65d1c77d3282",
   "metadata": {},
   "outputs": [
    {
     "name": "stdout",
     "output_type": "stream",
     "text": [
      "<class 'list'>\n"
     ]
    }
   ],
   "source": [
    "print(type(fruits))"
   ]
  },
  {
   "cell_type": "code",
   "execution_count": 6,
   "id": "146fdd76-2dd5-4b0b-b8d0-e6b26f50049d",
   "metadata": {},
   "outputs": [],
   "source": [
    "# a list contain different datatypes\n",
    "a_list = [23, 'hello', None, 3.14, fruits, 3<=5, '3<=5', 85.956]"
   ]
  },
  {
   "cell_type": "code",
   "execution_count": 7,
   "id": "6955c02d-c20c-4998-85cf-06f5b408f5cc",
   "metadata": {},
   "outputs": [
    {
     "data": {
      "text/plain": [
       "[23, 'hello', None, 3.14, ['apple', 'banana', 'cherry'], True, '3<=5', 85.956]"
      ]
     },
     "execution_count": 7,
     "metadata": {},
     "output_type": "execute_result"
    }
   ],
   "source": [
    "a_list"
   ]
  },
  {
   "cell_type": "code",
   "execution_count": 8,
   "id": "3f1b53d6-9b61-4e73-b898-126e5ff6e608",
   "metadata": {},
   "outputs": [],
   "source": [
    "empty_list = []"
   ]
  },
  {
   "cell_type": "code",
   "execution_count": 9,
   "id": "f72fea8a-a733-4f64-9424-25d42aa76bab",
   "metadata": {},
   "outputs": [
    {
     "data": {
      "text/plain": [
       "[]"
      ]
     },
     "execution_count": 9,
     "metadata": {},
     "output_type": "execute_result"
    }
   ],
   "source": [
    "empty_list"
   ]
  },
  {
   "cell_type": "markdown",
   "id": "e48f19b9-fa30-440b-b446-a8b359372060",
   "metadata": {},
   "source": [
    "#### Using list() constructor"
   ]
  },
  {
   "cell_type": "code",
   "execution_count": 10,
   "id": "361a9d67-767d-4d72-bfbb-6a0cc3ce0bc4",
   "metadata": {},
   "outputs": [
    {
     "name": "stdout",
     "output_type": "stream",
     "text": [
      "['travel', 'music', 'nature', 'animals']\n"
     ]
    }
   ],
   "source": [
    "this_list = list(('travel', 'music', 'nature', 'animals'))\n",
    "# note the double round-brackets\n",
    "print(this_list)"
   ]
  },
  {
   "cell_type": "markdown",
   "id": "7e9ac555-3be1-4545-bf41-0a8c3fee72cb",
   "metadata": {},
   "source": [
    "#### List with Repeated Elements"
   ]
  },
  {
   "cell_type": "code",
   "execution_count": 11,
   "id": "63d31389-e9c2-4846-b9e3-27a66ed28250",
   "metadata": {},
   "outputs": [
    {
     "name": "stdout",
     "output_type": "stream",
     "text": [
      "[2, 2, 2, 2, 2]\n"
     ]
    }
   ],
   "source": [
    "a = [2] * 5\n",
    "print(a)"
   ]
  },
  {
   "cell_type": "code",
   "execution_count": 12,
   "id": "07581104-fda5-4483-af36-1c555be9e569",
   "metadata": {},
   "outputs": [
    {
     "name": "stdout",
     "output_type": "stream",
     "text": [
      "['a', 'a', 'a', 'a', 'a', 'a', 'a']\n"
     ]
    }
   ],
   "source": [
    "b = ['a'] * 7\n",
    "print(b)"
   ]
  },
  {
   "cell_type": "markdown",
   "id": "f76baf74-4532-48d8-b02c-839a13da15aa",
   "metadata": {},
   "source": [
    "#### ```len``` function"
   ]
  },
  {
   "cell_type": "code",
   "execution_count": 13,
   "id": "acef3522-247e-4719-bd76-59f062a87990",
   "metadata": {},
   "outputs": [
    {
     "data": {
      "text/plain": [
       "3"
      ]
     },
     "execution_count": 13,
     "metadata": {},
     "output_type": "execute_result"
    }
   ],
   "source": [
    "len(fruits)"
   ]
  },
  {
   "cell_type": "code",
   "execution_count": 14,
   "id": "f6a95ece-8704-4223-88af-28559e9e7e1a",
   "metadata": {},
   "outputs": [
    {
     "name": "stdout",
     "output_type": "stream",
     "text": [
      "Number of elements: 8\n"
     ]
    }
   ],
   "source": [
    "print(\"Number of elements:\", len(a_list))"
   ]
  },
  {
   "cell_type": "markdown",
   "id": "3c1f9f6b-ffd8-4f32-ace0-264a42a9d751",
   "metadata": {},
   "source": [
    "#### ```in``` operator"
   ]
  },
  {
   "cell_type": "code",
   "execution_count": 15,
   "id": "59a89f51-38e7-4d49-a068-700d998d9e70",
   "metadata": {},
   "outputs": [
    {
     "data": {
      "text/plain": [
       "True"
      ]
     },
     "execution_count": 15,
     "metadata": {},
     "output_type": "execute_result"
    }
   ],
   "source": [
    "'apple' in fruits"
   ]
  },
  {
   "cell_type": "code",
   "execution_count": 16,
   "id": "6c1f04c5-107f-4f02-8db6-f483ead706e1",
   "metadata": {},
   "outputs": [
    {
     "data": {
      "text/plain": [
       "False"
      ]
     },
     "execution_count": 16,
     "metadata": {},
     "output_type": "execute_result"
    }
   ],
   "source": [
    "'dates' in fruits"
   ]
  },
  {
   "cell_type": "markdown",
   "id": "ff541989-ccf3-4bce-9f9b-f02200e38b48",
   "metadata": {},
   "source": [
    "---\n",
    "## Indexing\n",
    "A method used to access sequence elements"
   ]
  },
  {
   "cell_type": "code",
   "execution_count": 17,
   "id": "8d81006f-25ef-4d84-817c-5e401b95d4b3",
   "metadata": {},
   "outputs": [
    {
     "data": {
      "text/plain": [
       "['apple', 'banana', 'cherry']"
      ]
     },
     "execution_count": 17,
     "metadata": {},
     "output_type": "execute_result"
    }
   ],
   "source": [
    "fruits"
   ]
  },
  {
   "cell_type": "code",
   "execution_count": 18,
   "id": "7208cf8d-8a7a-4574-9412-da1ab642d407",
   "metadata": {},
   "outputs": [
    {
     "data": {
      "text/plain": [
       "'apple'"
      ]
     },
     "execution_count": 18,
     "metadata": {},
     "output_type": "execute_result"
    }
   ],
   "source": [
    "fruits[0] #1st element"
   ]
  },
  {
   "cell_type": "code",
   "execution_count": 19,
   "id": "d3397669-832c-41d3-ad58-ed5301d581e8",
   "metadata": {},
   "outputs": [
    {
     "name": "stdout",
     "output_type": "stream",
     "text": [
      "cherry\n"
     ]
    }
   ],
   "source": [
    "print(fruits[2]) #3rd element"
   ]
  },
  {
   "cell_type": "code",
   "execution_count": 20,
   "id": "de5a0cc2-4497-457b-a05a-20fed1d8132e",
   "metadata": {},
   "outputs": [
    {
     "data": {
      "text/plain": [
       "'cherry'"
      ]
     },
     "execution_count": 20,
     "metadata": {},
     "output_type": "execute_result"
    }
   ],
   "source": [
    "fruits[-1] #last element"
   ]
  },
  {
   "cell_type": "code",
   "execution_count": 21,
   "id": "94a9c728-90aa-4e27-acf4-907e7c1a145a",
   "metadata": {},
   "outputs": [
    {
     "data": {
      "text/plain": [
       "[23, 'hello', None, 3.14, ['apple', 'banana', 'cherry'], True, '3<=5', 85.956]"
      ]
     },
     "execution_count": 21,
     "metadata": {},
     "output_type": "execute_result"
    }
   ],
   "source": [
    "a_list"
   ]
  },
  {
   "cell_type": "code",
   "execution_count": 22,
   "id": "ae9c0be0-6c6f-4aca-a140-0eea071466dd",
   "metadata": {},
   "outputs": [
    {
     "data": {
      "text/plain": [
       "3.14"
      ]
     },
     "execution_count": 22,
     "metadata": {},
     "output_type": "execute_result"
    }
   ],
   "source": [
    "a_list[3]"
   ]
  },
  {
   "cell_type": "code",
   "execution_count": 23,
   "id": "46ea810a-ec7e-4ffe-a4ed-8d69cbb77179",
   "metadata": {},
   "outputs": [
    {
     "name": "stdout",
     "output_type": "stream",
     "text": [
      "3.14\n"
     ]
    }
   ],
   "source": [
    "print(a_list[3])"
   ]
  },
  {
   "cell_type": "code",
   "execution_count": 24,
   "id": "d0390264-4b3b-4a9d-92c7-254a557ee3ec",
   "metadata": {},
   "outputs": [
    {
     "data": {
      "text/plain": [
       "['apple', 'banana', 'cherry']"
      ]
     },
     "execution_count": 24,
     "metadata": {},
     "output_type": "execute_result"
    }
   ],
   "source": [
    "a_list[4]"
   ]
  },
  {
   "cell_type": "code",
   "execution_count": 25,
   "id": "b27acf5f-3548-4274-931f-7c1849115994",
   "metadata": {},
   "outputs": [
    {
     "data": {
      "text/plain": [
       "'3<=5'"
      ]
     },
     "execution_count": 25,
     "metadata": {},
     "output_type": "execute_result"
    }
   ],
   "source": [
    "a_list[-2]"
   ]
  },
  {
   "cell_type": "markdown",
   "id": "534208c9-60be-4836-afe4-6df129032384",
   "metadata": {},
   "source": [
    "### List slicing\n",
    "Syntax: \\[**start : end : step**]\\\n",
    "result insludes 'start' index value, excludes 'end' value"
   ]
  },
  {
   "cell_type": "code",
   "execution_count": 28,
   "id": "bbd1cc04-f8ec-4ff7-962a-e304a6d76e31",
   "metadata": {},
   "outputs": [
    {
     "data": {
      "text/plain": [
       "[23, 'hello', None, 3.14, ['apple', 'banana', 'cherry'], True, '3<=5', 85.956]"
      ]
     },
     "execution_count": 28,
     "metadata": {},
     "output_type": "execute_result"
    }
   ],
   "source": [
    "a_list"
   ]
  },
  {
   "cell_type": "code",
   "execution_count": 29,
   "id": "938da860-ac69-487f-a758-3f3fb684334c",
   "metadata": {},
   "outputs": [
    {
     "data": {
      "text/plain": [
       "8"
      ]
     },
     "execution_count": 29,
     "metadata": {},
     "output_type": "execute_result"
    }
   ],
   "source": [
    "len(a_list)"
   ]
  },
  {
   "cell_type": "code",
   "execution_count": 30,
   "id": "da1b814c-1c02-4ec4-a4d0-ea3353c01c42",
   "metadata": {},
   "outputs": [
    {
     "data": {
      "text/plain": [
       "[None, 3.14, ['apple', 'banana', 'cherry']]"
      ]
     },
     "execution_count": 30,
     "metadata": {},
     "output_type": "execute_result"
    }
   ],
   "source": [
    "a_list[2:5] #elements from index 2 to 4 i.e. 3rd element to 5th element"
   ]
  },
  {
   "cell_type": "code",
   "execution_count": 31,
   "id": "28f0dced-d67a-4e79-a539-63c51992ba1c",
   "metadata": {},
   "outputs": [
    {
     "data": {
      "text/plain": [
       "[None, 3.14, ['apple', 'banana', 'cherry'], True, '3<=5', 85.956]"
      ]
     },
     "execution_count": 31,
     "metadata": {},
     "output_type": "execute_result"
    }
   ],
   "source": [
    "a_list[2:] #3rd element to last element"
   ]
  },
  {
   "cell_type": "code",
   "execution_count": 32,
   "id": "b59898ac-29ec-4f73-9577-b6f14da1eb2a",
   "metadata": {},
   "outputs": [
    {
     "data": {
      "text/plain": [
       "[23, 'hello', None, 3.14, ['apple', 'banana', 'cherry']]"
      ]
     },
     "execution_count": 32,
     "metadata": {},
     "output_type": "execute_result"
    }
   ],
   "source": [
    "a_list[:5] #1st element to 5th element"
   ]
  },
  {
   "cell_type": "code",
   "execution_count": 33,
   "id": "6c0870b9-6d0c-4e56-90e6-6692c11d96f2",
   "metadata": {},
   "outputs": [
    {
     "data": {
      "text/plain": [
       "[None, 3.14, ['apple', 'banana', 'cherry']]"
      ]
     },
     "execution_count": 33,
     "metadata": {},
     "output_type": "execute_result"
    }
   ],
   "source": [
    "a_list[-6:-3] #6th last element to 4th last element i.e. 3rd element to 5th element"
   ]
  },
  {
   "cell_type": "code",
   "execution_count": 34,
   "id": "b69ae4a8-5f20-48d5-9cec-532109e22c87",
   "metadata": {},
   "outputs": [
    {
     "data": {
      "text/plain": [
       "[None, 3.14, ['apple', 'banana', 'cherry']]"
      ]
     },
     "execution_count": 34,
     "metadata": {},
     "output_type": "execute_result"
    }
   ],
   "source": [
    "a_list[2:5]"
   ]
  },
  {
   "cell_type": "code",
   "execution_count": 35,
   "id": "3c0f690e-6ab7-4561-89ba-2ce754eab180",
   "metadata": {},
   "outputs": [
    {
     "data": {
      "text/plain": [
       "['hello', None, 3.14, ['apple', 'banana', 'cherry'], True]"
      ]
     },
     "execution_count": 35,
     "metadata": {},
     "output_type": "execute_result"
    }
   ],
   "source": [
    "a_list[-7:-2] #7th last element to 3rd last element i.e. 2nd element to 6th element"
   ]
  },
  {
   "cell_type": "code",
   "execution_count": 36,
   "id": "83322cdd-6956-4270-a3bc-e7d2687aada8",
   "metadata": {},
   "outputs": [
    {
     "data": {
      "text/plain": [
       "['hello', None, 3.14, ['apple', 'banana', 'cherry'], True]"
      ]
     },
     "execution_count": 36,
     "metadata": {},
     "output_type": "execute_result"
    }
   ],
   "source": [
    "a_list[1:6]"
   ]
  },
  {
   "cell_type": "code",
   "execution_count": 37,
   "id": "ccc94a80-ad11-415e-8f8a-90d0f623a17f",
   "metadata": {},
   "outputs": [
    {
     "data": {
      "text/plain": [
       "[]"
      ]
     },
     "execution_count": 37,
     "metadata": {},
     "output_type": "execute_result"
    }
   ],
   "source": [
    "a_list[-2:-7] \n",
    "# won't execute and give any output as logically it means\n",
    "# 2nd last element to 6th last element i.e.\n",
    "# 6th element to 2nd element"
   ]
  },
  {
   "cell_type": "markdown",
   "id": "eb53a304-cfc2-4764-9831-8c118e92ab41",
   "metadata": {},
   "source": [
    "**using the 'step' argument...**"
   ]
  },
  {
   "cell_type": "code",
   "execution_count": 38,
   "id": "40bf074a-1d45-4aaf-956b-f8f5d2811d0f",
   "metadata": {},
   "outputs": [
    {
     "data": {
      "text/plain": [
       "[23, 'hello', None, 3.14, ['apple', 'banana', 'cherry'], True, '3<=5', 85.956]"
      ]
     },
     "execution_count": 38,
     "metadata": {},
     "output_type": "execute_result"
    }
   ],
   "source": [
    "a_list"
   ]
  },
  {
   "cell_type": "code",
   "execution_count": 39,
   "id": "80cc6326-b4dc-4dba-a03f-7925ceb0f6fe",
   "metadata": {},
   "outputs": [
    {
     "data": {
      "text/plain": [
       "['hello', 3.14, True]"
      ]
     },
     "execution_count": 39,
     "metadata": {},
     "output_type": "execute_result"
    }
   ],
   "source": [
    "a_list[1:7:2]"
   ]
  },
  {
   "cell_type": "code",
   "execution_count": 40,
   "id": "5a1beb0e-a9e0-434f-b00b-276e11b01876",
   "metadata": {},
   "outputs": [
    {
     "data": {
      "text/plain": [
       "[23, None, ['apple', 'banana', 'cherry'], '3<=5']"
      ]
     },
     "execution_count": 40,
     "metadata": {},
     "output_type": "execute_result"
    }
   ],
   "source": [
    "a_list[::2]"
   ]
  },
  {
   "cell_type": "code",
   "execution_count": 41,
   "id": "36f2696f-12bc-44bf-969a-4c18fee29ab3",
   "metadata": {},
   "outputs": [
    {
     "data": {
      "text/plain": [
       "['hello', 3.14, True, 85.956]"
      ]
     },
     "execution_count": 41,
     "metadata": {},
     "output_type": "execute_result"
    }
   ],
   "source": [
    "a_list[1::2]"
   ]
  },
  {
   "cell_type": "code",
   "execution_count": 42,
   "id": "3a330d61-6602-4d12-bd6b-d3466fabf440",
   "metadata": {},
   "outputs": [
    {
     "data": {
      "text/plain": [
       "[23, 3.14, '3<=5']"
      ]
     },
     "execution_count": 42,
     "metadata": {},
     "output_type": "execute_result"
    }
   ],
   "source": [
    "a_list[::3]"
   ]
  },
  {
   "cell_type": "code",
   "execution_count": 43,
   "id": "9409caca-8136-498d-a9b0-41532c89196f",
   "metadata": {},
   "outputs": [
    {
     "data": {
      "text/plain": [
       "[85.956, '3<=5', True, ['apple', 'banana', 'cherry'], 3.14, None, 'hello', 23]"
      ]
     },
     "execution_count": 43,
     "metadata": {},
     "output_type": "execute_result"
    }
   ],
   "source": [
    "a_list[::-1] # all elements in reverse sequence"
   ]
  },
  {
   "cell_type": "code",
   "execution_count": 44,
   "id": "bd2c6780-cc06-44c7-ad54-04c58bf68602",
   "metadata": {},
   "outputs": [
    {
     "data": {
      "text/plain": [
       "[85.956, True, 3.14, 'hello']"
      ]
     },
     "execution_count": 44,
     "metadata": {},
     "output_type": "execute_result"
    }
   ],
   "source": [
    "a_list[::-2]"
   ]
  },
  {
   "cell_type": "code",
   "execution_count": 45,
   "id": "19930c31-c2bd-4d32-880f-86cea9686f89",
   "metadata": {},
   "outputs": [
    {
     "data": {
      "text/plain": [
       "['3<=5', ['apple', 'banana', 'cherry'], None, 23]"
      ]
     },
     "execution_count": 45,
     "metadata": {},
     "output_type": "execute_result"
    }
   ],
   "source": [
    "a_list[-2::-2]"
   ]
  },
  {
   "cell_type": "code",
   "execution_count": 46,
   "id": "46214655-cf83-4e78-9a68-9610704cd0fe",
   "metadata": {},
   "outputs": [
    {
     "data": {
      "text/plain": [
       "[85.956, ['apple', 'banana', 'cherry'], 'hello']"
      ]
     },
     "execution_count": 46,
     "metadata": {},
     "output_type": "execute_result"
    }
   ],
   "source": [
    "a_list[::-3]"
   ]
  },
  {
   "cell_type": "markdown",
   "id": "16ef9c4b-d794-4cb1-b272-7feab206c110",
   "metadata": {},
   "source": [
    "### Checking element Data Type"
   ]
  },
  {
   "cell_type": "code",
   "execution_count": 26,
   "id": "1d4a884b-6904-4b2d-8b43-ff12bdcf65e8",
   "metadata": {},
   "outputs": [
    {
     "data": {
      "text/plain": [
       "[23, 'hello', None, 3.14, ['apple', 'banana', 'cherry'], True, '3<=5', 85.956]"
      ]
     },
     "execution_count": 26,
     "metadata": {},
     "output_type": "execute_result"
    }
   ],
   "source": [
    "a_list"
   ]
  },
  {
   "cell_type": "code",
   "execution_count": 27,
   "id": "ee0aaf49-75c8-4eda-9db6-3d4b34d05cd1",
   "metadata": {},
   "outputs": [
    {
     "name": "stdout",
     "output_type": "stream",
     "text": [
      "Type of 1st Element that is 23 : <class 'int'>\n",
      "Type of 3rd Element that is None : <class 'NoneType'>\n",
      "Type of 5th Element that is ['apple', 'banana', 'cherry'] : <class 'list'>\n",
      "Type of 6th Element that is True : <class 'bool'>\n",
      "Type of last Element that is 85.956 : <class 'float'>\n",
      "Type of 2nd last Element that is 3<=5 : <class 'str'>\n"
     ]
    }
   ],
   "source": [
    "print('Type of 1st Element that is', a_list[0], ':', type(a_list[0]))\n",
    "print('Type of 3rd Element that is', a_list[2], ':', type(a_list[2]))\n",
    "print('Type of 5th Element that is', a_list[4], ':', type(a_list[4]))\n",
    "print('Type of 6th Element that is', a_list[5], ':', type(a_list[5]))\n",
    "print('Type of last Element that is', a_list[-1], ':', type(a_list[-1]))\n",
    "print('Type of 2nd last Element that is', a_list[-2], ':', type(a_list[-2]))"
   ]
  },
  {
   "cell_type": "markdown",
   "id": "d501d004-a95d-4889-906c-826dbc241d49",
   "metadata": {},
   "source": [
    "---\n",
    "## Change Element"
   ]
  },
  {
   "cell_type": "code",
   "execution_count": 47,
   "id": "f2938b99-73c2-4418-b626-83b4d93dc4c6",
   "metadata": {},
   "outputs": [
    {
     "name": "stdout",
     "output_type": "stream",
     "text": [
      "['apple', 'banana', 'grape', 'cherry'] 4 elements in fruits list\n"
     ]
    }
   ],
   "source": [
    "fruits = ['apple', 'banana', 'grape', 'cherry']\n",
    "print(fruits, len(fruits), 'elements in fruits list')"
   ]
  },
  {
   "cell_type": "code",
   "execution_count": 48,
   "id": "e927e39a-7284-48bb-86b7-d68fe3d9dbe2",
   "metadata": {},
   "outputs": [
    {
     "data": {
      "text/plain": [
       "['apple', 'mango', 'grape', 'cherry']"
      ]
     },
     "execution_count": 48,
     "metadata": {},
     "output_type": "execute_result"
    }
   ],
   "source": [
    "fruits[1] = 'mango'\n",
    "fruits"
   ]
  },
  {
   "cell_type": "markdown",
   "id": "81d143d4-fc04-4575-878a-a2bbe53a92ee",
   "metadata": {},
   "source": [
    "#### Change a Range of Item Values"
   ]
  },
  {
   "cell_type": "code",
   "execution_count": 49,
   "id": "47570ca6-ae9f-482e-9a96-626b9a763b7b",
   "metadata": {},
   "outputs": [
    {
     "data": {
      "text/plain": [
       "['apple', 'mango', 'banana', 'kiwi']"
      ]
     },
     "execution_count": 49,
     "metadata": {},
     "output_type": "execute_result"
    }
   ],
   "source": [
    "fruits[2:4] = ['banana', 'kiwi']\n",
    "fruits\n",
    "#will replace the 3rd and 4th elements with these new values"
   ]
  },
  {
   "cell_type": "code",
   "execution_count": 50,
   "id": "f92e9315-7648-4d6e-8f40-21bfb3f984f4",
   "metadata": {},
   "outputs": [
    {
     "data": {
      "text/plain": [
       "['apple', 'melon', 'berry', 'banana', 'kiwi']"
      ]
     },
     "execution_count": 50,
     "metadata": {},
     "output_type": "execute_result"
    }
   ],
   "source": [
    "fruits[1:2] = ['melon', 'berry']\n",
    "fruits\n",
    "# will replace 2nd element of list with these values\n",
    "# note that the slicing in necessary"
   ]
  },
  {
   "cell_type": "code",
   "execution_count": 51,
   "id": "b696f3a9-43ad-4bcf-8b94-1262b2e921e9",
   "metadata": {},
   "outputs": [
    {
     "data": {
      "text/plain": [
       "['apple', ['apricot', 'plum'], 'berry', 'banana', 'kiwi']"
      ]
     },
     "execution_count": 51,
     "metadata": {},
     "output_type": "execute_result"
    }
   ],
   "source": [
    "# when slicing is not mentioned, the 2 new values will be take as one single element\n",
    "fruits[1] = ['apricot', 'plum']\n",
    "fruits"
   ]
  },
  {
   "cell_type": "code",
   "execution_count": 52,
   "id": "c7931f5c-8900-4ae5-9da9-1b8542438344",
   "metadata": {},
   "outputs": [
    {
     "data": {
      "text/plain": [
       "['apricot', 'plum']"
      ]
     },
     "execution_count": 52,
     "metadata": {},
     "output_type": "execute_result"
    }
   ],
   "source": [
    "fruits[1]"
   ]
  },
  {
   "cell_type": "code",
   "execution_count": 53,
   "id": "9d23d494-ab05-4ef0-87d2-73e833c83136",
   "metadata": {},
   "outputs": [
    {
     "data": {
      "text/plain": [
       "['apple', 'melon', 'banana', 'kiwi']"
      ]
     },
     "execution_count": 53,
     "metadata": {},
     "output_type": "execute_result"
    }
   ],
   "source": [
    "fruits[1:3] = ['melon']\n",
    "fruits\n",
    "# will replace 2nd and 3rd element with the one new element"
   ]
  },
  {
   "cell_type": "markdown",
   "id": "896a5df9-eb9d-4885-83f0-22d64e496f9c",
   "metadata": {},
   "source": [
    "---\n",
    "## List Methods"
   ]
  },
  {
   "cell_type": "markdown",
   "id": "bdd3ba04-a24e-48e2-b084-e04344d03b08",
   "metadata": {},
   "source": [
    "#### ```index()``` - returns the index of the first occurence of a specified element."
   ]
  },
  {
   "cell_type": "code",
   "execution_count": 54,
   "id": "8252ee5c-ad59-4424-93f7-b07aea0d9234",
   "metadata": {},
   "outputs": [
    {
     "data": {
      "text/plain": [
       "['apple', 'melon', 'banana', 'kiwi']"
      ]
     },
     "execution_count": 54,
     "metadata": {},
     "output_type": "execute_result"
    }
   ],
   "source": [
    "fruits"
   ]
  },
  {
   "cell_type": "code",
   "execution_count": 55,
   "id": "8b8a8d71-02fe-4df0-9cdc-47b852f24ccb",
   "metadata": {},
   "outputs": [
    {
     "data": {
      "text/plain": [
       "1"
      ]
     },
     "execution_count": 55,
     "metadata": {},
     "output_type": "execute_result"
    }
   ],
   "source": [
    "fruits.index('melon')"
   ]
  },
  {
   "cell_type": "code",
   "execution_count": 56,
   "id": "40f9a199-b537-4da4-ab66-ba490cff1df3",
   "metadata": {},
   "outputs": [
    {
     "name": "stdout",
     "output_type": "stream",
     "text": [
      "3\n"
     ]
    }
   ],
   "source": [
    "print(fruits.index('kiwi'))"
   ]
  },
  {
   "cell_type": "code",
   "execution_count": 57,
   "id": "d479ad16-b578-4604-95af-185c1f5b5c1c",
   "metadata": {},
   "outputs": [
    {
     "name": "stdout",
     "output_type": "stream",
     "text": [
      "The list contains 4 fruits - apple, melon, banana, kiwi, cherry \n",
      " the index of apple  is 0 \n",
      " the index of melon  is 1 \n",
      " the index of banana is 2 \n",
      " the index of kiwi   is 3\n"
     ]
    }
   ],
   "source": [
    "print(\n",
    "    'The list contains', len(fruits), 'fruits - apple, melon, banana, kiwi, cherry', \n",
    "    '\\n the index of apple  is', fruits.index('apple'),\n",
    "    '\\n the index of melon  is', fruits.index('melon'),\n",
    "    '\\n the index of banana is', fruits.index('banana'),\n",
    "    '\\n the index of kiwi   is', fruits.index('kiwi'),\n",
    ")"
   ]
  },
  {
   "cell_type": "markdown",
   "id": "ded8fbbe-b60a-49ef-be01-e352d0dad19b",
   "metadata": {},
   "source": [
    "### Arranging Elements"
   ]
  },
  {
   "cell_type": "markdown",
   "id": "9d8a0019-f08e-4e33-b93c-8a2aeb826bbf",
   "metadata": {},
   "source": [
    "#### ```sort()``` - Sorts the list in ascending order."
   ]
  },
  {
   "cell_type": "code",
   "execution_count": 58,
   "id": "3e6b6ee0-e64d-4691-aee9-67eb9f1425dd",
   "metadata": {},
   "outputs": [
    {
     "data": {
      "text/plain": [
       "['apple', 'melon', 'banana', 'kiwi']"
      ]
     },
     "execution_count": 58,
     "metadata": {},
     "output_type": "execute_result"
    }
   ],
   "source": [
    "fruits"
   ]
  },
  {
   "cell_type": "code",
   "execution_count": 59,
   "id": "3298d18a-5e50-4ff1-a3de-c3dce207e86a",
   "metadata": {},
   "outputs": [
    {
     "data": {
      "text/plain": [
       "['apple', 'banana', 'kiwi', 'melon']"
      ]
     },
     "execution_count": 59,
     "metadata": {},
     "output_type": "execute_result"
    }
   ],
   "source": [
    "fruits.sort()\n",
    "fruits"
   ]
  },
  {
   "cell_type": "code",
   "execution_count": 60,
   "id": "c6203a82-8905-4227-801b-69d7f73fd7a9",
   "metadata": {},
   "outputs": [
    {
     "data": {
      "text/plain": [
       "['melon', 'kiwi', 'banana', 'apple']"
      ]
     },
     "execution_count": 60,
     "metadata": {},
     "output_type": "execute_result"
    }
   ],
   "source": [
    "fruits.sort(reverse=True)\n",
    "fruits"
   ]
  },
  {
   "cell_type": "markdown",
   "id": "3cb078d8-d0cf-47d7-9c2d-3d5e3b2054eb",
   "metadata": {},
   "source": [
    "#### ```reverse()``` - Reverses the order of the elements in the list."
   ]
  },
  {
   "cell_type": "code",
   "execution_count": 61,
   "id": "303b14b4-b1b2-4d31-86a5-4c93f12e9b57",
   "metadata": {},
   "outputs": [
    {
     "data": {
      "text/plain": [
       "['apple', 'banana', 'kiwi', 'melon']"
      ]
     },
     "execution_count": 61,
     "metadata": {},
     "output_type": "execute_result"
    }
   ],
   "source": [
    "fruits.sort()\n",
    "fruits"
   ]
  },
  {
   "cell_type": "code",
   "execution_count": 62,
   "id": "fa12c169-ce4b-460f-aaf6-4733e1263af6",
   "metadata": {},
   "outputs": [
    {
     "data": {
      "text/plain": [
       "['melon', 'kiwi', 'banana', 'apple']"
      ]
     },
     "execution_count": 62,
     "metadata": {},
     "output_type": "execute_result"
    }
   ],
   "source": [
    "fruits.reverse()\n",
    "fruits"
   ]
  },
  {
   "cell_type": "markdown",
   "id": "94751c0a-29f1-4687-8a80-c3bbbad503f6",
   "metadata": {},
   "source": [
    "#### Customize Sort Function"
   ]
  },
  {
   "cell_type": "code",
   "execution_count": 63,
   "id": "8e739be5-fb2a-4afd-8a01-73c421787313",
   "metadata": {},
   "outputs": [
    {
     "name": "stdout",
     "output_type": "stream",
     "text": [
      "[50, 65, 23, 82, 100]\n"
     ]
    }
   ],
   "source": [
    "# another example \n",
    "def myfunc(n):\n",
    "  return abs(n - 50)\n",
    "\n",
    "thislist = [100, 50, 65, 82, 23]\n",
    "thislist.sort(key = myfunc)\n",
    "print(thislist)"
   ]
  },
  {
   "cell_type": "markdown",
   "id": "16e37a36-80a9-497c-9ceb-00ac4335cca0",
   "metadata": {},
   "source": [
    "### Creating Copy"
   ]
  },
  {
   "cell_type": "markdown",
   "id": "1221ca38-f2f5-46e7-9e33-6cd47bb5db25",
   "metadata": {},
   "source": [
    "#### ```copy()``` - returns a shallow Copy of the list. Modifying the copied list does not affect the original list"
   ]
  },
  {
   "cell_type": "code",
   "execution_count": 64,
   "id": "3d3df173-a201-4312-b693-6bed254436b2",
   "metadata": {},
   "outputs": [
    {
     "name": "stdout",
     "output_type": "stream",
     "text": [
      "Fruits      = ['melon', 'kiwi', 'banana', 'apple']\n"
     ]
    }
   ],
   "source": [
    "print('Fruits      =', fruits)"
   ]
  },
  {
   "cell_type": "code",
   "execution_count": 65,
   "id": "3cc178c8-5641-4e81-9536-6e88ee8aa417",
   "metadata": {},
   "outputs": [
    {
     "name": "stdout",
     "output_type": "stream",
     "text": [
      "Fruits      = ['melon', 'kiwi', 'banana', 'apple']\n",
      "More Fruits = ['melon', 'kiwi', 'banana', 'apple']\n"
     ]
    }
   ],
   "source": [
    "more_fruits = fruits.copy()\n",
    "\n",
    "print('Fruits      =', fruits)\n",
    "print('More Fruits =', more_fruits)"
   ]
  },
  {
   "cell_type": "code",
   "execution_count": 66,
   "id": "947491ff-6a47-4818-adce-ef5adc80d772",
   "metadata": {},
   "outputs": [
    {
     "name": "stdout",
     "output_type": "stream",
     "text": [
      "Fruits      = ['melon', 'kiwi', 'banana', 'apple']\n",
      "More Fruits = ['melon', 'kiwi', 'banana', 'apple', 'mango', 'banana']\n"
     ]
    }
   ],
   "source": [
    "more_fruits.extend(['mango', 'banana'])\n",
    "\n",
    "print('Fruits      =', fruits)\n",
    "print('More Fruits =', more_fruits)"
   ]
  },
  {
   "cell_type": "markdown",
   "id": "3c4dce15-27ce-4b62-8083-060cf847b049",
   "metadata": {},
   "source": [
    "**Note**\\\n",
    "You cannot create a copy of a list by simply creating a new variable using the assignment operator ```=```. \\\n",
    "The new variable will point to the same list and any modifications performed using either variable will affect the other."
   ]
  },
  {
   "cell_type": "code",
   "execution_count": 67,
   "id": "70a5b795-dd20-4456-a1ea-46f6f67025ef",
   "metadata": {},
   "outputs": [
    {
     "name": "stdout",
     "output_type": "stream",
     "text": [
      "More Fruits = ['melon', 'kiwi', 'banana', 'apple', 'mango', 'banana']\n"
     ]
    }
   ],
   "source": [
    "print('More Fruits =', more_fruits)"
   ]
  },
  {
   "cell_type": "code",
   "execution_count": 68,
   "id": "635ee6d1-ffaf-44d3-aee9-d150dcd47dd7",
   "metadata": {},
   "outputs": [],
   "source": [
    "some_fruits = more_fruits"
   ]
  },
  {
   "cell_type": "code",
   "execution_count": 69,
   "id": "c1722c8c-43a0-403a-8343-67695b1ddf27",
   "metadata": {},
   "outputs": [
    {
     "name": "stdout",
     "output_type": "stream",
     "text": [
      "Some Fruits = ['melon', 'kiwi', 'banana', 'mango', 'banana']\n",
      "More Fruits = ['melon', 'kiwi', 'banana', 'mango', 'banana']\n"
     ]
    }
   ],
   "source": [
    "some_fruits.pop(3)\n",
    "#remove 4th element of both list\n",
    "\n",
    "print('Some Fruits =', some_fruits)\n",
    "print('More Fruits =', more_fruits)"
   ]
  },
  {
   "cell_type": "markdown",
   "id": "dc6fd54c-d245-429d-9235-210866c35a70",
   "metadata": {},
   "source": [
    "#### using list() method"
   ]
  },
  {
   "cell_type": "code",
   "execution_count": 70,
   "id": "7c0a8d16-ebc3-4d32-8ecb-18a7d714e603",
   "metadata": {},
   "outputs": [
    {
     "name": "stdout",
     "output_type": "stream",
     "text": [
      "fruits = ['melon', 'kiwi', 'banana', 'apple']\n"
     ]
    }
   ],
   "source": [
    "print('fruits =', fruits)"
   ]
  },
  {
   "cell_type": "code",
   "execution_count": 71,
   "id": "6fcb10b9-d080-4e0c-b86f-98ae78755011",
   "metadata": {},
   "outputs": [
    {
     "data": {
      "text/plain": [
       "['melon', 'kiwi', 'banana', 'apple']"
      ]
     },
     "execution_count": 71,
     "metadata": {},
     "output_type": "execute_result"
    }
   ],
   "source": [
    "new_fruits = list(fruits)\n",
    "new_fruits"
   ]
  },
  {
   "cell_type": "code",
   "execution_count": 72,
   "id": "f8386e6f-ac93-4b4d-8ccc-cd8dd85539f5",
   "metadata": {},
   "outputs": [
    {
     "name": "stdout",
     "output_type": "stream",
     "text": [
      "new_fruits =  ['melon', 'kiwi', 'banana']\n",
      "fruits     =  ['melon', 'kiwi', 'banana', 'apple']\n"
     ]
    }
   ],
   "source": [
    "new_fruits.pop()\n",
    "print('new_fruits = ', new_fruits)\n",
    "print('fruits     = ', fruits)"
   ]
  },
  {
   "cell_type": "markdown",
   "id": "3185d156-f4aa-45b2-9686-e2e645a3af5b",
   "metadata": {},
   "source": [
    "#### using the Slice Operator"
   ]
  },
  {
   "cell_type": "code",
   "execution_count": 73,
   "id": "ae330e9f-fa36-44b3-92c0-b38a424a13c3",
   "metadata": {},
   "outputs": [
    {
     "name": "stdout",
     "output_type": "stream",
     "text": [
      "fruits = ['melon', 'kiwi', 'banana', 'apple']\n"
     ]
    }
   ],
   "source": [
    "print('fruits =', fruits)"
   ]
  },
  {
   "cell_type": "code",
   "execution_count": 74,
   "id": "43348905-da27-4ac4-ab49-0a51b9236473",
   "metadata": {},
   "outputs": [
    {
     "data": {
      "text/plain": [
       "['melon', 'kiwi', 'banana', 'apple']"
      ]
     },
     "execution_count": 74,
     "metadata": {},
     "output_type": "execute_result"
    }
   ],
   "source": [
    "some_fruits = fruits[:]\n",
    "some_fruits"
   ]
  },
  {
   "cell_type": "code",
   "execution_count": 75,
   "id": "e6806e39-2386-4abf-a7e1-1c27728a9a1f",
   "metadata": {},
   "outputs": [
    {
     "name": "stdout",
     "output_type": "stream",
     "text": [
      "some_fruits =  ['melon', 'mango', 'banana', 'apple']\n",
      "fruits      =  ['melon', 'kiwi', 'banana', 'apple']\n"
     ]
    }
   ],
   "source": [
    "some_fruits[1] = 'mango'\n",
    "print('some_fruits = ', some_fruits)\n",
    "print('fruits      = ', fruits)"
   ]
  },
  {
   "cell_type": "markdown",
   "id": "48a171d3-f84c-4f41-b896-49e58f2d3345",
   "metadata": {},
   "source": [
    "### Adding Elements"
   ]
  },
  {
   "cell_type": "markdown",
   "id": "15cdf828-94a8-488e-99d1-44175e432c0c",
   "metadata": {},
   "source": [
    "#### ```append()``` - Adds element to the end of the list."
   ]
  },
  {
   "cell_type": "code",
   "execution_count": 76,
   "id": "6558e927-f771-4f36-a1cc-f49729f3a6b0",
   "metadata": {},
   "outputs": [
    {
     "data": {
      "text/plain": [
       "['melon', 'kiwi', 'banana', 'apple']"
      ]
     },
     "execution_count": 76,
     "metadata": {},
     "output_type": "execute_result"
    }
   ],
   "source": [
    "fruits"
   ]
  },
  {
   "cell_type": "code",
   "execution_count": 77,
   "id": "5b4816a6-3ea2-42e6-80c3-1bcac6f85dce",
   "metadata": {},
   "outputs": [
    {
     "data": {
      "text/plain": [
       "['melon', 'kiwi', 'banana', 'apple', 'dates']"
      ]
     },
     "execution_count": 77,
     "metadata": {},
     "output_type": "execute_result"
    }
   ],
   "source": [
    "fruits.append('dates')\n",
    "fruits"
   ]
  },
  {
   "cell_type": "code",
   "execution_count": 78,
   "id": "5af3900a-19ea-4ffa-a1c7-d11d2bbfc5ac",
   "metadata": {},
   "outputs": [
    {
     "data": {
      "text/plain": [
       "['melon', 'kiwi', 'banana', 'apple', 'dates', 'melon']"
      ]
     },
     "execution_count": 78,
     "metadata": {},
     "output_type": "execute_result"
    }
   ],
   "source": [
    "fruits.append('melon')\n",
    "fruits"
   ]
  },
  {
   "cell_type": "markdown",
   "id": "84196997-0f5f-4a50-8eb5-38b011012a66",
   "metadata": {},
   "source": [
    "#### ```insert()``` - Inserts an element at a specified position.\n"
   ]
  },
  {
   "cell_type": "code",
   "execution_count": 79,
   "id": "bbbab7cc-4da3-41ff-8017-3790d127fc26",
   "metadata": {},
   "outputs": [
    {
     "data": {
      "text/plain": [
       "['melon', 'kiwi', 'banana', 'apple', 'dates', 'melon']"
      ]
     },
     "execution_count": 79,
     "metadata": {},
     "output_type": "execute_result"
    }
   ],
   "source": [
    "fruits"
   ]
  },
  {
   "cell_type": "code",
   "execution_count": 80,
   "id": "ce8c567e-1534-4486-907e-406f3be12e78",
   "metadata": {},
   "outputs": [
    {
     "data": {
      "text/plain": [
       "['melon', 'kiwi', 'banana', 'apple', 'apple', 'dates', 'melon']"
      ]
     },
     "execution_count": 80,
     "metadata": {},
     "output_type": "execute_result"
    }
   ],
   "source": [
    "fruits.insert(-2,'apple')\n",
    "fruits"
   ]
  },
  {
   "cell_type": "code",
   "execution_count": 81,
   "id": "83995d72-d50a-4ef7-9d52-f4c489efed2b",
   "metadata": {},
   "outputs": [
    {
     "data": {
      "text/plain": [
       "['melon', 'banana', 'kiwi', 'banana', 'apple', 'apple', 'dates', 'melon']"
      ]
     },
     "execution_count": 81,
     "metadata": {},
     "output_type": "execute_result"
    }
   ],
   "source": [
    "fruits.insert(1, 'banana')\n",
    "fruits"
   ]
  },
  {
   "cell_type": "markdown",
   "id": "4ab4e82d-2635-4689-8722-b42a259ef699",
   "metadata": {},
   "source": [
    "#### ```extend()``` - Adds elements from another list to the end of the current list."
   ]
  },
  {
   "cell_type": "code",
   "execution_count": 82,
   "id": "5297ac80-9bca-4bce-950d-746eb92e7a83",
   "metadata": {},
   "outputs": [
    {
     "data": {
      "text/plain": [
       "['melon', 'banana', 'kiwi', 'banana', 'apple', 'apple', 'dates', 'melon']"
      ]
     },
     "execution_count": 82,
     "metadata": {},
     "output_type": "execute_result"
    }
   ],
   "source": [
    "fruits"
   ]
  },
  {
   "cell_type": "code",
   "execution_count": 83,
   "id": "0728bd1a-d1bd-4c33-a16f-97f50e636d5a",
   "metadata": {},
   "outputs": [
    {
     "data": {
      "text/plain": [
       "['melon',\n",
       " 'banana',\n",
       " 'kiwi',\n",
       " 'banana',\n",
       " 'apple',\n",
       " 'apple',\n",
       " 'dates',\n",
       " 'melon',\n",
       " 'apple',\n",
       " 'cherry',\n",
       " 'kiwi']"
      ]
     },
     "execution_count": 83,
     "metadata": {},
     "output_type": "execute_result"
    }
   ],
   "source": [
    "fruits.extend(['apple', 'cherry', 'kiwi'])\n",
    "fruits"
   ]
  },
  {
   "cell_type": "markdown",
   "id": "042cbcb0-dbcf-4c04-8926-8167d8b5269c",
   "metadata": {},
   "source": [
    "### Deleting Elements"
   ]
  },
  {
   "cell_type": "markdown",
   "id": "17489b11-ce6d-4566-aa9f-9a43b1417aa1",
   "metadata": {},
   "source": [
    "#### ```clear()``` - removes all elements from the list.\n"
   ]
  },
  {
   "cell_type": "code",
   "execution_count": 84,
   "id": "e274326c-9495-4df3-95da-edf2d0a111f3",
   "metadata": {},
   "outputs": [
    {
     "data": {
      "text/plain": [
       "['melon', 'mango', 'banana', 'apple']"
      ]
     },
     "execution_count": 84,
     "metadata": {},
     "output_type": "execute_result"
    }
   ],
   "source": [
    "some_fruits"
   ]
  },
  {
   "cell_type": "code",
   "execution_count": 85,
   "id": "0bbd950b-db98-48d2-901c-bfd49cc61d21",
   "metadata": {},
   "outputs": [
    {
     "data": {
      "text/plain": [
       "[]"
      ]
     },
     "execution_count": 85,
     "metadata": {},
     "output_type": "execute_result"
    }
   ],
   "source": [
    "some_fruits.clear()\n",
    "some_fruits"
   ]
  },
  {
   "cell_type": "markdown",
   "id": "0dd150f3-54cf-4324-b793-e128eacd1001",
   "metadata": {},
   "source": [
    "#### ```pop()``` - Removes and returns the element at the specified position (or the last element if no index specified).\n"
   ]
  },
  {
   "cell_type": "code",
   "execution_count": 86,
   "id": "594eabf0-7ba5-4070-b3ed-2e3b341b64af",
   "metadata": {},
   "outputs": [
    {
     "data": {
      "text/plain": [
       "['melon',\n",
       " 'banana',\n",
       " 'kiwi',\n",
       " 'banana',\n",
       " 'apple',\n",
       " 'apple',\n",
       " 'dates',\n",
       " 'melon',\n",
       " 'apple',\n",
       " 'cherry',\n",
       " 'kiwi']"
      ]
     },
     "execution_count": 86,
     "metadata": {},
     "output_type": "execute_result"
    }
   ],
   "source": [
    "fruits"
   ]
  },
  {
   "cell_type": "code",
   "execution_count": 87,
   "id": "f588a344-9354-4e49-99aa-e0fb3ee13993",
   "metadata": {},
   "outputs": [
    {
     "data": {
      "text/plain": [
       "['melon',\n",
       " 'banana',\n",
       " 'kiwi',\n",
       " 'banana',\n",
       " 'apple',\n",
       " 'apple',\n",
       " 'dates',\n",
       " 'melon',\n",
       " 'apple',\n",
       " 'cherry']"
      ]
     },
     "execution_count": 87,
     "metadata": {},
     "output_type": "execute_result"
    }
   ],
   "source": [
    "fruits.pop()\n",
    "fruits"
   ]
  },
  {
   "cell_type": "code",
   "execution_count": 88,
   "id": "2c2719ce-c2a9-4150-867e-ece925154c52",
   "metadata": {},
   "outputs": [
    {
     "data": {
      "text/plain": [
       "['melon',\n",
       " 'kiwi',\n",
       " 'banana',\n",
       " 'apple',\n",
       " 'apple',\n",
       " 'dates',\n",
       " 'melon',\n",
       " 'apple',\n",
       " 'cherry']"
      ]
     },
     "execution_count": 88,
     "metadata": {},
     "output_type": "execute_result"
    }
   ],
   "source": [
    "fruits.pop(1)\n",
    "fruits"
   ]
  },
  {
   "cell_type": "code",
   "execution_count": 89,
   "id": "79ac834d-c600-4611-8a5c-0930cc7e0be0",
   "metadata": {},
   "outputs": [
    {
     "data": {
      "text/plain": [
       "['melon', 'kiwi', 'banana', 'apple', 'apple', 'dates', 'apple', 'cherry']"
      ]
     },
     "execution_count": 89,
     "metadata": {},
     "output_type": "execute_result"
    }
   ],
   "source": [
    "fruits.pop(-3)\n",
    "fruits"
   ]
  },
  {
   "cell_type": "markdown",
   "id": "5e23bdb2-a120-4ca4-af7e-f87a9020e906",
   "metadata": {},
   "source": [
    "#### ```remove()``` - Removes the first occurence of a specified element."
   ]
  },
  {
   "cell_type": "code",
   "execution_count": 90,
   "id": "8af96752-47e2-4d22-aff7-b54d92e61f9f",
   "metadata": {},
   "outputs": [
    {
     "data": {
      "text/plain": [
       "['melon', 'kiwi', 'banana', 'apple', 'apple', 'dates', 'apple', 'cherry']"
      ]
     },
     "execution_count": 90,
     "metadata": {},
     "output_type": "execute_result"
    }
   ],
   "source": [
    "fruits"
   ]
  },
  {
   "cell_type": "code",
   "execution_count": 91,
   "id": "580558c3-95ef-4f68-a0c5-98ab5085bfae",
   "metadata": {},
   "outputs": [
    {
     "data": {
      "text/plain": [
       "['melon', 'kiwi', 'banana', 'apple', 'dates', 'apple', 'cherry']"
      ]
     },
     "execution_count": 91,
     "metadata": {},
     "output_type": "execute_result"
    }
   ],
   "source": [
    "fruits.remove('apple')\n",
    "fruits"
   ]
  },
  {
   "cell_type": "markdown",
   "id": "16f393b0-30a2-4dbc-a41f-7cf09399e587",
   "metadata": {},
   "source": [
    "#### ```del``` statement"
   ]
  },
  {
   "cell_type": "code",
   "execution_count": 92,
   "id": "e280d389-2aeb-486e-872a-a83fc6ccd31e",
   "metadata": {},
   "outputs": [
    {
     "data": {
      "text/plain": [
       "['melon', 'kiwi', 'banana', 'mango', 'banana']"
      ]
     },
     "execution_count": 92,
     "metadata": {},
     "output_type": "execute_result"
    }
   ],
   "source": [
    "more_fruits"
   ]
  },
  {
   "cell_type": "code",
   "execution_count": 93,
   "id": "30cf9d38-28b1-4a33-92dc-8fd7ce73be7a",
   "metadata": {},
   "outputs": [
    {
     "data": {
      "text/plain": [
       "['melon', 'kiwi', 'mango', 'banana']"
      ]
     },
     "execution_count": 93,
     "metadata": {},
     "output_type": "execute_result"
    }
   ],
   "source": [
    "del more_fruits[2]\n",
    "more_fruits"
   ]
  },
  {
   "cell_type": "code",
   "execution_count": 94,
   "id": "c4dcf718-bf77-498e-b1c8-61198ffaf46e",
   "metadata": {},
   "outputs": [
    {
     "data": {
      "text/plain": [
       "['melon', 'banana']"
      ]
     },
     "execution_count": 94,
     "metadata": {},
     "output_type": "execute_result"
    }
   ],
   "source": [
    "del more_fruits[1:3]\n",
    "more_fruits"
   ]
  },
  {
   "cell_type": "markdown",
   "id": "c8be5b94-18ee-4078-85f9-52319fe65adf",
   "metadata": {},
   "source": [
    "#### ```count()``` - returns the no. of times a specified element appears in the list. "
   ]
  },
  {
   "cell_type": "code",
   "execution_count": 95,
   "id": "7872b2d5-24f2-483a-bd57-1fab428e7cf7",
   "metadata": {},
   "outputs": [
    {
     "data": {
      "text/plain": [
       "['melon', 'kiwi', 'banana', 'apple', 'dates', 'apple', 'cherry']"
      ]
     },
     "execution_count": 95,
     "metadata": {},
     "output_type": "execute_result"
    }
   ],
   "source": [
    "fruits"
   ]
  },
  {
   "cell_type": "code",
   "execution_count": 96,
   "id": "1b61409a-cc29-4939-bc59-a1b9d3f789a8",
   "metadata": {},
   "outputs": [
    {
     "data": {
      "text/plain": [
       "1"
      ]
     },
     "execution_count": 96,
     "metadata": {},
     "output_type": "execute_result"
    }
   ],
   "source": [
    "fruits.count('kiwi')"
   ]
  },
  {
   "cell_type": "code",
   "execution_count": 97,
   "id": "3c5f3f38-14e1-4300-9a90-625ad2725da8",
   "metadata": {},
   "outputs": [
    {
     "data": {
      "text/plain": [
       "2"
      ]
     },
     "execution_count": 97,
     "metadata": {},
     "output_type": "execute_result"
    }
   ],
   "source": [
    "fruits.count('apple')"
   ]
  },
  {
   "cell_type": "code",
   "execution_count": 98,
   "id": "ddb9d5ae-91e7-49c8-84b3-831eafe3ca3a",
   "metadata": {},
   "outputs": [
    {
     "data": {
      "text/plain": [
       "3"
      ]
     },
     "execution_count": 98,
     "metadata": {},
     "output_type": "execute_result"
    }
   ],
   "source": [
    "fruits.index('apple')"
   ]
  },
  {
   "cell_type": "code",
   "execution_count": 99,
   "id": "41812e2e-1fc8-48af-815f-69c7175fd5ef",
   "metadata": {},
   "outputs": [
    {
     "data": {
      "text/plain": [
       "1"
      ]
     },
     "execution_count": 99,
     "metadata": {},
     "output_type": "execute_result"
    }
   ],
   "source": [
    "fruits.count(fruits[4])"
   ]
  },
  {
   "cell_type": "markdown",
   "id": "e308e992-61c1-4018-b603-f1f352141fd0",
   "metadata": {},
   "source": [
    "---\n",
    "## Nested Lists in Python"
   ]
  },
  {
   "cell_type": "code",
   "execution_count": 100,
   "id": "8cb84c16-c383-42c4-af96-708a0bcf6283",
   "metadata": {},
   "outputs": [],
   "source": [
    "matrix = [\n",
    "    [1, 2, 3, 3.5],\n",
    "    [4, 5, 6],\n",
    "    [7, 8, 9]\n",
    "]"
   ]
  },
  {
   "cell_type": "code",
   "execution_count": 101,
   "id": "ab0f9760-f34b-47a7-8a2d-91fdf42db07f",
   "metadata": {},
   "outputs": [
    {
     "data": {
      "text/plain": [
       "[4, 5, 6]"
      ]
     },
     "execution_count": 101,
     "metadata": {},
     "output_type": "execute_result"
    }
   ],
   "source": [
    "matrix[1]"
   ]
  },
  {
   "cell_type": "code",
   "execution_count": 102,
   "id": "f8364856-0d90-405b-86cf-3d00856c54db",
   "metadata": {},
   "outputs": [
    {
     "data": {
      "text/plain": [
       "6"
      ]
     },
     "execution_count": 102,
     "metadata": {},
     "output_type": "execute_result"
    }
   ],
   "source": [
    "matrix[1][2]"
   ]
  },
  {
   "cell_type": "code",
   "execution_count": 103,
   "id": "a8574187-310d-40fa-a16b-935a07801182",
   "metadata": {},
   "outputs": [
    {
     "data": {
      "text/plain": [
       "3"
      ]
     },
     "execution_count": 103,
     "metadata": {},
     "output_type": "execute_result"
    }
   ],
   "source": [
    "len(matrix)"
   ]
  },
  {
   "cell_type": "code",
   "execution_count": 104,
   "id": "d77d186a-ce84-4dd6-950c-18c205927480",
   "metadata": {},
   "outputs": [
    {
     "data": {
      "text/plain": [
       "4"
      ]
     },
     "execution_count": 104,
     "metadata": {},
     "output_type": "execute_result"
    }
   ],
   "source": [
    "len(matrix[0])"
   ]
  },
  {
   "cell_type": "markdown",
   "id": "49eb4a0e-3507-497a-979e-218f06b06642",
   "metadata": {},
   "source": [
    "---\n",
    "## Other ways to add multiple elements in list are:"
   ]
  },
  {
   "cell_type": "markdown",
   "id": "187cea24-05f6-4a7b-84b3-5933edad5f03",
   "metadata": {},
   "source": [
    "### Slice assignment"
   ]
  },
  {
   "cell_type": "code",
   "execution_count": 105,
   "id": "c03ffa35-0a41-4f48-b165-25b4e1058661",
   "metadata": {},
   "outputs": [
    {
     "name": "stdout",
     "output_type": "stream",
     "text": [
      "[1, 2, 3, 4, 5, 6, 7, 8]\n"
     ]
    }
   ],
   "source": [
    "my_list = [1, 2, 7, 8]\n",
    "elements_to_insert = [3, 4, 5, 6]\n",
    "my_list[2:2] = elements_to_insert  \n",
    "print(my_list)"
   ]
  },
  {
   "cell_type": "markdown",
   "id": "ac9c6f35-d637-4a9e-aa4b-e6e6fc848b46",
   "metadata": {},
   "source": [
    "and when you change the slice part to single value....."
   ]
  },
  {
   "cell_type": "code",
   "execution_count": 106,
   "id": "648bb7ec-4b28-4f81-9b84-df1fe6371a71",
   "metadata": {},
   "outputs": [
    {
     "name": "stdout",
     "output_type": "stream",
     "text": [
      "[1, 2, [3, 4, 5, 6], 8]\n"
     ]
    }
   ],
   "source": [
    "list1 = [1, 2, 7, 8]\n",
    "elements_to_insert = [3, 4, 5, 6]\n",
    "list1[2] = elements_to_insert  \n",
    "print(list1)"
   ]
  },
  {
   "cell_type": "markdown",
   "id": "b5a6da5e-4cbb-43c4-8e96-c23c73f8b5ea",
   "metadata": {},
   "source": [
    "### Concatenation"
   ]
  },
  {
   "cell_type": "code",
   "execution_count": 107,
   "id": "57c13482-36cf-4109-be9d-4f633a01b9cf",
   "metadata": {},
   "outputs": [
    {
     "name": "stdout",
     "output_type": "stream",
     "text": [
      "[1, 2, 3, 4, 5, 6]\n"
     ]
    }
   ],
   "source": [
    "my_list = [1, 2, 3]\n",
    "new_elements = [4, 5, 6]\n",
    "combined_list = my_list + new_elements\n",
    "print(combined_list)"
   ]
  },
  {
   "cell_type": "markdown",
   "id": "603a4d9c-f83b-4a6c-b4c1-5891ac1b4473",
   "metadata": {},
   "source": [
    "### Loop with append()"
   ]
  },
  {
   "cell_type": "code",
   "execution_count": 108,
   "id": "ae92ef6f-ecca-4e5a-b1e4-a594ea7ec80c",
   "metadata": {},
   "outputs": [
    {
     "name": "stdout",
     "output_type": "stream",
     "text": [
      "[1, 2, 3, 4, 5, 6]\n"
     ]
    }
   ],
   "source": [
    "my_list = [1, 2, 3]\n",
    "new_elements = [4, 5, 6]\n",
    "\n",
    "for item in new_elements:\n",
    "    my_list.append(item)\n",
    "\n",
    "print(my_list)"
   ]
  },
  {
   "cell_type": "markdown",
   "id": "275f6e7c-3ea8-4eda-8696-34a12de297a0",
   "metadata": {},
   "source": [
    "***... more on Loops in another .ipynb file dedicated for ```Loops```...***"
   ]
  }
 ],
 "metadata": {
  "kernelspec": {
   "display_name": "Python 3 (ipykernel)",
   "language": "python",
   "name": "python3"
  },
  "language_info": {
   "codemirror_mode": {
    "name": "ipython",
    "version": 3
   },
   "file_extension": ".py",
   "mimetype": "text/x-python",
   "name": "python",
   "nbconvert_exporter": "python",
   "pygments_lexer": "ipython3",
   "version": "3.13.6"
  }
 },
 "nbformat": 4,
 "nbformat_minor": 5
}
