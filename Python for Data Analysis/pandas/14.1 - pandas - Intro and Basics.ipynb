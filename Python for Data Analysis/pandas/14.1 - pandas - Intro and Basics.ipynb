{
 "cells": [
  {
   "cell_type": "markdown",
   "id": "6e002dc9-6563-4b76-bb7c-692f10993cf1",
   "metadata": {},
   "source": [
    "# Python pandas"
   ]
  },
  {
   "cell_type": "markdown",
   "id": "623717cd-9b62-4614-9046-4d81452efcf9",
   "metadata": {},
   "source": [
    "## Introduction to Pandas\n",
    "pandas is an open source, BSD-licensed library providing high-performance, easy-to-use data structures and data analysis tools for the Python programming language. The name of this library is derived from the phrase 'Panel Data' which is a term used in Econometrics which means Datasets that include multiple observations over multiple periods of time.\\\n",
    "\\\n",
    "Unlike NumPy or matplotlib, pandas is NOT one of the essential components of the Python scientific computing tools. It is used largely used by the Data Science community because it makes the work much faster and easier. pandas is built on top of NumPy and it steps on its computational abilities. In that sense, pandas is library that takes advantage of the NumPy array structure, which contributes to the fast execution of mathematical operations. Hence, pandas requires NumPy."
   ]
  },
  {
   "attachments": {},
   "cell_type": "markdown",
   "id": "b117bc20-7869-4a98-a712-446bc5349ed8",
   "metadata": {},
   "source": [
    "| Series | DataFrame |\n",
    "| :-: | :-: |\n",
    "|Single-column data | Multi-column data |\n",
    "| A set of ebservations related to a single variable. | A collection of Series objects, which contains observations related to one or several variables. Hence, the information is organised into rows and columns. |\n",
    "| Corresponds to 1D array structure from NumPy | Corresponds to 2D structure from NumPy |\n",
    "\n",
    "\\\n",
    "A certain tool that is applicable to a Series will most probably be relavant to use on DataFrame as well or vice versa. However, there can be exceptions, which we will discover as we practise and learn further."
   ]
  },
  {
   "cell_type": "markdown",
   "id": "8346e847-7107-41f8-9c1c-28750ddabcd3",
   "metadata": {},
   "source": [
    "### Numpy or pandas, who first?\n",
    "From a *programming perspective*, ```NumPy``` comes first and then ```pandas```, but in the practise of a **data analyst** it's usually the other way around as ```pandas``` focus more on your analytical task and less in the underlying mathematical computations. You'd normally use ```pandas``` to import the data into Python as pandas allows you to easily manipulate data until you've obtained a clean, well-organized dataset, that is ready for preprocessing. Once that is done, the dataset is ready for mathematical computations, which is when, using ```Numpy``` to preprocess data makes sense."
   ]
  },
  {
   "cell_type": "markdown",
   "id": "7f113025-a52f-47cc-b70f-93a47bef51ac",
   "metadata": {},
   "source": [
    "### What problems does ```pandas``` solve?\n",
    "- pandas makes the experience of doing Data Analysis in Python much faster and easier.\n",
    "- it enhances analytical work if your dataset contains missing values or when you have to combine information across several datasets\n",
    "- pandas has the ability to import data from and export data to an extensive set of file formats\n",
    "- while NumPy is the library to opt for when it some to dealing numerical calculations, pandas has specifically designed to help you if have datasets containing multiple types of information.\n",
    "- Preserves Data Consistency: The general rule to maintaning consistent data is that you must have data values of a single type stored in your Series object or in each column of your DataFrame."
   ]
  },
  {
   "cell_type": "markdown",
   "id": "30e2aa3c-405c-497b-82fa-50f839e21ffa",
   "metadata": {},
   "source": [
    "## Installation, Updating and Importing\n",
    "```pip install pandas```"
   ]
  },
  {
   "cell_type": "markdown",
   "id": "0f6379eb-c075-4a48-9c31-fce05b144dc5",
   "metadata": {},
   "source": [
    "To upgrade to the latest version of pandas:\\\n",
    "```pip install pandas --upgrade```"
   ]
  },
  {
   "cell_type": "markdown",
   "id": "7e7a240e-0251-49d2-9a41-25e2207539fa",
   "metadata": {},
   "source": [
    "```pandas``` is usually imported under the pd alias"
   ]
  },
  {
   "cell_type": "code",
   "execution_count": 1,
   "id": "a1a845c7-44fb-4c71-97e1-ee4f8a122197",
   "metadata": {},
   "outputs": [],
   "source": [
    "import pandas as pd"
   ]
  },
  {
   "cell_type": "code",
   "execution_count": 2,
   "id": "f75daeec-e80d-4af5-89ef-7107444ec294",
   "metadata": {},
   "outputs": [
    {
     "data": {
      "text/plain": [
       "'2.3.2'"
      ]
     },
     "execution_count": 2,
     "metadata": {},
     "output_type": "execute_result"
    }
   ],
   "source": [
    "#checking pandas version\n",
    "pd.__version__"
   ]
  },
  {
   "cell_type": "markdown",
   "id": "44cdc098-b114-453c-a801-1a3234869cfb",
   "metadata": {},
   "source": [
    "## Introduction to pandas Series"
   ]
  },
  {
   "cell_type": "code",
   "execution_count": 3,
   "id": "56401648-e0e0-43da-983e-8600df464a55",
   "metadata": {},
   "outputs": [
    {
     "data": {
      "text/plain": [
       "['A', 'B', 'C', 'D']"
      ]
     },
     "execution_count": 3,
     "metadata": {},
     "output_type": "execute_result"
    }
   ],
   "source": [
    "# We can create a 'Series' object from a list\n",
    "products = ['A', 'B', 'C', 'D']\n",
    "products"
   ]
  },
  {
   "cell_type": "code",
   "execution_count": 4,
   "id": "40fa5a6b-4284-44e4-b207-fb2767437c3d",
   "metadata": {},
   "outputs": [
    {
     "data": {
      "text/plain": [
       "list"
      ]
     },
     "execution_count": 4,
     "metadata": {},
     "output_type": "execute_result"
    }
   ],
   "source": [
    "type(products)"
   ]
  },
  {
   "cell_type": "code",
   "execution_count": 5,
   "id": "906775a0-85f1-42fa-b17f-3f1bb99403ca",
   "metadata": {},
   "outputs": [],
   "source": [
    "new_products = pd.Series(products)"
   ]
  },
  {
   "cell_type": "code",
   "execution_count": 6,
   "id": "0696554f-cd03-49ec-b2d1-c8d3c9b8f25e",
   "metadata": {},
   "outputs": [
    {
     "data": {
      "text/plain": [
       "0    A\n",
       "1    B\n",
       "2    C\n",
       "3    D\n",
       "dtype: object"
      ]
     },
     "execution_count": 6,
     "metadata": {},
     "output_type": "execute_result"
    }
   ],
   "source": [
    "new_products"
   ]
  },
  {
   "cell_type": "code",
   "execution_count": 7,
   "id": "7e617ed7-d4a8-4d99-9803-ef60e37b59a7",
   "metadata": {},
   "outputs": [],
   "source": [
    "# we see that 4 letters from the 'products' list have been organized into a column. \n",
    "# the set of values displayed to the left of the letters, those number represent the index values of the Series\n",
    "# dtype being 'object' is the default datatype assigned to data which is not numeric"
   ]
  },
  {
   "cell_type": "code",
   "execution_count": 8,
   "id": "5a2a5b35-8b64-4615-9125-f7d4565fe380",
   "metadata": {},
   "outputs": [
    {
     "data": {
      "text/plain": [
       "pandas.core.series.Series"
      ]
     },
     "execution_count": 8,
     "metadata": {},
     "output_type": "execute_result"
    }
   ],
   "source": [
    "type(new_products)"
   ]
  },
  {
   "cell_type": "code",
   "execution_count": 9,
   "id": "4d5cb271-5e7d-4fc2-af9b-a1209d2b4ec0",
   "metadata": {},
   "outputs": [
    {
     "data": {
      "text/plain": [
       "0    40\n",
       "1    45\n",
       "2    50\n",
       "3    60\n",
       "4    35\n",
       "dtype: int64"
      ]
     },
     "execution_count": 9,
     "metadata": {},
     "output_type": "execute_result"
    }
   ],
   "source": [
    "# numeric data\n",
    "daily_expenses = pd.Series([40, 45, 50, 60, 35])\n",
    "daily_expenses"
   ]
  },
  {
   "cell_type": "code",
   "execution_count": 10,
   "id": "c18fc359-8fd7-4bba-a8d0-bc551b0402cc",
   "metadata": {},
   "outputs": [
    {
     "name": "stdout",
     "output_type": "stream",
     "text": [
      "0    40\n",
      "1    45\n",
      "2    50\n",
      "3    60\n",
      "4    35\n",
      "dtype: int64\n"
     ]
    }
   ],
   "source": [
    "print(daily_expenses)"
   ]
  },
  {
   "cell_type": "code",
   "execution_count": 11,
   "id": "091d592b-82ec-4b7e-9a0f-f6aed556ff71",
   "metadata": {},
   "outputs": [],
   "source": [
    "# pandas Series object corresponds to the 1-D NumPy array structure\n",
    "import numpy as np"
   ]
  },
  {
   "cell_type": "code",
   "execution_count": 12,
   "id": "25a57f25-289f-457c-b790-7492a225c47e",
   "metadata": {},
   "outputs": [
    {
     "data": {
      "text/plain": [
       "array([10, 20, 30, 40, 50])"
      ]
     },
     "execution_count": 12,
     "metadata": {},
     "output_type": "execute_result"
    }
   ],
   "source": [
    "arr1 = np.array([10, 20, 30, 40, 50])\n",
    "arr1"
   ]
  },
  {
   "cell_type": "code",
   "execution_count": 13,
   "id": "22d1129e-2319-4fbc-8215-298e04997f3c",
   "metadata": {},
   "outputs": [
    {
     "data": {
      "text/plain": [
       "numpy.ndarray"
      ]
     },
     "execution_count": 13,
     "metadata": {},
     "output_type": "execute_result"
    }
   ],
   "source": [
    "type(arr1)"
   ]
  },
  {
   "cell_type": "code",
   "execution_count": 14,
   "id": "77c1639f-15a3-4ce1-8657-116ee1933fb9",
   "metadata": {},
   "outputs": [
    {
     "data": {
      "text/plain": [
       "0    10\n",
       "1    20\n",
       "2    30\n",
       "3    40\n",
       "4    50\n",
       "dtype: int64"
      ]
     },
     "execution_count": 14,
     "metadata": {},
     "output_type": "execute_result"
    }
   ],
   "source": [
    "series1 = pd.Series(arr1)\n",
    "series1"
   ]
  },
  {
   "cell_type": "code",
   "execution_count": 15,
   "id": "79276234-8b8d-406e-ae40-ed41506a1759",
   "metadata": {},
   "outputs": [
    {
     "data": {
      "text/plain": [
       "pandas.core.series.Series"
      ]
     },
     "execution_count": 15,
     "metadata": {},
     "output_type": "execute_result"
    }
   ],
   "source": [
    "type(series1)"
   ]
  },
  {
   "cell_type": "markdown",
   "id": "15489039-7d77-468c-a1db-87c65fb150be",
   "metadata": {},
   "source": [
    "#### Key Takeaways:\n",
    "1. The ```pandas``` Series object is something like a powerful version os the Python list, or an enhanced version of the NumPy array.\\\n",
    "This doesn't mean that 'Series' should be the preferred choice between the three no matter what.\\\n",
    "Since there's always a trade-off in terms of:\n",
    "\n",
    "> *what you want to obtain from you data* **vs**\\\n",
    "> *the speed and precision with which you can do that*\n",
    "\n",
    "However, if in a given situation, you have opted for using a 'Series', this will entail working with a larger set of tools and capabilities that are pertinent to the ```pandas library``` only. These tools and capabilities are often related to the fact that the 'Series' object stores it values in a sequenced order, and has an *explicit index*.\n",
    "\n",
    "2. Remember to always maintain ***data consistency***"
   ]
  },
  {
   "cell_type": "markdown",
   "id": "329fab38-50bd-46fd-977a-16eb206f44f4",
   "metadata": {},
   "source": [
    "## Working with Attributes in Python"
   ]
  },
  {
   "cell_type": "code",
   "execution_count": 16,
   "id": "68e061e3-2baa-4a28-add5-b6ebc9ad5a71",
   "metadata": {},
   "outputs": [
    {
     "data": {
      "text/plain": [
       "0    10\n",
       "1    20\n",
       "2    30\n",
       "3    40\n",
       "4    50\n",
       "dtype: int64"
      ]
     },
     "execution_count": 16,
     "metadata": {},
     "output_type": "execute_result"
    }
   ],
   "source": [
    "series1"
   ]
  },
  {
   "cell_type": "code",
   "execution_count": 17,
   "id": "2bae0609-b322-49cf-9a7d-f7a9976a4041",
   "metadata": {},
   "outputs": [
    {
     "data": {
      "text/plain": [
       "dtype('int64')"
      ]
     },
     "execution_count": 17,
     "metadata": {},
     "output_type": "execute_result"
    }
   ],
   "source": [
    "series1.dtype"
   ]
  },
  {
   "cell_type": "code",
   "execution_count": 18,
   "id": "02d88294-ecab-45eb-88fe-0598cca14f2a",
   "metadata": {},
   "outputs": [
    {
     "data": {
      "text/plain": [
       "5"
      ]
     },
     "execution_count": 18,
     "metadata": {},
     "output_type": "execute_result"
    }
   ],
   "source": [
    "series1.size"
   ]
  },
  {
   "cell_type": "code",
   "execution_count": 19,
   "id": "29cd16ed-d9f7-4d51-bd5c-845847b9772e",
   "metadata": {},
   "outputs": [
    {
     "data": {
      "text/plain": [
       "0    A\n",
       "1    B\n",
       "2    C\n",
       "3    D\n",
       "dtype: object"
      ]
     },
     "execution_count": 19,
     "metadata": {},
     "output_type": "execute_result"
    }
   ],
   "source": [
    "new_products"
   ]
  },
  {
   "cell_type": "code",
   "execution_count": 20,
   "id": "95f0afb7-330a-4f88-be92-ad0755a6f967",
   "metadata": {},
   "outputs": [
    {
     "data": {
      "text/plain": [
       "dtype('O')"
      ]
     },
     "execution_count": 20,
     "metadata": {},
     "output_type": "execute_result"
    }
   ],
   "source": [
    "new_products.dtype"
   ]
  },
  {
   "cell_type": "code",
   "execution_count": 21,
   "id": "34aaa680-d475-47f4-a192-8c5ad3c12921",
   "metadata": {},
   "outputs": [
    {
     "data": {
      "text/plain": [
       "4"
      ]
     },
     "execution_count": 21,
     "metadata": {},
     "output_type": "execute_result"
    }
   ],
   "source": [
    "new_products.size"
   ]
  },
  {
   "cell_type": "markdown",
   "id": "7991feef-c033-4172-95ac-ac7bef1f0a1f",
   "metadata": {},
   "source": [
    "#### Attributes of certain Class coming to play\n",
    "We already know that *attributes* deliver information about a given object, but how do they do that?\\\n",
    "They do that by returning a seperate Python object. In fact, the benefit of this is that you can use the returned object in larger expressions about programming.\\\n",
    "For instance, if we ask for the *size* of any Series as an argument of the *type* function, we will recieve the output as 'int' saying that the value is an integer."
   ]
  },
  {
   "cell_type": "code",
   "execution_count": 22,
   "id": "4d766c0b-20c5-4214-b5f9-733e58af3f48",
   "metadata": {},
   "outputs": [
    {
     "data": {
      "text/plain": [
       "int"
      ]
     },
     "execution_count": 22,
     "metadata": {},
     "output_type": "execute_result"
    }
   ],
   "source": [
    "type(new_products.size)"
   ]
  },
  {
   "cell_type": "markdown",
   "id": "8fff688f-f57d-4967-93d8-84d53197386e",
   "metadata": {},
   "source": [
    "Therefore, the number of elements stored in the variable can be referred to in further calculations by using the short expression.\\\n",
    "Another peculiarity, when using attributes, is that at a certain moment in time, they may contain no specific value. Here's an example"
   ]
  },
  {
   "cell_type": "code",
   "execution_count": 23,
   "id": "c76afdeb-e6ed-48d2-a259-65c4dec3b0fe",
   "metadata": {},
   "outputs": [],
   "source": [
    "new_products.name"
   ]
  },
  {
   "cell_type": "code",
   "execution_count": 24,
   "id": "0e735036-6c26-4a88-abaa-05c963913122",
   "metadata": {},
   "outputs": [
    {
     "name": "stdout",
     "output_type": "stream",
     "text": [
      "None\n"
     ]
    }
   ],
   "source": [
    "print(new_products.name)"
   ]
  },
  {
   "cell_type": "markdown",
   "id": "584e5f6b-5f24-4950-bbc2-6ef0b049a52d",
   "metadata": {},
   "source": [
    "Something to keep in mind:\n",
    "> 'new_products' - the name we can use to refer to that object in our code.\\\n",
    "> Object name - the one you want to see whenever displaying its contents.\n",
    "\n",
    "In other words, you can say that you are working the *new_products* Object in your program but the name you want to associate it with its data can be a different one."
   ]
  },
  {
   "cell_type": "code",
   "execution_count": 25,
   "id": "f2578622-a086-4048-bc95-2268b3083f54",
   "metadata": {},
   "outputs": [
    {
     "data": {
      "text/plain": [
       "0    A\n",
       "1    B\n",
       "2    C\n",
       "3    D\n",
       "Name: New Products, dtype: object"
      ]
     },
     "execution_count": 25,
     "metadata": {},
     "output_type": "execute_result"
    }
   ],
   "source": [
    "new_products.name = \"New Products\"\n",
    "new_products"
   ]
  },
  {
   "cell_type": "code",
   "execution_count": 26,
   "id": "4721649a-8b46-4002-89af-419176c5dc4b",
   "metadata": {},
   "outputs": [
    {
     "name": "stdout",
     "output_type": "stream",
     "text": [
      "0    A\n",
      "1    B\n",
      "2    C\n",
      "3    D\n",
      "Name: New Products, dtype: object\n"
     ]
    }
   ],
   "source": [
    "print(new_products)"
   ]
  },
  {
   "cell_type": "markdown",
   "id": "8a6d1296-b7a0-4bed-a68e-c906859035df",
   "metadata": {},
   "source": [
    "The attributes related to a certain Python object allow us to extract information about it.\\\n",
    "However, they are not meant to alter or modify its content in any way."
   ]
  },
  {
   "cell_type": "markdown",
   "id": "865e739d-91fa-4fd5-9a23-d3df6824d05f",
   "metadata": {},
   "source": [
    "## Using an Index in pandas"
   ]
  },
  {
   "cell_type": "markdown",
   "id": "cb70bdf3-1e12-48bb-91a9-f8b3ed7f9dbb",
   "metadata": {},
   "source": [
    "In Pandas, the index is a crucial component of both Series and DataFrame objects, serving as a set of labels that identify each row (or column in the case of Series when transposing). It provides a mechanism for efficient data access, alignment, and identification.\\\n",
    "\\\n",
    "While explaining the use of an Index, we will work with a Series created from a *Dictionary* as opposed to a list or array."
   ]
  },
  {
   "cell_type": "code",
   "execution_count": 27,
   "id": "90da1792-c68d-4ea5-90b4-df576727150a",
   "metadata": {},
   "outputs": [
    {
     "data": {
      "text/plain": [
       "{'Product A': 22250, 'Product B': 16600, 'Product C': 15600}"
      ]
     },
     "execution_count": 27,
     "metadata": {},
     "output_type": "execute_result"
    }
   ],
   "source": [
    "prices_per_category = {'Product A': 22250, 'Product B': 16600, 'Product C': 15600}\n",
    "prices_per_category"
   ]
  },
  {
   "cell_type": "code",
   "execution_count": 28,
   "id": "3cbae6a6-ff23-47c3-a947-712343e67d7c",
   "metadata": {},
   "outputs": [
    {
     "data": {
      "text/plain": [
       "dict"
      ]
     },
     "execution_count": 28,
     "metadata": {},
     "output_type": "execute_result"
    }
   ],
   "source": [
    "type(prices_per_category)"
   ]
  },
  {
   "cell_type": "code",
   "execution_count": 29,
   "id": "ec884267-b9f4-4712-a538-be626a62dbec",
   "metadata": {},
   "outputs": [
    {
     "data": {
      "text/plain": [
       "Product A    22250\n",
       "Product B    16600\n",
       "Product C    15600\n",
       "dtype: int64"
      ]
     },
     "execution_count": 29,
     "metadata": {},
     "output_type": "execute_result"
    }
   ],
   "source": [
    "prices_per_category = pd.Series(prices_per_category)\n",
    "prices_per_category"
   ]
  },
  {
   "cell_type": "code",
   "execution_count": 30,
   "id": "41e40c7d-a02d-4fe5-8a88-fa294e003c18",
   "metadata": {},
   "outputs": [
    {
     "data": {
      "text/plain": [
       "pandas.core.series.Series"
      ]
     },
     "execution_count": 30,
     "metadata": {},
     "output_type": "execute_result"
    }
   ],
   "source": [
    "type(prices_per_category)"
   ]
  },
  {
   "cell_type": "markdown",
   "id": "28d633c2-94e9-4e1d-84f1-02c8f1397b1a",
   "metadata": {},
   "source": [
    "We can see that the *keys* have been translated to *index values*. These indices act as access labels that can explicitly indicate the integer values we have on the right side.\\\n",
    "This is exactly what a Series index needs to do.\\\n",
    "It contains *Index Values* that point to the relevant *Data Points*, stored in a Series."
   ]
  },
  {
   "cell_type": "markdown",
   "id": "4e2d0989-9b75-4213-b2e1-c475dd7e7a23",
   "metadata": {},
   "source": [
    "The Series *index* is seperate object."
   ]
  },
  {
   "cell_type": "code",
   "execution_count": 31,
   "id": "bb4ce2d6-0da4-473f-9b2e-2b537e185f99",
   "metadata": {},
   "outputs": [
    {
     "data": {
      "text/plain": [
       "Index(['Product A', 'Product B', 'Product C'], dtype='object')"
      ]
     },
     "execution_count": 31,
     "metadata": {},
     "output_type": "execute_result"
    }
   ],
   "source": [
    "prices_per_category.index"
   ]
  },
  {
   "cell_type": "code",
   "execution_count": 33,
   "id": "57f355d8-19c9-439d-b13b-3c5498c33390",
   "metadata": {},
   "outputs": [
    {
     "data": {
      "text/plain": [
       "pandas.core.indexes.base.Index"
      ]
     },
     "execution_count": 33,
     "metadata": {},
     "output_type": "execute_result"
    }
   ],
   "source": [
    "type(prices_per_category.index)"
   ]
  },
  {
   "cell_type": "markdown",
   "id": "9637a3ee-4414-4ee9-ab76-3fd65861f224",
   "metadata": {},
   "source": [
    "Using indexes has many practical applications when working with pandas. Few crucial points to remember:\n",
    "1. An *index* allows you to refer to a position within a sequence, or, in other words, a set of values in a sequenced order.\n",
    "2. You will be able to quickly access the prices of the relevant categories through their respective *indices*\n",
    "3. The *index* data stucture will often turn out to be a way to speed up your computations while working with large datasets."
   ]
  },
  {
   "cell_type": "markdown",
   "id": "4b9b6aa6-f74d-468a-96ff-6cd138e144d1",
   "metadata": {},
   "source": [
    "## Label based vs Position bases Indexing"
   ]
  },
  {
   "cell_type": "markdown",
   "id": "d2d38e3e-28ac-41dc-bfc9-c2b7a64d81f1",
   "metadata": {},
   "source": [
    "In pandas, you can also have *implicit indices*. "
   ]
  },
  {
   "cell_type": "code",
   "execution_count": null,
   "id": "646c037c-3786-4c43-a31f-7ed659324029",
   "metadata": {},
   "outputs": [],
   "source": []
  },
  {
   "cell_type": "markdown",
   "id": "79ed1ca7-d35c-4d34-9fe4-b0dea260dab8",
   "metadata": {},
   "source": [
    "## More on working with Indices in Python"
   ]
  },
  {
   "cell_type": "code",
   "execution_count": null,
   "id": "39b33d08-d898-4628-ada6-e4b3659290fd",
   "metadata": {},
   "outputs": [],
   "source": []
  },
  {
   "cell_type": "markdown",
   "id": "b3a0d7a0-fa60-4987-b851-2546ce545981",
   "metadata": {},
   "source": [
    "## Using Method in Python"
   ]
  },
  {
   "cell_type": "code",
   "execution_count": null,
   "id": "abebbb8d-60c1-4042-b706-38a5b2a812f3",
   "metadata": {},
   "outputs": [],
   "source": []
  },
  {
   "cell_type": "markdown",
   "id": "c0188a91-9ccf-4ace-b582-0c6e4d35d6de",
   "metadata": {},
   "source": [
    "## Parameters vs Arguments"
   ]
  },
  {
   "cell_type": "code",
   "execution_count": null,
   "id": "191b82e0-c909-409e-a517-22f98829c70b",
   "metadata": {},
   "outputs": [],
   "source": []
  },
  {
   "cell_type": "code",
   "execution_count": null,
   "id": "db45bcef-bd0c-4f6d-9629-fd20aad719a5",
   "metadata": {},
   "outputs": [],
   "source": []
  }
 ],
 "metadata": {
  "kernelspec": {
   "display_name": "Python 3 (ipykernel)",
   "language": "python",
   "name": "python3"
  },
  "language_info": {
   "codemirror_mode": {
    "name": "ipython",
    "version": 3
   },
   "file_extension": ".py",
   "mimetype": "text/x-python",
   "name": "python",
   "nbconvert_exporter": "python",
   "pygments_lexer": "ipython3",
   "version": "3.13.6"
  }
 },
 "nbformat": 4,
 "nbformat_minor": 5
}
