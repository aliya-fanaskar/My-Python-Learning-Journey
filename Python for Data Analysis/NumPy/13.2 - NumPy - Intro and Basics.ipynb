{
 "cells": [
  {
   "cell_type": "markdown",
   "id": "29c1157b-b301-4274-9539-bafe3da52082",
   "metadata": {},
   "source": [
    "# Numpy - Introduction and Basic Operations\n",
    "Numpy is a fundamental package for scientific computing with Python. It is a Python library used for working with arrays. It stands for Numerical Python.\\\n",
    "In Python, we have lists that serve the purpose of arrays, but they are slow to process. Unlike Python's built'in lists, NumPy arrays are faster (because they are stored in contiguous memory blocks), more memory efficient and capable of vectorized operations (no need for slow Python loops).\\\n",
    "\\\n",
    "It provides:\n",
    "- N-dimensional array objects (```ndarray```)\n",
    "- Broadcasting - perform operations on arrays of different shapes.\n",
    "- Mathematical, statistical and other functions to operate on these arrays efficiently\n",
    "- Tools for linear algebra, Fourier transforms, random number generation, and more\n",
    "- Integration with other libraries (like Pandas SciPy, scikit-learn, etc.)\n",
    "\n",
    "It is a Python library and is written partially in Python, but most of the parts that require fast computation are written in C or C++.\\\n",
    "NumPy source code github repository : https://github.com/numpy/numpy \\\n",
    "NumPy Documentation : https://numpy.org/doc/stable/user/index.html \\\n",
    "\\\n",
    "The ```data``` in *Data Analysis* typically refers to numerical data e.g. stock prices, sales figures, sensor measurements, sports scores, database tables etc.\\\n",
    "The ```Numpy``` library provides specialized data structures, functions and other tools for numerical computing in Python."
   ]
  },
  {
   "cell_type": "markdown",
   "id": "550ef71d-9b90-4702-bf9f-a88c1cfd09ea",
   "metadata": {},
   "source": [
    "## Data Types in NumPy"
   ]
  },
  {
   "cell_type": "markdown",
   "id": "b61b50b9-2944-495e-91b8-cd69b85fcb34",
   "metadata": {},
   "source": [
    "NumPy provides a rich set of data types that extend beyind regular Python types to support efficient array operations, particularly for numerical and scientific computing.\n",
    "\n",
    "| Type | Description | - |\n",
    "| :- | :- | :- |\n",
    "| np.int8 | 8-bit signed integer | -128 to 127 |\n",
    "| np.int16, 32, 64 | 16, 32, 64-bit signed integer |  |\n",
    "| np.uint8 | 8-bit unsigned integer | 0 to 255 |\n",
    "| np.uint16, 32, 64 | 16, 32, 64-bit unsigned integer |  |\n",
    "| np.float16, 32, 64 | half, single, double precision float | ~3, ~7, ~15 decimal places |\n",
    "| np.complex65, 128 | complex number |  |\n",
    "| np.bool_| Boolean |  |\n",
    "| np.str_ | Unicode string (fixed size) |  |\n",
    "| np.bytes_ | Byte string (ASCII, fixed size) |  |\n",
    "| np.object_ | Generic Python object (slowest, flexible) |  |\n",
    "| np.datetime64 | Date / Time |  |\n",
    "| np.timedelta64 | Difference between two datetimes |  |\n",
    "| aaa | aaa |  |\n"
   ]
  },
  {
   "cell_type": "markdown",
   "id": "86e07951-7daa-4c01-b553-a6b84d67e34d",
   "metadata": {},
   "source": [
    "**So what happenes when we use just 'int' or 'float' instead of int32 or float16?**\\\n",
    "When you use plain ```int``` or ```float``` in NumPy, it maps those to the platform’s default integer and float types.\n",
    "- int → np.int32 or np.int64\n",
    "- float → np.float64\n",
    "  \n",
    "\n",
    "**Why this matters?**\\\n",
    "Using ```int``` or ```float``` is more readable and cross-platform.\\\n",
    "But if you need to conserve memory or ensure specific types (e.g. for binary files, machine learning models, GPU processing), use fixed-width types like np.int32 or np.float32.\\\n",
    "You can check how int/float behave on your current system using the ```np.dtype()``` attribute\n"
   ]
  },
  {
   "cell_type": "markdown",
   "id": "c3b9afcb-eba2-4b76-ab7f-1410e3a43223",
   "metadata": {},
   "source": [
    "## Installation, Updating and Importing\n",
    "```pip install numpy```"
   ]
  },
  {
   "cell_type": "markdown",
   "id": "10b4ee04-91d0-4c2f-916b-d1e7b2edbf5b",
   "metadata": {},
   "source": [
    "To upgrade to the latest version of NumPy\\\n",
    "```pip install numpy --upgrade```"
   ]
  },
  {
   "cell_type": "markdown",
   "id": "66500bea-5884-40d3-8009-6076d7c82b6f",
   "metadata": {},
   "source": [
    "```Numpy``` is usually imported under the np alias"
   ]
  },
  {
   "cell_type": "code",
   "execution_count": 3,
   "id": "f73eb42a-dc1b-4e32-a24a-7b2cb2d4c4da",
   "metadata": {},
   "outputs": [],
   "source": [
    "import numpy as np"
   ]
  },
  {
   "cell_type": "code",
   "execution_count": 4,
   "id": "498a737e-2309-481f-a122-b31c87382895",
   "metadata": {},
   "outputs": [
    {
     "data": {
      "text/plain": [
       "'2.3.3'"
      ]
     },
     "execution_count": 4,
     "metadata": {},
     "output_type": "execute_result"
    }
   ],
   "source": [
    "# checking numpy version\n",
    "np.__version__"
   ]
  },
  {
   "cell_type": "markdown",
   "id": "69a8443d-8165-44c9-bda0-a911ec38a6c5",
   "metadata": {},
   "source": [
    "## NumPy Arrays\n",
    "In computer science, an ***array*** is a fundamental data structure that stores a collection of elements, typically of the same data type, in contiguous memory locations.\\\n",
    "Each element is identified by an index, a number that allows direct access to the element's value.\\\n",
    "Arrays are linear, ordered collections that are essential for implementing other data structures and solving various programming problems.\\\n",
    "Why Arrays are used?:\n",
    "- **Organization of Data**: Arrays provide a structured way to group and manage multiple related data points under a single variable name.\n",
    "- **Foundation for Other Data Structures**: They are often used as the underlying structure for more complex data structures, such as stacks, queues, and heaps.\n",
    "- **Efficiency in Certain Operations**: Their contiguous nature allows for efficient calculation of element positions, simplifying certain operations like traversal and search.\n",
    "\n",
    "\\\n",
    "A **```NumPy array```** is the fundamental data structure of the NumPy library in Python, designed for efficient numerical operations.\\\n",
    "It is also known as an ```ndarray``` (N-dimensional array) and has the following key characteristics :\n",
    "- **Homogeneous Data Type**: All elements within a NumPy array must be of the same data type (e.g., all integers, all floats). This allows for efficient memory storage and faster computations compared to Python lists, which can store elements of different types.\n",
    "- **Fixed Size**: Unlike Python lists, NumPy arrays have a fixed size at creation. Modifying the size of an array typically involves creating a new array and discarding the old one.\n",
    "- **Multidimensional**: NumPy arrays can have any number of dimensions (axes), allowing for representation of various data structures like vectors (1D), matrices (2D), and higher-dimensional tensors.\n",
    "- **Efficient Operations**: NumPy provides a wide range of optimized functions and methods for performing mathematical and logical operations on entire arrays or specific subsets, often leveraging C/C++ implementations for speed.\n",
    "- **Foundation for Scientific Computing**: NumPy arrays are the cornerstone of many other scientific and data-related Python libraries, including SciPy, scikit-learn, Pandas, TensorFlow, and PyTorch."
   ]
  },
  {
   "cell_type": "markdown",
   "id": "14338831-34e1-4ecf-916b-4b35e6b1d40d",
   "metadata": {},
   "source": [
    "## Creating Arrays"
   ]
  },
  {
   "cell_type": "code",
   "execution_count": 3,
   "id": "7ef0d43a-8aef-40fd-8b56-8cd1f2736afa",
   "metadata": {},
   "outputs": [
    {
     "data": {
      "text/plain": [
       "array([1, 2, 3, 4])"
      ]
     },
     "execution_count": 3,
     "metadata": {},
     "output_type": "execute_result"
    }
   ],
   "source": [
    "# From Python list\n",
    "arr = np.array([1, 2, 3, 4])\n",
    "arr"
   ]
  },
  {
   "cell_type": "code",
   "execution_count": 4,
   "id": "e33a5a92-adb4-4849-be8e-572d85bbdc00",
   "metadata": {},
   "outputs": [
    {
     "data": {
      "text/plain": [
       "array([11, 12, 25, 29, 40])"
      ]
     },
     "execution_count": 4,
     "metadata": {},
     "output_type": "execute_result"
    }
   ],
   "source": [
    "list1 = [11, 12, 25, 29, 40]\n",
    "arr2 = np.array(list1)\n",
    "arr2\n"
   ]
  },
  {
   "cell_type": "code",
   "execution_count": 5,
   "id": "17c53543-507b-40f9-97bd-c48b52130055",
   "metadata": {},
   "outputs": [
    {
     "name": "stdout",
     "output_type": "stream",
     "text": [
      "list1 is  <class 'list'>\n",
      "arr2 is <class 'numpy.ndarray'>\n"
     ]
    }
   ],
   "source": [
    "print('list1 is ', type(list1))\n",
    "print('arr2 is', type(arr2))"
   ]
  },
  {
   "cell_type": "code",
   "execution_count": 6,
   "id": "9ab177e6-2b4e-4286-b336-7e86bf03a24f",
   "metadata": {},
   "outputs": [
    {
     "data": {
      "text/plain": [
       "array([[1, 2],\n",
       "       [3, 4]])"
      ]
     },
     "execution_count": 6,
     "metadata": {},
     "output_type": "execute_result"
    }
   ],
   "source": [
    "#2D Array\n",
    "arr2d = np.array([[1, 2], [3, 4]])\n",
    "arr2d"
   ]
  },
  {
   "cell_type": "markdown",
   "id": "bb10c4e8-a29c-4a09-9baf-ef9833ef5ccd",
   "metadata": {},
   "source": [
    "## Other ways of Creating Numpy arrays\n",
    "Numpy also provides some handy funcions to create arrays of a desired shape with fixed or random values."
   ]
  },
  {
   "cell_type": "code",
   "execution_count": 5,
   "id": "8a532fc1-d6f4-4e89-969d-bde73521672c",
   "metadata": {},
   "outputs": [
    {
     "data": {
      "text/plain": [
       "array([[0., 0.],\n",
       "       [0., 0.],\n",
       "       [0., 0.]])"
      ]
     },
     "execution_count": 5,
     "metadata": {},
     "output_type": "execute_result"
    }
   ],
   "source": [
    "# All zeros\n",
    "np.zeros((3, 2))"
   ]
  },
  {
   "cell_type": "code",
   "execution_count": 6,
   "id": "bd410532-e258-4a6e-851c-8f46f8a0b1b4",
   "metadata": {},
   "outputs": [
    {
     "data": {
      "text/plain": [
       "array([[[1., 1., 1.],\n",
       "        [1., 1., 1.]],\n",
       "\n",
       "       [[1., 1., 1.],\n",
       "        [1., 1., 1.]]])"
      ]
     },
     "execution_count": 6,
     "metadata": {},
     "output_type": "execute_result"
    }
   ],
   "source": [
    "# All ones\n",
    "np.ones((2, 2, 3))"
   ]
  },
  {
   "cell_type": "code",
   "execution_count": 7,
   "id": "4129aac8-7fdb-48af-8cd5-d458c65d4622",
   "metadata": {},
   "outputs": [
    {
     "data": {
      "text/plain": [
       "array([[1., 0., 0.],\n",
       "       [0., 1., 0.],\n",
       "       [0., 0., 1.]])"
      ]
     },
     "execution_count": 7,
     "metadata": {},
     "output_type": "execute_result"
    }
   ],
   "source": [
    "# Identity matrix\n",
    "np.eye(3)"
   ]
  },
  {
   "cell_type": "code",
   "execution_count": 8,
   "id": "5856def7-47bb-460d-956e-390e147a4db2",
   "metadata": {},
   "outputs": [
    {
     "data": {
      "text/plain": [
       "array([[1., 0., 0., 0.],\n",
       "       [0., 1., 0., 0.],\n",
       "       [0., 0., 1., 0.],\n",
       "       [0., 0., 0., 1.]])"
      ]
     },
     "execution_count": 8,
     "metadata": {},
     "output_type": "execute_result"
    }
   ],
   "source": [
    "np.eye(4)"
   ]
  },
  {
   "cell_type": "code",
   "execution_count": 15,
   "id": "48f06eae-e9fc-49d6-9d10-ee7a45f81737",
   "metadata": {},
   "outputs": [
    {
     "data": {
      "text/plain": [
       "array([0.04643829, 0.17416138, 0.35861977, 0.70645494, 0.98673393])"
      ]
     },
     "execution_count": 15,
     "metadata": {},
     "output_type": "execute_result"
    }
   ],
   "source": [
    "# Random vector\n",
    "np.random.rand(5)        #rand picks no. from 0 to 1"
   ]
  },
  {
   "cell_type": "code",
   "execution_count": 10,
   "id": "0cb62eed-74e7-4ea9-ad9c-82b0bce40971",
   "metadata": {},
   "outputs": [
    {
     "data": {
      "text/plain": [
       "array([[ 0.50586774,  0.57112707, -1.18194841],\n",
       "       [ 0.3841904 ,  0.91142005,  2.24529   ]])"
      ]
     },
     "execution_count": 10,
     "metadata": {},
     "output_type": "execute_result"
    }
   ],
   "source": [
    "# Random matrix\n",
    "np.random.randn(2, 3)    # randn picks no from gaussian distn (approx -2 to 2)"
   ]
  },
  {
   "cell_type": "code",
   "execution_count": 11,
   "id": "2d1f7b6e-e5c8-49d6-a124-7320163b21fb",
   "metadata": {},
   "outputs": [
    {
     "data": {
      "text/plain": [
       "array([[42, 42, 42],\n",
       "       [42, 42, 42]])"
      ]
     },
     "execution_count": 11,
     "metadata": {},
     "output_type": "execute_result"
    }
   ],
   "source": [
    "# Fixed value\n",
    "np.full((2, 3), 42)"
   ]
  },
  {
   "cell_type": "code",
   "execution_count": 12,
   "id": "3e99ecc0-8c0b-495d-b77c-271a322a5959",
   "metadata": {},
   "outputs": [
    {
     "data": {
      "text/plain": [
       "array([10, 13, 16, 19, 22, 25, 28, 31, 34, 37, 40, 43, 46, 49, 52, 55, 58,\n",
       "       61, 64, 67, 70, 73, 76, 79, 82, 85, 88])"
      ]
     },
     "execution_count": 12,
     "metadata": {},
     "output_type": "execute_result"
    }
   ],
   "source": [
    "# Range with start, end and step\n",
    "np.arange(10, 90, 3)"
   ]
  },
  {
   "cell_type": "code",
   "execution_count": 13,
   "id": "13f6ebe2-4db5-4306-9336-5389d627ed3d",
   "metadata": {},
   "outputs": [
    {
     "data": {
      "text/plain": [
       "array([[[10, 13, 16],\n",
       "        [19, 22, 25],\n",
       "        [28, 31, 34]],\n",
       "\n",
       "       [[37, 40, 43],\n",
       "        [46, 49, 52],\n",
       "        [55, 58, 61]],\n",
       "\n",
       "       [[64, 67, 70],\n",
       "        [73, 76, 79],\n",
       "        [82, 85, 88]]])"
      ]
     },
     "execution_count": 13,
     "metadata": {},
     "output_type": "execute_result"
    }
   ],
   "source": [
    "np.arange(10, 90, 3).reshape(3, 3, 3)"
   ]
  },
  {
   "cell_type": "code",
   "execution_count": 14,
   "id": "bcc0156e-99c7-4a8b-b2d1-aae2f2e58e5d",
   "metadata": {},
   "outputs": [
    {
     "data": {
      "text/plain": [
       "array([ 3.,  6.,  9., 12., 15., 18., 21., 24., 27.])"
      ]
     },
     "execution_count": 14,
     "metadata": {},
     "output_type": "execute_result"
    }
   ],
   "source": [
    "# Equally spaced numbers in a range\n",
    "np.linspace(3, 27, 9)"
   ]
  },
  {
   "cell_type": "markdown",
   "id": "ffe9dbe0-3980-499f-95f2-808eb2454ed4",
   "metadata": {},
   "source": [
    "## Useful Attributes\n",
    "- ```ndim``` : re.turns integer representing the dimension of the array.\n",
    "- ```shape``` : returns tuple indicating the size of array alon each dimension.\n",
    "- ```dtype``` : returns object representing the data types of the elements in the array.\n",
    "- ```size``` : returns integer representing the total number of elements in the array.\n",
    "- ```itemsize``` : returns an integer representing the size of bytes of each element in the array.\n",
    "- ```nbytes``` : returns an integer representing the total number of bytes consumed by the array's data. It is equivalent to *```array.size * array.itemsize```*\n",
    "- ```T``` : returns the transpose of the array. For a 2D array, it swaps rows and columns\n",
    "- ```flat``` : provides an iterator that allows iterating over all elements of the array as if it were a 1D array, regardless of its original shape."
   ]
  },
  {
   "cell_type": "markdown",
   "id": "3c2883aa-8277-48b1-a816-e75065d323f8",
   "metadata": {},
   "source": [
    "## Dimensions in Arrays\n",
    "A dimension in arrays in one level of array depth (nested arrays i.e. arrays that have arrays as their elements)"
   ]
  },
  {
   "cell_type": "code",
   "execution_count": 7,
   "id": "f125690d-9371-4c38-a012-074ce692c538",
   "metadata": {},
   "outputs": [
    {
     "name": "stdout",
     "output_type": "stream",
     "text": [
      "42\n",
      "0\n"
     ]
    }
   ],
   "source": [
    "# 0D arrays, or Scalars, are elements in an array. Each value in an array is a 0D array.\n",
    "arr = np.array(42)\n",
    "print(arr)\n",
    "print(arr.ndim)"
   ]
  },
  {
   "cell_type": "code",
   "execution_count": 8,
   "id": "aa43de93-aef0-4c5c-a223-65f49f6a45d6",
   "metadata": {},
   "outputs": [
    {
     "name": "stdout",
     "output_type": "stream",
     "text": [
      "[1 2 3 4 5]\n",
      "5\n"
     ]
    }
   ],
   "source": [
    "# 1D arrays, or Vectors, have 0D arrays as its elements is called uni-dimensional array.\n",
    "arr = np.array([1, 2, 3, 4, 5])\n",
    "print(arr)\n",
    "print(arr.size)"
   ]
  },
  {
   "cell_type": "code",
   "execution_count": 9,
   "id": "fb56a35c-927d-4977-9c2f-78b5b745a857",
   "metadata": {},
   "outputs": [
    {
     "name": "stdout",
     "output_type": "stream",
     "text": [
      "[[1 2 3]\n",
      " [4 5 6]]\n",
      "(2, 3)\n"
     ]
    }
   ],
   "source": [
    "# 2D arrays, or matrices, have 1D arrays as its elements.\n",
    "arr = np.array([[1, 2, 3], [4, 5, 6]])\n",
    "print(arr)\n",
    "print(arr.shape)"
   ]
  },
  {
   "cell_type": "markdown",
   "id": "e1c9a945-0679-4624-afe3-0e08bc92aa90",
   "metadata": {},
   "source": [
    "Numpy has a whole sub module dedicated towards matrix operations called ```numpy.mat```"
   ]
  },
  {
   "cell_type": "code",
   "execution_count": 81,
   "id": "b0037913-bd32-4b23-89af-7997866356b5",
   "metadata": {},
   "outputs": [
    {
     "name": "stdout",
     "output_type": "stream",
     "text": [
      "[[[1 2 3]\n",
      "  [4 5 6]]\n",
      "\n",
      " [[7 8 9]\n",
      "  [2 4 6]]]\n",
      "\n",
      "Array details\n",
      "Array dtype    : int64\n",
      "Array ndim     : 3\n",
      "Array shape    : (2, 2, 3)\n",
      "Array size     : 12\n",
      "Array itemsize : 8\n"
     ]
    }
   ],
   "source": [
    "# 3D arrays have 2D arrays as it elements\n",
    "arr = np.array([[[1, 2, 3], [4, 5, 6]], [[7, 8, 9], [2, 4, 6]]])\n",
    "print(arr)\n",
    "print('\\nArray details')\n",
    "print('Array dtype    :', arr.dtype)\n",
    "print('Array ndim     :', arr.ndim)\n",
    "print('Array shape    :', arr.shape)\n",
    "print('Array size     :', arr.size)\n",
    "print('Array itemsize :', arr.itemsize)"
   ]
  },
  {
   "cell_type": "markdown",
   "id": "d3745207-640e-42fe-a49d-4588d3318280",
   "metadata": {},
   "source": [
    "### Higher Dimensional Arrays\n",
    "An array can have any number of dimensions. When the array is created, you can define the number of dimensions by using the ```ndmin``` argument"
   ]
  },
  {
   "cell_type": "code",
   "execution_count": 11,
   "id": "1e34ce88-9189-4dc3-86e5-92c5b4c21a98",
   "metadata": {},
   "outputs": [
    {
     "name": "stdout",
     "output_type": "stream",
     "text": [
      "[[[[[1 2 3 4]]]]]\n",
      "number of dimensions : 5\n"
     ]
    }
   ],
   "source": [
    "arr = np.array([1, 2, 3, 4], ndmin=5)\n",
    "\n",
    "print(arr)\n",
    "print('number of dimensions :', arr.ndim)"
   ]
  },
  {
   "cell_type": "markdown",
   "id": "34acef6c-2ae3-46c3-9482-f3c1779641d4",
   "metadata": {},
   "source": [
    "## Creating more Arrays"
   ]
  },
  {
   "cell_type": "code",
   "execution_count": 12,
   "id": "b884f701-f4c8-4c7b-9397-a6a2188ec33a",
   "metadata": {},
   "outputs": [
    {
     "data": {
      "text/plain": [
       "array([[0., 0., 0.],\n",
       "       [0., 0., 0.]])"
      ]
     },
     "execution_count": 12,
     "metadata": {},
     "output_type": "execute_result"
    }
   ],
   "source": [
    "# Zeros\n",
    "zeros = np.zeros((2, 3))\n",
    "zeros"
   ]
  },
  {
   "cell_type": "code",
   "execution_count": 13,
   "id": "39653b83-7e5c-4f02-a47b-1427c24ede8a",
   "metadata": {},
   "outputs": [
    {
     "data": {
      "text/plain": [
       "array([[1., 1.],\n",
       "       [1., 1.]])"
      ]
     },
     "execution_count": 13,
     "metadata": {},
     "output_type": "execute_result"
    }
   ],
   "source": [
    "# Ones\n",
    "ones = np.ones((2, 2))\n",
    "ones"
   ]
  },
  {
   "cell_type": "code",
   "execution_count": 14,
   "id": "94773ad5-9416-491c-b771-234f02769ea8",
   "metadata": {},
   "outputs": [
    {
     "data": {
      "text/plain": [
       "array([0, 2, 4, 6, 8])"
      ]
     },
     "execution_count": 14,
     "metadata": {},
     "output_type": "execute_result"
    }
   ],
   "source": [
    "# Range\n",
    "range_arr = np.arange(0, 10, 2)\n",
    "range_arr"
   ]
  },
  {
   "cell_type": "code",
   "execution_count": 15,
   "id": "039a6a59-0033-469e-b9f4-1724aa9fe607",
   "metadata": {},
   "outputs": [
    {
     "data": {
      "text/plain": [
       "array([0.  , 0.25, 0.5 , 0.75, 1.  ])"
      ]
     },
     "execution_count": 15,
     "metadata": {},
     "output_type": "execute_result"
    }
   ],
   "source": [
    "# Evenly spaced numbers\n",
    "arr = np.linspace(0, 1, 5)\n",
    "arr"
   ]
  },
  {
   "cell_type": "code",
   "execution_count": 16,
   "id": "13ea26ea-ca41-4bac-bbdd-6f2cd1b07277",
   "metadata": {},
   "outputs": [
    {
     "data": {
      "text/plain": [
       "array([[1., 0., 0., 0.],\n",
       "       [0., 1., 0., 0.],\n",
       "       [0., 0., 1., 0.],\n",
       "       [0., 0., 0., 1.]])"
      ]
     },
     "execution_count": 16,
     "metadata": {},
     "output_type": "execute_result"
    }
   ],
   "source": [
    "# Identity matrix\n",
    "np.eye(4)"
   ]
  },
  {
   "cell_type": "markdown",
   "id": "dcb278b0-f87b-44f1-badc-b06f12509432",
   "metadata": {},
   "source": [
    "## Array Operations"
   ]
  },
  {
   "cell_type": "code",
   "execution_count": 17,
   "id": "ea64be63-f4da-4868-ba3a-fc959ed1c5bc",
   "metadata": {},
   "outputs": [],
   "source": [
    "a = np.array([1, 2, 3, 4])\n",
    "b = np.array([5, 6, 7, 8])"
   ]
  },
  {
   "cell_type": "code",
   "execution_count": 18,
   "id": "38b40a68-df0d-4c1f-8523-f7eb61a41922",
   "metadata": {},
   "outputs": [
    {
     "name": "stdout",
     "output_type": "stream",
     "text": [
      "Add       : [ 6  8 10 12]\n",
      "Subtract  : [-4 -4 -4 -4]\n",
      "Multiply  : [ 5 12 21 32]\n",
      "Divide    : [5.         3.         2.33333333 2.        ]\n",
      "Power     : [ 1  4  9 16]\n",
      "Matrix Multiplication : 70\n"
     ]
    }
   ],
   "source": [
    "# Element wise operations\n",
    "print('Add       :', a + b)\n",
    "print('Subtract  :', a - b)\n",
    "print('Multiply  :', a * b)\n",
    "print('Divide    :', b / a)\n",
    "print('Power     :', a ** 2)\n",
    "print('Matrix Multiplication :', a @ b)   # (5*1) + (6*2) +..."
   ]
  },
  {
   "cell_type": "markdown",
   "id": "c313ef10-164a-48d6-b717-6eabc7248b45",
   "metadata": {},
   "source": [
    "## Indexing & Slicing"
   ]
  },
  {
   "cell_type": "markdown",
   "id": "e82c2daf-3fbb-4f27-ad68-e1198c0e0ee5",
   "metadata": {},
   "source": [
    "### Indexing"
   ]
  },
  {
   "cell_type": "code",
   "execution_count": 19,
   "id": "ab32157f-e25b-4ea7-be76-d706cd91f808",
   "metadata": {},
   "outputs": [
    {
     "name": "stdout",
     "output_type": "stream",
     "text": [
      "1\n",
      "3\n"
     ]
    }
   ],
   "source": [
    "# 1D array\n",
    "arr = np.array([1, 2, 3, 4])\n",
    "\n",
    "print(arr[0])\n",
    "print(arr[2])"
   ]
  },
  {
   "cell_type": "code",
   "execution_count": 20,
   "id": "edbe5293-803a-467b-b544-a257f9fac8e7",
   "metadata": {},
   "outputs": [
    {
     "name": "stdout",
     "output_type": "stream",
     "text": [
      "6\n"
     ]
    }
   ],
   "source": [
    "print(arr[1] + arr[3])"
   ]
  },
  {
   "cell_type": "code",
   "execution_count": 21,
   "id": "4e5b8c82-4af3-484a-8768-5951af6dd89b",
   "metadata": {},
   "outputs": [
    {
     "name": "stdout",
     "output_type": "stream",
     "text": [
      "2nd element on 1st row -  2\n",
      "5th element on 2nd row -  10\n"
     ]
    }
   ],
   "source": [
    "# 2D arrays\n",
    "arr = np.array([[1, 2, 3, 4, 5], [6, 7, 8, 9, 10]])\n",
    "\n",
    "print('2nd element on 1st row - ', arr[0, 1])\n",
    "print('5th element on 2nd row - ', arr[1, 4])"
   ]
  },
  {
   "cell_type": "code",
   "execution_count": 22,
   "id": "4f6d1869-574f-4f3b-ba6f-ea27a04e99c4",
   "metadata": {},
   "outputs": [
    {
     "name": "stdout",
     "output_type": "stream",
     "text": [
      "[[[ 1  2  3]\n",
      "  [ 4  5  6]]\n",
      "\n",
      " [[ 7  8  9]\n",
      "  [10 11 12]]]\n",
      "3rd element of 2nd of 1st - : 6\n"
     ]
    }
   ],
   "source": [
    "# 3D arrays\n",
    "arr = np.array([[[1, 2, 3], [4, 5, 6]], [[7, 8, 9], [10, 11, 12]]])\n",
    "\n",
    "print(arr)\n",
    "print('3rd element of 2nd of 1st - :', arr[0, 1, 2]) "
   ]
  },
  {
   "cell_type": "markdown",
   "id": "10ee18fd-e660-4b4d-8919-2473244ac8b5",
   "metadata": {},
   "source": [
    "#### Negative Indexing"
   ]
  },
  {
   "cell_type": "code",
   "execution_count": 23,
   "id": "ecf55a91-1ec5-41d6-b229-971ed21e61bc",
   "metadata": {},
   "outputs": [
    {
     "name": "stdout",
     "output_type": "stream",
     "text": [
      "Last element from first dim:  5\n",
      "Last element from last dim:  10\n"
     ]
    }
   ],
   "source": [
    "arr = np.array([[1, 2, 3, 4, 5], [6, 7, 8, 9, 10]])\n",
    "\n",
    "print('Last element from first dim: ', arr[0, -1])\n",
    "print('Last element from last dim: ', arr[-1, -1])"
   ]
  },
  {
   "cell_type": "markdown",
   "id": "5e808eaa-456f-4f09-8836-1f48f960ce7c",
   "metadata": {},
   "source": [
    "### Slicing"
   ]
  },
  {
   "cell_type": "code",
   "execution_count": 24,
   "id": "946dbacf-72c5-444a-96f2-058011e2e13c",
   "metadata": {},
   "outputs": [
    {
     "name": "stdout",
     "output_type": "stream",
     "text": [
      "[2 3 4 5]\n"
     ]
    }
   ],
   "source": [
    "arr = np.array([1, 2, 3, 4, 5, 6, 7])\n",
    "\n",
    "print(arr[1:5])    # 2nd element to 5th (index 6 not included)"
   ]
  },
  {
   "cell_type": "code",
   "execution_count": 25,
   "id": "14bb9b63-5ea2-4889-8085-c184334e83fc",
   "metadata": {},
   "outputs": [
    {
     "name": "stdout",
     "output_type": "stream",
     "text": [
      "[5 6 7]\n"
     ]
    }
   ],
   "source": [
    "print(arr[4:])    # 5th to end"
   ]
  },
  {
   "cell_type": "code",
   "execution_count": 26,
   "id": "5d337bd7-9610-4b3a-bbd4-7221624e206a",
   "metadata": {},
   "outputs": [
    {
     "name": "stdout",
     "output_type": "stream",
     "text": [
      "[1 2 3 4 5 6]\n"
     ]
    }
   ],
   "source": [
    "print(arr[:6])    # begnn to 6th"
   ]
  },
  {
   "cell_type": "code",
   "execution_count": 27,
   "id": "ef56f703-dfb5-4804-b99c-f99d28b6a7ca",
   "metadata": {},
   "outputs": [
    {
     "name": "stdout",
     "output_type": "stream",
     "text": [
      "[4 5 6]\n"
     ]
    }
   ],
   "source": [
    "# Negative Slicing\n",
    "print(arr[-4:-1])    # 4rd last to 2nd last"
   ]
  },
  {
   "cell_type": "code",
   "execution_count": 28,
   "id": "ef64fb16-604d-47af-bdc0-a94d88b86151",
   "metadata": {},
   "outputs": [
    {
     "name": "stdout",
     "output_type": "stream",
     "text": [
      "[2 4 6]\n"
     ]
    }
   ],
   "source": [
    "# step \n",
    "print(arr[1:7:2])   # 2nd to 7th, alternate"
   ]
  },
  {
   "cell_type": "code",
   "execution_count": 29,
   "id": "5fe48d3e-1dcb-42b4-8fca-393794d8f86a",
   "metadata": {},
   "outputs": [
    {
     "name": "stdout",
     "output_type": "stream",
     "text": [
      "[1 3 5 7]\n"
     ]
    }
   ],
   "source": [
    "print(arr[:7:2])    # begnn to 7th alternate"
   ]
  },
  {
   "cell_type": "code",
   "execution_count": 30,
   "id": "ce238295-9bb4-4aa5-b186-7f98a3714f51",
   "metadata": {},
   "outputs": [
    {
     "name": "stdout",
     "output_type": "stream",
     "text": [
      "[7 6 5 4 3 2 1]\n"
     ]
    }
   ],
   "source": [
    "print(arr[::-1])   #reverses order"
   ]
  },
  {
   "cell_type": "code",
   "execution_count": 31,
   "id": "0e5d2589-147f-4202-9b80-a5a823ac1c77",
   "metadata": {},
   "outputs": [
    {
     "name": "stdout",
     "output_type": "stream",
     "text": [
      "[1 4 7]\n"
     ]
    }
   ],
   "source": [
    "print(arr[::3])   #reverses order"
   ]
  },
  {
   "cell_type": "code",
   "execution_count": 32,
   "id": "3cbde826-2f9b-4ce9-8fef-db58bb1f2ab6",
   "metadata": {},
   "outputs": [],
   "source": [
    "# 2D arrays\n",
    "arr = np.array([(1, 2, 3, 4, 5),\n",
    "                (6, 7, 8, 9, 10)])"
   ]
  },
  {
   "cell_type": "code",
   "execution_count": 33,
   "id": "f1883efc-3515-402d-a1d2-4a46867f26d2",
   "metadata": {},
   "outputs": [
    {
     "name": "stdout",
     "output_type": "stream",
     "text": [
      "[7 8 9]\n"
     ]
    }
   ],
   "source": [
    "print(arr[1, 1:4])   # 2nd to 4th elements of 2nd array"
   ]
  },
  {
   "cell_type": "code",
   "execution_count": 34,
   "id": "46370445-554a-4cb7-958b-007bff4ece85",
   "metadata": {},
   "outputs": [
    {
     "name": "stdout",
     "output_type": "stream",
     "text": [
      "[3 8]\n"
     ]
    }
   ],
   "source": [
    "print(arr[0:2, 2]) # 3rd element from both arrays"
   ]
  },
  {
   "cell_type": "code",
   "execution_count": 35,
   "id": "273fffbb-729b-47f3-917d-56ba7447079d",
   "metadata": {},
   "outputs": [
    {
     "name": "stdout",
     "output_type": "stream",
     "text": [
      "[3 8]\n"
     ]
    }
   ],
   "source": [
    "print(arr[:, 2])  # 3rd element from both arrays (another way)"
   ]
  },
  {
   "cell_type": "code",
   "execution_count": 36,
   "id": "15f37c43-1af5-477b-83a6-e9a71a20b5b0",
   "metadata": {},
   "outputs": [
    {
     "name": "stdout",
     "output_type": "stream",
     "text": [
      "[[2 3 4]\n",
      " [7 8 9]]\n"
     ]
    }
   ],
   "source": [
    "print(arr[0:2, 1:4])   # 2nd to 4th element of both arrays"
   ]
  },
  {
   "cell_type": "code",
   "execution_count": 37,
   "id": "6214ae70-e61a-4f31-a591-2bcd227ebf75",
   "metadata": {},
   "outputs": [
    {
     "name": "stdout",
     "output_type": "stream",
     "text": [
      "[[2 3 4]\n",
      " [7 8 9]]\n"
     ]
    }
   ],
   "source": [
    "print(arr[:, 1:4])   # 2nd to 4th element of both arrays (another way)"
   ]
  },
  {
   "cell_type": "code",
   "execution_count": 38,
   "id": "b25a7fa6-e164-4ea8-a3c6-5a3be1a75806",
   "metadata": {},
   "outputs": [
    {
     "name": "stdout",
     "output_type": "stream",
     "text": [
      "[ 6  7  8  9 10]\n"
     ]
    }
   ],
   "source": [
    "print(arr[-1])    # last array"
   ]
  },
  {
   "cell_type": "markdown",
   "id": "a1e0b75e-3ff6-4474-9554-fc442ba11a39",
   "metadata": {},
   "source": [
    "## Numpy Functions\n",
    "Numpy provides hundreds of functions for performing operations on arrays. Here are some common functions:\n",
    "- Mathematics: ```np.sum```, ```np.exp```, ```np.round```, arithmetic operators\n",
    "- Array manipulation: ```np.reshape```, ```np.stack```, ```np.concatenate```, ```np.split```\n",
    "- Linear Algebra: ```np.matmul```, ```np.dot```, ```np.transpose```, ```np.eigvals```\n",
    "- Statistics: ```np.mean```, ```np.median```, ```np.std```, ```np.max```\n",
    "\n",
    ">**How to find the functions you need?**\\\n",
    ">Since Numpy offers hundreds of functions for operating on arrays, it can sometimes be hard to find exactly what you need. The easiest way to find the right function is to do a web search\n",
    ">\n",
    ">You can find a full list of array functions here: https://numpy.org/doc/stable/reference/routines.html"
   ]
  },
  {
   "cell_type": "markdown",
   "id": "fbb636f2-0ac6-4700-9bfa-5aa6b319e5ad",
   "metadata": {},
   "source": [
    "## Mathematical Functions"
   ]
  },
  {
   "cell_type": "code",
   "execution_count": 39,
   "id": "767cca42-09e9-44f8-a125-05b252045d9a",
   "metadata": {},
   "outputs": [
    {
     "data": {
      "text/plain": [
       "array([[ 1,  2,  3,  4,  5],\n",
       "       [ 6,  7,  8,  9, 10]])"
      ]
     },
     "execution_count": 39,
     "metadata": {},
     "output_type": "execute_result"
    }
   ],
   "source": [
    "arr"
   ]
  },
  {
   "cell_type": "code",
   "execution_count": 40,
   "id": "16cd5624-1f8e-4e49-a9a6-97fcf89b4e13",
   "metadata": {},
   "outputs": [
    {
     "name": "stdout",
     "output_type": "stream",
     "text": [
      "55\n",
      "5.5\n",
      "10\n",
      "1\n"
     ]
    }
   ],
   "source": [
    "print(np.sum(arr))\n",
    "print(np.mean(arr))\n",
    "print(np.max(arr))\n",
    "print(np.min(arr))"
   ]
  },
  {
   "cell_type": "code",
   "execution_count": 41,
   "id": "95dd10b0-d006-457e-8167-c7eb2510f765",
   "metadata": {},
   "outputs": [
    {
     "name": "stdout",
     "output_type": "stream",
     "text": [
      "2.8722813232690143\n"
     ]
    }
   ],
   "source": [
    "print(np.std(arr))"
   ]
  },
  {
   "cell_type": "code",
   "execution_count": 42,
   "id": "beaeaab7-abc7-41ba-9612-ecb91d98f450",
   "metadata": {},
   "outputs": [
    {
     "name": "stdout",
     "output_type": "stream",
     "text": [
      "[[1.         1.41421356 1.73205081 2.         2.23606798]\n",
      " [2.44948974 2.64575131 2.82842712 3.         3.16227766]]\n"
     ]
    }
   ],
   "source": [
    "print(np.sqrt(arr))"
   ]
  },
  {
   "cell_type": "code",
   "execution_count": 43,
   "id": "7037629c-d435-43e7-87cf-5d8c4f8dfe64",
   "metadata": {},
   "outputs": [
    {
     "name": "stdout",
     "output_type": "stream",
     "text": [
      "[[2.71828183e+00 7.38905610e+00 2.00855369e+01 5.45981500e+01\n",
      "  1.48413159e+02]\n",
      " [4.03428793e+02 1.09663316e+03 2.98095799e+03 8.10308393e+03\n",
      "  2.20264658e+04]]\n"
     ]
    }
   ],
   "source": [
    "print(np.exp(arr))   # e^x"
   ]
  },
  {
   "cell_type": "code",
   "execution_count": 44,
   "id": "138a2089-a03f-4bc0-81b4-12559c9733a4",
   "metadata": {},
   "outputs": [
    {
     "name": "stdout",
     "output_type": "stream",
     "text": [
      "[[0.         0.69314718 1.09861229 1.38629436 1.60943791]\n",
      " [1.79175947 1.94591015 2.07944154 2.19722458 2.30258509]]\n"
     ]
    }
   ],
   "source": [
    "print(np.log(arr))   # Natural log"
   ]
  },
  {
   "cell_type": "markdown",
   "id": "bfa89d2c-10da-411a-812f-cb5dd90b751c",
   "metadata": {},
   "source": [
    "## Reshaping"
   ]
  },
  {
   "cell_type": "code",
   "execution_count": 45,
   "id": "c87ac404-3580-400d-8970-00da881f0ea6",
   "metadata": {},
   "outputs": [
    {
     "data": {
      "text/plain": [
       "array([[ 1,  2,  3,  4,  5],\n",
       "       [ 6,  7,  8,  9, 10]])"
      ]
     },
     "execution_count": 45,
     "metadata": {},
     "output_type": "execute_result"
    }
   ],
   "source": [
    "arr"
   ]
  },
  {
   "cell_type": "code",
   "execution_count": 46,
   "id": "454655ea-d0a7-4318-ade9-2d80ad3bae31",
   "metadata": {},
   "outputs": [
    {
     "data": {
      "text/plain": [
       "(2, 5)"
      ]
     },
     "execution_count": 46,
     "metadata": {},
     "output_type": "execute_result"
    }
   ],
   "source": [
    "arr.shape"
   ]
  },
  {
   "cell_type": "code",
   "execution_count": 47,
   "id": "03679977-5668-4ee0-96c8-9809b0598f97",
   "metadata": {},
   "outputs": [
    {
     "data": {
      "text/plain": [
       "array([[ 1,  2],\n",
       "       [ 3,  4],\n",
       "       [ 5,  6],\n",
       "       [ 7,  8],\n",
       "       [ 9, 10]])"
      ]
     },
     "execution_count": 47,
     "metadata": {},
     "output_type": "execute_result"
    }
   ],
   "source": [
    "arr.reshape(5, 2)"
   ]
  },
  {
   "cell_type": "code",
   "execution_count": 48,
   "id": "8891e3fc-6080-48e9-a8c8-04836efeb8ae",
   "metadata": {},
   "outputs": [
    {
     "data": {
      "text/plain": [
       "array([ 1,  2,  3,  4,  5,  6,  7,  8,  9, 10])"
      ]
     },
     "execution_count": 48,
     "metadata": {},
     "output_type": "execute_result"
    }
   ],
   "source": [
    "arr.flatten()"
   ]
  },
  {
   "cell_type": "code",
   "execution_count": 49,
   "id": "e517f44f-9af8-400d-9bdc-38b1d7a253b1",
   "metadata": {},
   "outputs": [
    {
     "data": {
      "text/plain": [
       "array([[ 1,  6],\n",
       "       [ 2,  7],\n",
       "       [ 3,  8],\n",
       "       [ 4,  9],\n",
       "       [ 5, 10]])"
      ]
     },
     "execution_count": 49,
     "metadata": {},
     "output_type": "execute_result"
    }
   ],
   "source": [
    "arr.T"
   ]
  },
  {
   "cell_type": "markdown",
   "id": "798d963f-499d-46af-b15e-0c338e2b3585",
   "metadata": {},
   "source": [
    "## Broadcasting"
   ]
  },
  {
   "cell_type": "code",
   "execution_count": 50,
   "id": "7c81178c-8496-49b3-bf77-82e5019d9dfe",
   "metadata": {},
   "outputs": [
    {
     "data": {
      "text/plain": [
       "array([[ 1,  2,  3,  4,  5],\n",
       "       [ 6,  7,  8,  9, 10]])"
      ]
     },
     "execution_count": 50,
     "metadata": {},
     "output_type": "execute_result"
    }
   ],
   "source": [
    "arr"
   ]
  },
  {
   "cell_type": "code",
   "execution_count": 51,
   "id": "887f3895-a87c-4eeb-8052-4522c7b06a45",
   "metadata": {},
   "outputs": [
    {
     "data": {
      "text/plain": [
       "array([[11, 12, 13, 14, 15],\n",
       "       [16, 17, 18, 19, 20]])"
      ]
     },
     "execution_count": 51,
     "metadata": {},
     "output_type": "execute_result"
    }
   ],
   "source": [
    "arr + 10"
   ]
  },
  {
   "cell_type": "code",
   "execution_count": 52,
   "id": "3ec2044a-7b5d-4e05-a7f5-7a4dd9a6da1d",
   "metadata": {},
   "outputs": [
    {
     "data": {
      "text/plain": [
       "array([[ 2,  4,  6,  8, 10],\n",
       "       [12, 14, 16, 18, 20]])"
      ]
     },
     "execution_count": 52,
     "metadata": {},
     "output_type": "execute_result"
    }
   ],
   "source": [
    "arr * 2"
   ]
  },
  {
   "cell_type": "code",
   "execution_count": 53,
   "id": "144edcca-d84b-4fcd-8ede-6a1ca2a710a6",
   "metadata": {},
   "outputs": [
    {
     "data": {
      "text/plain": [
       "array([[0.5, 1. , 1.5, 2. , 2.5],\n",
       "       [3. , 3.5, 4. , 4.5, 5. ]])"
      ]
     },
     "execution_count": 53,
     "metadata": {},
     "output_type": "execute_result"
    }
   ],
   "source": [
    "arr / 2"
   ]
  },
  {
   "cell_type": "code",
   "execution_count": 54,
   "id": "79fb6096-9452-48e6-8989-3355870f67ec",
   "metadata": {},
   "outputs": [
    {
     "data": {
      "text/plain": [
       "array([[-2, -1,  0,  1,  2],\n",
       "       [ 3,  4,  5,  6,  7]])"
      ]
     },
     "execution_count": 54,
     "metadata": {},
     "output_type": "execute_result"
    }
   ],
   "source": [
    "arr - 3"
   ]
  },
  {
   "cell_type": "markdown",
   "id": "bb91a10d-ee67-4d94-92c4-2ae32dc16a73",
   "metadata": {},
   "source": [
    "## Stacking & Splitting"
   ]
  },
  {
   "cell_type": "code",
   "execution_count": 55,
   "id": "e0b223e2-3c94-442f-aaf1-887147b916bc",
   "metadata": {},
   "outputs": [
    {
     "name": "stdout",
     "output_type": "stream",
     "text": [
      "[1 2 3 4]\n",
      "[5 6 7 8]\n"
     ]
    }
   ],
   "source": [
    "print(a)\n",
    "print(b)"
   ]
  },
  {
   "cell_type": "code",
   "execution_count": 56,
   "id": "f1237639-b043-4ec1-80c2-e85b0e9bc69d",
   "metadata": {},
   "outputs": [
    {
     "data": {
      "text/plain": [
       "array([1, 2, 3, 4, 5, 6, 7, 8])"
      ]
     },
     "execution_count": 56,
     "metadata": {},
     "output_type": "execute_result"
    }
   ],
   "source": [
    "np.hstack((a, b))"
   ]
  },
  {
   "cell_type": "code",
   "execution_count": 57,
   "id": "5a5e3c62-9768-4b2c-bc8d-10c57643bab2",
   "metadata": {},
   "outputs": [
    {
     "data": {
      "text/plain": [
       "array([[1, 2, 3, 4],\n",
       "       [5, 6, 7, 8]])"
      ]
     },
     "execution_count": 57,
     "metadata": {},
     "output_type": "execute_result"
    }
   ],
   "source": [
    "np.vstack((a, b))"
   ]
  },
  {
   "cell_type": "code",
   "execution_count": 58,
   "id": "97e0816c-2236-45a4-99d7-e1e4014b13d6",
   "metadata": {},
   "outputs": [
    {
     "data": {
      "text/plain": [
       "[array([1, 2, 3, 4]), array([5, 6, 7, 8])]"
      ]
     },
     "execution_count": 58,
     "metadata": {},
     "output_type": "execute_result"
    }
   ],
   "source": [
    "arr = np.array([1, 2, 3, 4, 5, 6, 7, 8])\n",
    "\n",
    "np.split(arr, 2)"
   ]
  },
  {
   "cell_type": "markdown",
   "id": "8c4e9dcd-f1c6-40a2-a62b-0e96120f5efa",
   "metadata": {},
   "source": [
    "## Random Numbers"
   ]
  },
  {
   "cell_type": "code",
   "execution_count": 59,
   "id": "3a55fc82-0734-4a88-b137-97f60fc3c957",
   "metadata": {},
   "outputs": [
    {
     "data": {
      "text/plain": [
       "array([[0.39563934, 0.81314662, 0.70648169],\n",
       "       [0.0999655 , 0.58744147, 0.31550297]])"
      ]
     },
     "execution_count": 59,
     "metadata": {},
     "output_type": "execute_result"
    }
   ],
   "source": [
    "np.random.rand(2, 3)    # uniform [0, 1)"
   ]
  },
  {
   "cell_type": "code",
   "execution_count": 60,
   "id": "41249fd1-589c-4972-b1e9-74e3785a7e62",
   "metadata": {},
   "outputs": [
    {
     "data": {
      "text/plain": [
       "array([[ 0.03020749,  1.04968201,  1.45436324],\n",
       "       [ 0.73127099, -0.36089133, -0.47879645]])"
      ]
     },
     "execution_count": 60,
     "metadata": {},
     "output_type": "execute_result"
    }
   ],
   "source": [
    "np.random.randn(2, 3)         # Normal dist (mean = 0, sd = 1)"
   ]
  },
  {
   "cell_type": "code",
   "execution_count": 61,
   "id": "bfb18499-777d-48d4-8f3a-28efd2860deb",
   "metadata": {},
   "outputs": [
    {
     "data": {
      "text/plain": [
       "array([8, 3, 3, 6, 6], dtype=int32)"
      ]
     },
     "execution_count": 61,
     "metadata": {},
     "output_type": "execute_result"
    }
   ],
   "source": [
    "np.random.randint(1, 10, 5)   # random ints"
   ]
  },
  {
   "cell_type": "code",
   "execution_count": 62,
   "id": "ea8108de-e7ea-4d39-8c81-0e3276eb2d4c",
   "metadata": {},
   "outputs": [],
   "source": [
    "np.random.seed(42)            # Reproducibility of results involving random numbers"
   ]
  },
  {
   "cell_type": "markdown",
   "id": "d37bd956-9bb5-4b18-95fd-f1105a26360a",
   "metadata": {},
   "source": [
    "```np.random.seed()``` is a function in the NumPy library in Python used to initialize the pseudo-random number generator. Its primary purpose is to ensure reproducibility of results involving random numbers.\\\n",
    ">How it works:\\\n",
    ">**Pseudo-random numbers:**\\\n",
    ">Computers cannot generate truly random numbers. Instead, they produce *pseudo-random* numbers using deterministic algorithms. These algorithms start with an initial value, called a ```seed```, and then generate a sequence of numbers based on that seed.\n",
    ">\n",
    ">**Setting the seed:**\\\n",
    ">When you call ```np.random.seed(value)```, you are providing this initial value to the random number generator.\n",
    ">\n",
    ">**Reproducibility:**\\\n",
    ">If you use the same ```value``` for the seed, the random number generator will produce the exact same sequence of pseudo-random numbers every time the code is executed. This is crucial for debugging, testing, and ensuring that experiments or simulations can be replicated.\n",
    ">\n",
    ">**Different seeds, different sequences:**\\\n",
    ">If you use a different ```value``` for the seed, a different sequence of pseudo-random numbers will be generated. If no seed is explicitly set, the system's current time or other system-specific factors are typically used as the seed, leading to different random numbers each time the program runs.\n"
   ]
  },
  {
   "cell_type": "code",
   "execution_count": 63,
   "id": "484c9ba5-292a-4a13-8bb3-39b9c8cff748",
   "metadata": {},
   "outputs": [
    {
     "name": "stdout",
     "output_type": "stream",
     "text": [
      "Without seed:\n",
      "[0.37454012 0.95071431 0.73199394]\n",
      "[0.59865848 0.15601864 0.15599452]\n"
     ]
    }
   ],
   "source": [
    "# Without setting a seed\n",
    "print(\"Without seed:\")\n",
    "print(np.random.rand(3))\n",
    "print(np.random.rand(3))"
   ]
  },
  {
   "cell_type": "code",
   "execution_count": 64,
   "id": "57a52e29-7f10-4e9a-a5ca-7ef323badc74",
   "metadata": {},
   "outputs": [
    {
     "name": "stdout",
     "output_type": "stream",
     "text": [
      "With seed:\n",
      "[0.37454012 0.95071431 0.73199394]\n",
      "[0.37454012 0.95071431 0.73199394]\n",
      "[0.22199317 0.87073231 0.20671916]\n",
      "[0.37454012 0.95071431 0.73199394]\n",
      "[0.22199317 0.87073231 0.20671916]\n"
     ]
    }
   ],
   "source": [
    "# With setting a seed\n",
    "print(\"With seed:\")\n",
    "np.random.seed(42)\n",
    "print(np.random.rand(3))\n",
    "\n",
    "np.random.seed(42)         # Resetting the seed to get the same sequence again\n",
    "print(np.random.rand(3))\n",
    "\n",
    "np.random.seed(5)          # Resetting new seed to get new sequence\n",
    "print(np.random.rand(3))\n",
    "\n",
    "np.random.seed(42)         # Resetting previous seed to get the same sequence again\n",
    "print(np.random.rand(3))\n",
    "\n",
    "np.random.seed(5)          # Resetting prev new seed to get the same new sequence again\n",
    "print(np.random.rand(3))"
   ]
  },
  {
   "cell_type": "markdown",
   "id": "b59d55e4-7f42-4271-8994-37ff5da98bf2",
   "metadata": {},
   "source": [
    "## Copy vs View"
   ]
  },
  {
   "cell_type": "markdown",
   "id": "5e843781-9589-4fad-a5d9-d2bc46a72df5",
   "metadata": {},
   "source": [
    ">The copy *owns* the data and any changes made to the copy will not affect the original array, and any changes made to the original array will not affect the copy.\n",
    ">\n",
    ">The view *does not own* the data and any changes made to the view will affect the original array, and any changes made to the original array will affect the view."
   ]
  },
  {
   "cell_type": "markdown",
   "id": "2a7581c8-89c0-450e-ae8c-c788d2b48046",
   "metadata": {},
   "source": [
    "### copy"
   ]
  },
  {
   "cell_type": "code",
   "execution_count": 65,
   "id": "bd301d00-96ac-41d1-b4d0-bff184017b2b",
   "metadata": {},
   "outputs": [],
   "source": [
    "arr = np.array([1, 2, 3, 4, 5])\n",
    "arr1 = arr.copy()"
   ]
  },
  {
   "cell_type": "code",
   "execution_count": 66,
   "id": "dd454139-686c-4cf5-ab59-744276a2e44f",
   "metadata": {},
   "outputs": [
    {
     "data": {
      "text/plain": [
       "array([1, 2, 3, 4, 5])"
      ]
     },
     "execution_count": 66,
     "metadata": {},
     "output_type": "execute_result"
    }
   ],
   "source": [
    "arr"
   ]
  },
  {
   "cell_type": "code",
   "execution_count": 67,
   "id": "27616dc6-27da-4285-9ed3-f0474df25a45",
   "metadata": {},
   "outputs": [
    {
     "data": {
      "text/plain": [
       "array([1, 2, 3, 4, 5])"
      ]
     },
     "execution_count": 67,
     "metadata": {},
     "output_type": "execute_result"
    }
   ],
   "source": [
    "arr1 "
   ]
  },
  {
   "cell_type": "code",
   "execution_count": 68,
   "id": "7b40916b-87c2-48a0-bc8e-26d94d348208",
   "metadata": {},
   "outputs": [
    {
     "data": {
      "text/plain": [
       "array([42,  2,  3,  4,  5])"
      ]
     },
     "execution_count": 68,
     "metadata": {},
     "output_type": "execute_result"
    }
   ],
   "source": [
    "arr1[0] = 42\n",
    "arr1"
   ]
  },
  {
   "cell_type": "code",
   "execution_count": 69,
   "id": "7fcd2c0d-ae56-4102-8ae8-b10395365fb7",
   "metadata": {},
   "outputs": [
    {
     "data": {
      "text/plain": [
       "array([1, 2, 3, 4, 5])"
      ]
     },
     "execution_count": 69,
     "metadata": {},
     "output_type": "execute_result"
    }
   ],
   "source": [
    "arr"
   ]
  },
  {
   "cell_type": "markdown",
   "id": "b4228b98-4653-4bff-abdb-af593b979fa6",
   "metadata": {},
   "source": [
    "### view"
   ]
  },
  {
   "cell_type": "code",
   "execution_count": 70,
   "id": "dc1fcebd-30d6-47eb-95bb-ee10181680ce",
   "metadata": {},
   "outputs": [],
   "source": [
    "arr = np.array([1, 2, 3, 4, 5])\n",
    "arr1 = arr.view()"
   ]
  },
  {
   "cell_type": "code",
   "execution_count": 71,
   "id": "588d9b36-22e9-40e2-9bfb-efadb3606bbd",
   "metadata": {},
   "outputs": [
    {
     "data": {
      "text/plain": [
       "array([1, 2, 3, 4, 5])"
      ]
     },
     "execution_count": 71,
     "metadata": {},
     "output_type": "execute_result"
    }
   ],
   "source": [
    "arr"
   ]
  },
  {
   "cell_type": "code",
   "execution_count": 72,
   "id": "b9575e55-0119-46ff-8197-9d24d13a1522",
   "metadata": {},
   "outputs": [
    {
     "data": {
      "text/plain": [
       "array([1, 2, 3, 4, 5])"
      ]
     },
     "execution_count": 72,
     "metadata": {},
     "output_type": "execute_result"
    }
   ],
   "source": [
    "arr1"
   ]
  },
  {
   "cell_type": "code",
   "execution_count": 73,
   "id": "39309b9f-ab77-48ae-9e4e-c5293c8c6f98",
   "metadata": {},
   "outputs": [
    {
     "data": {
      "text/plain": [
       "array([24,  2,  3,  4,  5])"
      ]
     },
     "execution_count": 73,
     "metadata": {},
     "output_type": "execute_result"
    }
   ],
   "source": [
    "arr1[0] = 24\n",
    "arr1"
   ]
  },
  {
   "cell_type": "code",
   "execution_count": 74,
   "id": "95b6388b-fddf-4888-8a32-8f4e96f3e69a",
   "metadata": {},
   "outputs": [
    {
     "data": {
      "text/plain": [
       "array([24,  2,  3,  4,  5])"
      ]
     },
     "execution_count": 74,
     "metadata": {},
     "output_type": "execute_result"
    }
   ],
   "source": [
    "arr"
   ]
  },
  {
   "cell_type": "markdown",
   "id": "6f2ed339-ec8d-495e-9af3-cbd095df5b90",
   "metadata": {},
   "source": [
    "### Check if Array *Owns* its Data\n",
    "Every NumPy array has the attribute ```base``` that returns ```None``` if the array owns the data.\\\n",
    "Otherwise, the ```base``` attribute refers to the original object."
   ]
  },
  {
   "cell_type": "code",
   "execution_count": 75,
   "id": "8e75189e-a0a6-4722-8f9e-651fdd542292",
   "metadata": {},
   "outputs": [
    {
     "name": "stdout",
     "output_type": "stream",
     "text": [
      "None\n",
      "[1 2 3 4 5]\n"
     ]
    }
   ],
   "source": [
    "arr = np.array([1, 2, 3, 4, 5])\n",
    "\n",
    "x = arr.copy()\n",
    "y = arr.view()\n",
    "\n",
    "print(x.base)\n",
    "print(y.base)"
   ]
  },
  {
   "cell_type": "markdown",
   "id": "76d3cb5d-d6cb-402b-9df2-7c619a2ddf88",
   "metadata": {},
   "source": [
    "------\n",
    "In short, Numpy is the foundation of data science, machine learning, scientific computing in Python. Without it, libraries like Pandas, SciPy and TensorFlow wouldn't be nearly as fast or convenient."
   ]
  }
 ],
 "metadata": {
  "kernelspec": {
   "display_name": "Python 3 (ipykernel)",
   "language": "python",
   "name": "python3"
  },
  "language_info": {
   "codemirror_mode": {
    "name": "ipython",
    "version": 3
   },
   "file_extension": ".py",
   "mimetype": "text/x-python",
   "name": "python",
   "nbconvert_exporter": "python",
   "pygments_lexer": "ipython3",
   "version": "3.13.6"
  }
 },
 "nbformat": 4,
 "nbformat_minor": 5
}
