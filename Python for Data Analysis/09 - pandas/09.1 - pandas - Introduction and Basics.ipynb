{
 "cells": [
  {
   "cell_type": "markdown",
   "id": "6e002dc9-6563-4b76-bb7c-692f10993cf1",
   "metadata": {},
   "source": [
    "# Python pandas"
   ]
  },
  {
   "cell_type": "markdown",
   "id": "623717cd-9b62-4614-9046-4d81452efcf9",
   "metadata": {},
   "source": [
    "## Introduction to Pandas\n",
    "**```pandas```** is an open source, BSD-licensed library providing **high-performance, easy-to-use data structures** and **data analysis tools** for the Python programming language.\\\n",
    "It is a Python library used for working with data sets and has functions for analyzing, cleaning, exploring, and manipulating data.\\\n",
    "The name of this library is derived from the phrase '**Panel Data**' which is a term used in Econometrics which means 'Datasets that include multiple observations over multiple periods of time'. With pandas, you can perform a wide range of data operations, including:\n",
    "\n",
    "- Reading and writing data from various file formats like CSV, Excel and SQL databases.\n",
    "- Cleaning and preparing data by handling missing values and filtering entries.\n",
    "- Merging and joining multiple datasets seamlessly.\n",
    "- Reshaping data through pivoting and stacking operations.\n",
    "- Conducting statistical analysis and generating descriptive statistics.\n",
    "- Visualizing data with integrated plotting capabilities.\n",
    "\n",
    "Unlike ```NumPy``` or ```matplotlib```, ```pandas``` is NOT one of the essential components of the Python scientific computing tools.\\\n",
    "```pandas``` is built on top of ```NumPy``` and it steps on its computational abilities. In that sense, pandas is library that takes advantage of the NumPy array structure, which contributes to the fast execution of mathematical operations. Hence, pandas requires NumPy and is a library that is used largely used by the Data Science community because it makes the work much faster and easier."
   ]
  },
  {
   "cell_type": "markdown",
   "id": "8346e847-7107-41f8-9c1c-28750ddabcd3",
   "metadata": {},
   "source": [
    "### Numpy or pandas, who first?\n",
    "From a *programming perspective*, ```NumPy``` comes first and then ```pandas```, but in the practise of a **Data Analyst** it's usually the other way around.\\\n",
    "This is because ```pandas``` focus more on your analytical task and less in the underlying mathematical computations.\\\n",
    "You'd normally use ```pandas``` to import the data into Python as it allows you to easily manipulate data until you've obtained a clean, well-organized dataset, that is ready for preprocessing.\\\n",
    "Once that is done, the dataset is ready for mathematical computations, which is when, using ```Numpy``` to preprocess data makes sense."
   ]
  },
  {
   "attachments": {},
   "cell_type": "markdown",
   "id": "b117bc20-7869-4a98-a712-446bc5349ed8",
   "metadata": {},
   "source": [
    "### Why ```pandas```?\n",
    "- pandas makes the experience of doing Data Analysis in Python much **faster and easier** as\\\n",
    "  it offers a simple and intuitive way to **work with structured data**, especially using DataFrames.\n",
    "- While NumPy is the library to opt for when dealing numerical calculations,\\\n",
    "  ```pandas``` is specifically designed to **help with datasets** containing multiple types of information.\n",
    "- Revolves around two primary Data structures: **Series** (1D) and **DataFrame** (2D).\n",
    "- Makes **data exploration** easy, so you can quickly understand patterns or spot issues.\n",
    "- Built **on top of NumPy**, efficiently manages large datasets, offering tools for data cleaning, transformation, and analysis.\n",
    "- Seamlessly **integrates with other Python libraries** like NumPy, Matplotlib, and scikit-learn.\n",
    "- Provides methods like .dropna() and .fillna() to **handle missing values** seamlessly\n",
    "- It **enhances analytical work** when you have to combine information across several datasets\n",
    "- pandas has the ability to import data from and export data to an **extensive set of file formats**.\n",
    "- **Preserves Data Consistency**: The general rule to maintaning consistent data is that you must have data values of a single type stored in your Series object or in each column of your DataFrame."
   ]
  },
  {
   "cell_type": "markdown",
   "id": "44cdc098-b114-453c-a801-1a3234869cfb",
   "metadata": {},
   "source": [
    "# pandas Series and DataFrames\n",
    "Pandas Series and DataFrames are the fundamental data structures in the pandas library, crucial for data manipulation and analysis in Python.\n",
    "### pandas Series\n",
    "- Single-column data.\n",
    "- A set of ebservations related to a single variable.\n",
    "- Corresponds to 1D array structure from NumPy.\n",
    "- Each element in a Series has a unique identifier called an *index*, which can be customized \n",
    "\n",
    "### pandas DataFrames\n",
    "- Multi-column data.\n",
    "- A collection of Series objects, which contains observations related to one or several variables.\n",
    "- Hence, the information is organised into rows and columns.\n",
    "- Corresponds to 2D structure from NumPy.\n",
    "- Each column in a DataFrame is essentially a Pandas Series.\n",
    "- You can access a single column of a DataFrame, and the result will be a Series object.\n",
    "\n",
    "In essence, Series are the building blocks, and DataFrames provide a structured, tabular way to organize and work with multiple Series, enabling powerful data analysis capabilities. A certain tool that is applicable to a Series will most probably be relavant to use on DataFrame as well or vice versa. However, there can be exceptions, which we will discover as we practise and learn further."
   ]
  },
  {
   "attachments": {},
   "cell_type": "markdown",
   "id": "9757817d-590d-41cb-ae91-1f240f13fec8",
   "metadata": {},
   "source": [
    "## Installation, Updating and Importing\n",
    "```pip install pandas```\n",
    "\n",
    "To upgrade to the latest version of pandas:\\\n",
    "```pip install pandas --upgrade```\n",
    "\n",
    "```pandas``` is usually imported under the pd alias"
   ]
  },
  {
   "cell_type": "code",
   "execution_count": 1,
   "id": "a1a845c7-44fb-4c71-97e1-ee4f8a122197",
   "metadata": {},
   "outputs": [],
   "source": [
    "import pandas as pd"
   ]
  },
  {
   "cell_type": "code",
   "execution_count": 2,
   "id": "f75daeec-e80d-4af5-89ef-7107444ec294",
   "metadata": {},
   "outputs": [
    {
     "data": {
      "text/plain": [
       "'2.3.2'"
      ]
     },
     "execution_count": 2,
     "metadata": {},
     "output_type": "execute_result"
    }
   ],
   "source": [
    "#checking pandas version\n",
    "pd.__version__"
   ]
  },
  {
   "cell_type": "markdown",
   "id": "f10a8ba2-d0b2-4c4d-85b0-9f17e7fc8ed8",
   "metadata": {},
   "source": [
    "# pandas Series\n",
    "A Pandas Series is a one-dimensional labeled array in the Pandas library for Python. It is a fundamental data structure used for data analysis and manipulation, and can be thought of as a single column in a spreadsheet or a DataFrame.\\\n",
    "Key characteristics of a Pandas Series:\n",
    "- **One-dimensional**: It represents a single sequence of data.\n",
    "- **Labeled**: Each element in a Series has an associated label, known as its index. This index allows for efficient retrieval and alignment of data.\n",
    "- **Heterogeneous data types**: A Series can hold data of various types, including integers, floats, strings, booleans, and even Python objects.\n",
    "- **Immutable size**: Once created, the number of elements in a Series cannot be changed, although the values themselves can be modified."
   ]
  },
  {
   "cell_type": "markdown",
   "id": "aac45cd8-399f-48a0-bc57-a2a905e4ec0c",
   "metadata": {},
   "source": [
    "## Creating a pandas Series"
   ]
  },
  {
   "cell_type": "code",
   "execution_count": 3,
   "id": "56401648-e0e0-43da-983e-8600df464a55",
   "metadata": {},
   "outputs": [
    {
     "data": {
      "text/plain": [
       "['A', 'B', 'C', 'D']"
      ]
     },
     "execution_count": 3,
     "metadata": {},
     "output_type": "execute_result"
    }
   ],
   "source": [
    "# We can create a 'Series' object from a list\n",
    "products = ['A', 'B', 'C', 'D']\n",
    "products"
   ]
  },
  {
   "cell_type": "code",
   "execution_count": 4,
   "id": "40fa5a6b-4284-44e4-b207-fb2767437c3d",
   "metadata": {},
   "outputs": [
    {
     "data": {
      "text/plain": [
       "list"
      ]
     },
     "execution_count": 4,
     "metadata": {},
     "output_type": "execute_result"
    }
   ],
   "source": [
    "type(products)"
   ]
  },
  {
   "cell_type": "code",
   "execution_count": 5,
   "id": "906775a0-85f1-42fa-b17f-3f1bb99403ca",
   "metadata": {},
   "outputs": [],
   "source": [
    "new_products = pd.Series(products)"
   ]
  },
  {
   "cell_type": "code",
   "execution_count": 6,
   "id": "0696554f-cd03-49ec-b2d1-c8d3c9b8f25e",
   "metadata": {},
   "outputs": [
    {
     "data": {
      "text/plain": [
       "0    A\n",
       "1    B\n",
       "2    C\n",
       "3    D\n",
       "dtype: object"
      ]
     },
     "execution_count": 6,
     "metadata": {},
     "output_type": "execute_result"
    }
   ],
   "source": [
    "new_products"
   ]
  },
  {
   "cell_type": "markdown",
   "id": "7acd2100-58da-45e0-ac3d-af1db98c9d6e",
   "metadata": {},
   "source": [
    "- We see that 4 letters from the 'products' list have been organized into a column.\n",
    "- The set of values displayed to the left of the letters, those number represent the **index values** of the Series\n",
    "- dtype being 'object' is the default datatype assigned to data which is not numeric"
   ]
  },
  {
   "cell_type": "code",
   "execution_count": 7,
   "id": "5a2a5b35-8b64-4615-9125-f7d4565fe380",
   "metadata": {},
   "outputs": [
    {
     "data": {
      "text/plain": [
       "pandas.core.series.Series"
      ]
     },
     "execution_count": 7,
     "metadata": {},
     "output_type": "execute_result"
    }
   ],
   "source": [
    "type(new_products)"
   ]
  },
  {
   "cell_type": "code",
   "execution_count": 8,
   "id": "4d5cb271-5e7d-4fc2-af9b-a1209d2b4ec0",
   "metadata": {},
   "outputs": [
    {
     "data": {
      "text/plain": [
       "0    40\n",
       "1    45\n",
       "2    50\n",
       "3    60\n",
       "4    35\n",
       "dtype: int64"
      ]
     },
     "execution_count": 8,
     "metadata": {},
     "output_type": "execute_result"
    }
   ],
   "source": [
    "# numeric data\n",
    "daily_expenses = pd.Series([40, 45, 50, 60, 35])\n",
    "daily_expenses"
   ]
  },
  {
   "cell_type": "code",
   "execution_count": 9,
   "id": "c18fc359-8fd7-4bba-a8d0-bc551b0402cc",
   "metadata": {},
   "outputs": [
    {
     "name": "stdout",
     "output_type": "stream",
     "text": [
      "0    40\n",
      "1    45\n",
      "2    50\n",
      "3    60\n",
      "4    35\n",
      "dtype: int64\n"
     ]
    }
   ],
   "source": [
    "print(daily_expenses)"
   ]
  },
  {
   "cell_type": "code",
   "execution_count": 10,
   "id": "091d592b-82ec-4b7e-9a0f-f6aed556ff71",
   "metadata": {},
   "outputs": [],
   "source": [
    "# pandas Series object corresponds to the 1-D NumPy array structure\n",
    "import numpy as np"
   ]
  },
  {
   "cell_type": "code",
   "execution_count": 11,
   "id": "25a57f25-289f-457c-b790-7492a225c47e",
   "metadata": {},
   "outputs": [
    {
     "data": {
      "text/plain": [
       "array([10, 20, 30, 40, 50])"
      ]
     },
     "execution_count": 11,
     "metadata": {},
     "output_type": "execute_result"
    }
   ],
   "source": [
    "arr1 = np.array([10, 20, 30, 40, 50])\n",
    "arr1"
   ]
  },
  {
   "cell_type": "code",
   "execution_count": 12,
   "id": "22d1129e-2319-4fbc-8215-298e04997f3c",
   "metadata": {},
   "outputs": [
    {
     "data": {
      "text/plain": [
       "numpy.ndarray"
      ]
     },
     "execution_count": 12,
     "metadata": {},
     "output_type": "execute_result"
    }
   ],
   "source": [
    "type(arr1)"
   ]
  },
  {
   "cell_type": "code",
   "execution_count": 13,
   "id": "77c1639f-15a3-4ce1-8657-116ee1933fb9",
   "metadata": {},
   "outputs": [
    {
     "data": {
      "text/plain": [
       "0    10\n",
       "1    20\n",
       "2    30\n",
       "3    40\n",
       "4    50\n",
       "dtype: int64"
      ]
     },
     "execution_count": 13,
     "metadata": {},
     "output_type": "execute_result"
    }
   ],
   "source": [
    "series1 = pd.Series(arr1)\n",
    "series1"
   ]
  },
  {
   "cell_type": "code",
   "execution_count": 14,
   "id": "79276234-8b8d-406e-ae40-ed41506a1759",
   "metadata": {},
   "outputs": [
    {
     "data": {
      "text/plain": [
       "pandas.core.series.Series"
      ]
     },
     "execution_count": 14,
     "metadata": {},
     "output_type": "execute_result"
    }
   ],
   "source": [
    "type(series1)"
   ]
  },
  {
   "cell_type": "markdown",
   "id": "15489039-7d77-468c-a1db-87c65fb150be",
   "metadata": {},
   "source": [
    "#### Key Takeaways:\n",
    "1. The ```pandas``` Series object is something like a powerful version os the Python list, or an enhanced version of the NumPy array.\\\n",
    "This doesn't mean that 'Series' should be the preferred choice between the three no matter what.\\\n",
    "Since there's always a trade-off in terms of:\n",
    "\n",
    "> *what you want to obtain from you data* **vs**\\\n",
    "> *the speed and precision with which you can do that*\n",
    "\n",
    "However, if in a given situation, you have opted for using a 'Series', this will entail working with a larger set of tools and capabilities that are pertinent to the ```pandas library``` only. These tools and capabilities are often related to the fact that the 'Series' object stores it values in a sequenced order, and has an *explicit index*.\n",
    "\n",
    "2. Remember to always maintain ***data consistency***"
   ]
  },
  {
   "cell_type": "markdown",
   "id": "329fab38-50bd-46fd-977a-16eb206f44f4",
   "metadata": {},
   "source": [
    "## Working with Attributes in Python"
   ]
  },
  {
   "cell_type": "code",
   "execution_count": 15,
   "id": "68e061e3-2baa-4a28-add5-b6ebc9ad5a71",
   "metadata": {},
   "outputs": [
    {
     "data": {
      "text/plain": [
       "0    10\n",
       "1    20\n",
       "2    30\n",
       "3    40\n",
       "4    50\n",
       "dtype: int64"
      ]
     },
     "execution_count": 15,
     "metadata": {},
     "output_type": "execute_result"
    }
   ],
   "source": [
    "series1"
   ]
  },
  {
   "cell_type": "code",
   "execution_count": 16,
   "id": "2bae0609-b322-49cf-9a7d-f7a9976a4041",
   "metadata": {},
   "outputs": [
    {
     "data": {
      "text/plain": [
       "dtype('int64')"
      ]
     },
     "execution_count": 16,
     "metadata": {},
     "output_type": "execute_result"
    }
   ],
   "source": [
    "series1.dtype"
   ]
  },
  {
   "cell_type": "code",
   "execution_count": 17,
   "id": "02d88294-ecab-45eb-88fe-0598cca14f2a",
   "metadata": {},
   "outputs": [
    {
     "data": {
      "text/plain": [
       "5"
      ]
     },
     "execution_count": 17,
     "metadata": {},
     "output_type": "execute_result"
    }
   ],
   "source": [
    "series1.size"
   ]
  },
  {
   "cell_type": "code",
   "execution_count": 18,
   "id": "29cd16ed-d9f7-4d51-bd5c-845847b9772e",
   "metadata": {},
   "outputs": [
    {
     "data": {
      "text/plain": [
       "0    A\n",
       "1    B\n",
       "2    C\n",
       "3    D\n",
       "dtype: object"
      ]
     },
     "execution_count": 18,
     "metadata": {},
     "output_type": "execute_result"
    }
   ],
   "source": [
    "new_products"
   ]
  },
  {
   "cell_type": "code",
   "execution_count": 19,
   "id": "95f0afb7-330a-4f88-be92-ad0755a6f967",
   "metadata": {},
   "outputs": [
    {
     "data": {
      "text/plain": [
       "dtype('O')"
      ]
     },
     "execution_count": 19,
     "metadata": {},
     "output_type": "execute_result"
    }
   ],
   "source": [
    "new_products.dtype"
   ]
  },
  {
   "cell_type": "code",
   "execution_count": 20,
   "id": "34aaa680-d475-47f4-a192-8c5ad3c12921",
   "metadata": {},
   "outputs": [
    {
     "data": {
      "text/plain": [
       "4"
      ]
     },
     "execution_count": 20,
     "metadata": {},
     "output_type": "execute_result"
    }
   ],
   "source": [
    "new_products.size"
   ]
  },
  {
   "cell_type": "markdown",
   "id": "7991feef-c033-4172-95ac-ac7bef1f0a1f",
   "metadata": {},
   "source": [
    "#### Attributes of certain Class coming to play\n",
    "We already know that *attributes* deliver information about a given object, but how do they do that?\\\n",
    "They do that by returning a seperate Python object. In fact, the benefit of this is that you can use the returned object in larger expressions about programming.\\\n",
    "For instance, if we ask for the *size* of any Series as an argument of the *type* function, we will recieve the output as 'int' saying that the value is an integer."
   ]
  },
  {
   "cell_type": "code",
   "execution_count": 21,
   "id": "4d766c0b-20c5-4214-b5f9-733e58af3f48",
   "metadata": {},
   "outputs": [
    {
     "data": {
      "text/plain": [
       "int"
      ]
     },
     "execution_count": 21,
     "metadata": {},
     "output_type": "execute_result"
    }
   ],
   "source": [
    "type(new_products.size)"
   ]
  },
  {
   "cell_type": "markdown",
   "id": "8fff688f-f57d-4967-93d8-84d53197386e",
   "metadata": {},
   "source": [
    "Therefore, the number of elements stored in the variable can be referred to in further calculations by using the short expression.\\\n",
    "Another peculiarity, when using attributes, is that at a certain moment in time, they may contain no specific value. Here's an example"
   ]
  },
  {
   "cell_type": "code",
   "execution_count": 22,
   "id": "c76afdeb-e6ed-48d2-a259-65c4dec3b0fe",
   "metadata": {},
   "outputs": [],
   "source": [
    "new_products.name"
   ]
  },
  {
   "cell_type": "code",
   "execution_count": 23,
   "id": "0e735036-6c26-4a88-abaa-05c963913122",
   "metadata": {},
   "outputs": [
    {
     "name": "stdout",
     "output_type": "stream",
     "text": [
      "None\n"
     ]
    }
   ],
   "source": [
    "print(new_products.name)"
   ]
  },
  {
   "cell_type": "markdown",
   "id": "584e5f6b-5f24-4950-bbc2-6ef0b049a52d",
   "metadata": {},
   "source": [
    "Something to keep in mind:\n",
    "> 'new_products' - the name we can use to refer to that object in our code.\\\n",
    "> Object name - the one you want to see whenever displaying its contents.\n",
    "\n",
    "In other words, you can say that you are working the *new_products* Object in your program but the name you want to associate it with its data can be a different one."
   ]
  },
  {
   "cell_type": "code",
   "execution_count": 24,
   "id": "f2578622-a086-4048-bc95-2268b3083f54",
   "metadata": {},
   "outputs": [
    {
     "data": {
      "text/plain": [
       "0    A\n",
       "1    B\n",
       "2    C\n",
       "3    D\n",
       "Name: New Products, dtype: object"
      ]
     },
     "execution_count": 24,
     "metadata": {},
     "output_type": "execute_result"
    }
   ],
   "source": [
    "new_products.name = \"New Products\"\n",
    "new_products"
   ]
  },
  {
   "cell_type": "code",
   "execution_count": 25,
   "id": "4721649a-8b46-4002-89af-419176c5dc4b",
   "metadata": {},
   "outputs": [
    {
     "name": "stdout",
     "output_type": "stream",
     "text": [
      "0    A\n",
      "1    B\n",
      "2    C\n",
      "3    D\n",
      "Name: New Products, dtype: object\n"
     ]
    }
   ],
   "source": [
    "print(new_products)"
   ]
  },
  {
   "cell_type": "markdown",
   "id": "8a6d1296-b7a0-4bed-a68e-c906859035df",
   "metadata": {},
   "source": [
    "The attributes related to a certain Python object allow us to extract information about it.\\\n",
    "However, they are not meant to alter or modify its content in any way."
   ]
  },
  {
   "cell_type": "markdown",
   "id": "865e739d-91fa-4fd5-9a23-d3df6824d05f",
   "metadata": {},
   "source": [
    "## Using an Index in pandas"
   ]
  },
  {
   "cell_type": "markdown",
   "id": "cb70bdf3-1e12-48bb-91a9-f8b3ed7f9dbb",
   "metadata": {},
   "source": [
    "In Pandas, the **index** is a crucial component of both ```Series``` and ```DataFrame``` objects, serving as a *set of labels* that identify each row (or column in the case of Series when transposing). It provides a mechanism for efficient data access, alignment, and identification.\\\n",
    "\\\n",
    "While explaining the use of an Index, we will work with a Series created from a *Dictionary* as opposed to a list or array."
   ]
  },
  {
   "cell_type": "code",
   "execution_count": 26,
   "id": "90da1792-c68d-4ea5-90b4-df576727150a",
   "metadata": {},
   "outputs": [
    {
     "data": {
      "text/plain": [
       "{'Product A': 22250, 'Product B': 16600, 'Product C': 15600}"
      ]
     },
     "execution_count": 26,
     "metadata": {},
     "output_type": "execute_result"
    }
   ],
   "source": [
    "prices_per_category = {'Product A': 22250, 'Product B': 16600, 'Product C': 15600}\n",
    "prices_per_category"
   ]
  },
  {
   "cell_type": "code",
   "execution_count": 27,
   "id": "3cbae6a6-ff23-47c3-a947-712343e67d7c",
   "metadata": {},
   "outputs": [
    {
     "data": {
      "text/plain": [
       "dict"
      ]
     },
     "execution_count": 27,
     "metadata": {},
     "output_type": "execute_result"
    }
   ],
   "source": [
    "type(prices_per_category)"
   ]
  },
  {
   "cell_type": "code",
   "execution_count": 28,
   "id": "ec884267-b9f4-4712-a538-be626a62dbec",
   "metadata": {},
   "outputs": [
    {
     "data": {
      "text/plain": [
       "Product A    22250\n",
       "Product B    16600\n",
       "Product C    15600\n",
       "dtype: int64"
      ]
     },
     "execution_count": 28,
     "metadata": {},
     "output_type": "execute_result"
    }
   ],
   "source": [
    "prices_per_category = pd.Series(prices_per_category)\n",
    "prices_per_category"
   ]
  },
  {
   "cell_type": "code",
   "execution_count": 29,
   "id": "41e40c7d-a02d-4fe5-8a88-fa294e003c18",
   "metadata": {},
   "outputs": [
    {
     "data": {
      "text/plain": [
       "pandas.core.series.Series"
      ]
     },
     "execution_count": 29,
     "metadata": {},
     "output_type": "execute_result"
    }
   ],
   "source": [
    "type(prices_per_category)"
   ]
  },
  {
   "cell_type": "markdown",
   "id": "28d633c2-94e9-4e1d-84f1-02c8f1397b1a",
   "metadata": {},
   "source": [
    "We can see that the *keys* have been translated to *index values*. These indices act as access labels that can explicitly indicate the integer values we have on the right side.\\\n",
    "This is exactly what a Series index needs to do.\\\n",
    "It contains *Index Values* that point to the relevant *Data Points*, stored in a Series."
   ]
  },
  {
   "cell_type": "markdown",
   "id": "4e2d0989-9b75-4213-b2e1-c475dd7e7a23",
   "metadata": {},
   "source": [
    "The Series *index* is seperate object."
   ]
  },
  {
   "cell_type": "code",
   "execution_count": 30,
   "id": "bb4ce2d6-0da4-473f-9b2e-2b537e185f99",
   "metadata": {},
   "outputs": [
    {
     "data": {
      "text/plain": [
       "Index(['Product A', 'Product B', 'Product C'], dtype='object')"
      ]
     },
     "execution_count": 30,
     "metadata": {},
     "output_type": "execute_result"
    }
   ],
   "source": [
    "prices_per_category.index"
   ]
  },
  {
   "cell_type": "code",
   "execution_count": 31,
   "id": "57f355d8-19c9-439d-b13b-3c5498c33390",
   "metadata": {},
   "outputs": [
    {
     "data": {
      "text/plain": [
       "pandas.core.indexes.base.Index"
      ]
     },
     "execution_count": 31,
     "metadata": {},
     "output_type": "execute_result"
    }
   ],
   "source": [
    "type(prices_per_category.index)"
   ]
  },
  {
   "cell_type": "markdown",
   "id": "9637a3ee-4414-4ee9-ab76-3fd65861f224",
   "metadata": {},
   "source": [
    "Using indexes has many practical applications when working with pandas. Few crucial points to remember:\n",
    "1. An *index* allows you to refer to a position within a sequence, or, in other words, a set of values in a sequenced order.\n",
    "2. You will be able to quickly access the prices of the relevant categories through their respective *indices*\n",
    "3. The *index* data stucture will often turn out to be a way to speed up your computations while working with large datasets."
   ]
  },
  {
   "cell_type": "markdown",
   "id": "4b9b6aa6-f74d-468a-96ff-6cd138e144d1",
   "metadata": {},
   "source": [
    "## Position-based vs Label-based Indexing"
   ]
  },
  {
   "cell_type": "markdown",
   "id": "d2d38e3e-28ac-41dc-bfc9-c2b7a64d81f1",
   "metadata": {},
   "source": [
    "A Series is a one-dimensional labeled array, and its index provides a way to identify and retrieve its values. The ```pandas Series' index``` represents a very solid data structure. Sometimes, they can **implicit** and sometimes, **explicit**. "
   ]
  },
  {
   "cell_type": "markdown",
   "id": "befd0b8b-0bf5-41cf-930c-50b16f59bf67",
   "metadata": {},
   "source": [
    "### Implicit Indexing (Position-based)"
   ]
  },
  {
   "cell_type": "code",
   "execution_count": 32,
   "id": "23a3f6f5-b707-415c-9824-3872511397ea",
   "metadata": {},
   "outputs": [
    {
     "data": {
      "text/plain": [
       "0    10\n",
       "1    20\n",
       "2    30\n",
       "3    40\n",
       "4    50\n",
       "dtype: int64"
      ]
     },
     "execution_count": 32,
     "metadata": {},
     "output_type": "execute_result"
    }
   ],
   "source": [
    "series_a = pd.Series([10, 20, 30, 40, 50])\n",
    "series_a"
   ]
  },
  {
   "cell_type": "markdown",
   "id": "7894952f-8404-4532-a171-c86e5b395b98",
   "metadata": {},
   "source": [
    "When the user doesn't specify index, pandas will immediately attach the default zero-based indexing to their object. This way, they can refer to the object's values via their *positions*. Hence, *implicit* index will always be the default numeric index."
   ]
  },
  {
   "cell_type": "code",
   "execution_count": 33,
   "id": "a7f50cba-3e5e-4926-9d3f-2d8446211f61",
   "metadata": {},
   "outputs": [
    {
     "data": {
      "text/plain": [
       "RangeIndex(start=0, stop=5, step=1)"
      ]
     },
     "execution_count": 33,
     "metadata": {},
     "output_type": "execute_result"
    }
   ],
   "source": [
    "series_a.index"
   ]
  },
  {
   "cell_type": "code",
   "execution_count": 34,
   "id": "1fa2e3cb-615a-488a-a240-16f0d3e56cb9",
   "metadata": {},
   "outputs": [
    {
     "data": {
      "text/plain": [
       "pandas.core.indexes.range.RangeIndex"
      ]
     },
     "execution_count": 34,
     "metadata": {},
     "output_type": "execute_result"
    }
   ],
   "source": [
    "type(series_a.index)"
   ]
  },
  {
   "cell_type": "code",
   "execution_count": 35,
   "id": "646c037c-3786-4c43-a31f-7ed659324029",
   "metadata": {},
   "outputs": [
    {
     "data": {
      "text/plain": [
       "[0, 1, 2, 3, 4]"
      ]
     },
     "execution_count": 35,
     "metadata": {},
     "output_type": "execute_result"
    }
   ],
   "source": [
    "list(series_a.index)"
   ]
  },
  {
   "cell_type": "code",
   "execution_count": 36,
   "id": "339cf4c3-8a65-4dc8-869f-bf5896e0bc56",
   "metadata": {},
   "outputs": [
    {
     "data": {
      "text/plain": [
       "np.int64(30)"
      ]
     },
     "execution_count": 36,
     "metadata": {},
     "output_type": "execute_result"
    }
   ],
   "source": [
    "series_a[2]"
   ]
  },
  {
   "cell_type": "markdown",
   "id": "9a813ae0-87ab-4397-8225-6dea096d2ece",
   "metadata": {},
   "source": [
    "### Explicit Indexing (Label-based)\n",
    "When a Series has a custom index, you can access elements using their corresponding labels. Labels are names that will logically correspond to the data values contained in the Series."
   ]
  },
  {
   "cell_type": "code",
   "execution_count": 37,
   "id": "fb6c5a2d-1f2f-4621-aaab-3818592b3ad1",
   "metadata": {},
   "outputs": [
    {
     "data": {
      "text/plain": [
       "Product A    22250\n",
       "Product B    16600\n",
       "Product C    12500\n",
       "dtype: int64"
      ]
     },
     "execution_count": 37,
     "metadata": {},
     "output_type": "execute_result"
    }
   ],
   "source": [
    "prices = pd.Series({'Product A': 22250, 'Product B': 16600, 'Product C': 12500})\n",
    "prices"
   ]
  },
  {
   "cell_type": "markdown",
   "id": "d95d1a6f-66c1-4b26-9ab2-72ed7ecac8ad",
   "metadata": {},
   "source": [
    "In this example, we have *explicitly* specified our index."
   ]
  },
  {
   "cell_type": "code",
   "execution_count": 38,
   "id": "6fcc831d-15ae-4d75-830b-64b01ccbe91e",
   "metadata": {},
   "outputs": [
    {
     "data": {
      "text/plain": [
       "Index(['Product A', 'Product B', 'Product C'], dtype='object')"
      ]
     },
     "execution_count": 38,
     "metadata": {},
     "output_type": "execute_result"
    }
   ],
   "source": [
    "prices.index"
   ]
  },
  {
   "cell_type": "code",
   "execution_count": 39,
   "id": "5af453df-fad2-4f6b-be98-575edd040842",
   "metadata": {},
   "outputs": [
    {
     "data": {
      "text/plain": [
       "pandas.core.indexes.base.Index"
      ]
     },
     "execution_count": 39,
     "metadata": {},
     "output_type": "execute_result"
    }
   ],
   "source": [
    "type(prices.index)"
   ]
  },
  {
   "cell_type": "code",
   "execution_count": 40,
   "id": "d52fe9ef-37ec-48e2-9d17-7772e2fab0ee",
   "metadata": {},
   "outputs": [
    {
     "data": {
      "text/plain": [
       "np.int64(12500)"
      ]
     },
     "execution_count": 40,
     "metadata": {},
     "output_type": "execute_result"
    }
   ],
   "source": [
    "prices['Product C']"
   ]
  },
  {
   "cell_type": "markdown",
   "id": "79ed1ca7-d35c-4d34-9fe4-b0dea260dab8",
   "metadata": {},
   "source": [
    "## More on working with Indices in Python"
   ]
  },
  {
   "cell_type": "code",
   "execution_count": 41,
   "id": "39b33d08-d898-4628-ada6-e4b3659290fd",
   "metadata": {},
   "outputs": [],
   "source": [
    "seriesA = pd.Series([10, 20, 30, 40, 50])\n",
    "prices = pd.Series({'Product A': 22500, 'Product B': 16600, 'Product C': 24600})"
   ]
  },
  {
   "cell_type": "code",
   "execution_count": 42,
   "id": "7a40a4b0-edb4-4fcb-9b3a-f3a793dc8e83",
   "metadata": {},
   "outputs": [
    {
     "data": {
      "text/plain": [
       "0    10\n",
       "1    20\n",
       "2    30\n",
       "3    40\n",
       "4    50\n",
       "dtype: int64"
      ]
     },
     "execution_count": 42,
     "metadata": {},
     "output_type": "execute_result"
    }
   ],
   "source": [
    "seriesA"
   ]
  },
  {
   "cell_type": "code",
   "execution_count": 43,
   "id": "01b6c9bd-1fec-43ea-9564-b3dcd1c8bff8",
   "metadata": {},
   "outputs": [
    {
     "data": {
      "text/plain": [
       "np.int64(10)"
      ]
     },
     "execution_count": 43,
     "metadata": {},
     "output_type": "execute_result"
    }
   ],
   "source": [
    "seriesA[0]"
   ]
  },
  {
   "cell_type": "code",
   "execution_count": 44,
   "id": "33fea208-303e-4a31-989a-d71b0065e8ff",
   "metadata": {},
   "outputs": [
    {
     "data": {
      "text/plain": [
       "Product A    22500\n",
       "Product B    16600\n",
       "Product C    24600\n",
       "dtype: int64"
      ]
     },
     "execution_count": 44,
     "metadata": {},
     "output_type": "execute_result"
    }
   ],
   "source": [
    "prices"
   ]
  },
  {
   "cell_type": "code",
   "execution_count": 45,
   "id": "aaf8016e-b6e3-4624-811b-9e1b46f96094",
   "metadata": {},
   "outputs": [
    {
     "data": {
      "text/plain": [
       "np.int64(16600)"
      ]
     },
     "execution_count": 45,
     "metadata": {},
     "output_type": "execute_result"
    }
   ],
   "source": [
    "prices['Product B']"
   ]
  },
  {
   "cell_type": "code",
   "execution_count": 46,
   "id": "b4433114-cc30-4e08-bd62-6a48224f934f",
   "metadata": {},
   "outputs": [
    {
     "name": "stderr",
     "output_type": "stream",
     "text": [
      "C:\\Users\\aliya\\AppData\\Local\\Temp\\ipykernel_3804\\3717727957.py:1: FutureWarning: Series.__getitem__ treating keys as positions is deprecated. In a future version, integer keys will always be treated as labels (consistent with DataFrame behavior). To access a value by position, use `ser.iloc[pos]`\n",
      "  prices[1]\n"
     ]
    },
    {
     "data": {
      "text/plain": [
       "np.int64(16600)"
      ]
     },
     "execution_count": 46,
     "metadata": {},
     "output_type": "execute_result"
    }
   ],
   "source": [
    "prices[1]"
   ]
  },
  {
   "cell_type": "code",
   "execution_count": 47,
   "id": "4478d8db-8429-4719-b7de-4dc1cb3e8436",
   "metadata": {},
   "outputs": [
    {
     "data": {
      "text/plain": [
       "1    10\n",
       "2    20\n",
       "3    30\n",
       "4    40\n",
       "5    50\n",
       "dtype: int64"
      ]
     },
     "execution_count": 47,
     "metadata": {},
     "output_type": "execute_result"
    }
   ],
   "source": [
    "seriesB = pd.Series([10, 20, 30, 40, 50], index = [1, 2, 3, 4, 5])\n",
    "seriesB              # overrides implicit zero-based indexing"
   ]
  },
  {
   "cell_type": "code",
   "execution_count": 48,
   "id": "1cc0e09f-5b8a-4e08-b930-76b34a39ffa5",
   "metadata": {},
   "outputs": [
    {
     "data": {
      "text/plain": [
       "np.int64(10)"
      ]
     },
     "execution_count": 48,
     "metadata": {},
     "output_type": "execute_result"
    }
   ],
   "source": [
    "seriesB[1]"
   ]
  },
  {
   "cell_type": "code",
   "execution_count": 49,
   "id": "a3acbc53-23dc-484c-8850-bdfa12f6ef82",
   "metadata": {},
   "outputs": [
    {
     "data": {
      "text/plain": [
       "1    10\n",
       "2    20\n",
       "3    30\n",
       "4    40\n",
       "5    50\n",
       "dtype: int64"
      ]
     },
     "execution_count": 49,
     "metadata": {},
     "output_type": "execute_result"
    }
   ],
   "source": [
    "seriesC = pd.Series([10, 20, 30, 40, 50], index = ['1', '2', '3', '4', '5'])\n",
    "seriesC"
   ]
  },
  {
   "cell_type": "code",
   "execution_count": 50,
   "id": "62caa030-f0f4-4459-8eab-d2bd9934b0d9",
   "metadata": {},
   "outputs": [
    {
     "data": {
      "text/plain": [
       "np.int64(10)"
      ]
     },
     "execution_count": 50,
     "metadata": {},
     "output_type": "execute_result"
    }
   ],
   "source": [
    "seriesC['1']"
   ]
  },
  {
   "cell_type": "code",
   "execution_count": 51,
   "id": "7bf3549f-59f5-457b-8a1b-b30263b8cfe1",
   "metadata": {},
   "outputs": [
    {
     "name": "stderr",
     "output_type": "stream",
     "text": [
      "C:\\Users\\aliya\\AppData\\Local\\Temp\\ipykernel_3804\\2669562303.py:1: FutureWarning: Series.__getitem__ treating keys as positions is deprecated. In a future version, integer keys will always be treated as labels (consistent with DataFrame behavior). To access a value by position, use `ser.iloc[pos]`\n",
      "  seriesC[0]\n"
     ]
    },
    {
     "data": {
      "text/plain": [
       "np.int64(10)"
      ]
     },
     "execution_count": 51,
     "metadata": {},
     "output_type": "execute_result"
    }
   ],
   "source": [
    "seriesC[0]"
   ]
  },
  {
   "cell_type": "markdown",
   "id": "b3a0d7a0-fa60-4987-b851-2546ce545981",
   "metadata": {},
   "source": [
    "## Using Method in Python"
   ]
  },
  {
   "cell_type": "markdown",
   "id": "3b0fd564-fd23-40a3-bef8-505dee0b6e91",
   "metadata": {},
   "source": [
    "A Python **object** is associated with a certain collection of **attributes** and **methods**.\\\n",
    "```Attributes``` provide the Metadata and are *passive*\\\n",
    "```Methods``` provide functionalities and behaviour of the object and are *active*"
   ]
  },
  {
   "cell_type": "markdown",
   "id": "f8a5be91-407c-4097-9e31-36c1423d8918",
   "metadata": {},
   "source": [
    "### Methods vs Functions\n",
    "When provided with some initial data, both tools can make specific operations with it and return an output. However,\n",
    "- **Functions** - is an independent entity. It is not associated with an object by default.\n",
    "- **Methods** - generally applied to an object of certain class. When called or invoked, a method can have access to object's data and can also manipulate the object's state.\n",
    "\n",
    "Since we can't use a method unless there's an object to associate it with, different libraries contain  their own sets of methods. Thus, they can be applied to the type of objects associated with these libraries only."
   ]
  },
  {
   "cell_type": "code",
   "execution_count": 52,
   "id": "75ca006c-7e6b-4057-87aa-74ff930c942f",
   "metadata": {},
   "outputs": [],
   "source": [
    "start_date_deposits = pd.Series({\n",
    "    '7/4/2014' : 2000,\n",
    "    '1/2/2015' : 2000,\n",
    "    '12/8/2012' : 1000,\n",
    "    '2/20/2015' : 2000,\n",
    "    '10/28/2013' : 2000,\n",
    "    '4/19/2015' : 2000,\n",
    "    '7/4/2016' : 2000,\n",
    "    '4/24/2014' : 2000,\n",
    "    '9/3/2015' : 4000,\n",
    "    '7/25/2016' : 2000,\n",
    "    '5/1/2014' : 2000,\n",
    "    '3/29/2013' : 2000,\n",
    "    '10/3/2014' : 2000,\n",
    "    '9/18/2015' : 2000,\n",
    "})"
   ]
  },
  {
   "cell_type": "code",
   "execution_count": 53,
   "id": "545c786d-bcd6-407f-8ef6-bdcb1d58e6d4",
   "metadata": {},
   "outputs": [
    {
     "data": {
      "text/plain": [
       "7/4/2014      2000\n",
       "1/2/2015      2000\n",
       "12/8/2012     1000\n",
       "2/20/2015     2000\n",
       "10/28/2013    2000\n",
       "4/19/2015     2000\n",
       "7/4/2016      2000\n",
       "4/24/2014     2000\n",
       "9/3/2015      4000\n",
       "7/25/2016     2000\n",
       "5/1/2014      2000\n",
       "3/29/2013     2000\n",
       "10/3/2014     2000\n",
       "9/18/2015     2000\n",
       "dtype: int64"
      ]
     },
     "execution_count": 53,
     "metadata": {},
     "output_type": "execute_result"
    }
   ],
   "source": [
    "start_date_deposits"
   ]
  },
  {
   "cell_type": "markdown",
   "id": "c0a33405-ada3-4387-bd28-61691b9de700",
   "metadata": {},
   "source": [
    "Mathematical Methods"
   ]
  },
  {
   "cell_type": "code",
   "execution_count": 54,
   "id": "53d1102d-5950-4aac-807c-3aaff38c4eee",
   "metadata": {},
   "outputs": [
    {
     "data": {
      "text/plain": [
       "np.int64(29000)"
      ]
     },
     "execution_count": 54,
     "metadata": {},
     "output_type": "execute_result"
    }
   ],
   "source": [
    "start_date_deposits.sum()"
   ]
  },
  {
   "cell_type": "code",
   "execution_count": 55,
   "id": "27d30d6e-fd6c-40c3-8c07-17cd873ef94c",
   "metadata": {},
   "outputs": [
    {
     "data": {
      "text/plain": [
       "np.int64(1000)"
      ]
     },
     "execution_count": 55,
     "metadata": {},
     "output_type": "execute_result"
    }
   ],
   "source": [
    "start_date_deposits.min()"
   ]
  },
  {
   "cell_type": "code",
   "execution_count": 56,
   "id": "03050e6a-9616-484d-9206-0c2ff2566b4b",
   "metadata": {},
   "outputs": [
    {
     "data": {
      "text/plain": [
       "np.int64(4000)"
      ]
     },
     "execution_count": 56,
     "metadata": {},
     "output_type": "execute_result"
    }
   ],
   "source": [
    "start_date_deposits.max()"
   ]
  },
  {
   "cell_type": "code",
   "execution_count": 57,
   "id": "b90b383b-409f-4bfa-8d57-37090fc1f561",
   "metadata": {},
   "outputs": [
    {
     "data": {
      "text/plain": [
       "'9/3/2015'"
      ]
     },
     "execution_count": 57,
     "metadata": {},
     "output_type": "execute_result"
    }
   ],
   "source": [
    "start_date_deposits.idxmax()    # index of max value"
   ]
  },
  {
   "cell_type": "code",
   "execution_count": 58,
   "id": "355d972d-e05d-4e22-b12f-c8bdae75f536",
   "metadata": {},
   "outputs": [
    {
     "data": {
      "text/plain": [
       "'12/8/2012'"
      ]
     },
     "execution_count": 58,
     "metadata": {},
     "output_type": "execute_result"
    }
   ],
   "source": [
    "start_date_deposits.idxmin()    # index of min value"
   ]
  },
  {
   "cell_type": "markdown",
   "id": "475bcbbf-031b-48b3-ae0d-fec77a737ea5",
   "metadata": {},
   "source": [
    "Non-mathematical Methods"
   ]
  },
  {
   "cell_type": "code",
   "execution_count": 59,
   "id": "42d7568b-b0ae-4354-98a9-f3f9a37a6c95",
   "metadata": {},
   "outputs": [
    {
     "data": {
      "text/plain": [
       "7/4/2014      2000\n",
       "1/2/2015      2000\n",
       "12/8/2012     1000\n",
       "2/20/2015     2000\n",
       "10/28/2013    2000\n",
       "dtype: int64"
      ]
     },
     "execution_count": 59,
     "metadata": {},
     "output_type": "execute_result"
    }
   ],
   "source": [
    "start_date_deposits.head()    # first 5 rows"
   ]
  },
  {
   "cell_type": "code",
   "execution_count": 60,
   "id": "7230a938-d819-4dae-a8a7-8fce391c69a8",
   "metadata": {},
   "outputs": [
    {
     "data": {
      "text/plain": [
       "7/25/2016    2000\n",
       "5/1/2014     2000\n",
       "3/29/2013    2000\n",
       "10/3/2014    2000\n",
       "9/18/2015    2000\n",
       "dtype: int64"
      ]
     },
     "execution_count": 60,
     "metadata": {},
     "output_type": "execute_result"
    }
   ],
   "source": [
    "start_date_deposits.tail()     # last 5 rows"
   ]
  },
  {
   "cell_type": "markdown",
   "id": "c0188a91-9ccf-4ace-b582-0c6e4d35d6de",
   "metadata": {},
   "source": [
    "## Parameters vs Arguments"
   ]
  },
  {
   "cell_type": "markdown",
   "id": "332ce37f-83a3-4266-a9b9-3d48bc7d9321",
   "metadata": {},
   "source": [
    "One of the best features of ```methods``` is that we can also modify their performance. Technically, we achieve that by knowing the ```parameters``` associated with a given method and then supplying the relevant ```arguments``` upon execution.\\\n",
    "\\\n",
    "For eg. the ```head()``` methods, by default, displays the first 5 rows of the Series. "
   ]
  },
  {
   "cell_type": "code",
   "execution_count": 61,
   "id": "bc7cf190-aa52-4d5c-ba70-04a7a895a1ba",
   "metadata": {},
   "outputs": [
    {
     "data": {
      "text/plain": [
       "7/4/2014      2000\n",
       "1/2/2015      2000\n",
       "12/8/2012     1000\n",
       "2/20/2015     2000\n",
       "10/28/2013    2000\n",
       "dtype: int64"
      ]
     },
     "execution_count": 61,
     "metadata": {},
     "output_type": "execute_result"
    }
   ],
   "source": [
    "start_date_deposits.head()"
   ]
  },
  {
   "cell_type": "markdown",
   "id": "9e1bb46d-62fc-466e-808d-b6790f1b2cfb",
   "metadata": {},
   "source": [
    "However, it also provides us with the option to choose the number of rows to be displayed. So, if we add the number 3 or 10 within in the parenthesis, we will obtain the first 3 or 10 values resp. only."
   ]
  },
  {
   "cell_type": "code",
   "execution_count": 62,
   "id": "d6648d04-bd79-4ef6-bad0-b2ce0b7483a5",
   "metadata": {},
   "outputs": [
    {
     "data": {
      "text/plain": [
       "7/4/2014     2000\n",
       "1/2/2015     2000\n",
       "12/8/2012    1000\n",
       "dtype: int64"
      ]
     },
     "execution_count": 62,
     "metadata": {},
     "output_type": "execute_result"
    }
   ],
   "source": [
    "start_date_deposits.head(3)"
   ]
  },
  {
   "attachments": {},
   "cell_type": "markdown",
   "id": "6c17168b-ea4b-45e7-8269-7096648dad5c",
   "metadata": {},
   "source": [
    "In programming terms, the option **to set** the number of rows to display is called a **```parameter```** of the ```head()``` method. Our choice of that number in a given situation, is referred to as an **```argument```**. Hence, the **parameter** allows us to modify the way in which the method will operate.\\\n",
    "\\\n",
    "Pandas methods have ```parameters``` you can supply with ```arguments``` to modify the performance of the given method. Furthermore, in case you are working with methods that have multiple parameters, it is good practise to refer to the parameters by using their names explicitly and in the right order (*for eg.* n=10)."
   ]
  },
  {
   "cell_type": "code",
   "execution_count": 63,
   "id": "d13a0711-34d6-4b67-9c2c-0280dab24ffb",
   "metadata": {},
   "outputs": [
    {
     "data": {
      "text/plain": [
       "7/4/2014      2000\n",
       "1/2/2015      2000\n",
       "12/8/2012     1000\n",
       "2/20/2015     2000\n",
       "10/28/2013    2000\n",
       "4/19/2015     2000\n",
       "7/4/2016      2000\n",
       "4/24/2014     2000\n",
       "9/3/2015      4000\n",
       "7/25/2016     2000\n",
       "dtype: int64"
      ]
     },
     "execution_count": 63,
     "metadata": {},
     "output_type": "execute_result"
    }
   ],
   "source": [
    "start_date_deposits.head(n=10)"
   ]
  },
  {
   "cell_type": "markdown",
   "id": "d3f23a33-08b5-4f62-98bd-3449cc7e1989",
   "metadata": {},
   "source": [
    "So, what is the right order? and...\\\n",
    "**What, and how many parameters are associated with a certain pandas method?**\n",
    "\n",
    "## Dive Deeper and learn Better\n",
    "This and much more information of the library has been extensively covered in [**the pandas Documentation**](https://pandas.pydata.org/docs/). *(dicussed more in detail in the end)*.\\\n",
    "You can visit the linked site and read the documentation for deep understanding.\\\n",
    "But in case you want to do a specific search, say you want to learn in detail only about ```pd.Series()``` method, then you can directly type it in your search engine search bar and press search. The first link to appear will be of the offial pandas documentation site, and it will take you directly to the specific method you searched for. \\\n",
    "Also, you another quicker way of diving deeper into the details of a method, right here in the Jupyter Notebook, can be done with the ```shift + tab``` method after typing a method."
   ]
  },
  {
   "cell_type": "markdown",
   "id": "2c95dc0e-c01e-451f-9612-8c9f9013a963",
   "metadata": {},
   "source": [
    "# pandas DataFrames\n",
    "A Pandas DataFrame is a two-dimensional, mutable, tabular data structure with labeled axes (rows and columns). It is a core component of the Pandas library in Python, designed for efficient data manipulation and analysis, and is widely used in data science, machine learning, and other data-intensive fields.\\\n",
    "Key characteristics of a Pandas DataFrame:\n",
    "- **Tabular Structure**: Data is organized in rows and columns, similar to a spreadsheet or a SQL table.\n",
    "- **Labeled Axes**: Both rows and columns have labels (an index for rows and column names for columns), allowing for easy access and manipulation of data by name.\n",
    "- **Heterogeneous Data Types**: Columns can hold different data types (e.g., integers, floats, strings, booleans, dates), while all elements within a single column typically share the same data type.\n",
    "- **Mutable**: DataFrames can be modified after creation, allowing for adding, deleting, or updating columns and rows."
   ]
  },
  {
   "cell_type": "markdown",
   "id": "2e4e3842-04a6-4da0-9d6c-fbe711e1d369",
   "metadata": {},
   "source": [
    "## How can DataFrames improve your Analysis?\n",
    "Rather than seeing DataFrames as just 2D arrays, you can think of a DataFrame as a collection of multiple **observations**(rows) for the given **variables**(columns). Thus, you will be able to obtain information contained in single datapoint by referring to the relevant observation of a certain variable.\\\n",
    "\\\n",
    "In technical comparison, you can use the **row index** of a ```Series``` as a *Single point of Reference* to obtain a certain Data value.\\\n",
    "In case of DataFrame, we need to use *Two point of Reference*, the **row index** and the **column index**. Using just one point of reference in this case will either result in giving the entire row or the entire column as output."
   ]
  },
  {
   "cell_type": "markdown",
   "id": "6ed36e3e-0824-4529-ad98-4752594a7a9e",
   "metadata": {},
   "source": [
    "## Series and DataFrames as a Programming Objects\n",
    "**```Series```** can be seen as a **powerful version of the Python List**.\\\n",
    "However, it also includes some Python **Dictionary features** as Series' *indexing* relates to the *keys* of a dictionary, thus allowing us to extract the desired parts of the given dataset more quickly and efficiently.\\\n",
    "\\\n",
    "Taking that into account, the Python **```DataFrame```** object is simply an **enhanced Python Dictionary**. Much like creating a ```Series``` from a Python dictionary, we can construct a ```DataFrame```. The difference is that we don't need to associate a single value to the dictionary key. We can provide a whole object that contains the values of an entire column to the dictionary keys.\\\n",
    "Thus, DataFrames inherit the characteristics of the Dictionary class."
   ]
  },
  {
   "cell_type": "markdown",
   "id": "3088955c-4e23-4c69-9ccc-eccb674904f5",
   "metadata": {},
   "source": [
    "## Creating DataFrames from Scratch\n",
    "In a professional environment, you will be typically required ti wirk with an already existing **dataset**. After you import it, you'll be able to clean and preprocess its data and take your analysis from there.\\\n",
    "\\\n",
    "However, you must know how to create a **DataFrame** from scratch. This is a great exercise to better internalise its structure and functionalities.\\\n",
    "DataFrames can be created in 6 different ways:"
   ]
  },
  {
   "cell_type": "markdown",
   "id": "6d595a5c-c506-4e0a-968f-5ce44da54810",
   "metadata": {},
   "source": [
    "Please keep in mind about adopting the following this procedure throughout the upcoming examples.\\\n",
    "We'll store the initial structure in an *object* called **```data```** and then pass it as an *argument* of the ```pd.DataFrame()``` method right after that.\\\n",
    "In the end, we'll use the well-known ```df``` convention to form and display our final DataFrame object "
   ]
  },
  {
   "cell_type": "markdown",
   "id": "4e9f784f-b53d-42d1-a285-a7841580455e",
   "metadata": {},
   "source": [
    "### #1: DataFrame from dictionary of lists:"
   ]
  },
  {
   "cell_type": "code",
   "execution_count": 64,
   "id": "b0bd20ce-4945-4b15-b9d8-60911446d020",
   "metadata": {},
   "outputs": [
    {
     "data": {
      "text/html": [
       "<div>\n",
       "<style scoped>\n",
       "    .dataframe tbody tr th:only-of-type {\n",
       "        vertical-align: middle;\n",
       "    }\n",
       "\n",
       "    .dataframe tbody tr th {\n",
       "        vertical-align: top;\n",
       "    }\n",
       "\n",
       "    .dataframe thead th {\n",
       "        text-align: right;\n",
       "    }\n",
       "</style>\n",
       "<table border=\"1\" class=\"dataframe\">\n",
       "  <thead>\n",
       "    <tr style=\"text-align: right;\">\n",
       "      <th></th>\n",
       "      <th>ProductName</th>\n",
       "      <th>ProductPrice</th>\n",
       "    </tr>\n",
       "  </thead>\n",
       "  <tbody>\n",
       "    <tr>\n",
       "      <th>0</th>\n",
       "      <td>Product A</td>\n",
       "      <td>22250</td>\n",
       "    </tr>\n",
       "    <tr>\n",
       "      <th>1</th>\n",
       "      <td>Product B</td>\n",
       "      <td>16600</td>\n",
       "    </tr>\n",
       "    <tr>\n",
       "      <th>2</th>\n",
       "      <td>Product C</td>\n",
       "      <td>12500</td>\n",
       "    </tr>\n",
       "  </tbody>\n",
       "</table>\n",
       "</div>"
      ],
      "text/plain": [
       "  ProductName  ProductPrice\n",
       "0   Product A         22250\n",
       "1   Product B         16600\n",
       "2   Product C         12500"
      ]
     },
     "execution_count": 64,
     "metadata": {},
     "output_type": "execute_result"
    }
   ],
   "source": [
    "data = {'ProductName':['Product A', 'Product B', 'Product C'], 'ProductPrice':[22250, 16600, 12500]}\n",
    "df = pd.DataFrame(data)\n",
    "df"
   ]
  },
  {
   "cell_type": "markdown",
   "id": "43812c0c-a917-4cdd-bd64-af27a1936ed0",
   "metadata": {},
   "source": [
    "- As you can see that since we didn't specify any *indexing*, there was **implicit default integer index**.\n",
    "- Exactly like in a *Series*:\n",
    "  - the ```DataFrame index``` has been located on the **left**,\n",
    "  - then we have the ```column labels``` on the **top** and then\n",
    "  - the ```data values``` are located in **middle** at the intersections.\n",
    "- For eg.:\n",
    "  - the *ProductName* of *observation 0* is ```Product A```\n",
    "  - the *ProductPrice* of *observation 2* is ```12500```\n",
    "- You can also see how **Data Consistency** is preserved in this table, the first column contains only Strings, the second one only Integers."
   ]
  },
  {
   "cell_type": "code",
   "execution_count": 65,
   "id": "8c28bdc5-d0d2-46aa-8259-6bc06c7dc669",
   "metadata": {},
   "outputs": [
    {
     "data": {
      "text/html": [
       "<div>\n",
       "<style scoped>\n",
       "    .dataframe tbody tr th:only-of-type {\n",
       "        vertical-align: middle;\n",
       "    }\n",
       "\n",
       "    .dataframe tbody tr th {\n",
       "        vertical-align: top;\n",
       "    }\n",
       "\n",
       "    .dataframe thead th {\n",
       "        text-align: right;\n",
       "    }\n",
       "</style>\n",
       "<table border=\"1\" class=\"dataframe\">\n",
       "  <thead>\n",
       "    <tr style=\"text-align: right;\">\n",
       "      <th></th>\n",
       "      <th>1</th>\n",
       "      <th>2</th>\n",
       "    </tr>\n",
       "  </thead>\n",
       "  <tbody>\n",
       "    <tr>\n",
       "      <th>0</th>\n",
       "      <td>Product A</td>\n",
       "      <td>22250</td>\n",
       "    </tr>\n",
       "    <tr>\n",
       "      <th>1</th>\n",
       "      <td>Product B</td>\n",
       "      <td>16600</td>\n",
       "    </tr>\n",
       "    <tr>\n",
       "      <th>2</th>\n",
       "      <td>Product C</td>\n",
       "      <td>12500</td>\n",
       "    </tr>\n",
       "  </tbody>\n",
       "</table>\n",
       "</div>"
      ],
      "text/plain": [
       "           1      2\n",
       "0  Product A  22250\n",
       "1  Product B  16600\n",
       "2  Product C  12500"
      ]
     },
     "execution_count": 65,
     "metadata": {},
     "output_type": "execute_result"
    }
   ],
   "source": [
    "data = {1: ['Product A', 'Product B', 'Product C'], 2: [22250, 16600, 12500]}\n",
    "df = pd.DataFrame(data)\n",
    "df"
   ]
  },
  {
   "cell_type": "markdown",
   "id": "9fd0caf3-eb48-4050-816b-422763f7a8ba",
   "metadata": {},
   "source": [
    "- While creating a ```DataFrame``` from scratch, we must always be careful with the number of records and dimensions we provide."
   ]
  },
  {
   "cell_type": "code",
   "execution_count": 66,
   "id": "eb182746-1f7a-4fea-9f5f-13bb4edb4fb0",
   "metadata": {},
   "outputs": [],
   "source": [
    "# data = {'ProductName':['Product A', 'Product B', 'Product C', 'Product D'], 'ProductPrice':[22250, 16600, 12500]}\n",
    "# df = pd.DataFrame(data)\n",
    "# df\n",
    "\n",
    "# will lead to ValueError since the length of the two arrays is different."
   ]
  },
  {
   "cell_type": "markdown",
   "id": "fa78b3db-ad96-42f7-8112-c6438910ec13",
   "metadata": {},
   "source": [
    "### #2: DataFrame from dictionary of lists + specify an index:"
   ]
  },
  {
   "cell_type": "code",
   "execution_count": 67,
   "id": "f2c6048c-86fe-42ea-8836-5ed108fb852f",
   "metadata": {},
   "outputs": [
    {
     "data": {
      "text/html": [
       "<div>\n",
       "<style scoped>\n",
       "    .dataframe tbody tr th:only-of-type {\n",
       "        vertical-align: middle;\n",
       "    }\n",
       "\n",
       "    .dataframe tbody tr th {\n",
       "        vertical-align: top;\n",
       "    }\n",
       "\n",
       "    .dataframe thead th {\n",
       "        text-align: right;\n",
       "    }\n",
       "</style>\n",
       "<table border=\"1\" class=\"dataframe\">\n",
       "  <thead>\n",
       "    <tr style=\"text-align: right;\">\n",
       "      <th></th>\n",
       "      <th>ProductName</th>\n",
       "      <th>ProductPrice</th>\n",
       "    </tr>\n",
       "  </thead>\n",
       "  <tbody>\n",
       "    <tr>\n",
       "      <th>A</th>\n",
       "      <td>Prod A</td>\n",
       "      <td>22250</td>\n",
       "    </tr>\n",
       "    <tr>\n",
       "      <th>B</th>\n",
       "      <td>Prod B</td>\n",
       "      <td>16600</td>\n",
       "    </tr>\n",
       "    <tr>\n",
       "      <th>C</th>\n",
       "      <td>Prod C</td>\n",
       "      <td>12500</td>\n",
       "    </tr>\n",
       "  </tbody>\n",
       "</table>\n",
       "</div>"
      ],
      "text/plain": [
       "  ProductName  ProductPrice\n",
       "A      Prod A         22250\n",
       "B      Prod B         16600\n",
       "C      Prod C         12500"
      ]
     },
     "execution_count": 67,
     "metadata": {},
     "output_type": "execute_result"
    }
   ],
   "source": [
    "# making use of the 'index' parameter in pd.DataFrame method\n",
    "data = {'ProductName': ['Prod A', 'Prod B', 'Prod C'], 'ProductPrice':[22250, 16600, 12500]}\n",
    "df = pd.DataFrame(data, index = ['A', 'B', 'C'])\n",
    "df"
   ]
  },
  {
   "cell_type": "code",
   "execution_count": 68,
   "id": "c037a61d-34f9-4774-adf9-fcd888a6b002",
   "metadata": {},
   "outputs": [
    {
     "data": {
      "text/html": [
       "<div>\n",
       "<style scoped>\n",
       "    .dataframe tbody tr th:only-of-type {\n",
       "        vertical-align: middle;\n",
       "    }\n",
       "\n",
       "    .dataframe tbody tr th {\n",
       "        vertical-align: top;\n",
       "    }\n",
       "\n",
       "    .dataframe thead th {\n",
       "        text-align: right;\n",
       "    }\n",
       "</style>\n",
       "<table border=\"1\" class=\"dataframe\">\n",
       "  <thead>\n",
       "    <tr style=\"text-align: right;\">\n",
       "      <th></th>\n",
       "      <th>ProductName</th>\n",
       "      <th>ProductPrice</th>\n",
       "    </tr>\n",
       "  </thead>\n",
       "  <tbody>\n",
       "    <tr>\n",
       "      <th>A</th>\n",
       "      <td>Prod A</td>\n",
       "      <td>22250</td>\n",
       "    </tr>\n",
       "    <tr>\n",
       "      <th>B</th>\n",
       "      <td>Prod B</td>\n",
       "      <td>16600</td>\n",
       "    </tr>\n",
       "    <tr>\n",
       "      <th>C</th>\n",
       "      <td>Prod C</td>\n",
       "      <td>12500</td>\n",
       "    </tr>\n",
       "  </tbody>\n",
       "</table>\n",
       "</div>"
      ],
      "text/plain": [
       "  ProductName  ProductPrice\n",
       "A      Prod A         22250\n",
       "B      Prod B         16600\n",
       "C      Prod C         12500"
      ]
     },
     "execution_count": 68,
     "metadata": {},
     "output_type": "execute_result"
    }
   ],
   "source": [
    "# more professional way\n",
    "data = {'ProductName': ['Prod A', 'Prod B', 'Prod C'], 'ProductPrice':[22250, 16600, 12500]}\n",
    "product_Ids = ['A', 'B', 'C']\n",
    "df = pd.DataFrame(data, index = product_Ids)\n",
    "df"
   ]
  },
  {
   "cell_type": "markdown",
   "id": "1e7c6155-cfd3-451c-9258-214f3deaf173",
   "metadata": {},
   "source": [
    "### #3: DataFrame from a list of dictionaries:\n",
    "In terms of code, this is lengthy. But this practise involves *indentation* of dictionaries on below the other to improve code readability. Any kind of inconsistency created in the DataFrame will be easily identifiable than in other techniques.\\\n",
    "In this case, each dictionary represents one row or a **record** from the ```DataFrame```.\\\n",
    "the ```keys``` act as *column names* "
   ]
  },
  {
   "cell_type": "code",
   "execution_count": 69,
   "id": "0679e64a-7020-416d-9c2a-1969bb2ac9eb",
   "metadata": {},
   "outputs": [
    {
     "data": {
      "text/html": [
       "<div>\n",
       "<style scoped>\n",
       "    .dataframe tbody tr th:only-of-type {\n",
       "        vertical-align: middle;\n",
       "    }\n",
       "\n",
       "    .dataframe tbody tr th {\n",
       "        vertical-align: top;\n",
       "    }\n",
       "\n",
       "    .dataframe thead th {\n",
       "        text-align: right;\n",
       "    }\n",
       "</style>\n",
       "<table border=\"1\" class=\"dataframe\">\n",
       "  <thead>\n",
       "    <tr style=\"text-align: right;\">\n",
       "      <th></th>\n",
       "      <th>ProductName</th>\n",
       "      <th>ProductPrice</th>\n",
       "    </tr>\n",
       "  </thead>\n",
       "  <tbody>\n",
       "    <tr>\n",
       "      <th>0</th>\n",
       "      <td>Prod A</td>\n",
       "      <td>22250</td>\n",
       "    </tr>\n",
       "    <tr>\n",
       "      <th>1</th>\n",
       "      <td>Prod B</td>\n",
       "      <td>16600</td>\n",
       "    </tr>\n",
       "    <tr>\n",
       "      <th>2</th>\n",
       "      <td>Prod C</td>\n",
       "      <td>12500</td>\n",
       "    </tr>\n",
       "  </tbody>\n",
       "</table>\n",
       "</div>"
      ],
      "text/plain": [
       "  ProductName  ProductPrice\n",
       "0      Prod A         22250\n",
       "1      Prod B         16600\n",
       "2      Prod C         12500"
      ]
     },
     "execution_count": 69,
     "metadata": {},
     "output_type": "execute_result"
    }
   ],
   "source": [
    "data = [\n",
    "    {'ProductName': 'Prod A', 'ProductPrice': 22250},\n",
    "    {'ProductName': 'Prod B', 'ProductPrice': 16600},\n",
    "    {'ProductName': 'Prod C', 'ProductPrice': 12500},\n",
    "]\n",
    "df = pd.DataFrame(data)\n",
    "df"
   ]
  },
  {
   "cell_type": "code",
   "execution_count": 70,
   "id": "0cc5e1af-9ad8-4b50-93f0-a98d29ee0b5a",
   "metadata": {},
   "outputs": [
    {
     "data": {
      "text/html": [
       "<div>\n",
       "<style scoped>\n",
       "    .dataframe tbody tr th:only-of-type {\n",
       "        vertical-align: middle;\n",
       "    }\n",
       "\n",
       "    .dataframe tbody tr th {\n",
       "        vertical-align: top;\n",
       "    }\n",
       "\n",
       "    .dataframe thead th {\n",
       "        text-align: right;\n",
       "    }\n",
       "</style>\n",
       "<table border=\"1\" class=\"dataframe\">\n",
       "  <thead>\n",
       "    <tr style=\"text-align: right;\">\n",
       "      <th></th>\n",
       "      <th>ProductName</th>\n",
       "      <th>ProductPrice</th>\n",
       "    </tr>\n",
       "  </thead>\n",
       "  <tbody>\n",
       "    <tr>\n",
       "      <th>0</th>\n",
       "      <td>Prod A</td>\n",
       "      <td>22250</td>\n",
       "    </tr>\n",
       "    <tr>\n",
       "      <th>1</th>\n",
       "      <td>Prod B</td>\n",
       "      <td>16600</td>\n",
       "    </tr>\n",
       "    <tr>\n",
       "      <th>2</th>\n",
       "      <td>Prod C</td>\n",
       "      <td>[12500, 15300]</td>\n",
       "    </tr>\n",
       "  </tbody>\n",
       "</table>\n",
       "</div>"
      ],
      "text/plain": [
       "  ProductName    ProductPrice\n",
       "0      Prod A           22250\n",
       "1      Prod B           16600\n",
       "2      Prod C  [12500, 15300]"
      ]
     },
     "execution_count": 70,
     "metadata": {},
     "output_type": "execute_result"
    }
   ],
   "source": [
    "data = [\n",
    "    {'ProductName': 'Prod A', 'ProductPrice': 22250},\n",
    "    {'ProductName': 'Prod B', 'ProductPrice': 16600},\n",
    "    {'ProductName': 'Prod C', 'ProductPrice': [12500, 15300]},\n",
    "]\n",
    "df = pd.DataFrame(data)\n",
    "df"
   ]
  },
  {
   "cell_type": "code",
   "execution_count": 71,
   "id": "531cb089-edc3-4ee1-afec-23000af8b02f",
   "metadata": {},
   "outputs": [
    {
     "data": {
      "text/html": [
       "<div>\n",
       "<style scoped>\n",
       "    .dataframe tbody tr th:only-of-type {\n",
       "        vertical-align: middle;\n",
       "    }\n",
       "\n",
       "    .dataframe tbody tr th {\n",
       "        vertical-align: top;\n",
       "    }\n",
       "\n",
       "    .dataframe thead th {\n",
       "        text-align: right;\n",
       "    }\n",
       "</style>\n",
       "<table border=\"1\" class=\"dataframe\">\n",
       "  <thead>\n",
       "    <tr style=\"text-align: right;\">\n",
       "      <th></th>\n",
       "      <th>ProductName</th>\n",
       "      <th>ProductPrice</th>\n",
       "    </tr>\n",
       "  </thead>\n",
       "  <tbody>\n",
       "    <tr>\n",
       "      <th>0</th>\n",
       "      <td>Prod A</td>\n",
       "      <td>22250.0</td>\n",
       "    </tr>\n",
       "    <tr>\n",
       "      <th>1</th>\n",
       "      <td>Prod B</td>\n",
       "      <td>16600.0</td>\n",
       "    </tr>\n",
       "    <tr>\n",
       "      <th>2</th>\n",
       "      <td>Prod C</td>\n",
       "      <td>12500.0</td>\n",
       "    </tr>\n",
       "    <tr>\n",
       "      <th>3</th>\n",
       "      <td>Prod D</td>\n",
       "      <td>NaN</td>\n",
       "    </tr>\n",
       "  </tbody>\n",
       "</table>\n",
       "</div>"
      ],
      "text/plain": [
       "  ProductName  ProductPrice\n",
       "0      Prod A       22250.0\n",
       "1      Prod B       16600.0\n",
       "2      Prod C       12500.0\n",
       "3      Prod D           NaN"
      ]
     },
     "execution_count": 71,
     "metadata": {},
     "output_type": "execute_result"
    }
   ],
   "source": [
    "data = [\n",
    "    {'ProductName': 'Prod A', 'ProductPrice': 22250},\n",
    "    {'ProductName': 'Prod B', 'ProductPrice': 16600},\n",
    "    {'ProductName': 'Prod C', 'ProductPrice': 12500},\n",
    "    {'ProductName': 'Prod D'}\n",
    "]\n",
    "df = pd.DataFrame(data)\n",
    "df"
   ]
  },
  {
   "cell_type": "markdown",
   "id": "c9244420-1805-42a3-ab23-58bf868e14de",
   "metadata": {},
   "source": [
    "Here, we can clearly see how not putting any value at *ProductPrice* for the *4th observation* leaded to putting a ```NaN```."
   ]
  },
  {
   "cell_type": "markdown",
   "id": "de131414-9516-4237-bbf9-0c756f801c81",
   "metadata": {},
   "source": [
    "### #4: DataFrame from a dictionary of pandas Series:"
   ]
  },
  {
   "cell_type": "code",
   "execution_count": 72,
   "id": "1c0666de-fa51-44d9-be02-35036d3fe94e",
   "metadata": {},
   "outputs": [],
   "source": [
    "ser_products = pd.Series(['Prod A', 'Prod B', 'Prod C'])\n",
    "ser_prices = pd.Series([22250, 16600, 12500])"
   ]
  },
  {
   "cell_type": "code",
   "execution_count": 73,
   "id": "3d136804-65d8-4701-8df1-f0e627468fee",
   "metadata": {},
   "outputs": [
    {
     "data": {
      "text/html": [
       "<div>\n",
       "<style scoped>\n",
       "    .dataframe tbody tr th:only-of-type {\n",
       "        vertical-align: middle;\n",
       "    }\n",
       "\n",
       "    .dataframe tbody tr th {\n",
       "        vertical-align: top;\n",
       "    }\n",
       "\n",
       "    .dataframe thead th {\n",
       "        text-align: right;\n",
       "    }\n",
       "</style>\n",
       "<table border=\"1\" class=\"dataframe\">\n",
       "  <thead>\n",
       "    <tr style=\"text-align: right;\">\n",
       "      <th></th>\n",
       "      <th>ProductName</th>\n",
       "      <th>ProductPrice</th>\n",
       "    </tr>\n",
       "  </thead>\n",
       "  <tbody>\n",
       "    <tr>\n",
       "      <th>0</th>\n",
       "      <td>Prod A</td>\n",
       "      <td>22250</td>\n",
       "    </tr>\n",
       "    <tr>\n",
       "      <th>1</th>\n",
       "      <td>Prod B</td>\n",
       "      <td>16600</td>\n",
       "    </tr>\n",
       "    <tr>\n",
       "      <th>2</th>\n",
       "      <td>Prod C</td>\n",
       "      <td>12500</td>\n",
       "    </tr>\n",
       "  </tbody>\n",
       "</table>\n",
       "</div>"
      ],
      "text/plain": [
       "  ProductName  ProductPrice\n",
       "0      Prod A         22250\n",
       "1      Prod B         16600\n",
       "2      Prod C         12500"
      ]
     },
     "execution_count": 73,
     "metadata": {},
     "output_type": "execute_result"
    }
   ],
   "source": [
    "data = {'ProductName': ser_products, 'ProductPrice': ser_prices}\n",
    "df = pd.DataFrame(data)\n",
    "df"
   ]
  },
  {
   "cell_type": "code",
   "execution_count": 74,
   "id": "067ff02b-644a-4c53-abe6-e941499a6b1c",
   "metadata": {},
   "outputs": [
    {
     "data": {
      "text/html": [
       "<div>\n",
       "<style scoped>\n",
       "    .dataframe tbody tr th:only-of-type {\n",
       "        vertical-align: middle;\n",
       "    }\n",
       "\n",
       "    .dataframe tbody tr th {\n",
       "        vertical-align: top;\n",
       "    }\n",
       "\n",
       "    .dataframe thead th {\n",
       "        text-align: right;\n",
       "    }\n",
       "</style>\n",
       "<table border=\"1\" class=\"dataframe\">\n",
       "  <thead>\n",
       "    <tr style=\"text-align: right;\">\n",
       "      <th></th>\n",
       "      <th>ProductName</th>\n",
       "      <th>ProductPrice</th>\n",
       "    </tr>\n",
       "  </thead>\n",
       "  <tbody>\n",
       "    <tr>\n",
       "      <th>A</th>\n",
       "      <td>Prod A</td>\n",
       "      <td>22250</td>\n",
       "    </tr>\n",
       "    <tr>\n",
       "      <th>B</th>\n",
       "      <td>Prod B</td>\n",
       "      <td>16600</td>\n",
       "    </tr>\n",
       "    <tr>\n",
       "      <th>C</th>\n",
       "      <td>Prod C</td>\n",
       "      <td>12500</td>\n",
       "    </tr>\n",
       "  </tbody>\n",
       "</table>\n",
       "</div>"
      ],
      "text/plain": [
       "  ProductName  ProductPrice\n",
       "A      Prod A         22250\n",
       "B      Prod B         16600\n",
       "C      Prod C         12500"
      ]
     },
     "execution_count": 74,
     "metadata": {},
     "output_type": "execute_result"
    }
   ],
   "source": [
    "ser_products = pd.Series(['Prod A', 'Prod B', 'Prod C'], index = ['A', 'B', 'C'])\n",
    "ser_prices = pd.Series([22250, 16600, 12500], index = ['A', 'B', 'C'])\n",
    "\n",
    "data = {'ProductName': ser_products, 'ProductPrice': ser_prices}\n",
    "df = pd.DataFrame(data)\n",
    "df"
   ]
  },
  {
   "cell_type": "code",
   "execution_count": 75,
   "id": "9564bfe1-bba9-4d60-945f-253334efde0e",
   "metadata": {},
   "outputs": [
    {
     "data": {
      "text/html": [
       "<div>\n",
       "<style scoped>\n",
       "    .dataframe tbody tr th:only-of-type {\n",
       "        vertical-align: middle;\n",
       "    }\n",
       "\n",
       "    .dataframe tbody tr th {\n",
       "        vertical-align: top;\n",
       "    }\n",
       "\n",
       "    .dataframe thead th {\n",
       "        text-align: right;\n",
       "    }\n",
       "</style>\n",
       "<table border=\"1\" class=\"dataframe\">\n",
       "  <thead>\n",
       "    <tr style=\"text-align: right;\">\n",
       "      <th></th>\n",
       "      <th>ProductName</th>\n",
       "      <th>ProductPrice</th>\n",
       "    </tr>\n",
       "  </thead>\n",
       "  <tbody>\n",
       "    <tr>\n",
       "      <th>A</th>\n",
       "      <td>Prod A</td>\n",
       "      <td>12500</td>\n",
       "    </tr>\n",
       "    <tr>\n",
       "      <th>B</th>\n",
       "      <td>Prod B</td>\n",
       "      <td>16600</td>\n",
       "    </tr>\n",
       "    <tr>\n",
       "      <th>C</th>\n",
       "      <td>Prod C</td>\n",
       "      <td>22250</td>\n",
       "    </tr>\n",
       "  </tbody>\n",
       "</table>\n",
       "</div>"
      ],
      "text/plain": [
       "  ProductName  ProductPrice\n",
       "A      Prod A         12500\n",
       "B      Prod B         16600\n",
       "C      Prod C         22250"
      ]
     },
     "execution_count": 75,
     "metadata": {},
     "output_type": "execute_result"
    }
   ],
   "source": [
    "# change in index order in Series\n",
    "ser_products = pd.Series(['Prod A', 'Prod B', 'Prod C'], index = ['A', 'B', 'C'])\n",
    "ser_prices = pd.Series([22250, 16600, 12500], index = ['C', 'B', 'A'])\n",
    "\n",
    "data = {'ProductName': ser_products, 'ProductPrice': ser_prices}\n",
    "df = pd.DataFrame(data)\n",
    "df"
   ]
  },
  {
   "cell_type": "markdown",
   "id": "e1413850-700a-4bc6-a936-f428e58f995e",
   "metadata": {},
   "source": [
    "### #5: DataFrame from a list of lists:"
   ]
  },
  {
   "cell_type": "code",
   "execution_count": 76,
   "id": "744db982-c922-47b1-a60c-29a4ca6487bf",
   "metadata": {},
   "outputs": [
    {
     "data": {
      "text/html": [
       "<div>\n",
       "<style scoped>\n",
       "    .dataframe tbody tr th:only-of-type {\n",
       "        vertical-align: middle;\n",
       "    }\n",
       "\n",
       "    .dataframe tbody tr th {\n",
       "        vertical-align: top;\n",
       "    }\n",
       "\n",
       "    .dataframe thead th {\n",
       "        text-align: right;\n",
       "    }\n",
       "</style>\n",
       "<table border=\"1\" class=\"dataframe\">\n",
       "  <thead>\n",
       "    <tr style=\"text-align: right;\">\n",
       "      <th></th>\n",
       "      <th>0</th>\n",
       "      <th>1</th>\n",
       "    </tr>\n",
       "  </thead>\n",
       "  <tbody>\n",
       "    <tr>\n",
       "      <th>0</th>\n",
       "      <td>Prod A</td>\n",
       "      <td>22250</td>\n",
       "    </tr>\n",
       "    <tr>\n",
       "      <th>1</th>\n",
       "      <td>Prod B</td>\n",
       "      <td>16600</td>\n",
       "    </tr>\n",
       "    <tr>\n",
       "      <th>2</th>\n",
       "      <td>Prod C</td>\n",
       "      <td>12500</td>\n",
       "    </tr>\n",
       "  </tbody>\n",
       "</table>\n",
       "</div>"
      ],
      "text/plain": [
       "        0      1\n",
       "0  Prod A  22250\n",
       "1  Prod B  16600\n",
       "2  Prod C  12500"
      ]
     },
     "execution_count": 76,
     "metadata": {},
     "output_type": "execute_result"
    }
   ],
   "source": [
    "data = [['Prod A', 22250], ['Prod B', 16600], ['Prod C', 12500]]\n",
    "df = pd.DataFrame(data)\n",
    "df"
   ]
  },
  {
   "cell_type": "code",
   "execution_count": 77,
   "id": "d9c7d289-2bff-4c83-abb3-225a1292c89c",
   "metadata": {},
   "outputs": [
    {
     "data": {
      "text/html": [
       "<div>\n",
       "<style scoped>\n",
       "    .dataframe tbody tr th:only-of-type {\n",
       "        vertical-align: middle;\n",
       "    }\n",
       "\n",
       "    .dataframe tbody tr th {\n",
       "        vertical-align: top;\n",
       "    }\n",
       "\n",
       "    .dataframe thead th {\n",
       "        text-align: right;\n",
       "    }\n",
       "</style>\n",
       "<table border=\"1\" class=\"dataframe\">\n",
       "  <thead>\n",
       "    <tr style=\"text-align: right;\">\n",
       "      <th></th>\n",
       "      <th>0</th>\n",
       "      <th>1</th>\n",
       "      <th>2</th>\n",
       "    </tr>\n",
       "  </thead>\n",
       "  <tbody>\n",
       "    <tr>\n",
       "      <th>0</th>\n",
       "      <td>Prod A</td>\n",
       "      <td>22250</td>\n",
       "      <td>NaN</td>\n",
       "    </tr>\n",
       "    <tr>\n",
       "      <th>1</th>\n",
       "      <td>Prod B</td>\n",
       "      <td>16600</td>\n",
       "      <td>NaN</td>\n",
       "    </tr>\n",
       "    <tr>\n",
       "      <th>2</th>\n",
       "      <td>Prod C</td>\n",
       "      <td>12500</td>\n",
       "      <td>5000.0</td>\n",
       "    </tr>\n",
       "  </tbody>\n",
       "</table>\n",
       "</div>"
      ],
      "text/plain": [
       "        0      1       2\n",
       "0  Prod A  22250     NaN\n",
       "1  Prod B  16600     NaN\n",
       "2  Prod C  12500  5000.0"
      ]
     },
     "execution_count": 77,
     "metadata": {},
     "output_type": "execute_result"
    }
   ],
   "source": [
    "data = [['Prod A', 22250], ['Prod B', 16600], ['Prod C', 12500, 5000]]\n",
    "df = pd.DataFrame(data)\n",
    "df"
   ]
  },
  {
   "cell_type": "code",
   "execution_count": 78,
   "id": "80e775ec-f64d-4650-83f2-72dc94e1b333",
   "metadata": {},
   "outputs": [
    {
     "data": {
      "text/html": [
       "<div>\n",
       "<style scoped>\n",
       "    .dataframe tbody tr th:only-of-type {\n",
       "        vertical-align: middle;\n",
       "    }\n",
       "\n",
       "    .dataframe tbody tr th {\n",
       "        vertical-align: top;\n",
       "    }\n",
       "\n",
       "    .dataframe thead th {\n",
       "        text-align: right;\n",
       "    }\n",
       "</style>\n",
       "<table border=\"1\" class=\"dataframe\">\n",
       "  <thead>\n",
       "    <tr style=\"text-align: right;\">\n",
       "      <th></th>\n",
       "      <th>0</th>\n",
       "      <th>1</th>\n",
       "    </tr>\n",
       "  </thead>\n",
       "  <tbody>\n",
       "    <tr>\n",
       "      <th>0</th>\n",
       "      <td>Prod A</td>\n",
       "      <td>22250</td>\n",
       "    </tr>\n",
       "    <tr>\n",
       "      <th>1</th>\n",
       "      <td>Prod B</td>\n",
       "      <td>16600</td>\n",
       "    </tr>\n",
       "    <tr>\n",
       "      <th>2</th>\n",
       "      <td>Prod C</td>\n",
       "      <td>12500</td>\n",
       "    </tr>\n",
       "  </tbody>\n",
       "</table>\n",
       "</div>"
      ],
      "text/plain": [
       "        0      1\n",
       "0  Prod A  22250\n",
       "1  Prod B  16600\n",
       "2  Prod C  12500"
      ]
     },
     "execution_count": 78,
     "metadata": {},
     "output_type": "execute_result"
    }
   ],
   "source": [
    "data = [['Prod A', 22250], ['Prod B', 16600], ['Prod C', 12500]]\n",
    "df = pd.DataFrame(data)\n",
    "df"
   ]
  },
  {
   "cell_type": "code",
   "execution_count": 79,
   "id": "67f7599d-405f-4a62-b61d-2ec1c01e7e0e",
   "metadata": {},
   "outputs": [
    {
     "data": {
      "text/html": [
       "<div>\n",
       "<style scoped>\n",
       "    .dataframe tbody tr th:only-of-type {\n",
       "        vertical-align: middle;\n",
       "    }\n",
       "\n",
       "    .dataframe tbody tr th {\n",
       "        vertical-align: top;\n",
       "    }\n",
       "\n",
       "    .dataframe thead th {\n",
       "        text-align: right;\n",
       "    }\n",
       "</style>\n",
       "<table border=\"1\" class=\"dataframe\">\n",
       "  <thead>\n",
       "    <tr style=\"text-align: right;\">\n",
       "      <th></th>\n",
       "      <th>ProductName</th>\n",
       "      <th>ProductPrice</th>\n",
       "    </tr>\n",
       "  </thead>\n",
       "  <tbody>\n",
       "    <tr>\n",
       "      <th>0</th>\n",
       "      <td>Prod A</td>\n",
       "      <td>22250</td>\n",
       "    </tr>\n",
       "    <tr>\n",
       "      <th>1</th>\n",
       "      <td>Prod B</td>\n",
       "      <td>16600</td>\n",
       "    </tr>\n",
       "    <tr>\n",
       "      <th>2</th>\n",
       "      <td>Prod C</td>\n",
       "      <td>12500</td>\n",
       "    </tr>\n",
       "  </tbody>\n",
       "</table>\n",
       "</div>"
      ],
      "text/plain": [
       "  ProductName  ProductPrice\n",
       "0      Prod A         22250\n",
       "1      Prod B         16600\n",
       "2      Prod C         12500"
      ]
     },
     "execution_count": 79,
     "metadata": {},
     "output_type": "execute_result"
    }
   ],
   "source": [
    "df.columns = ['ProductName', 'ProductPrice']\n",
    "df"
   ]
  },
  {
   "cell_type": "code",
   "execution_count": 80,
   "id": "22a3d6db-18ba-4b9b-a370-062767f71a74",
   "metadata": {},
   "outputs": [
    {
     "data": {
      "text/html": [
       "<div>\n",
       "<style scoped>\n",
       "    .dataframe tbody tr th:only-of-type {\n",
       "        vertical-align: middle;\n",
       "    }\n",
       "\n",
       "    .dataframe tbody tr th {\n",
       "        vertical-align: top;\n",
       "    }\n",
       "\n",
       "    .dataframe thead th {\n",
       "        text-align: right;\n",
       "    }\n",
       "</style>\n",
       "<table border=\"1\" class=\"dataframe\">\n",
       "  <thead>\n",
       "    <tr style=\"text-align: right;\">\n",
       "      <th></th>\n",
       "      <th>ProductName</th>\n",
       "      <th>ProductPrice</th>\n",
       "    </tr>\n",
       "  </thead>\n",
       "  <tbody>\n",
       "    <tr>\n",
       "      <th>A</th>\n",
       "      <td>Prod A</td>\n",
       "      <td>22250</td>\n",
       "    </tr>\n",
       "    <tr>\n",
       "      <th>B</th>\n",
       "      <td>Prod B</td>\n",
       "      <td>16600</td>\n",
       "    </tr>\n",
       "    <tr>\n",
       "      <th>C</th>\n",
       "      <td>Prod C</td>\n",
       "      <td>12500</td>\n",
       "    </tr>\n",
       "  </tbody>\n",
       "</table>\n",
       "</div>"
      ],
      "text/plain": [
       "  ProductName  ProductPrice\n",
       "A      Prod A         22250\n",
       "B      Prod B         16600\n",
       "C      Prod C         12500"
      ]
     },
     "execution_count": 80,
     "metadata": {},
     "output_type": "execute_result"
    }
   ],
   "source": [
    "df.index = ['A', 'B', 'C']\n",
    "df"
   ]
  },
  {
   "cell_type": "markdown",
   "id": "d20817a8-6ff0-47c3-ab50-f818c27e9f43",
   "metadata": {},
   "source": [
    "### #6: Construct DataFrame in a Professional Way:\n",
    "While constructing a DataFrame, you need to provide info about:\n",
    "- its data\n",
    "- its columns\n",
    "- its index"
   ]
  },
  {
   "cell_type": "code",
   "execution_count": 81,
   "id": "24554347-e708-455f-b108-a1a9ee4b67a6",
   "metadata": {},
   "outputs": [
    {
     "data": {
      "text/html": [
       "<div>\n",
       "<style scoped>\n",
       "    .dataframe tbody tr th:only-of-type {\n",
       "        vertical-align: middle;\n",
       "    }\n",
       "\n",
       "    .dataframe tbody tr th {\n",
       "        vertical-align: top;\n",
       "    }\n",
       "\n",
       "    .dataframe thead th {\n",
       "        text-align: right;\n",
       "    }\n",
       "</style>\n",
       "<table border=\"1\" class=\"dataframe\">\n",
       "  <thead>\n",
       "    <tr style=\"text-align: right;\">\n",
       "      <th></th>\n",
       "      <th>ProductName</th>\n",
       "      <th>ProductPrice</th>\n",
       "    </tr>\n",
       "  </thead>\n",
       "  <tbody>\n",
       "    <tr>\n",
       "      <th>A</th>\n",
       "      <td>Prod A</td>\n",
       "      <td>22250</td>\n",
       "    </tr>\n",
       "    <tr>\n",
       "      <th>B</th>\n",
       "      <td>Prod B</td>\n",
       "      <td>16600</td>\n",
       "    </tr>\n",
       "    <tr>\n",
       "      <th>C</th>\n",
       "      <td>Prod C</td>\n",
       "      <td>12500</td>\n",
       "    </tr>\n",
       "  </tbody>\n",
       "</table>\n",
       "</div>"
      ],
      "text/plain": [
       "  ProductName  ProductPrice\n",
       "A      Prod A         22250\n",
       "B      Prod B         16600\n",
       "C      Prod C         12500"
      ]
     },
     "execution_count": 81,
     "metadata": {},
     "output_type": "execute_result"
    }
   ],
   "source": [
    "df = pd.DataFrame(data = [['Prod A', 22250], ['Prod B', 16600], ['Prod C', 12500]],\n",
    "                 columns = ['ProductName', 'ProductPrice'],\n",
    "                 index = ['A', 'B', 'C'])\n",
    "df"
   ]
  },
  {
   "cell_type": "code",
   "execution_count": 82,
   "id": "1d703c74-08cf-4044-a0d1-fbff153bc04e",
   "metadata": {},
   "outputs": [
    {
     "data": {
      "text/plain": [
       "(3, 2)"
      ]
     },
     "execution_count": 82,
     "metadata": {},
     "output_type": "execute_result"
    }
   ],
   "source": [
    "df.shape"
   ]
  },
  {
   "cell_type": "code",
   "execution_count": 83,
   "id": "01a7b9b6-5793-4769-ad41-6a2954ebe3fe",
   "metadata": {},
   "outputs": [
    {
     "data": {
      "text/plain": [
       "6"
      ]
     },
     "execution_count": 83,
     "metadata": {},
     "output_type": "execute_result"
    }
   ],
   "source": [
    "df.size"
   ]
  },
  {
   "attachments": {},
   "cell_type": "markdown",
   "id": "6cef2527-659f-4edd-8485-60bb3fe6c2e7",
   "metadata": {},
   "source": [
    "Just like saw earlier in the *pandas Series* section, you can dive deep into understanding concepts about *DataFrames* as well in [**the Pandas Documentation**](https://pandas.pydata.org/docs/).\n",
    "\n",
    "## The pandas Documentation\n",
    "\n",
    "The **```pandas Documentation```**, often referred to as ```The Docs```, refers to the official and comprehensive **collection of resources** that explain how to use, understand, and contribute to the Pandas library in Python. It serves as a **primary reference** for anyone working with Pandas, from beginners to experienced developers and is **constantly upgraded**.\\\n",
    "\\\n",
    "The documentation is organized into key sections:\n",
    "- **Getting Started Guides**: Introductions to the main concepts of Pandas, often including tutorials for new users.\n",
    "- **User Guide**: In-depth explanations of core concepts, background information, and detailed discussions of various functionalities with examples. This section covers topics like data structures (DataFrame, Series), working with missing data, data manipulation, time series, and more.\n",
    "- **API Reference**: A comprehensive guide to the Pandas Application Programming Interface (API), detailing all public objects, functions, methods, and their parameters. This section is valuable for understanding the exact usage and behavior of specific Pandas components.\n",
    "- **Developer Guide**: Provides information for those interested in contributing to the Pandas library or its documentation. It includes guidelines for coding standards, testing, and documenting code.\n",
    "\n",
    "The Pandas documentation is typically found on the official [**Pandas website**](https://pandas.pydata.org/docs/) and is regularly updated with new versions of the library. It is a **crucial resource** for effective and efficient use of Pandas in data analysis and manipulation tasks as it can be a great point of reference throughout your work as a programmer."
   ]
  }
 ],
 "metadata": {
  "kernelspec": {
   "display_name": "Python 3 (ipykernel)",
   "language": "python",
   "name": "python3"
  },
  "language_info": {
   "codemirror_mode": {
    "name": "ipython",
    "version": 3
   },
   "file_extension": ".py",
   "mimetype": "text/x-python",
   "name": "python",
   "nbconvert_exporter": "python",
   "pygments_lexer": "ipython3",
   "version": "3.13.6"
  }
 },
 "nbformat": 4,
 "nbformat_minor": 5
}
